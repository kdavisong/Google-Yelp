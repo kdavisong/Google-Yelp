{
 "cells": [
  {
   "cell_type": "code",
   "execution_count": 1,
   "id": "dc93155d",
   "metadata": {},
   "outputs": [],
   "source": [
    "import re\n",
    "import pandas as pd"
   ]
  },
  {
   "cell_type": "code",
   "execution_count": 6,
   "id": "057d7ce8",
   "metadata": {
    "scrolled": true
   },
   "outputs": [
    {
     "name": "stdout",
     "output_type": "stream",
     "text": [
      "  FIPS_state                        FIPS_state_name\n",
      "0         00  counties and county-equivalents (e.g.\n",
      "1         01                                ALABAMA\n",
      "2         02                                 ALASKA\n",
      "3         04                                ARIZONA\n",
      "4         05                               ARKANSAS\n",
      "  FIPS_county FIPS_county_name\n",
      "0       01000          Alabama\n",
      "1       01001   Autauga County\n",
      "2       01003   Baldwin County\n",
      "3       01005   Barbour County\n",
      "4       01007      Bibb County\n"
     ]
    }
   ],
   "source": [
    "ruta = 'FIPS_counties.txt'\n",
    "\n",
    "def fetch_data(length):\n",
    "    patron = rf'.*(\\d{{{length}}})\\s+(.*)'\n",
    "    FIPS_id_lista = []\n",
    "    FIPS_name_lista = []\n",
    "    with open(ruta, 'r') as doc:\n",
    "        for linea in doc:\n",
    "            match = re.match(patron, linea)\n",
    "            if match:\n",
    "                FIPS_id, FIPS_name = match.groups()\n",
    "                FIPS_id_lista.append(FIPS_id)\n",
    "                FIPS_name_lista.append(FIPS_name)\n",
    "    return FIPS_id_lista, FIPS_name_lista\n",
    "\n",
    "FIPS_estado = fetch_data(2)  # State data\n",
    "FIPS_condado = fetch_data(5)  # County data\n",
    "\n",
    "df_estado = pd.DataFrame({\n",
    "    'FIPS_state': FIPS_estado[0],\n",
    "    'FIPS_state_name': FIPS_estado[1],\n",
    "})\n",
    "\n",
    "df_condado = pd.DataFrame({\n",
    "    'FIPS_county': FIPS_condado[0],\n",
    "    'FIPS_county_name': FIPS_condado[1],\n",
    "})\n",
    "\n",
    "print(df_estado.head())\n",
    "print(df_condado.head())\n"
   ]
  },
  {
   "cell_type": "code",
   "execution_count": 7,
   "id": "71e85ef5",
   "metadata": {},
   "outputs": [],
   "source": [
    "us_states = {\n",
    "    'ALABAMA': 'AL',\n",
    "    'ALASKA': 'AK',\n",
    "    'ARIZONA': 'AZ',\n",
    "    'ARKANSAS': 'AR',\n",
    "    'CALIFORNIA': 'CA',\n",
    "    'COLORADO': 'CO',\n",
    "    'CONNECTICUT': 'CT',\n",
    "    'DELAWARE': 'DE',\n",
    "    'FLORIDA': 'FL',\n",
    "    'GEORGIA': 'GA',\n",
    "    'HAWAII': 'HI',\n",
    "    'IDAHO': 'ID',\n",
    "    'ILLINOIS': 'IL',\n",
    "    'INDIANA': 'IN',\n",
    "    'IOWA': 'IA',\n",
    "    'KANSAS': 'KS',\n",
    "    'KENTUCKY': 'KY',\n",
    "    'LOUISIANA': 'LA',\n",
    "    'MAINE': 'ME',\n",
    "    'MARYLAND': 'MD',\n",
    "    'MASSACHUSETTS': 'MA',\n",
    "    'MICHIGAN': 'MI',\n",
    "    'MINNESOTA': 'MN',\n",
    "    'MISSISSIPPI': 'MS',\n",
    "    'MISSOURI': 'MO',\n",
    "    'MONTANA': 'MT',\n",
    "    'NEBRASKA': 'NE',\n",
    "    'NEVADA': 'NV',\n",
    "    'NEW HAMPSHIRE': 'NH',\n",
    "    'NEW JERSEY': 'NJ',\n",
    "    'NEW MEXICO': 'NM',\n",
    "    'NEW YORK': 'NY',\n",
    "    'NORTH CAROLINA': 'NC',\n",
    "    'NORTH DAKOTA': 'ND',\n",
    "    'OHIO': 'OH',\n",
    "    'OKLAHOMA': 'OK',\n",
    "    'OREGON': 'OR',\n",
    "    'PENNSYLVANIA': 'PA',\n",
    "    'RHODE ISLAND': 'RI',\n",
    "    'SOUTH CAROLINA': 'SC',\n",
    "    'SOUTH DAKOTA': 'SD',\n",
    "    'TENNESSEE': 'TN',\n",
    "    'TEXAS': 'TX',\n",
    "    'UTAH': 'UT',\n",
    "    'VERMONT': 'VT',\n",
    "    'VIRGINIA': 'VA',\n",
    "    'WASHINGTON': 'WA',\n",
    "    'WEST VIRGINIA': 'WV',\n",
    "    'WISCONSIN': 'WI',\n",
    "    'WYOMING': 'WY'\n",
    "}"
   ]
  },
  {
   "cell_type": "code",
   "execution_count": 8,
   "id": "bdd58a28",
   "metadata": {},
   "outputs": [],
   "source": [
    "df_estado['FIPS_state_short'] = df_estado['FIPS_state_name'].map(us_states)"
   ]
  },
  {
   "cell_type": "code",
   "execution_count": 9,
   "id": "22295a0c",
   "metadata": {},
   "outputs": [],
   "source": [
    "df_condado['FIPS_state'] = df_condado['FIPS_county'].str[:2]"
   ]
  },
  {
   "cell_type": "code",
   "execution_count": 12,
   "id": "ef70e31d",
   "metadata": {},
   "outputs": [],
   "source": [
    "state_mapping = df_estado.drop_duplicates('FIPS_state').set_index('FIPS_state')['FIPS_state_short']\n",
    "df_condado['FIPS_state_short'] = df_condado['FIPS_state'].map(state_mapping)\n"
   ]
  },
  {
   "cell_type": "code",
   "execution_count": 13,
   "id": "55900e10",
   "metadata": {},
   "outputs": [
    {
     "data": {
      "text/plain": [
       "<bound method NDFrame.head of      FIPS_county   FIPS_county_name FIPS_state FIPS_state_short\n",
       "0          01000            Alabama         01               AL\n",
       "1          01001     Autauga County         01               AL\n",
       "2          01003     Baldwin County         01               AL\n",
       "3          01005     Barbour County         01               AL\n",
       "4          01007        Bibb County         01               AL\n",
       "...          ...                ...        ...              ...\n",
       "3190       56037  Sweetwater County         56               WY\n",
       "3191       56039       Teton County         56               WY\n",
       "3192       56041       Uinta County         56               WY\n",
       "3193       56043    Washakie County         56               WY\n",
       "3194       56045      Weston County         56               WY\n",
       "\n",
       "[3195 rows x 4 columns]>"
      ]
     },
     "execution_count": 13,
     "metadata": {},
     "output_type": "execute_result"
    }
   ],
   "source": [
    "df_condado.head"
   ]
  }
 ],
 "metadata": {
  "kernelspec": {
   "display_name": "Python 3",
   "language": "python",
   "name": "python3"
  },
  "language_info": {
   "codemirror_mode": {
    "name": "ipython",
    "version": 3
   },
   "file_extension": ".py",
   "mimetype": "text/x-python",
   "name": "python",
   "nbconvert_exporter": "python",
   "pygments_lexer": "ipython3",
   "version": "3.8.8"
  }
 },
 "nbformat": 4,
 "nbformat_minor": 5
}
