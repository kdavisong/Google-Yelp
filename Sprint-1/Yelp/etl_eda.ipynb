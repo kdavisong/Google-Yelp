{
 "cells": [
  {
   "cell_type": "markdown",
   "metadata": {},
   "source": [
    "### Wellcome to EDA work\n",
    "\n",
    "El proposito de este notebook es el de explorar los datos a traves de la agregacion de estos.\n",
    "\n",
    "Datasets:\n",
    "- review-001.json: Reseñas de usuarios.\n",
    "- user-002.parquet: \n",
    "- business.pickle\n",
    "- Python_gmaps_metada\n",
    "- Python_Datasets_gmpas_reviews\n",
    "\n",
    "Los retos son:\n",
    "\n",
    "* Archivos muy pesados.\n",
    "* Diferentes formatos en los datasets.\n",
    "* Tal vez algo de limpieza y transformacion.\n",
    "\n",
    "\n",
    "Herramientas ocupadas\n",
    "\n",
    "* Polars - Lazy Frames (under SQL context)\n",
    "* Pandas - Data Frames\n",
    "* PySpark - Tables (Also under SQL context)"
   ]
  },
  {
   "cell_type": "code",
   "execution_count": 1,
   "metadata": {},
   "outputs": [],
   "source": [
    "import numpy as np\n",
    "import polars as pl\n",
    "import pandas as pd\n",
    "import matplotlib.pyplot as plt\n",
    "import pyarrow.parquet as pq"
   ]
  },
  {
   "cell_type": "markdown",
   "metadata": {},
   "source": [
    "### Google Reviews\n",
    "\n",
    "Este dataset es parquet contiene casi 90 millones de registros. Estos son solo las reseñas de los usuarios donde este se relaciona con el dataset de metadata. En metadata se elabora mas columnas que serivran para poder filtrar nuestra data y asi dar breves reportes.\n",
    "\n",
    "Debido a que es un dara set muy pesado, esto solo es posible con pyarrow. Es una libreria cuya "
   ]
  },
  {
   "cell_type": "code",
   "execution_count": 2,
   "metadata": {},
   "outputs": [],
   "source": [
    "directorio_google_reviews = \"C:\\\\Users\\\\jdieg\\\\Desktop\\\\henry\\\\proyectos\\\\Google-Yelp\\\\.data\\\\google_maps\\\\Python_Datasets_gmpas_reviews.parquet\"\n",
    "\n",
    "google_reviews = pq.read_table(directorio_google_reviews)"
   ]
  },
  {
   "cell_type": "markdown",
   "metadata": {},
   "source": [
    "Hasta este paso, el dataset cargado a googlereviews es relativamente ligero, al menos en la PC consume poco arriba de 3.5 GB.. al pasarlo a pandas es cuando hay un consumo significante quedando la variable incluso en 34 GB.. no se si esto queda almacenado en la RAM, pero se convierte en un dataset muy pesado. Despues de tener el pandas, asignar `None` a la variable `google_reviews` para liberar un poco.\n",
    "\n",
    "![imagen](C:\\\\Users\\\\jdieg\\\\Desktop\\\\henry\\\\proyectos\\\\Google-Yelp\\\\imagenes\\\\sprint_1\\\\eda_etl\\\\consumo_pandas.JPG)"
   ]
  },
  {
   "cell_type": "code",
   "execution_count": 3,
   "metadata": {},
   "outputs": [
    {
     "data": {
      "text/plain": [
       "(89946359, 8)"
      ]
     },
     "execution_count": 3,
     "metadata": {},
     "output_type": "execute_result"
    }
   ],
   "source": [
    "google_reviews_df = google_reviews.to_pandas()\n",
    "google_reviews_df.shape"
   ]
  },
  {
   "cell_type": "code",
   "execution_count": 4,
   "metadata": {},
   "outputs": [
    {
     "data": {
      "text/plain": [
       "user_id    float64\n",
       "name        object\n",
       "time         int64\n",
       "rating       int64\n",
       "text        object\n",
       "pics        object\n",
       "resp        object\n",
       "gmap_id     object\n",
       "dtype: object"
      ]
     },
     "execution_count": 4,
     "metadata": {},
     "output_type": "execute_result"
    }
   ],
   "source": [
    "google_reviews_df.dtypes"
   ]
  },
  {
   "cell_type": "markdown",
   "metadata": {},
   "source": [
    "Libera espacio en la variable `google_reviews`"
   ]
  },
  {
   "cell_type": "code",
   "execution_count": 5,
   "metadata": {},
   "outputs": [],
   "source": [
    "google_reviews = None"
   ]
  },
  {
   "cell_type": "markdown",
   "metadata": {},
   "source": [
    "Para hacer operaciones mas rapido en el dataframe de pandas es recomendable usar el backend de pyarrow para el tipo de dato haciendo lo siguiente (puede demorar algunos minutos)"
   ]
  },
  {
   "cell_type": "code",
   "execution_count": 6,
   "metadata": {},
   "outputs": [
    {
     "name": "stderr",
     "output_type": "stream",
     "text": [
      "c:\\Users\\jdieg\\Desktop\\henry\\proyectos\\Google-Yelp\\.proyecto_final_env\\lib\\site-packages\\pandas\\core\\dtypes\\cast.py:1056: RuntimeWarning: invalid value encountered in cast\n",
      "  if (arr.astype(int) == arr).all():\n",
      "c:\\Users\\jdieg\\Desktop\\henry\\proyectos\\Google-Yelp\\.proyecto_final_env\\lib\\site-packages\\pandas\\core\\dtypes\\cast.py:1080: RuntimeWarning: invalid value encountered in cast\n",
      "  if (arr.astype(int) == arr).all():\n"
     ]
    },
    {
     "data": {
      "text/plain": [
       "user_id    double[pyarrow]\n",
       "name       string[pyarrow]\n",
       "time        int64[pyarrow]\n",
       "rating      int64[pyarrow]\n",
       "text       string[pyarrow]\n",
       "pics                object\n",
       "resp                object\n",
       "gmap_id    string[pyarrow]\n",
       "dtype: object"
      ]
     },
     "execution_count": 6,
     "metadata": {},
     "output_type": "execute_result"
    }
   ],
   "source": [
    "google_reviews_df = google_reviews_df.convert_dtypes(dtype_backend=\"pyarrow\")\n",
    "google_reviews_df.dtypes"
   ]
  },
  {
   "cell_type": "markdown",
   "metadata": {},
   "source": [
    "Y se puede intentar hacer una conversion por ejemplo de las fechas unix (columna time) a fechas normales"
   ]
  },
  {
   "cell_type": "code",
   "execution_count": 7,
   "metadata": {},
   "outputs": [
    {
     "data": {
      "text/html": [
       "<div>\n",
       "<style scoped>\n",
       "    .dataframe tbody tr th:only-of-type {\n",
       "        vertical-align: middle;\n",
       "    }\n",
       "\n",
       "    .dataframe tbody tr th {\n",
       "        vertical-align: top;\n",
       "    }\n",
       "\n",
       "    .dataframe thead th {\n",
       "        text-align: right;\n",
       "    }\n",
       "</style>\n",
       "<table border=\"1\" class=\"dataframe\">\n",
       "  <thead>\n",
       "    <tr style=\"text-align: right;\">\n",
       "      <th></th>\n",
       "      <th>user_id</th>\n",
       "      <th>name</th>\n",
       "      <th>time</th>\n",
       "      <th>rating</th>\n",
       "      <th>text</th>\n",
       "      <th>pics</th>\n",
       "      <th>resp</th>\n",
       "      <th>gmap_id</th>\n",
       "    </tr>\n",
       "  </thead>\n",
       "  <tbody>\n",
       "    <tr>\n",
       "      <th>0</th>\n",
       "      <td>1.140438e+20</td>\n",
       "      <td>Kanisha Mixon</td>\n",
       "      <td>1597168272670</td>\n",
       "      <td>5</td>\n",
       "      <td>Very Personable staff! Beautiful and clean env...</td>\n",
       "      <td>None</td>\n",
       "      <td>None</td>\n",
       "      <td>0x8862134e67ff5c87:0x38b5e2ae99cd1fcf</td>\n",
       "    </tr>\n",
       "    <tr>\n",
       "      <th>1</th>\n",
       "      <td>1.160090e+20</td>\n",
       "      <td>Brandie Hodges</td>\n",
       "      <td>1609899039594</td>\n",
       "      <td>5</td>\n",
       "      <td>Best clothing intown</td>\n",
       "      <td>None</td>\n",
       "      <td>None</td>\n",
       "      <td>0x8862134e67ff5c87:0x38b5e2ae99cd1fcf</td>\n",
       "    </tr>\n",
       "    <tr>\n",
       "      <th>2</th>\n",
       "      <td>1.062399e+20</td>\n",
       "      <td>Sharon King</td>\n",
       "      <td>1547235290843</td>\n",
       "      <td>4</td>\n",
       "      <td>&lt;NA&gt;</td>\n",
       "      <td>None</td>\n",
       "      <td>None</td>\n",
       "      <td>0x8862134e67ff5c87:0x38b5e2ae99cd1fcf</td>\n",
       "    </tr>\n",
       "    <tr>\n",
       "      <th>3</th>\n",
       "      <td>1.049701e+20</td>\n",
       "      <td>Veronica Pierce</td>\n",
       "      <td>1517709403534</td>\n",
       "      <td>5</td>\n",
       "      <td>&lt;NA&gt;</td>\n",
       "      <td>None</td>\n",
       "      <td>None</td>\n",
       "      <td>0x8862134e67ff5c87:0x38b5e2ae99cd1fcf</td>\n",
       "    </tr>\n",
       "    <tr>\n",
       "      <th>4</th>\n",
       "      <td>1.105875e+20</td>\n",
       "      <td>Whitney Waldon Collier</td>\n",
       "      <td>1535245718492</td>\n",
       "      <td>5</td>\n",
       "      <td>&lt;NA&gt;</td>\n",
       "      <td>None</td>\n",
       "      <td>None</td>\n",
       "      <td>0x8862134e67ff5c87:0x38b5e2ae99cd1fcf</td>\n",
       "    </tr>\n",
       "  </tbody>\n",
       "</table>\n",
       "</div>"
      ],
      "text/plain": [
       "        user_id                    name           time  rating  \\\n",
       "0  1.140438e+20           Kanisha Mixon  1597168272670       5   \n",
       "1  1.160090e+20          Brandie Hodges  1609899039594       5   \n",
       "2  1.062399e+20             Sharon King  1547235290843       4   \n",
       "3  1.049701e+20         Veronica Pierce  1517709403534       5   \n",
       "4  1.105875e+20  Whitney Waldon Collier  1535245718492       5   \n",
       "\n",
       "                                                text  pics  resp  \\\n",
       "0  Very Personable staff! Beautiful and clean env...  None  None   \n",
       "1                               Best clothing intown  None  None   \n",
       "2                                               <NA>  None  None   \n",
       "3                                               <NA>  None  None   \n",
       "4                                               <NA>  None  None   \n",
       "\n",
       "                                 gmap_id  \n",
       "0  0x8862134e67ff5c87:0x38b5e2ae99cd1fcf  \n",
       "1  0x8862134e67ff5c87:0x38b5e2ae99cd1fcf  \n",
       "2  0x8862134e67ff5c87:0x38b5e2ae99cd1fcf  \n",
       "3  0x8862134e67ff5c87:0x38b5e2ae99cd1fcf  \n",
       "4  0x8862134e67ff5c87:0x38b5e2ae99cd1fcf  "
      ]
     },
     "execution_count": 7,
     "metadata": {},
     "output_type": "execute_result"
    }
   ],
   "source": [
    "google_reviews_df.head()"
   ]
  },
  {
   "cell_type": "code",
   "execution_count": 8,
   "metadata": {},
   "outputs": [],
   "source": [
    "google_reviews_df[\"time\"] = pd.to_datetime(google_reviews_df[\"time\"], unit=\"ms\")"
   ]
  },
  {
   "cell_type": "code",
   "execution_count": 9,
   "metadata": {},
   "outputs": [
    {
     "data": {
      "text/plain": [
       "0          2020-08-11 17:51:12.670\n",
       "1          2021-01-06 02:10:39.594\n",
       "2          2019-01-11 19:34:50.843\n",
       "3          2018-02-04 01:56:43.534\n",
       "4          2018-08-26 01:08:38.492\n",
       "                     ...          \n",
       "89946354   2021-03-03 03:15:23.428\n",
       "89946355   2019-06-30 21:58:31.835\n",
       "89946356   2017-07-26 00:36:06.785\n",
       "89946357   2019-08-10 19:54:20.108\n",
       "89946358   2020-04-19 13:20:38.249\n",
       "Name: time, Length: 89946359, dtype: datetime64[ns]"
      ]
     },
     "execution_count": 9,
     "metadata": {},
     "output_type": "execute_result"
    }
   ],
   "source": [
    "google_reviews_df[\"time\"]"
   ]
  },
  {
   "cell_type": "markdown",
   "metadata": {},
   "source": [
    "Y solo demoro 9.8 segundos convertir 89,946,359 registros. Esto convence que pyarrow sera una buena herramienta para la exploratoria de datos. Invito ampliamente a conocer a fondo las bondades de esta API de python que se esta empleando [pyarrow](https://arrow.apache.org/docs/python/index.html).\n",
    "\n",
    "NO OLVIDES CONVERTIR NUEVAS COLUMNAS A pyarrow BACKEND!\n",
    "\n",
    "aunque esto es solo para numericos (enteros y decimales, conocidos en arrow int y double respectivamente) y cadena de caracteres (texto)"
   ]
  },
  {
   "cell_type": "code",
   "execution_count": 10,
   "metadata": {},
   "outputs": [
    {
     "data": {
      "text/plain": [
       "user_id    double[pyarrow]\n",
       "name       string[pyarrow]\n",
       "time        datetime64[ns]\n",
       "rating      int64[pyarrow]\n",
       "text       string[pyarrow]\n",
       "pics                object\n",
       "resp                object\n",
       "gmap_id    string[pyarrow]\n",
       "dtype: object"
      ]
     },
     "execution_count": 10,
     "metadata": {},
     "output_type": "execute_result"
    }
   ],
   "source": [
    "google_reviews_df[\"time\"].convert_dtypes(dtype_backend=\"pyarrow\")\n",
    "google_reviews_df.dtypes"
   ]
  },
  {
   "cell_type": "markdown",
   "metadata": {},
   "source": [
    "### Nulos\n",
    "\n",
    "En porcentaje en cada columna"
   ]
  },
  {
   "cell_type": "code",
   "execution_count": 11,
   "metadata": {},
   "outputs": [],
   "source": [
    "def proporcion_nulos(data_frame:pd.DataFrame):\n",
    "    \"\"\"\n",
    "    Calculate the percentage of null (missing) values in each column of a Pandas DataFrame.\n",
    "\n",
    "    Parameters:\n",
    "    data_frame (pd.DataFrame): The input DataFrame for which null percentages are calculated.\n",
    "\n",
    "    Returns:\n",
    "    pd.Series: A Pandas Series containing the percentage of null values for each column.\n",
    "    \"\"\"\n",
    "    return data_frame.isnull().sum() / data_frame.shape[0] * 100"
   ]
  },
  {
   "cell_type": "code",
   "execution_count": 12,
   "metadata": {},
   "outputs": [
    {
     "data": {
      "text/plain": [
       "user_id     0.000000\n",
       "name        0.000000\n",
       "time        0.000000\n",
       "rating      0.000000\n",
       "text       43.701318\n",
       "pics       97.225370\n",
       "resp       87.738125\n",
       "gmap_id     0.000000\n",
       "dtype: float64"
      ]
     },
     "execution_count": 12,
     "metadata": {},
     "output_type": "execute_result"
    }
   ],
   "source": [
    "proporcion_nulos(google_reviews_df)"
   ]
  },
  {
   "cell_type": "code",
   "execution_count": 13,
   "metadata": {},
   "outputs": [
    {
     "data": {
      "image/png": "[encoded data removed]",
      "text/plain": [
       "<Figure size 640x480 with 1 Axes>"
      ]
     },
     "metadata": {},
     "output_type": "display_data"
    }
   ],
   "source": [
    "proporcion_nulos(google_reviews_df).plot(kind=\"bar\", rot=45, title=\"Google Reviews Null Values Proportion\");"
   ]
  },
  {
   "cell_type": "markdown",
   "metadata": {},
   "source": [
    "Ciertamente hay columnas con un considerable porcentaje de valores nulos."
   ]
  },
  {
   "cell_type": "code",
   "execution_count": 15,
   "metadata": {},
   "outputs": [],
   "source": [
    "google_reviews_df.drop([\"pics\", \"resp\"], axis=1, inplace=True)"
   ]
  },
  {
   "cell_type": "code",
   "execution_count": 17,
   "metadata": {},
   "outputs": [
    {
     "data": {
      "text/html": [
       "<div>\n",
       "<style scoped>\n",
       "    .dataframe tbody tr th:only-of-type {\n",
       "        vertical-align: middle;\n",
       "    }\n",
       "\n",
       "    .dataframe tbody tr th {\n",
       "        vertical-align: top;\n",
       "    }\n",
       "\n",
       "    .dataframe thead th {\n",
       "        text-align: right;\n",
       "    }\n",
       "</style>\n",
       "<table border=\"1\" class=\"dataframe\">\n",
       "  <thead>\n",
       "    <tr style=\"text-align: right;\">\n",
       "      <th></th>\n",
       "      <th>user_id</th>\n",
       "      <th>name</th>\n",
       "      <th>time</th>\n",
       "      <th>rating</th>\n",
       "      <th>text</th>\n",
       "      <th>gmap_id</th>\n",
       "    </tr>\n",
       "  </thead>\n",
       "  <tbody>\n",
       "    <tr>\n",
       "      <th>0</th>\n",
       "      <td>1.140438e+20</td>\n",
       "      <td>Kanisha Mixon</td>\n",
       "      <td>2020-08-11 17:51:12.670</td>\n",
       "      <td>5</td>\n",
       "      <td>Very Personable staff! Beautiful and clean env...</td>\n",
       "      <td>0x8862134e67ff5c87:0x38b5e2ae99cd1fcf</td>\n",
       "    </tr>\n",
       "    <tr>\n",
       "      <th>1</th>\n",
       "      <td>1.160090e+20</td>\n",
       "      <td>Brandie Hodges</td>\n",
       "      <td>2021-01-06 02:10:39.594</td>\n",
       "      <td>5</td>\n",
       "      <td>Best clothing intown</td>\n",
       "      <td>0x8862134e67ff5c87:0x38b5e2ae99cd1fcf</td>\n",
       "    </tr>\n",
       "    <tr>\n",
       "      <th>2</th>\n",
       "      <td>1.062399e+20</td>\n",
       "      <td>Sharon King</td>\n",
       "      <td>2019-01-11 19:34:50.843</td>\n",
       "      <td>4</td>\n",
       "      <td>&lt;NA&gt;</td>\n",
       "      <td>0x8862134e67ff5c87:0x38b5e2ae99cd1fcf</td>\n",
       "    </tr>\n",
       "    <tr>\n",
       "      <th>3</th>\n",
       "      <td>1.049701e+20</td>\n",
       "      <td>Veronica Pierce</td>\n",
       "      <td>2018-02-04 01:56:43.534</td>\n",
       "      <td>5</td>\n",
       "      <td>&lt;NA&gt;</td>\n",
       "      <td>0x8862134e67ff5c87:0x38b5e2ae99cd1fcf</td>\n",
       "    </tr>\n",
       "    <tr>\n",
       "      <th>4</th>\n",
       "      <td>1.105875e+20</td>\n",
       "      <td>Whitney Waldon Collier</td>\n",
       "      <td>2018-08-26 01:08:38.492</td>\n",
       "      <td>5</td>\n",
       "      <td>&lt;NA&gt;</td>\n",
       "      <td>0x8862134e67ff5c87:0x38b5e2ae99cd1fcf</td>\n",
       "    </tr>\n",
       "  </tbody>\n",
       "</table>\n",
       "</div>"
      ],
      "text/plain": [
       "        user_id                    name                    time  rating  \\\n",
       "0  1.140438e+20           Kanisha Mixon 2020-08-11 17:51:12.670       5   \n",
       "1  1.160090e+20          Brandie Hodges 2021-01-06 02:10:39.594       5   \n",
       "2  1.062399e+20             Sharon King 2019-01-11 19:34:50.843       4   \n",
       "3  1.049701e+20         Veronica Pierce 2018-02-04 01:56:43.534       5   \n",
       "4  1.105875e+20  Whitney Waldon Collier 2018-08-26 01:08:38.492       5   \n",
       "\n",
       "                                                text  \\\n",
       "0  Very Personable staff! Beautiful and clean env...   \n",
       "1                               Best clothing intown   \n",
       "2                                               <NA>   \n",
       "3                                               <NA>   \n",
       "4                                               <NA>   \n",
       "\n",
       "                                 gmap_id  \n",
       "0  0x8862134e67ff5c87:0x38b5e2ae99cd1fcf  \n",
       "1  0x8862134e67ff5c87:0x38b5e2ae99cd1fcf  \n",
       "2  0x8862134e67ff5c87:0x38b5e2ae99cd1fcf  \n",
       "3  0x8862134e67ff5c87:0x38b5e2ae99cd1fcf  \n",
       "4  0x8862134e67ff5c87:0x38b5e2ae99cd1fcf  "
      ]
     },
     "execution_count": 17,
     "metadata": {},
     "output_type": "execute_result"
    }
   ],
   "source": [
    "google_reviews_df.head()"
   ]
  },
  {
   "cell_type": "code",
   "execution_count": 19,
   "metadata": {},
   "outputs": [
    {
     "data": {
      "text/plain": [
       "(Timestamp('1990-12-31 00:00:00'), Timestamp('2021-09-09 16:22:53.205000'))"
      ]
     },
     "execution_count": 19,
     "metadata": {},
     "output_type": "execute_result"
    }
   ],
   "source": [
    "google_reviews_df[\"time\"].min(), google_reviews_df[\"time\"].max()"
   ]
  },
  {
   "cell_type": "code",
   "execution_count": 21,
   "metadata": {},
   "outputs": [],
   "source": [
    "google_reviews_df[\"year\"] = google_reviews_df[\"time\"].dt.year"
   ]
  },
  {
   "cell_type": "code",
   "execution_count": 22,
   "metadata": {},
   "outputs": [],
   "source": [
    "google_reviews_df[\"year\"] = google_reviews_df[\"year\"].convert_dtypes(dtype_backend=\"pyarrow\")"
   ]
  },
  {
   "cell_type": "code",
   "execution_count": 23,
   "metadata": {},
   "outputs": [
    {
     "data": {
      "image/png": "[encoded data removed]",
      "text/plain": [
       "<Figure size 640x480 with 1 Axes>"
      ]
     },
     "metadata": {},
     "output_type": "display_data"
    }
   ],
   "source": [
    "google_reviews_df[\"year\"].value_counts().plot(kind=\"bar\", rot=60, title=\"Number of Reviews along Years\");"
   ]
  },
  {
   "cell_type": "code",
   "execution_count": 25,
   "metadata": {},
   "outputs": [
    {
     "data": {
      "text/plain": [
       "89851857"
      ]
     },
     "execution_count": 25,
     "metadata": {},
     "output_type": "execute_result"
    }
   ],
   "source": [
    "(google_reviews_df[\"year\"] > 2011).sum()"
   ]
  },
  {
   "cell_type": "code",
   "execution_count": 27,
   "metadata": {},
   "outputs": [
    {
     "data": {
      "text/plain": [
       "94502"
      ]
     },
     "execution_count": 27,
     "metadata": {},
     "output_type": "execute_result"
    }
   ],
   "source": [
    "google_reviews_df.shape[0] - (google_reviews_df[\"year\"] > 2011).sum()"
   ]
  },
  {
   "cell_type": "code",
   "execution_count": 46,
   "metadata": {},
   "outputs": [],
   "source": [
    "chunk_size = 9000000\n",
    "\n",
    "chunks = [google_reviews_df[idx_pos: idx_pos + chunk_size] for idx_pos in range(0, len(google_reviews_df), chunk_size)]\n",
    "\n",
    "result_df = pd.DataFrame()\n",
    "\n",
    "for chunk in chunks:\n",
    "    chunk = chunk[chunk[\"year\"] > 2011]\n",
    "    result_df = pd.concat([result_df, chunk], ignore_index=True)"
   ]
  },
  {
   "cell_type": "code",
   "execution_count": 48,
   "metadata": {},
   "outputs": [],
   "source": [
    "google_reviews_df = result_df"
   ]
  },
  {
   "cell_type": "code",
   "execution_count": 52,
   "metadata": {},
   "outputs": [
    {
     "data": {
      "text/plain": [
       "user_id     0.000000\n",
       "name        0.000000\n",
       "time        0.000000\n",
       "rating      0.000000\n",
       "text       43.695738\n",
       "gmap_id     0.000000\n",
       "year        0.000000\n",
       "dtype: float64"
      ]
     },
     "execution_count": 52,
     "metadata": {},
     "output_type": "execute_result"
    }
   ],
   "source": [
    "proporcion_nulos(google_reviews_df)"
   ]
  },
  {
   "cell_type": "code",
   "execution_count": 58,
   "metadata": {},
   "outputs": [
    {
     "data": {
      "text/html": [
       "<div>\n",
       "<style scoped>\n",
       "    .dataframe tbody tr th:only-of-type {\n",
       "        vertical-align: middle;\n",
       "    }\n",
       "\n",
       "    .dataframe tbody tr th {\n",
       "        vertical-align: top;\n",
       "    }\n",
       "\n",
       "    .dataframe thead th {\n",
       "        text-align: right;\n",
       "    }\n",
       "</style>\n",
       "<table border=\"1\" class=\"dataframe\">\n",
       "  <thead>\n",
       "    <tr style=\"text-align: right;\">\n",
       "      <th></th>\n",
       "      <th>user_id</th>\n",
       "      <th>name</th>\n",
       "      <th>time</th>\n",
       "      <th>rating</th>\n",
       "      <th>text</th>\n",
       "      <th>gmap_id</th>\n",
       "      <th>year</th>\n",
       "    </tr>\n",
       "  </thead>\n",
       "  <tbody>\n",
       "    <tr>\n",
       "      <th>0</th>\n",
       "      <td>1.140438e+20</td>\n",
       "      <td>Kanisha Mixon</td>\n",
       "      <td>2020-08-11 17:51:12.670</td>\n",
       "      <td>5</td>\n",
       "      <td>Very Personable staff! Beautiful and clean env...</td>\n",
       "      <td>0x8862134e67ff5c87:0x38b5e2ae99cd1fcf</td>\n",
       "      <td>2020</td>\n",
       "    </tr>\n",
       "    <tr>\n",
       "      <th>1</th>\n",
       "      <td>1.160090e+20</td>\n",
       "      <td>Brandie Hodges</td>\n",
       "      <td>2021-01-06 02:10:39.594</td>\n",
       "      <td>5</td>\n",
       "      <td>Best clothing intown</td>\n",
       "      <td>0x8862134e67ff5c87:0x38b5e2ae99cd1fcf</td>\n",
       "      <td>2021</td>\n",
       "    </tr>\n",
       "    <tr>\n",
       "      <th>2</th>\n",
       "      <td>1.062399e+20</td>\n",
       "      <td>Sharon King</td>\n",
       "      <td>2019-01-11 19:34:50.843</td>\n",
       "      <td>4</td>\n",
       "      <td>&lt;NA&gt;</td>\n",
       "      <td>0x8862134e67ff5c87:0x38b5e2ae99cd1fcf</td>\n",
       "      <td>2019</td>\n",
       "    </tr>\n",
       "    <tr>\n",
       "      <th>3</th>\n",
       "      <td>1.049701e+20</td>\n",
       "      <td>Veronica Pierce</td>\n",
       "      <td>2018-02-04 01:56:43.534</td>\n",
       "      <td>5</td>\n",
       "      <td>&lt;NA&gt;</td>\n",
       "      <td>0x8862134e67ff5c87:0x38b5e2ae99cd1fcf</td>\n",
       "      <td>2018</td>\n",
       "    </tr>\n",
       "    <tr>\n",
       "      <th>4</th>\n",
       "      <td>1.105875e+20</td>\n",
       "      <td>Whitney Waldon Collier</td>\n",
       "      <td>2018-08-26 01:08:38.492</td>\n",
       "      <td>5</td>\n",
       "      <td>&lt;NA&gt;</td>\n",
       "      <td>0x8862134e67ff5c87:0x38b5e2ae99cd1fcf</td>\n",
       "      <td>2018</td>\n",
       "    </tr>\n",
       "    <tr>\n",
       "      <th>...</th>\n",
       "      <td>...</td>\n",
       "      <td>...</td>\n",
       "      <td>...</td>\n",
       "      <td>...</td>\n",
       "      <td>...</td>\n",
       "      <td>...</td>\n",
       "      <td>...</td>\n",
       "    </tr>\n",
       "    <tr>\n",
       "      <th>89851852</th>\n",
       "      <td>1.078991e+20</td>\n",
       "      <td>Carlene Calabaza</td>\n",
       "      <td>2021-03-03 03:15:23.428</td>\n",
       "      <td>5</td>\n",
       "      <td>&lt;NA&gt;</td>\n",
       "      <td>0x53349429523d615b:0x2a66a9272032e8b4</td>\n",
       "      <td>2021</td>\n",
       "    </tr>\n",
       "    <tr>\n",
       "      <th>89851853</th>\n",
       "      <td>1.173878e+20</td>\n",
       "      <td>Gizmo</td>\n",
       "      <td>2019-06-30 21:58:31.835</td>\n",
       "      <td>5</td>\n",
       "      <td>&lt;NA&gt;</td>\n",
       "      <td>0x53349429523d615b:0x2a66a9272032e8b4</td>\n",
       "      <td>2019</td>\n",
       "    </tr>\n",
       "    <tr>\n",
       "      <th>89851854</th>\n",
       "      <td>1.078871e+20</td>\n",
       "      <td>Jan Soucek</td>\n",
       "      <td>2017-07-26 00:36:06.785</td>\n",
       "      <td>5</td>\n",
       "      <td>&lt;NA&gt;</td>\n",
       "      <td>0x53349429523d615b:0x2a66a9272032e8b4</td>\n",
       "      <td>2017</td>\n",
       "    </tr>\n",
       "    <tr>\n",
       "      <th>89851855</th>\n",
       "      <td>1.047652e+20</td>\n",
       "      <td>Kyle Leatherow</td>\n",
       "      <td>2019-08-10 19:54:20.108</td>\n",
       "      <td>3</td>\n",
       "      <td>&lt;NA&gt;</td>\n",
       "      <td>0x53349429523d615b:0x2a66a9272032e8b4</td>\n",
       "      <td>2019</td>\n",
       "    </tr>\n",
       "    <tr>\n",
       "      <th>89851856</th>\n",
       "      <td>1.079835e+20</td>\n",
       "      <td>Richard Bowling</td>\n",
       "      <td>2020-04-19 13:20:38.249</td>\n",
       "      <td>3</td>\n",
       "      <td>&lt;NA&gt;</td>\n",
       "      <td>0x53349429523d615b:0x2a66a9272032e8b4</td>\n",
       "      <td>2020</td>\n",
       "    </tr>\n",
       "  </tbody>\n",
       "</table>\n",
       "<p>89851857 rows × 7 columns</p>\n",
       "</div>"
      ],
      "text/plain": [
       "               user_id                    name                    time  \\\n",
       "0         1.140438e+20           Kanisha Mixon 2020-08-11 17:51:12.670   \n",
       "1         1.160090e+20          Brandie Hodges 2021-01-06 02:10:39.594   \n",
       "2         1.062399e+20             Sharon King 2019-01-11 19:34:50.843   \n",
       "3         1.049701e+20         Veronica Pierce 2018-02-04 01:56:43.534   \n",
       "4         1.105875e+20  Whitney Waldon Collier 2018-08-26 01:08:38.492   \n",
       "...                ...                     ...                     ...   \n",
       "89851852  1.078991e+20        Carlene Calabaza 2021-03-03 03:15:23.428   \n",
       "89851853  1.173878e+20                   Gizmo 2019-06-30 21:58:31.835   \n",
       "89851854  1.078871e+20              Jan Soucek 2017-07-26 00:36:06.785   \n",
       "89851855  1.047652e+20          Kyle Leatherow 2019-08-10 19:54:20.108   \n",
       "89851856  1.079835e+20         Richard Bowling 2020-04-19 13:20:38.249   \n",
       "\n",
       "          rating                                               text  \\\n",
       "0              5  Very Personable staff! Beautiful and clean env...   \n",
       "1              5                               Best clothing intown   \n",
       "2              4                                               <NA>   \n",
       "3              5                                               <NA>   \n",
       "4              5                                               <NA>   \n",
       "...          ...                                                ...   \n",
       "89851852       5                                               <NA>   \n",
       "89851853       5                                               <NA>   \n",
       "89851854       5                                               <NA>   \n",
       "89851855       3                                               <NA>   \n",
       "89851856       3                                               <NA>   \n",
       "\n",
       "                                        gmap_id  year  \n",
       "0         0x8862134e67ff5c87:0x38b5e2ae99cd1fcf  2020  \n",
       "1         0x8862134e67ff5c87:0x38b5e2ae99cd1fcf  2021  \n",
       "2         0x8862134e67ff5c87:0x38b5e2ae99cd1fcf  2019  \n",
       "3         0x8862134e67ff5c87:0x38b5e2ae99cd1fcf  2018  \n",
       "4         0x8862134e67ff5c87:0x38b5e2ae99cd1fcf  2018  \n",
       "...                                         ...   ...  \n",
       "89851852  0x53349429523d615b:0x2a66a9272032e8b4  2021  \n",
       "89851853  0x53349429523d615b:0x2a66a9272032e8b4  2019  \n",
       "89851854  0x53349429523d615b:0x2a66a9272032e8b4  2017  \n",
       "89851855  0x53349429523d615b:0x2a66a9272032e8b4  2019  \n",
       "89851856  0x53349429523d615b:0x2a66a9272032e8b4  2020  \n",
       "\n",
       "[89851857 rows x 7 columns]"
      ]
     },
     "execution_count": 58,
     "metadata": {},
     "output_type": "execute_result"
    }
   ],
   "source": [
    "google_reviews_df"
   ]
  },
  {
   "cell_type": "markdown",
   "metadata": {},
   "source": [
    "### I quick view on the count of ratings"
   ]
  },
  {
   "cell_type": "code",
   "execution_count": 62,
   "metadata": {},
   "outputs": [
    {
     "data": {
      "image/png": "[encoded data removed]",
      "text/plain": [
       "<Figure size 640x480 with 1 Axes>"
      ]
     },
     "metadata": {},
     "output_type": "display_data"
    }
   ],
   "source": [
    "google_reviews_df[\"rating\"].value_counts().plot(kind=\"bar\", rot=90, title=\"count of ratings\");"
   ]
  },
  {
   "cell_type": "code",
   "execution_count": null,
   "metadata": {},
   "outputs": [],
   "source": []
  },
  {
   "cell_type": "code",
   "execution_count": null,
   "metadata": {},
   "outputs": [],
   "source": []
  },
  {
   "cell_type": "markdown",
   "metadata": {},
   "source": [
    "### Metadata\n",
    "\n",
    "A comparacion de gmaps_review, este parquet es relativamente mas ligero, siendo pandas capaz de la lectura de el archivo parquet"
   ]
  },
  {
   "cell_type": "code",
   "execution_count": 128,
   "metadata": {},
   "outputs": [
    {
     "data": {
      "text/plain": [
       "name                string[pyarrow]\n",
       "address             string[pyarrow]\n",
       "gmap_id             string[pyarrow]\n",
       "description         string[pyarrow]\n",
       "latitude            double[pyarrow]\n",
       "longitude           double[pyarrow]\n",
       "category                     object\n",
       "avg_rating          double[pyarrow]\n",
       "num_of_reviews       int64[pyarrow]\n",
       "price               string[pyarrow]\n",
       "hours                        object\n",
       "MISC                         object\n",
       "state               string[pyarrow]\n",
       "relative_results             object\n",
       "url                 string[pyarrow]\n",
       "dtype: object"
      ]
     },
     "execution_count": 128,
     "metadata": {},
     "output_type": "execute_result"
    }
   ],
   "source": [
    "directorio_metadata_reviews =  \"C:\\\\Users\\\\jdieg\\\\Desktop\\\\henry\\\\proyectos\\\\Google-Yelp\\\\.data\\\\google_maps\\\\Python_gmaps_metada.parquet\"\n",
    "\n",
    "metada_reviews_df = pd.read_parquet(directorio_metadata_reviews).convert_dtypes(dtype_backend=\"pyarrow\")\n",
    "metada_reviews_df.dtypes"
   ]
  },
  {
   "cell_type": "code",
   "execution_count": null,
   "metadata": {},
   "outputs": [],
   "source": [
    "metada_reviews_df.shape"
   ]
  },
  {
   "cell_type": "code",
   "execution_count": 129,
   "metadata": {},
   "outputs": [
    {
     "data": {
      "text/plain": [
       "(<Axes: title={'center': 'Null Proportion ofor Metadata'}>,\n",
       " name                 0.001223\n",
       " address              2.661511\n",
       " gmap_id              0.000000\n",
       " description         91.593783\n",
       " latitude             0.000000\n",
       " longitude            0.000000\n",
       " category             0.575833\n",
       " avg_rating           0.000000\n",
       " num_of_reviews       0.000000\n",
       " price               90.902413\n",
       " hours               26.029823\n",
       " MISC                22.837405\n",
       " state               24.676109\n",
       " relative_results     9.753948\n",
       " url                  0.000000\n",
       " dtype: float64)"
      ]
     },
     "execution_count": 129,
     "metadata": {},
     "output_type": "execute_result"
    },
    {
     "data": {
      "image/png": "[encoded data removed]",
      "text/plain": [
       "<Figure size 640x480 with 1 Axes>"
      ]
     },
     "metadata": {},
     "output_type": "display_data"
    }
   ],
   "source": [
    "proporcion_nulos(metada_reviews_df).plot(kind=\"bar\", rot=65, title=\"Null Proportion ofor Metadata\"),proporcion_nulos(metada_reviews_df)"
   ]
  },
  {
   "cell_type": "code",
   "execution_count": 130,
   "metadata": {},
   "outputs": [],
   "source": [
    "metada_reviews_df.drop([\"description\", \"price\"], axis=1, inplace=True)"
   ]
  },
  {
   "cell_type": "markdown",
   "metadata": {},
   "source": [
    "### Getting States"
   ]
  },
  {
   "cell_type": "code",
   "execution_count": 131,
   "metadata": {},
   "outputs": [
    {
     "data": {
      "text/plain": [
       "name                 0.001223\n",
       "address              2.661511\n",
       "gmap_id              0.000000\n",
       "latitude             0.000000\n",
       "longitude            0.000000\n",
       "category             0.575833\n",
       "avg_rating           0.000000\n",
       "num_of_reviews       0.000000\n",
       "hours               26.029823\n",
       "MISC                22.837405\n",
       "state               24.676109\n",
       "relative_results     9.753948\n",
       "url                  0.000000\n",
       "dtype: float64"
      ]
     },
     "execution_count": 131,
     "metadata": {},
     "output_type": "execute_result"
    }
   ],
   "source": [
    "proporcion_nulos(metada_reviews_df)"
   ]
  },
  {
   "cell_type": "markdown",
   "metadata": {},
   "source": [
    "First, let's get rid off null on address rows"
   ]
  },
  {
   "cell_type": "code",
   "execution_count": 132,
   "metadata": {},
   "outputs": [],
   "source": [
    "metada_reviews_df = metada_reviews_df[~metada_reviews_df[\"address\"].isna()]"
   ]
  },
  {
   "cell_type": "markdown",
   "metadata": {},
   "source": [
    "Then, builgind up our lambdas expresion on small porcion for testing"
   ]
  },
  {
   "cell_type": "code",
   "execution_count": 133,
   "metadata": {},
   "outputs": [],
   "source": [
    "small_metadata = metada_reviews_df[:200]"
   ]
  },
  {
   "cell_type": "code",
   "execution_count": 134,
   "metadata": {},
   "outputs": [
    {
     "data": {
      "text/plain": [
       "0      GA\n",
       "1      CA\n",
       "2      CA\n",
       "3      CA\n",
       "4      CA\n",
       "       ..\n",
       "205    FL\n",
       "206    CA\n",
       "207    ID\n",
       "208    TX\n",
       "210    TX\n",
       "Name: address, Length: 200, dtype: object"
      ]
     },
     "execution_count": 134,
     "metadata": {},
     "output_type": "execute_result"
    }
   ],
   "source": [
    "(\n",
    "    small_metadata[\"address\"]\n",
    "    # Get address element\n",
    "    .apply(lambda row: [address_element.strip() for address_element in row.split(\",\")][-1])\n",
    "    # Get the element of City\n",
    "    .apply(lambda x: x.split()[0])\n",
    "\n",
    "    )"
   ]
  },
  {
   "cell_type": "code",
   "execution_count": 135,
   "metadata": {},
   "outputs": [],
   "source": [
    "metada_reviews_df[\"us_state\"] = (\n",
    "    metada_reviews_df[\"address\"]\n",
    "    # Get address element\n",
    "    .apply(lambda row: [address_element.strip() for address_element in row.split(\",\")][-1])\n",
    "    # Get the element of City\n",
    "    .apply(lambda x: x.split()[0])\n",
    "\n",
    "    )"
   ]
  },
  {
   "cell_type": "code",
   "execution_count": 137,
   "metadata": {},
   "outputs": [
    {
     "data": {
      "text/plain": [
       "0          GA\n",
       "1          CA\n",
       "2          CA\n",
       "3          CA\n",
       "4          CA\n",
       "           ..\n",
       "3025006    IL\n",
       "3025007    CA\n",
       "3025008    WY\n",
       "3025009    AZ\n",
       "3025010    WY\n",
       "Name: us_state, Length: 2944500, dtype: object"
      ]
     },
     "execution_count": 137,
     "metadata": {},
     "output_type": "execute_result"
    }
   ],
   "source": [
    "metada_reviews_df[\"us_state\"]"
   ]
  },
  {
   "cell_type": "code",
   "execution_count": 115,
   "metadata": {},
   "outputs": [],
   "source": [
    "usps_state_abbreviations = {\n",
    "    'AL': 'Alabama',\n",
    "    'AK': 'Alaska',\n",
    "    'AZ': 'Arizona',\n",
    "    'AR': 'Arkansas',\n",
    "    'CA': 'California',\n",
    "    'CO': 'Colorado',\n",
    "    'CT': 'Connecticut',\n",
    "    'DE': 'Delaware',\n",
    "    'FL': 'Florida',\n",
    "    'GA': 'Georgia',\n",
    "    'HI': 'Hawaii',\n",
    "    'ID': 'Idaho',\n",
    "    'IL': 'Illinois',\n",
    "    'IN': 'Indiana',\n",
    "    'IA': 'Iowa',\n",
    "    'KS': 'Kansas',\n",
    "    'KY': 'Kentucky',\n",
    "    'LA': 'Louisiana',\n",
    "    'ME': 'Maine',\n",
    "    'MD': 'Maryland',\n",
    "    'MA': 'Massachusetts',\n",
    "    'MI': 'Michigan',\n",
    "    'MN': 'Minnesota',\n",
    "    'MS': 'Mississippi',\n",
    "    'MO': 'Missouri',\n",
    "    'MT': 'Montana',\n",
    "    'NE': 'Nebraska',\n",
    "    'NV': 'Nevada',\n",
    "    'NH': 'New Hampshire',\n",
    "    'NJ': 'New Jersey',\n",
    "    'NM': 'New Mexico',\n",
    "    'NY': 'New York',\n",
    "    'NC': 'North Carolina',\n",
    "    'ND': 'North Dakota',\n",
    "    'OH': 'Ohio',\n",
    "    'OK': 'Oklahoma',\n",
    "    'OR': 'Oregon',\n",
    "    'PA': 'Pennsylvania',\n",
    "    'RI': 'Rhode Island',\n",
    "    'SC': 'South Carolina',\n",
    "    'SD': 'South Dakota',\n",
    "    'TN': 'Tennessee',\n",
    "    'TX': 'Texas',\n",
    "    'UT': 'Utah',\n",
    "    'VT': 'Vermont',\n",
    "    'VA': 'Virginia',\n",
    "    'WA': 'Washington',\n",
    "    'WV': 'West Virginia',\n",
    "    'WI': 'Wisconsin',\n",
    "    'WY': 'Wyoming'\n",
    "}\n"
   ]
  },
  {
   "cell_type": "code",
   "execution_count": 122,
   "metadata": {},
   "outputs": [
    {
     "data": {
      "text/plain": [
       "<generator object <genexpr> at 0x000001EDC7580900>"
      ]
     },
     "execution_count": 122,
     "metadata": {},
     "output_type": "execute_result"
    }
   ],
   "source": [
    "(state_code for state_code in usps_state_abbreviations.keys())"
   ]
  },
  {
   "cell_type": "code",
   "execution_count": 139,
   "metadata": {},
   "outputs": [],
   "source": [
    "us_states_set = set(list(usps_state_abbreviations.keys()))"
   ]
  },
  {
   "cell_type": "code",
   "execution_count": 148,
   "metadata": {},
   "outputs": [],
   "source": [
    "metada_reviews_df = metada_reviews_df[metada_reviews_df[\"us_state\"].apply(lambda state: state in us_states_set)]"
   ]
  },
  {
   "cell_type": "code",
   "execution_count": 151,
   "metadata": {},
   "outputs": [
    {
     "data": {
      "text/plain": [
       "(2875143, 14)"
      ]
     },
     "execution_count": 151,
     "metadata": {},
     "output_type": "execute_result"
    }
   ],
   "source": [
    "metada_reviews_df.shape"
   ]
  },
  {
   "cell_type": "code",
   "execution_count": 159,
   "metadata": {},
   "outputs": [
    {
     "data": {
      "image/png": "[encoded data removed]",
      "text/plain": [
       "<Figure size 2500x1000 with 1 Axes>"
      ]
     },
     "metadata": {},
     "output_type": "display_data"
    }
   ],
   "source": [
    "metada_reviews_df[\"us_state\"].value_counts().plot(kind=\"bar\", figsize=(25, 10), rot=0, title=\"Places at each USA State\");"
   ]
  },
  {
   "cell_type": "code",
   "execution_count": 160,
   "metadata": {},
   "outputs": [
    {
     "data": {
      "text/plain": [
       "'Mississippi'"
      ]
     },
     "execution_count": 160,
     "metadata": {},
     "output_type": "execute_result"
    }
   ],
   "source": [
    "usps_state_abbreviations[\"MS\"]"
   ]
  },
  {
   "cell_type": "markdown",
   "metadata": {},
   "source": [
    "### Categories"
   ]
  },
  {
   "cell_type": "markdown",
   "metadata": {},
   "source": [
    "Getting rid off nulls"
   ]
  },
  {
   "cell_type": "code",
   "execution_count": 190,
   "metadata": {},
   "outputs": [
    {
     "data": {
      "text/plain": [
       "name                 0.000000\n",
       "address              0.000000\n",
       "gmap_id              0.000000\n",
       "latitude             0.000000\n",
       "longitude            0.000000\n",
       "category             0.591449\n",
       "avg_rating           0.000000\n",
       "num_of_reviews       0.000000\n",
       "hours               25.886086\n",
       "MISC                20.858232\n",
       "state               24.486469\n",
       "relative_results     8.697411\n",
       "url                  0.000000\n",
       "us_state             0.000000\n",
       "dtype: float64"
      ]
     },
     "execution_count": 190,
     "metadata": {},
     "output_type": "execute_result"
    }
   ],
   "source": [
    "proporcion_nulos(metada_reviews_df)"
   ]
  },
  {
   "cell_type": "markdown",
   "metadata": {},
   "source": [
    "Number of nulls"
   ]
  },
  {
   "cell_type": "code",
   "execution_count": 195,
   "metadata": {},
   "outputs": [
    {
     "data": {
      "text/plain": [
       "17005"
      ]
     },
     "execution_count": 195,
     "metadata": {},
     "output_type": "execute_result"
    }
   ],
   "source": [
    "metada_reviews_df[\"category\"].isnull().sum()"
   ]
  },
  {
   "cell_type": "code",
   "execution_count": 196,
   "metadata": {},
   "outputs": [
    {
     "name": "stderr",
     "output_type": "stream",
     "text": [
      "C:\\Users\\jdieg\\AppData\\Local\\Temp\\ipykernel_11168\\2732016685.py:1: SettingWithCopyWarning: \n",
      "A value is trying to be set on a copy of a slice from a DataFrame\n",
      "\n",
      "See the caveats in the documentation: https://pandas.pydata.org/pandas-docs/stable/user_guide/indexing.html#returning-a-view-versus-a-copy\n",
      "  metada_reviews_df.dropna(subset=\"category\", axis=0, inplace=True)\n"
     ]
    }
   ],
   "source": [
    "metada_reviews_df.dropna(subset=\"category\", axis=0, inplace=True)"
   ]
  },
  {
   "cell_type": "code",
   "execution_count": 184,
   "metadata": {},
   "outputs": [
    {
     "data": {
      "text/plain": [
       "True"
      ]
     },
     "execution_count": 184,
     "metadata": {},
     "output_type": "execute_result"
    }
   ],
   "source": [
    "([category in set([\"Restaurant\", \"Bar\"])for category in [\"Bar\", \"Campground\"]].count(True) > 0)"
   ]
  },
  {
   "cell_type": "code",
   "execution_count": 279,
   "metadata": {},
   "outputs": [],
   "source": [
    "set_categories = {\"restaurant\", \"bar\", \"bakery\", \"seafood\", \"restaurant\", \"cafe\",\n",
    "                  \"ice creame shop\", \"chinese restaurant\", \"italiant restaurant\", \n",
    "                   \"japanese restaurant\", \"bistro\", \"mexican restaurant\", \"grill\",\n",
    "                   \"greek restaurant\", \"thai restaurant\", \"indian restaurant\", \"spain rastaurant\",\n",
    "                   \"british restaurant\", \"tex-mex restaurant\", \"american restaurant\",\n",
    "                   \"health food restaurant\", \"relivery restaurant\", \"brunch restaurant\",\n",
    "                   \"sandwich shop\", \"fast food restaurant\", \"cake shop\", \"chicken restaurant\",\n",
    "                   \"donut shop\", \"Coffee shop\", \"southern restaurant (US)\", \"juice shop\", \"Breakfast restaurant\",\n",
    "                   \"pizza restaurant\", \"Bar & grill, Burrito restaurant\", \"pizza\", \"diner\", \"take out restaurant\",\n",
    "                   \"Sushi restaurant\", \"hamburger restaurant\", \"Steak house\", \"Asian restaurant\", \"New American restaurant, Restaurant\"}\n",
    "\n",
    "mask_categories = metada_reviews_df[\"category\"].apply(lambda categories: [category.lower().strip() in set_categories for category in categories].count(True) > 0)"
   ]
  },
  {
   "cell_type": "code",
   "execution_count": 283,
   "metadata": {},
   "outputs": [],
   "source": [
    "metada_reviews_df = metada_reviews_df[mask_categories]"
   ]
  },
  {
   "cell_type": "code",
   "execution_count": 293,
   "metadata": {},
   "outputs": [
    {
     "data": {
      "text/plain": [
       "0                    Restaurant\n",
       "1                        Bakery\n",
       "2        Health food restaurant\n",
       "3                         Diner\n",
       "4                           Bar\n",
       "                 ...           \n",
       "1734    Bedroom furniture store\n",
       "1735                    Frituur\n",
       "1736        Machine maintenance\n",
       "1737                     Bridge\n",
       "1738         University library\n",
       "Length: 1739, dtype: object"
      ]
     },
     "execution_count": 293,
     "metadata": {},
     "output_type": "execute_result"
    }
   ],
   "source": [
    "pd.Series(metada_reviews_df.explode(column=\"category\")[\"category\"].unique())"
   ]
  },
  {
   "cell_type": "code",
   "execution_count": null,
   "metadata": {},
   "outputs": [],
   "source": []
  },
  {
   "cell_type": "code",
   "execution_count": null,
   "metadata": {},
   "outputs": [],
   "source": []
  },
  {
   "cell_type": "code",
   "execution_count": 83,
   "metadata": {},
   "outputs": [],
   "source": [
    "from geopy.geocoders import Nominatim\n",
    "from geopy.exc import GeocoderTimedOut"
   ]
  },
  {
   "cell_type": "code",
   "execution_count": 84,
   "metadata": {},
   "outputs": [],
   "source": [
    "geolocator = Nominatim(user_agent=\"reverse_geocoding_example\")\n"
   ]
  },
  {
   "cell_type": "code",
   "execution_count": 113,
   "metadata": {},
   "outputs": [],
   "source": [
    "# Define a function for reverse geocoding\n",
    "def reverse_geocode(lat, lon):\n",
    "    try:\n",
    "        location = geolocator.reverse((lat, lon), exactly_one=True)\n",
    "        if location is not None:\n",
    "            address = location.address\n",
    "            return address\n",
    "        else:\n",
    "            return \"Location not found\"\n",
    "    except GeocoderTimedOut:\n",
    "        return reverse_geocode(lat, lon)\n",
    "    except IndexError:\n",
    "        return \"Unknown State\"\n",
    "\n"
   ]
  },
  {
   "cell_type": "code",
   "execution_count": 120,
   "metadata": {},
   "outputs": [
    {
     "data": {
      "text/plain": [
       "'3015, East Pico Boulevard, Los Angeles, Los Angeles County, California, 90023, United States'"
      ]
     },
     "execution_count": 120,
     "metadata": {},
     "output_type": "execute_result"
    }
   ],
   "source": [
    "reverse_geocode(34.018891, -118.21529)"
   ]
  },
  {
   "cell_type": "code",
   "execution_count": 121,
   "metadata": {},
   "outputs": [
    {
     "ename": "GeocoderServiceError",
     "evalue": "[WinError 10053] Se ha anulado una conexión establecida por el software en su equipo host",
     "output_type": "error",
     "traceback": [
      "\u001b[1;31m---------------------------------------------------------------------------\u001b[0m",
      "\u001b[1;31mConnectionAbortedError\u001b[0m                    Traceback (most recent call last)",
      "File \u001b[1;32mC:\\Program Files\\WindowsApps\\PythonSoftwareFoundation.Python.3.10_3.10.3056.0_x64__qbz5n2kfra8p0\\lib\\urllib\\request.py:1348\u001b[0m, in \u001b[0;36mAbstractHTTPHandler.do_open\u001b[1;34m(self, http_class, req, **http_conn_args)\u001b[0m\n\u001b[0;32m   1347\u001b[0m \u001b[39mtry\u001b[39;00m:\n\u001b[1;32m-> 1348\u001b[0m     h\u001b[39m.\u001b[39;49mrequest(req\u001b[39m.\u001b[39;49mget_method(), req\u001b[39m.\u001b[39;49mselector, req\u001b[39m.\u001b[39;49mdata, headers,\n\u001b[0;32m   1349\u001b[0m               encode_chunked\u001b[39m=\u001b[39;49mreq\u001b[39m.\u001b[39;49mhas_header(\u001b[39m'\u001b[39;49m\u001b[39mTransfer-encoding\u001b[39;49m\u001b[39m'\u001b[39;49m))\n\u001b[0;32m   1350\u001b[0m \u001b[39mexcept\u001b[39;00m \u001b[39mOSError\u001b[39;00m \u001b[39mas\u001b[39;00m err: \u001b[39m# timeout error\u001b[39;00m\n",
      "File \u001b[1;32mC:\\Program Files\\WindowsApps\\PythonSoftwareFoundation.Python.3.10_3.10.3056.0_x64__qbz5n2kfra8p0\\lib\\http\\client.py:1283\u001b[0m, in \u001b[0;36mHTTPConnection.request\u001b[1;34m(self, method, url, body, headers, encode_chunked)\u001b[0m\n\u001b[0;32m   1282\u001b[0m \u001b[39m\u001b[39m\u001b[39m\"\"\"Send a complete request to the server.\"\"\"\u001b[39;00m\n\u001b[1;32m-> 1283\u001b[0m \u001b[39mself\u001b[39;49m\u001b[39m.\u001b[39;49m_send_request(method, url, body, headers, encode_chunked)\n",
      "File \u001b[1;32mC:\\Program Files\\WindowsApps\\PythonSoftwareFoundation.Python.3.10_3.10.3056.0_x64__qbz5n2kfra8p0\\lib\\http\\client.py:1329\u001b[0m, in \u001b[0;36mHTTPConnection._send_request\u001b[1;34m(self, method, url, body, headers, encode_chunked)\u001b[0m\n\u001b[0;32m   1328\u001b[0m     body \u001b[39m=\u001b[39m _encode(body, \u001b[39m'\u001b[39m\u001b[39mbody\u001b[39m\u001b[39m'\u001b[39m)\n\u001b[1;32m-> 1329\u001b[0m \u001b[39mself\u001b[39;49m\u001b[39m.\u001b[39;49mendheaders(body, encode_chunked\u001b[39m=\u001b[39;49mencode_chunked)\n",
      "File \u001b[1;32mC:\\Program Files\\WindowsApps\\PythonSoftwareFoundation.Python.3.10_3.10.3056.0_x64__qbz5n2kfra8p0\\lib\\http\\client.py:1278\u001b[0m, in \u001b[0;36mHTTPConnection.endheaders\u001b[1;34m(self, message_body, encode_chunked)\u001b[0m\n\u001b[0;32m   1277\u001b[0m     \u001b[39mraise\u001b[39;00m CannotSendHeader()\n\u001b[1;32m-> 1278\u001b[0m \u001b[39mself\u001b[39;49m\u001b[39m.\u001b[39;49m_send_output(message_body, encode_chunked\u001b[39m=\u001b[39;49mencode_chunked)\n",
      "File \u001b[1;32mC:\\Program Files\\WindowsApps\\PythonSoftwareFoundation.Python.3.10_3.10.3056.0_x64__qbz5n2kfra8p0\\lib\\http\\client.py:1038\u001b[0m, in \u001b[0;36mHTTPConnection._send_output\u001b[1;34m(self, message_body, encode_chunked)\u001b[0m\n\u001b[0;32m   1037\u001b[0m \u001b[39mdel\u001b[39;00m \u001b[39mself\u001b[39m\u001b[39m.\u001b[39m_buffer[:]\n\u001b[1;32m-> 1038\u001b[0m \u001b[39mself\u001b[39;49m\u001b[39m.\u001b[39;49msend(msg)\n\u001b[0;32m   1040\u001b[0m \u001b[39mif\u001b[39;00m message_body \u001b[39mis\u001b[39;00m \u001b[39mnot\u001b[39;00m \u001b[39mNone\u001b[39;00m:\n\u001b[0;32m   1041\u001b[0m \n\u001b[0;32m   1042\u001b[0m     \u001b[39m# create a consistent interface to message_body\u001b[39;00m\n",
      "File \u001b[1;32mC:\\Program Files\\WindowsApps\\PythonSoftwareFoundation.Python.3.10_3.10.3056.0_x64__qbz5n2kfra8p0\\lib\\http\\client.py:976\u001b[0m, in \u001b[0;36mHTTPConnection.send\u001b[1;34m(self, data)\u001b[0m\n\u001b[0;32m    975\u001b[0m \u001b[39mif\u001b[39;00m \u001b[39mself\u001b[39m\u001b[39m.\u001b[39mauto_open:\n\u001b[1;32m--> 976\u001b[0m     \u001b[39mself\u001b[39;49m\u001b[39m.\u001b[39;49mconnect()\n\u001b[0;32m    977\u001b[0m \u001b[39melse\u001b[39;00m:\n",
      "File \u001b[1;32mC:\\Program Files\\WindowsApps\\PythonSoftwareFoundation.Python.3.10_3.10.3056.0_x64__qbz5n2kfra8p0\\lib\\http\\client.py:1448\u001b[0m, in \u001b[0;36mHTTPSConnection.connect\u001b[1;34m(self)\u001b[0m\n\u001b[0;32m   1446\u001b[0m \u001b[39m\"\u001b[39m\u001b[39mConnect to a host on a given (SSL) port.\u001b[39m\u001b[39m\"\u001b[39m\n\u001b[1;32m-> 1448\u001b[0m \u001b[39msuper\u001b[39;49m()\u001b[39m.\u001b[39;49mconnect()\n\u001b[0;32m   1450\u001b[0m \u001b[39mif\u001b[39;00m \u001b[39mself\u001b[39m\u001b[39m.\u001b[39m_tunnel_host:\n",
      "File \u001b[1;32mC:\\Program Files\\WindowsApps\\PythonSoftwareFoundation.Python.3.10_3.10.3056.0_x64__qbz5n2kfra8p0\\lib\\http\\client.py:942\u001b[0m, in \u001b[0;36mHTTPConnection.connect\u001b[1;34m(self)\u001b[0m\n\u001b[0;32m    941\u001b[0m sys\u001b[39m.\u001b[39maudit(\u001b[39m\"\u001b[39m\u001b[39mhttp.client.connect\u001b[39m\u001b[39m\"\u001b[39m, \u001b[39mself\u001b[39m, \u001b[39mself\u001b[39m\u001b[39m.\u001b[39mhost, \u001b[39mself\u001b[39m\u001b[39m.\u001b[39mport)\n\u001b[1;32m--> 942\u001b[0m \u001b[39mself\u001b[39m\u001b[39m.\u001b[39msock \u001b[39m=\u001b[39m \u001b[39mself\u001b[39;49m\u001b[39m.\u001b[39;49m_create_connection(\n\u001b[0;32m    943\u001b[0m     (\u001b[39mself\u001b[39;49m\u001b[39m.\u001b[39;49mhost,\u001b[39mself\u001b[39;49m\u001b[39m.\u001b[39;49mport), \u001b[39mself\u001b[39;49m\u001b[39m.\u001b[39;49mtimeout, \u001b[39mself\u001b[39;49m\u001b[39m.\u001b[39;49msource_address)\n\u001b[0;32m    944\u001b[0m \u001b[39m# Might fail in OSs that don't implement TCP_NODELAY\u001b[39;00m\n",
      "File \u001b[1;32mC:\\Program Files\\WindowsApps\\PythonSoftwareFoundation.Python.3.10_3.10.3056.0_x64__qbz5n2kfra8p0\\lib\\socket.py:845\u001b[0m, in \u001b[0;36mcreate_connection\u001b[1;34m(address, timeout, source_address)\u001b[0m\n\u001b[0;32m    844\u001b[0m \u001b[39mtry\u001b[39;00m:\n\u001b[1;32m--> 845\u001b[0m     \u001b[39mraise\u001b[39;00m err\n\u001b[0;32m    846\u001b[0m \u001b[39mfinally\u001b[39;00m:\n\u001b[0;32m    847\u001b[0m     \u001b[39m# Break explicitly a reference cycle\u001b[39;00m\n",
      "File \u001b[1;32mC:\\Program Files\\WindowsApps\\PythonSoftwareFoundation.Python.3.10_3.10.3056.0_x64__qbz5n2kfra8p0\\lib\\socket.py:833\u001b[0m, in \u001b[0;36mcreate_connection\u001b[1;34m(address, timeout, source_address)\u001b[0m\n\u001b[0;32m    832\u001b[0m     sock\u001b[39m.\u001b[39mbind(source_address)\n\u001b[1;32m--> 833\u001b[0m sock\u001b[39m.\u001b[39;49mconnect(sa)\n\u001b[0;32m    834\u001b[0m \u001b[39m# Break explicitly a reference cycle\u001b[39;00m\n",
      "\u001b[1;31mConnectionAbortedError\u001b[0m: [WinError 10053] Se ha anulado una conexión establecida por el software en su equipo host",
      "\nDuring handling of the above exception, another exception occurred:\n",
      "\u001b[1;31mURLError\u001b[0m                                  Traceback (most recent call last)",
      "File \u001b[1;32mc:\\Users\\jdieg\\Desktop\\henry\\proyectos\\Google-Yelp\\.proyecto_final_env\\lib\\site-packages\\geopy\\adapters.py:298\u001b[0m, in \u001b[0;36mURLLibAdapter.get_text\u001b[1;34m(self, url, timeout, headers)\u001b[0m\n\u001b[0;32m    297\u001b[0m \u001b[39mtry\u001b[39;00m:\n\u001b[1;32m--> 298\u001b[0m     page \u001b[39m=\u001b[39m \u001b[39mself\u001b[39;49m\u001b[39m.\u001b[39;49murlopen(req, timeout\u001b[39m=\u001b[39;49mtimeout)\n\u001b[0;32m    299\u001b[0m \u001b[39mexcept\u001b[39;00m \u001b[39mException\u001b[39;00m \u001b[39mas\u001b[39;00m error:\n",
      "File \u001b[1;32mC:\\Program Files\\WindowsApps\\PythonSoftwareFoundation.Python.3.10_3.10.3056.0_x64__qbz5n2kfra8p0\\lib\\urllib\\request.py:519\u001b[0m, in \u001b[0;36mOpenerDirector.open\u001b[1;34m(self, fullurl, data, timeout)\u001b[0m\n\u001b[0;32m    518\u001b[0m sys\u001b[39m.\u001b[39maudit(\u001b[39m'\u001b[39m\u001b[39murllib.Request\u001b[39m\u001b[39m'\u001b[39m, req\u001b[39m.\u001b[39mfull_url, req\u001b[39m.\u001b[39mdata, req\u001b[39m.\u001b[39mheaders, req\u001b[39m.\u001b[39mget_method())\n\u001b[1;32m--> 519\u001b[0m response \u001b[39m=\u001b[39m \u001b[39mself\u001b[39;49m\u001b[39m.\u001b[39;49m_open(req, data)\n\u001b[0;32m    521\u001b[0m \u001b[39m# post-process response\u001b[39;00m\n",
      "File \u001b[1;32mC:\\Program Files\\WindowsApps\\PythonSoftwareFoundation.Python.3.10_3.10.3056.0_x64__qbz5n2kfra8p0\\lib\\urllib\\request.py:536\u001b[0m, in \u001b[0;36mOpenerDirector._open\u001b[1;34m(self, req, data)\u001b[0m\n\u001b[0;32m    535\u001b[0m protocol \u001b[39m=\u001b[39m req\u001b[39m.\u001b[39mtype\n\u001b[1;32m--> 536\u001b[0m result \u001b[39m=\u001b[39m \u001b[39mself\u001b[39;49m\u001b[39m.\u001b[39;49m_call_chain(\u001b[39mself\u001b[39;49m\u001b[39m.\u001b[39;49mhandle_open, protocol, protocol \u001b[39m+\u001b[39;49m\n\u001b[0;32m    537\u001b[0m                           \u001b[39m'\u001b[39;49m\u001b[39m_open\u001b[39;49m\u001b[39m'\u001b[39;49m, req)\n\u001b[0;32m    538\u001b[0m \u001b[39mif\u001b[39;00m result:\n",
      "File \u001b[1;32mC:\\Program Files\\WindowsApps\\PythonSoftwareFoundation.Python.3.10_3.10.3056.0_x64__qbz5n2kfra8p0\\lib\\urllib\\request.py:496\u001b[0m, in \u001b[0;36mOpenerDirector._call_chain\u001b[1;34m(self, chain, kind, meth_name, *args)\u001b[0m\n\u001b[0;32m    495\u001b[0m func \u001b[39m=\u001b[39m \u001b[39mgetattr\u001b[39m(handler, meth_name)\n\u001b[1;32m--> 496\u001b[0m result \u001b[39m=\u001b[39m func(\u001b[39m*\u001b[39;49margs)\n\u001b[0;32m    497\u001b[0m \u001b[39mif\u001b[39;00m result \u001b[39mis\u001b[39;00m \u001b[39mnot\u001b[39;00m \u001b[39mNone\u001b[39;00m:\n",
      "File \u001b[1;32mC:\\Program Files\\WindowsApps\\PythonSoftwareFoundation.Python.3.10_3.10.3056.0_x64__qbz5n2kfra8p0\\lib\\urllib\\request.py:1391\u001b[0m, in \u001b[0;36mHTTPSHandler.https_open\u001b[1;34m(self, req)\u001b[0m\n\u001b[0;32m   1390\u001b[0m \u001b[39mdef\u001b[39;00m \u001b[39mhttps_open\u001b[39m(\u001b[39mself\u001b[39m, req):\n\u001b[1;32m-> 1391\u001b[0m     \u001b[39mreturn\u001b[39;00m \u001b[39mself\u001b[39;49m\u001b[39m.\u001b[39;49mdo_open(http\u001b[39m.\u001b[39;49mclient\u001b[39m.\u001b[39;49mHTTPSConnection, req,\n\u001b[0;32m   1392\u001b[0m         context\u001b[39m=\u001b[39;49m\u001b[39mself\u001b[39;49m\u001b[39m.\u001b[39;49m_context, check_hostname\u001b[39m=\u001b[39;49m\u001b[39mself\u001b[39;49m\u001b[39m.\u001b[39;49m_check_hostname)\n",
      "File \u001b[1;32mC:\\Program Files\\WindowsApps\\PythonSoftwareFoundation.Python.3.10_3.10.3056.0_x64__qbz5n2kfra8p0\\lib\\urllib\\request.py:1351\u001b[0m, in \u001b[0;36mAbstractHTTPHandler.do_open\u001b[1;34m(self, http_class, req, **http_conn_args)\u001b[0m\n\u001b[0;32m   1350\u001b[0m \u001b[39mexcept\u001b[39;00m \u001b[39mOSError\u001b[39;00m \u001b[39mas\u001b[39;00m err: \u001b[39m# timeout error\u001b[39;00m\n\u001b[1;32m-> 1351\u001b[0m     \u001b[39mraise\u001b[39;00m URLError(err)\n\u001b[0;32m   1352\u001b[0m r \u001b[39m=\u001b[39m h\u001b[39m.\u001b[39mgetresponse()\n",
      "\u001b[1;31mURLError\u001b[0m: <urlopen error [WinError 10053] Se ha anulado una conexión establecida por el software en su equipo host>",
      "\nDuring handling of the above exception, another exception occurred:\n",
      "\u001b[1;31mGeocoderServiceError\u001b[0m                      Traceback (most recent call last)",
      "\u001b[1;32mc:\\Users\\jdieg\\Desktop\\henry\\proyectos\\Google-Yelp\\Sprint-1\\Yelp\\etl_eda.ipynb Cell 38\u001b[0m line \u001b[0;36m1\n\u001b[1;32m----> <a href='vscode-notebook-cell:/c%3A/Users/jdieg/Desktop/henry/proyectos/Google-Yelp/Sprint-1/Yelp/etl_eda.ipynb#Y225sZmlsZQ%3D%3D?line=0'>1</a>\u001b[0m metada_reviews_df\u001b[39m.\u001b[39;49mapply(\u001b[39mlambda\u001b[39;49;00m row: reverse_geocode(row[\u001b[39m'\u001b[39;49m\u001b[39mlatitude\u001b[39;49m\u001b[39m'\u001b[39;49m], row[\u001b[39m'\u001b[39;49m\u001b[39mlongitude\u001b[39;49m\u001b[39m'\u001b[39;49m]), axis\u001b[39m=\u001b[39;49m\u001b[39m1\u001b[39;49m)\n",
      "File \u001b[1;32mc:\\Users\\jdieg\\Desktop\\henry\\proyectos\\Google-Yelp\\.proyecto_final_env\\lib\\site-packages\\pandas\\core\\frame.py:10037\u001b[0m, in \u001b[0;36mDataFrame.apply\u001b[1;34m(self, func, axis, raw, result_type, args, by_row, **kwargs)\u001b[0m\n\u001b[0;32m  10025\u001b[0m \u001b[39mfrom\u001b[39;00m \u001b[39mpandas\u001b[39;00m\u001b[39m.\u001b[39;00m\u001b[39mcore\u001b[39;00m\u001b[39m.\u001b[39;00m\u001b[39mapply\u001b[39;00m \u001b[39mimport\u001b[39;00m frame_apply\n\u001b[0;32m  10027\u001b[0m op \u001b[39m=\u001b[39m frame_apply(\n\u001b[0;32m  10028\u001b[0m     \u001b[39mself\u001b[39m,\n\u001b[0;32m  10029\u001b[0m     func\u001b[39m=\u001b[39mfunc,\n\u001b[1;32m   (...)\u001b[0m\n\u001b[0;32m  10035\u001b[0m     kwargs\u001b[39m=\u001b[39mkwargs,\n\u001b[0;32m  10036\u001b[0m )\n\u001b[1;32m> 10037\u001b[0m \u001b[39mreturn\u001b[39;00m op\u001b[39m.\u001b[39;49mapply()\u001b[39m.\u001b[39m__finalize__(\u001b[39mself\u001b[39m, method\u001b[39m=\u001b[39m\u001b[39m\"\u001b[39m\u001b[39mapply\u001b[39m\u001b[39m\"\u001b[39m)\n",
      "File \u001b[1;32mc:\\Users\\jdieg\\Desktop\\henry\\proyectos\\Google-Yelp\\.proyecto_final_env\\lib\\site-packages\\pandas\\core\\apply.py:837\u001b[0m, in \u001b[0;36mFrameApply.apply\u001b[1;34m(self)\u001b[0m\n\u001b[0;32m    834\u001b[0m \u001b[39melif\u001b[39;00m \u001b[39mself\u001b[39m\u001b[39m.\u001b[39mraw:\n\u001b[0;32m    835\u001b[0m     \u001b[39mreturn\u001b[39;00m \u001b[39mself\u001b[39m\u001b[39m.\u001b[39mapply_raw()\n\u001b[1;32m--> 837\u001b[0m \u001b[39mreturn\u001b[39;00m \u001b[39mself\u001b[39;49m\u001b[39m.\u001b[39;49mapply_standard()\n",
      "File \u001b[1;32mc:\\Users\\jdieg\\Desktop\\henry\\proyectos\\Google-Yelp\\.proyecto_final_env\\lib\\site-packages\\pandas\\core\\apply.py:963\u001b[0m, in \u001b[0;36mFrameApply.apply_standard\u001b[1;34m(self)\u001b[0m\n\u001b[0;32m    962\u001b[0m \u001b[39mdef\u001b[39;00m \u001b[39mapply_standard\u001b[39m(\u001b[39mself\u001b[39m):\n\u001b[1;32m--> 963\u001b[0m     results, res_index \u001b[39m=\u001b[39m \u001b[39mself\u001b[39;49m\u001b[39m.\u001b[39;49mapply_series_generator()\n\u001b[0;32m    965\u001b[0m     \u001b[39m# wrap results\u001b[39;00m\n\u001b[0;32m    966\u001b[0m     \u001b[39mreturn\u001b[39;00m \u001b[39mself\u001b[39m\u001b[39m.\u001b[39mwrap_results(results, res_index)\n",
      "File \u001b[1;32mc:\\Users\\jdieg\\Desktop\\henry\\proyectos\\Google-Yelp\\.proyecto_final_env\\lib\\site-packages\\pandas\\core\\apply.py:979\u001b[0m, in \u001b[0;36mFrameApply.apply_series_generator\u001b[1;34m(self)\u001b[0m\n\u001b[0;32m    976\u001b[0m \u001b[39mwith\u001b[39;00m option_context(\u001b[39m\"\u001b[39m\u001b[39mmode.chained_assignment\u001b[39m\u001b[39m\"\u001b[39m, \u001b[39mNone\u001b[39;00m):\n\u001b[0;32m    977\u001b[0m     \u001b[39mfor\u001b[39;00m i, v \u001b[39min\u001b[39;00m \u001b[39menumerate\u001b[39m(series_gen):\n\u001b[0;32m    978\u001b[0m         \u001b[39m# ignore SettingWithCopy here in case the user mutates\u001b[39;00m\n\u001b[1;32m--> 979\u001b[0m         results[i] \u001b[39m=\u001b[39m \u001b[39mself\u001b[39m\u001b[39m.\u001b[39mfunc(v, \u001b[39m*\u001b[39m\u001b[39mself\u001b[39m\u001b[39m.\u001b[39margs, \u001b[39m*\u001b[39m\u001b[39m*\u001b[39m\u001b[39mself\u001b[39m\u001b[39m.\u001b[39mkwargs)\n\u001b[0;32m    980\u001b[0m         \u001b[39mif\u001b[39;00m \u001b[39misinstance\u001b[39m(results[i], ABCSeries):\n\u001b[0;32m    981\u001b[0m             \u001b[39m# If we have a view on v, we need to make a copy because\u001b[39;00m\n\u001b[0;32m    982\u001b[0m             \u001b[39m#  series_generator will swap out the underlying data\u001b[39;00m\n\u001b[0;32m    983\u001b[0m             results[i] \u001b[39m=\u001b[39m results[i]\u001b[39m.\u001b[39mcopy(deep\u001b[39m=\u001b[39m\u001b[39mFalse\u001b[39;00m)\n",
      "\u001b[1;32mc:\\Users\\jdieg\\Desktop\\henry\\proyectos\\Google-Yelp\\Sprint-1\\Yelp\\etl_eda.ipynb Cell 38\u001b[0m line \u001b[0;36m1\n\u001b[1;32m----> <a href='vscode-notebook-cell:/c%3A/Users/jdieg/Desktop/henry/proyectos/Google-Yelp/Sprint-1/Yelp/etl_eda.ipynb#Y225sZmlsZQ%3D%3D?line=0'>1</a>\u001b[0m metada_reviews_df\u001b[39m.\u001b[39mapply(\u001b[39mlambda\u001b[39;00m row: reverse_geocode(row[\u001b[39m'\u001b[39;49m\u001b[39mlatitude\u001b[39;49m\u001b[39m'\u001b[39;49m], row[\u001b[39m'\u001b[39;49m\u001b[39mlongitude\u001b[39;49m\u001b[39m'\u001b[39;49m]), axis\u001b[39m=\u001b[39m\u001b[39m1\u001b[39m)\n",
      "\u001b[1;32mc:\\Users\\jdieg\\Desktop\\henry\\proyectos\\Google-Yelp\\Sprint-1\\Yelp\\etl_eda.ipynb Cell 38\u001b[0m line \u001b[0;36m4\n\u001b[0;32m      <a href='vscode-notebook-cell:/c%3A/Users/jdieg/Desktop/henry/proyectos/Google-Yelp/Sprint-1/Yelp/etl_eda.ipynb#Y225sZmlsZQ%3D%3D?line=1'>2</a>\u001b[0m \u001b[39mdef\u001b[39;00m \u001b[39mreverse_geocode\u001b[39m(lat, lon):\n\u001b[0;32m      <a href='vscode-notebook-cell:/c%3A/Users/jdieg/Desktop/henry/proyectos/Google-Yelp/Sprint-1/Yelp/etl_eda.ipynb#Y225sZmlsZQ%3D%3D?line=2'>3</a>\u001b[0m     \u001b[39mtry\u001b[39;00m:\n\u001b[1;32m----> <a href='vscode-notebook-cell:/c%3A/Users/jdieg/Desktop/henry/proyectos/Google-Yelp/Sprint-1/Yelp/etl_eda.ipynb#Y225sZmlsZQ%3D%3D?line=3'>4</a>\u001b[0m         location \u001b[39m=\u001b[39m geolocator\u001b[39m.\u001b[39;49mreverse((lat, lon), exactly_one\u001b[39m=\u001b[39;49m\u001b[39mTrue\u001b[39;49;00m)\n\u001b[0;32m      <a href='vscode-notebook-cell:/c%3A/Users/jdieg/Desktop/henry/proyectos/Google-Yelp/Sprint-1/Yelp/etl_eda.ipynb#Y225sZmlsZQ%3D%3D?line=4'>5</a>\u001b[0m         \u001b[39mif\u001b[39;00m location \u001b[39mis\u001b[39;00m \u001b[39mnot\u001b[39;00m \u001b[39mNone\u001b[39;00m:\n\u001b[0;32m      <a href='vscode-notebook-cell:/c%3A/Users/jdieg/Desktop/henry/proyectos/Google-Yelp/Sprint-1/Yelp/etl_eda.ipynb#Y225sZmlsZQ%3D%3D?line=5'>6</a>\u001b[0m             address \u001b[39m=\u001b[39m location\u001b[39m.\u001b[39maddress\n",
      "File \u001b[1;32mc:\\Users\\jdieg\\Desktop\\henry\\proyectos\\Google-Yelp\\.proyecto_final_env\\lib\\site-packages\\geopy\\geocoders\\nominatim.py:372\u001b[0m, in \u001b[0;36mNominatim.reverse\u001b[1;34m(self, query, exactly_one, timeout, language, addressdetails, zoom, namedetails)\u001b[0m\n\u001b[0;32m    370\u001b[0m logger\u001b[39m.\u001b[39mdebug(\u001b[39m\"\u001b[39m\u001b[39m%s\u001b[39;00m\u001b[39m.reverse: \u001b[39m\u001b[39m%s\u001b[39;00m\u001b[39m\"\u001b[39m, \u001b[39mself\u001b[39m\u001b[39m.\u001b[39m\u001b[39m__class__\u001b[39m\u001b[39m.\u001b[39m\u001b[39m__name__\u001b[39m, url)\n\u001b[0;32m    371\u001b[0m callback \u001b[39m=\u001b[39m partial(\u001b[39mself\u001b[39m\u001b[39m.\u001b[39m_parse_json, exactly_one\u001b[39m=\u001b[39mexactly_one)\n\u001b[1;32m--> 372\u001b[0m \u001b[39mreturn\u001b[39;00m \u001b[39mself\u001b[39;49m\u001b[39m.\u001b[39;49m_call_geocoder(url, callback, timeout\u001b[39m=\u001b[39;49mtimeout)\n",
      "File \u001b[1;32mc:\\Users\\jdieg\\Desktop\\henry\\proyectos\\Google-Yelp\\.proyecto_final_env\\lib\\site-packages\\geopy\\geocoders\\base.py:368\u001b[0m, in \u001b[0;36mGeocoder._call_geocoder\u001b[1;34m(self, url, callback, timeout, is_json, headers)\u001b[0m\n\u001b[0;32m    366\u001b[0m \u001b[39mtry\u001b[39;00m:\n\u001b[0;32m    367\u001b[0m     \u001b[39mif\u001b[39;00m is_json:\n\u001b[1;32m--> 368\u001b[0m         result \u001b[39m=\u001b[39m \u001b[39mself\u001b[39;49m\u001b[39m.\u001b[39;49madapter\u001b[39m.\u001b[39;49mget_json(url, timeout\u001b[39m=\u001b[39;49mtimeout, headers\u001b[39m=\u001b[39;49mreq_headers)\n\u001b[0;32m    369\u001b[0m     \u001b[39melse\u001b[39;00m:\n\u001b[0;32m    370\u001b[0m         result \u001b[39m=\u001b[39m \u001b[39mself\u001b[39m\u001b[39m.\u001b[39madapter\u001b[39m.\u001b[39mget_text(url, timeout\u001b[39m=\u001b[39mtimeout, headers\u001b[39m=\u001b[39mreq_headers)\n",
      "File \u001b[1;32mc:\\Users\\jdieg\\Desktop\\henry\\proyectos\\Google-Yelp\\.proyecto_final_env\\lib\\site-packages\\geopy\\adapters.py:287\u001b[0m, in \u001b[0;36mURLLibAdapter.get_json\u001b[1;34m(self, url, timeout, headers)\u001b[0m\n\u001b[0;32m    286\u001b[0m \u001b[39mdef\u001b[39;00m \u001b[39mget_json\u001b[39m(\u001b[39mself\u001b[39m, url, \u001b[39m*\u001b[39m, timeout, headers):\n\u001b[1;32m--> 287\u001b[0m     text \u001b[39m=\u001b[39m \u001b[39mself\u001b[39;49m\u001b[39m.\u001b[39;49mget_text(url, timeout\u001b[39m=\u001b[39;49mtimeout, headers\u001b[39m=\u001b[39;49mheaders)\n\u001b[0;32m    288\u001b[0m     \u001b[39mtry\u001b[39;00m:\n\u001b[0;32m    289\u001b[0m         \u001b[39mreturn\u001b[39;00m json\u001b[39m.\u001b[39mloads(text)\n",
      "File \u001b[1;32mc:\\Users\\jdieg\\Desktop\\henry\\proyectos\\Google-Yelp\\.proyecto_final_env\\lib\\site-packages\\geopy\\adapters.py:324\u001b[0m, in \u001b[0;36mURLLibAdapter.get_text\u001b[1;34m(self, url, timeout, headers)\u001b[0m\n\u001b[0;32m    322\u001b[0m         \u001b[39mif\u001b[39;00m \u001b[39m\"\u001b[39m\u001b[39mtimed out\u001b[39m\u001b[39m\"\u001b[39m \u001b[39min\u001b[39;00m message:\n\u001b[0;32m    323\u001b[0m             \u001b[39mraise\u001b[39;00m GeocoderTimedOut(\u001b[39m\"\u001b[39m\u001b[39mService timed out\u001b[39m\u001b[39m\"\u001b[39m)\n\u001b[1;32m--> 324\u001b[0m     \u001b[39mraise\u001b[39;00m GeocoderServiceError(message)\n\u001b[0;32m    325\u001b[0m \u001b[39melse\u001b[39;00m:\n\u001b[0;32m    326\u001b[0m     text \u001b[39m=\u001b[39m \u001b[39mself\u001b[39m\u001b[39m.\u001b[39m_decode_page(page)\n",
      "\u001b[1;31mGeocoderServiceError\u001b[0m: [WinError 10053] Se ha anulado una conexión establecida por el software en su equipo host"
     ]
    }
   ],
   "source": [
    "metada_reviews_df.apply(lambda row: reverse_geocode(row['latitude'], row['longitude']), axis=1)\n"
   ]
  },
  {
   "cell_type": "markdown",
   "metadata": {},
   "source": [
    "### Chunkenizer"
   ]
  },
  {
   "cell_type": "code",
   "execution_count": 104,
   "metadata": {},
   "outputs": [],
   "source": [
    "###################################### Snipped Code ###########################################\n",
    "# # Define chunk size\n",
    "# chunk_size = 10000\n",
    "\n",
    "# # Split DataFrames into chunks\n",
    "# left_chunks = [left_df[i:i+chunk_size] for i in range(0, len(left_df), chunk_size)]\n",
    "# right_chunks = [right_df[i:i+chunk_size] for i in range(0, len(right_df), chunk_size)]\n",
    "\n",
    "# # Initialize an empty result DataFrame\n",
    "# result_df = pd.DataFrame()\n",
    "\n",
    "# # Iterate through chunks and merge\n",
    "# for left_chunk, right_chunk in zip(left_chunks, right_chunks):\n",
    "#     merged_chunk = pd.merge(left_chunk, right_chunk, on='key', how='inner')\n",
    "#     result_df = pd.concat([result_df, merged_chunk], ignore_index=True)\n",
    "\n",
    "# # result_df contains the merged result"
   ]
  },
  {
   "cell_type": "code",
   "execution_count": 107,
   "metadata": {},
   "outputs": [
    {
     "ename": "AttributeError",
     "evalue": "'NoneType' object has no attribute 'address'",
     "output_type": "error",
     "traceback": [
      "\u001b[1;31m---------------------------------------------------------------------------\u001b[0m",
      "\u001b[1;31mAttributeError\u001b[0m                            Traceback (most recent call last)",
      "\u001b[1;32mc:\\Users\\jdieg\\Desktop\\henry\\proyectos\\Google-Yelp\\Sprint-1\\Yelp\\etl_eda.ipynb Cell 41\u001b[0m line \u001b[0;36m1\n\u001b[0;32m     <a href='vscode-notebook-cell:/c%3A/Users/jdieg/Desktop/henry/proyectos/Google-Yelp/Sprint-1/Yelp/etl_eda.ipynb#Y234sZmlsZQ%3D%3D?line=10'>11</a>\u001b[0m \u001b[39m# Iterate through chunks and merge\u001b[39;00m\n\u001b[0;32m     <a href='vscode-notebook-cell:/c%3A/Users/jdieg/Desktop/henry/proyectos/Google-Yelp/Sprint-1/Yelp/etl_eda.ipynb#Y234sZmlsZQ%3D%3D?line=11'>12</a>\u001b[0m \u001b[39mfor\u001b[39;00m chunk \u001b[39min\u001b[39;00m chunks:\n\u001b[1;32m---> <a href='vscode-notebook-cell:/c%3A/Users/jdieg/Desktop/henry/proyectos/Google-Yelp/Sprint-1/Yelp/etl_eda.ipynb#Y234sZmlsZQ%3D%3D?line=12'>13</a>\u001b[0m     chunk \u001b[39m=\u001b[39m chunk\u001b[39m.\u001b[39;49mapply(\u001b[39mlambda\u001b[39;49;00m row: reverse_geocode(row[\u001b[39m'\u001b[39;49m\u001b[39mlatitude\u001b[39;49m\u001b[39m'\u001b[39;49m], row[\u001b[39m'\u001b[39;49m\u001b[39mlongitude\u001b[39;49m\u001b[39m'\u001b[39;49m])\u001b[39m.\u001b[39;49msplit(\u001b[39m\"\u001b[39;49m\u001b[39m,\u001b[39;49m\u001b[39m\"\u001b[39;49m)[\u001b[39m2\u001b[39;49m]\u001b[39m.\u001b[39;49mstrip(), axis\u001b[39m=\u001b[39;49m\u001b[39m1\u001b[39;49m)\n\u001b[0;32m     <a href='vscode-notebook-cell:/c%3A/Users/jdieg/Desktop/henry/proyectos/Google-Yelp/Sprint-1/Yelp/etl_eda.ipynb#Y234sZmlsZQ%3D%3D?line=13'>14</a>\u001b[0m     result_df \u001b[39m=\u001b[39m pd\u001b[39m.\u001b[39mconcat([result_df, chunk], ignore_index\u001b[39m=\u001b[39m\u001b[39mTrue\u001b[39;00m)\n",
      "File \u001b[1;32mc:\\Users\\jdieg\\Desktop\\henry\\proyectos\\Google-Yelp\\.proyecto_final_env\\lib\\site-packages\\pandas\\core\\frame.py:10037\u001b[0m, in \u001b[0;36mDataFrame.apply\u001b[1;34m(self, func, axis, raw, result_type, args, by_row, **kwargs)\u001b[0m\n\u001b[0;32m  10025\u001b[0m \u001b[39mfrom\u001b[39;00m \u001b[39mpandas\u001b[39;00m\u001b[39m.\u001b[39;00m\u001b[39mcore\u001b[39;00m\u001b[39m.\u001b[39;00m\u001b[39mapply\u001b[39;00m \u001b[39mimport\u001b[39;00m frame_apply\n\u001b[0;32m  10027\u001b[0m op \u001b[39m=\u001b[39m frame_apply(\n\u001b[0;32m  10028\u001b[0m     \u001b[39mself\u001b[39m,\n\u001b[0;32m  10029\u001b[0m     func\u001b[39m=\u001b[39mfunc,\n\u001b[1;32m   (...)\u001b[0m\n\u001b[0;32m  10035\u001b[0m     kwargs\u001b[39m=\u001b[39mkwargs,\n\u001b[0;32m  10036\u001b[0m )\n\u001b[1;32m> 10037\u001b[0m \u001b[39mreturn\u001b[39;00m op\u001b[39m.\u001b[39;49mapply()\u001b[39m.\u001b[39m__finalize__(\u001b[39mself\u001b[39m, method\u001b[39m=\u001b[39m\u001b[39m\"\u001b[39m\u001b[39mapply\u001b[39m\u001b[39m\"\u001b[39m)\n",
      "File \u001b[1;32mc:\\Users\\jdieg\\Desktop\\henry\\proyectos\\Google-Yelp\\.proyecto_final_env\\lib\\site-packages\\pandas\\core\\apply.py:837\u001b[0m, in \u001b[0;36mFrameApply.apply\u001b[1;34m(self)\u001b[0m\n\u001b[0;32m    834\u001b[0m \u001b[39melif\u001b[39;00m \u001b[39mself\u001b[39m\u001b[39m.\u001b[39mraw:\n\u001b[0;32m    835\u001b[0m     \u001b[39mreturn\u001b[39;00m \u001b[39mself\u001b[39m\u001b[39m.\u001b[39mapply_raw()\n\u001b[1;32m--> 837\u001b[0m \u001b[39mreturn\u001b[39;00m \u001b[39mself\u001b[39;49m\u001b[39m.\u001b[39;49mapply_standard()\n",
      "File \u001b[1;32mc:\\Users\\jdieg\\Desktop\\henry\\proyectos\\Google-Yelp\\.proyecto_final_env\\lib\\site-packages\\pandas\\core\\apply.py:963\u001b[0m, in \u001b[0;36mFrameApply.apply_standard\u001b[1;34m(self)\u001b[0m\n\u001b[0;32m    962\u001b[0m \u001b[39mdef\u001b[39;00m \u001b[39mapply_standard\u001b[39m(\u001b[39mself\u001b[39m):\n\u001b[1;32m--> 963\u001b[0m     results, res_index \u001b[39m=\u001b[39m \u001b[39mself\u001b[39;49m\u001b[39m.\u001b[39;49mapply_series_generator()\n\u001b[0;32m    965\u001b[0m     \u001b[39m# wrap results\u001b[39;00m\n\u001b[0;32m    966\u001b[0m     \u001b[39mreturn\u001b[39;00m \u001b[39mself\u001b[39m\u001b[39m.\u001b[39mwrap_results(results, res_index)\n",
      "File \u001b[1;32mc:\\Users\\jdieg\\Desktop\\henry\\proyectos\\Google-Yelp\\.proyecto_final_env\\lib\\site-packages\\pandas\\core\\apply.py:979\u001b[0m, in \u001b[0;36mFrameApply.apply_series_generator\u001b[1;34m(self)\u001b[0m\n\u001b[0;32m    976\u001b[0m \u001b[39mwith\u001b[39;00m option_context(\u001b[39m\"\u001b[39m\u001b[39mmode.chained_assignment\u001b[39m\u001b[39m\"\u001b[39m, \u001b[39mNone\u001b[39;00m):\n\u001b[0;32m    977\u001b[0m     \u001b[39mfor\u001b[39;00m i, v \u001b[39min\u001b[39;00m \u001b[39menumerate\u001b[39m(series_gen):\n\u001b[0;32m    978\u001b[0m         \u001b[39m# ignore SettingWithCopy here in case the user mutates\u001b[39;00m\n\u001b[1;32m--> 979\u001b[0m         results[i] \u001b[39m=\u001b[39m \u001b[39mself\u001b[39m\u001b[39m.\u001b[39mfunc(v, \u001b[39m*\u001b[39m\u001b[39mself\u001b[39m\u001b[39m.\u001b[39margs, \u001b[39m*\u001b[39m\u001b[39m*\u001b[39m\u001b[39mself\u001b[39m\u001b[39m.\u001b[39mkwargs)\n\u001b[0;32m    980\u001b[0m         \u001b[39mif\u001b[39;00m \u001b[39misinstance\u001b[39m(results[i], ABCSeries):\n\u001b[0;32m    981\u001b[0m             \u001b[39m# If we have a view on v, we need to make a copy because\u001b[39;00m\n\u001b[0;32m    982\u001b[0m             \u001b[39m#  series_generator will swap out the underlying data\u001b[39;00m\n\u001b[0;32m    983\u001b[0m             results[i] \u001b[39m=\u001b[39m results[i]\u001b[39m.\u001b[39mcopy(deep\u001b[39m=\u001b[39m\u001b[39mFalse\u001b[39;00m)\n",
      "\u001b[1;32mc:\\Users\\jdieg\\Desktop\\henry\\proyectos\\Google-Yelp\\Sprint-1\\Yelp\\etl_eda.ipynb Cell 41\u001b[0m line \u001b[0;36m1\n\u001b[0;32m     <a href='vscode-notebook-cell:/c%3A/Users/jdieg/Desktop/henry/proyectos/Google-Yelp/Sprint-1/Yelp/etl_eda.ipynb#Y234sZmlsZQ%3D%3D?line=10'>11</a>\u001b[0m \u001b[39m# Iterate through chunks and merge\u001b[39;00m\n\u001b[0;32m     <a href='vscode-notebook-cell:/c%3A/Users/jdieg/Desktop/henry/proyectos/Google-Yelp/Sprint-1/Yelp/etl_eda.ipynb#Y234sZmlsZQ%3D%3D?line=11'>12</a>\u001b[0m \u001b[39mfor\u001b[39;00m chunk \u001b[39min\u001b[39;00m chunks:\n\u001b[1;32m---> <a href='vscode-notebook-cell:/c%3A/Users/jdieg/Desktop/henry/proyectos/Google-Yelp/Sprint-1/Yelp/etl_eda.ipynb#Y234sZmlsZQ%3D%3D?line=12'>13</a>\u001b[0m     chunk \u001b[39m=\u001b[39m chunk\u001b[39m.\u001b[39mapply(\u001b[39mlambda\u001b[39;00m row: reverse_geocode(row[\u001b[39m'\u001b[39;49m\u001b[39mlatitude\u001b[39;49m\u001b[39m'\u001b[39;49m], row[\u001b[39m'\u001b[39;49m\u001b[39mlongitude\u001b[39;49m\u001b[39m'\u001b[39;49m])\u001b[39m.\u001b[39msplit(\u001b[39m\"\u001b[39m\u001b[39m,\u001b[39m\u001b[39m\"\u001b[39m)[\u001b[39m2\u001b[39m]\u001b[39m.\u001b[39mstrip(), axis\u001b[39m=\u001b[39m\u001b[39m1\u001b[39m)\n\u001b[0;32m     <a href='vscode-notebook-cell:/c%3A/Users/jdieg/Desktop/henry/proyectos/Google-Yelp/Sprint-1/Yelp/etl_eda.ipynb#Y234sZmlsZQ%3D%3D?line=13'>14</a>\u001b[0m     result_df \u001b[39m=\u001b[39m pd\u001b[39m.\u001b[39mconcat([result_df, chunk], ignore_index\u001b[39m=\u001b[39m\u001b[39mTrue\u001b[39;00m)\n",
      "\u001b[1;32mc:\\Users\\jdieg\\Desktop\\henry\\proyectos\\Google-Yelp\\Sprint-1\\Yelp\\etl_eda.ipynb Cell 41\u001b[0m line \u001b[0;36m4\n\u001b[0;32m      <a href='vscode-notebook-cell:/c%3A/Users/jdieg/Desktop/henry/proyectos/Google-Yelp/Sprint-1/Yelp/etl_eda.ipynb#Y234sZmlsZQ%3D%3D?line=1'>2</a>\u001b[0m \u001b[39mtry\u001b[39;00m:\n\u001b[0;32m      <a href='vscode-notebook-cell:/c%3A/Users/jdieg/Desktop/henry/proyectos/Google-Yelp/Sprint-1/Yelp/etl_eda.ipynb#Y234sZmlsZQ%3D%3D?line=2'>3</a>\u001b[0m     location \u001b[39m=\u001b[39m geolocator\u001b[39m.\u001b[39mreverse((lat, lon), exactly_one\u001b[39m=\u001b[39m\u001b[39mTrue\u001b[39;00m)\n\u001b[1;32m----> <a href='vscode-notebook-cell:/c%3A/Users/jdieg/Desktop/henry/proyectos/Google-Yelp/Sprint-1/Yelp/etl_eda.ipynb#Y234sZmlsZQ%3D%3D?line=3'>4</a>\u001b[0m     address \u001b[39m=\u001b[39m location\u001b[39m.\u001b[39;49maddress\n\u001b[0;32m      <a href='vscode-notebook-cell:/c%3A/Users/jdieg/Desktop/henry/proyectos/Google-Yelp/Sprint-1/Yelp/etl_eda.ipynb#Y234sZmlsZQ%3D%3D?line=4'>5</a>\u001b[0m     \u001b[39mreturn\u001b[39;00m address\n\u001b[0;32m      <a href='vscode-notebook-cell:/c%3A/Users/jdieg/Desktop/henry/proyectos/Google-Yelp/Sprint-1/Yelp/etl_eda.ipynb#Y234sZmlsZQ%3D%3D?line=5'>6</a>\u001b[0m \u001b[39mexcept\u001b[39;00m GeocoderTimedOut:\n",
      "\u001b[1;31mAttributeError\u001b[0m: 'NoneType' object has no attribute 'address'"
     ]
    }
   ],
   "source": [
    "# Define chunk size\n",
    "chunk_size = 100000\n",
    "\n",
    "# Split DataFrames into chunks\n",
    "chunks = [metada_reviews_df[i:i+chunk_size] for i in range(0, len(metada_reviews_df), chunk_size)]\n",
    "\n",
    "\n",
    "# Initialize an empty result DataFrame\n",
    "result_df = pd.DataFrame()\n",
    "\n",
    "# Iterate through chunks and merge\n",
    "for chunk in chunks:\n",
    "    chunk = chunk.apply(lambda row: reverse_geocode(row['latitude'], row['longitude']).split(\",\")[2].strip(), axis=1)\n",
    "    result_df = pd.concat([result_df, chunk], ignore_index=True)"
   ]
  },
  {
   "cell_type": "markdown",
   "metadata": {},
   "source": [
    "### Dask Usage"
   ]
  },
  {
   "cell_type": "code",
   "execution_count": 1,
   "metadata": {},
   "outputs": [
    {
     "data": {
      "text/html": [
       "<table>\n",
       "    <tr>\n",
       "        <td>\n",
       "            <table style=\"border-collapse: collapse;\">\n",
       "                <thead>\n",
       "                    <tr>\n",
       "                        <td> </td>\n",
       "                        <th> Array </th>\n",
       "                        <th> Chunk </th>\n",
       "                    </tr>\n",
       "                </thead>\n",
       "                <tbody>\n",
       "                    \n",
       "                    <tr>\n",
       "                        <th> Bytes </th>\n",
       "                        <td> 74.51 GiB </td>\n",
       "                        <td> 126.51 MiB </td>\n",
       "                    </tr>\n",
       "                    \n",
       "                    <tr>\n",
       "                        <th> Shape </th>\n",
       "                        <td> (10000, 1000, 1000) </td>\n",
       "                        <td> (255, 255, 255) </td>\n",
       "                    </tr>\n",
       "                    <tr>\n",
       "                        <th> Dask graph </th>\n",
       "                        <td colspan=\"2\"> 640 chunks in 1 graph layer </td>\n",
       "                    </tr>\n",
       "                    <tr>\n",
       "                        <th> Data type </th>\n",
       "                        <td colspan=\"2\"> float64 numpy.ndarray </td>\n",
       "                    </tr>\n",
       "                </tbody>\n",
       "            </table>\n",
       "        </td>\n",
       "        <td>\n",
       "        <svg width=\"169\" height=\"159\" style=\"stroke:rgb(0,0,0);stroke-width:1\" >\n",
       "\n",
       "  <!-- Horizontal lines -->\n",
       "  <line x1=\"10\" y1=\"0\" x2=\"80\" y2=\"70\" style=\"stroke-width:2\" />\n",
       "  <line x1=\"10\" y1=\"9\" x2=\"80\" y2=\"80\" />\n",
       "  <line x1=\"10\" y1=\"19\" x2=\"80\" y2=\"90\" />\n",
       "  <line x1=\"10\" y1=\"29\" x2=\"80\" y2=\"100\" />\n",
       "  <line x1=\"10\" y1=\"38\" x2=\"80\" y2=\"109\" style=\"stroke-width:2\" />\n",
       "\n",
       "  <!-- Vertical lines -->\n",
       "  <line x1=\"10\" y1=\"0\" x2=\"10\" y2=\"38\" style=\"stroke-width:2\" />\n",
       "  <line x1=\"13\" y1=\"3\" x2=\"13\" y2=\"42\" />\n",
       "  <line x1=\"17\" y1=\"7\" x2=\"17\" y2=\"45\" />\n",
       "  <line x1=\"20\" y1=\"10\" x2=\"20\" y2=\"49\" />\n",
       "  <line x1=\"24\" y1=\"14\" x2=\"24\" y2=\"52\" />\n",
       "  <line x1=\"28\" y1=\"18\" x2=\"28\" y2=\"56\" />\n",
       "  <line x1=\"31\" y1=\"21\" x2=\"31\" y2=\"60\" />\n",
       "  <line x1=\"35\" y1=\"25\" x2=\"35\" y2=\"63\" />\n",
       "  <line x1=\"38\" y1=\"28\" x2=\"38\" y2=\"67\" />\n",
       "  <line x1=\"42\" y1=\"32\" x2=\"42\" y2=\"70\" />\n",
       "  <line x1=\"47\" y1=\"37\" x2=\"47\" y2=\"76\" />\n",
       "  <line x1=\"51\" y1=\"41\" x2=\"51\" y2=\"79\" />\n",
       "  <line x1=\"55\" y1=\"45\" x2=\"55\" y2=\"83\" />\n",
       "  <line x1=\"58\" y1=\"48\" x2=\"58\" y2=\"87\" />\n",
       "  <line x1=\"62\" y1=\"52\" x2=\"62\" y2=\"90\" />\n",
       "  <line x1=\"65\" y1=\"55\" x2=\"65\" y2=\"94\" />\n",
       "  <line x1=\"69\" y1=\"59\" x2=\"69\" y2=\"97\" />\n",
       "  <line x1=\"73\" y1=\"63\" x2=\"73\" y2=\"101\" />\n",
       "  <line x1=\"76\" y1=\"66\" x2=\"76\" y2=\"105\" />\n",
       "  <line x1=\"80\" y1=\"70\" x2=\"80\" y2=\"109\" style=\"stroke-width:2\" />\n",
       "\n",
       "  <!-- Colored Rectangle -->\n",
       "  <polygon points=\"10.0,0.0 80.58823529411765,70.58823529411765 80.58823529411765,109.18509833020366 10.0,38.596863036086\" style=\"fill:#8B4903A0;stroke-width:0\"/>\n",
       "\n",
       "  <!-- Horizontal lines -->\n",
       "  <line x1=\"10\" y1=\"0\" x2=\"48\" y2=\"0\" style=\"stroke-width:2\" />\n",
       "  <line x1=\"13\" y1=\"3\" x2=\"52\" y2=\"3\" />\n",
       "  <line x1=\"17\" y1=\"7\" x2=\"55\" y2=\"7\" />\n",
       "  <line x1=\"20\" y1=\"10\" x2=\"59\" y2=\"10\" />\n",
       "  <line x1=\"24\" y1=\"14\" x2=\"62\" y2=\"14\" />\n",
       "  <line x1=\"28\" y1=\"18\" x2=\"66\" y2=\"18\" />\n",
       "  <line x1=\"31\" y1=\"21\" x2=\"70\" y2=\"21\" />\n",
       "  <line x1=\"35\" y1=\"25\" x2=\"73\" y2=\"25\" />\n",
       "  <line x1=\"38\" y1=\"28\" x2=\"77\" y2=\"28\" />\n",
       "  <line x1=\"42\" y1=\"32\" x2=\"80\" y2=\"32\" />\n",
       "  <line x1=\"47\" y1=\"37\" x2=\"86\" y2=\"37\" />\n",
       "  <line x1=\"51\" y1=\"41\" x2=\"89\" y2=\"41\" />\n",
       "  <line x1=\"55\" y1=\"45\" x2=\"93\" y2=\"45\" />\n",
       "  <line x1=\"58\" y1=\"48\" x2=\"97\" y2=\"48\" />\n",
       "  <line x1=\"62\" y1=\"52\" x2=\"100\" y2=\"52\" />\n",
       "  <line x1=\"65\" y1=\"55\" x2=\"104\" y2=\"55\" />\n",
       "  <line x1=\"69\" y1=\"59\" x2=\"107\" y2=\"59\" />\n",
       "  <line x1=\"73\" y1=\"63\" x2=\"111\" y2=\"63\" />\n",
       "  <line x1=\"76\" y1=\"66\" x2=\"115\" y2=\"66\" />\n",
       "  <line x1=\"80\" y1=\"70\" x2=\"119\" y2=\"70\" style=\"stroke-width:2\" />\n",
       "\n",
       "  <!-- Vertical lines -->\n",
       "  <line x1=\"10\" y1=\"0\" x2=\"80\" y2=\"70\" style=\"stroke-width:2\" />\n",
       "  <line x1=\"19\" y1=\"0\" x2=\"90\" y2=\"70\" />\n",
       "  <line x1=\"29\" y1=\"0\" x2=\"100\" y2=\"70\" />\n",
       "  <line x1=\"39\" y1=\"0\" x2=\"110\" y2=\"70\" />\n",
       "  <line x1=\"48\" y1=\"0\" x2=\"119\" y2=\"70\" style=\"stroke-width:2\" />\n",
       "\n",
       "  <!-- Colored Rectangle -->\n",
       "  <polygon points=\"10.0,0.0 48.596863036086,0.0 119.18509833020366,70.58823529411765 80.58823529411765,70.58823529411765\" style=\"fill:#8B4903A0;stroke-width:0\"/>\n",
       "\n",
       "  <!-- Horizontal lines -->\n",
       "  <line x1=\"80\" y1=\"70\" x2=\"119\" y2=\"70\" style=\"stroke-width:2\" />\n",
       "  <line x1=\"80\" y1=\"80\" x2=\"119\" y2=\"80\" />\n",
       "  <line x1=\"80\" y1=\"90\" x2=\"119\" y2=\"90\" />\n",
       "  <line x1=\"80\" y1=\"100\" x2=\"119\" y2=\"100\" />\n",
       "  <line x1=\"80\" y1=\"109\" x2=\"119\" y2=\"109\" style=\"stroke-width:2\" />\n",
       "\n",
       "  <!-- Vertical lines -->\n",
       "  <line x1=\"80\" y1=\"70\" x2=\"80\" y2=\"109\" style=\"stroke-width:2\" />\n",
       "  <line x1=\"90\" y1=\"70\" x2=\"90\" y2=\"109\" />\n",
       "  <line x1=\"100\" y1=\"70\" x2=\"100\" y2=\"109\" />\n",
       "  <line x1=\"110\" y1=\"70\" x2=\"110\" y2=\"109\" />\n",
       "  <line x1=\"119\" y1=\"70\" x2=\"119\" y2=\"109\" style=\"stroke-width:2\" />\n",
       "\n",
       "  <!-- Colored Rectangle -->\n",
       "  <polygon points=\"80.58823529411765,70.58823529411765 119.18509833020366,70.58823529411765 119.18509833020366,109.18509833020366 80.58823529411765,109.18509833020366\" style=\"fill:#ECB172A0;stroke-width:0\"/>\n",
       "\n",
       "  <!-- Text -->\n",
       "  <text x=\"99.886667\" y=\"129.185098\" font-size=\"1.0rem\" font-weight=\"100\" text-anchor=\"middle\" >1000</text>\n",
       "  <text x=\"139.185098\" y=\"89.886667\" font-size=\"1.0rem\" font-weight=\"100\" text-anchor=\"middle\" transform=\"rotate(-90,139.185098,89.886667)\">1000</text>\n",
       "  <text x=\"35.294118\" y=\"93.890981\" font-size=\"1.0rem\" font-weight=\"100\" text-anchor=\"middle\" transform=\"rotate(45,35.294118,93.890981)\">10000</text>\n",
       "</svg>\n",
       "        </td>\n",
       "    </tr>\n",
       "</table>"
      ],
      "text/plain": [
       "dask.array<ones_like, shape=(10000, 1000, 1000), dtype=float64, chunksize=(255, 255, 255), chunktype=numpy.ndarray>"
      ]
     },
     "execution_count": 1,
     "metadata": {},
     "output_type": "execute_result"
    }
   ],
   "source": [
    "import dask.array as da\n",
    "\n",
    "images = da.ones((10000, 1000, 1000))\n",
    "images"
   ]
  },
  {
   "cell_type": "code",
   "execution_count": 1,
   "metadata": {},
   "outputs": [],
   "source": [
    "import dask.dataframe as dd\n",
    "from dask.distributed import Client"
   ]
  },
  {
   "cell_type": "code",
   "execution_count": 2,
   "metadata": {},
   "outputs": [
    {
     "data": {
      "text/html": [
       "<div>\n",
       "    <div style=\"width: 24px; height: 24px; background-color: #e1e1e1; border: 3px solid #9D9D9D; border-radius: 5px; position: absolute;\"> </div>\n",
       "    <div style=\"margin-left: 48px;\">\n",
       "        <h3 style=\"margin-bottom: 0px;\">Client</h3>\n",
       "        <p style=\"color: #9D9D9D; margin-bottom: 0px;\">Client-google_data-9a9ec03e-5cdf-11ee-a138-dc215c0e44bb</p>\n",
       "        <table style=\"width: 100%; text-align: left;\">\n",
       "\n",
       "        <tr>\n",
       "        \n",
       "            <td style=\"text-align: left;\"><strong>Connection method:</strong> Cluster object</td>\n",
       "            <td style=\"text-align: left;\"><strong>Cluster type:</strong> distributed.LocalCluster</td>\n",
       "        \n",
       "        </tr>\n",
       "\n",
       "        \n",
       "            <tr>\n",
       "                <td style=\"text-align: left;\">\n",
       "                    <strong>Dashboard: </strong> <a href=\"http://127.0.0.1:8787/status\" target=\"_blank\">http://127.0.0.1:8787/status</a>\n",
       "                </td>\n",
       "                <td style=\"text-align: left;\"></td>\n",
       "            </tr>\n",
       "        \n",
       "\n",
       "        </table>\n",
       "\n",
       "        \n",
       "\n",
       "        \n",
       "            <details>\n",
       "            <summary style=\"margin-bottom: 20px;\"><h3 style=\"display: inline;\">Cluster Info</h3></summary>\n",
       "            <div class=\"jp-RenderedHTMLCommon jp-RenderedHTML jp-mod-trusted jp-OutputArea-output\">\n",
       "    <div style=\"width: 24px; height: 24px; background-color: #e1e1e1; border: 3px solid #9D9D9D; border-radius: 5px; position: absolute;\">\n",
       "    </div>\n",
       "    <div style=\"margin-left: 48px;\">\n",
       "        <h3 style=\"margin-bottom: 0px; margin-top: 0px;\">LocalCluster</h3>\n",
       "        <p style=\"color: #9D9D9D; margin-bottom: 0px;\">80133250</p>\n",
       "        <table style=\"width: 100%; text-align: left;\">\n",
       "            <tr>\n",
       "                <td style=\"text-align: left;\">\n",
       "                    <strong>Dashboard:</strong> <a href=\"http://127.0.0.1:8787/status\" target=\"_blank\">http://127.0.0.1:8787/status</a>\n",
       "                </td>\n",
       "                <td style=\"text-align: left;\">\n",
       "                    <strong>Workers:</strong> 4\n",
       "                </td>\n",
       "            </tr>\n",
       "            <tr>\n",
       "                <td style=\"text-align: left;\">\n",
       "                    <strong>Total threads:</strong> 8\n",
       "                </td>\n",
       "                <td style=\"text-align: left;\">\n",
       "                    <strong>Total memory:</strong> 31.87 GiB\n",
       "                </td>\n",
       "            </tr>\n",
       "            \n",
       "            <tr>\n",
       "    <td style=\"text-align: left;\"><strong>Status:</strong> running</td>\n",
       "    <td style=\"text-align: left;\"><strong>Using processes:</strong> True</td>\n",
       "</tr>\n",
       "\n",
       "            \n",
       "        </table>\n",
       "\n",
       "        <details>\n",
       "            <summary style=\"margin-bottom: 20px;\">\n",
       "                <h3 style=\"display: inline;\">Scheduler Info</h3>\n",
       "            </summary>\n",
       "\n",
       "            <div style=\"\">\n",
       "    <div>\n",
       "        <div style=\"width: 24px; height: 24px; background-color: #FFF7E5; border: 3px solid #FF6132; border-radius: 5px; position: absolute;\"> </div>\n",
       "        <div style=\"margin-left: 48px;\">\n",
       "            <h3 style=\"margin-bottom: 0px;\">Scheduler</h3>\n",
       "            <p style=\"color: #9D9D9D; margin-bottom: 0px;\">Scheduler-366735d7-f4a4-48ee-acfe-0b2fa7910057</p>\n",
       "            <table style=\"width: 100%; text-align: left;\">\n",
       "                <tr>\n",
       "                    <td style=\"text-align: left;\">\n",
       "                        <strong>Comm:</strong> tcp://127.0.0.1:52359\n",
       "                    </td>\n",
       "                    <td style=\"text-align: left;\">\n",
       "                        <strong>Workers:</strong> 4\n",
       "                    </td>\n",
       "                </tr>\n",
       "                <tr>\n",
       "                    <td style=\"text-align: left;\">\n",
       "                        <strong>Dashboard:</strong> <a href=\"http://127.0.0.1:8787/status\" target=\"_blank\">http://127.0.0.1:8787/status</a>\n",
       "                    </td>\n",
       "                    <td style=\"text-align: left;\">\n",
       "                        <strong>Total threads:</strong> 8\n",
       "                    </td>\n",
       "                </tr>\n",
       "                <tr>\n",
       "                    <td style=\"text-align: left;\">\n",
       "                        <strong>Started:</strong> Just now\n",
       "                    </td>\n",
       "                    <td style=\"text-align: left;\">\n",
       "                        <strong>Total memory:</strong> 31.87 GiB\n",
       "                    </td>\n",
       "                </tr>\n",
       "            </table>\n",
       "        </div>\n",
       "    </div>\n",
       "\n",
       "    <details style=\"margin-left: 48px;\">\n",
       "        <summary style=\"margin-bottom: 20px;\">\n",
       "            <h3 style=\"display: inline;\">Workers</h3>\n",
       "        </summary>\n",
       "\n",
       "        \n",
       "        <div style=\"margin-bottom: 20px;\">\n",
       "            <div style=\"width: 24px; height: 24px; background-color: #DBF5FF; border: 3px solid #4CC9FF; border-radius: 5px; position: absolute;\"> </div>\n",
       "            <div style=\"margin-left: 48px;\">\n",
       "            <details>\n",
       "                <summary>\n",
       "                    <h4 style=\"margin-bottom: 0px; display: inline;\">Worker: 0</h4>\n",
       "                </summary>\n",
       "                <table style=\"width: 100%; text-align: left;\">\n",
       "                    <tr>\n",
       "                        <td style=\"text-align: left;\">\n",
       "                            <strong>Comm: </strong> tcp://127.0.0.1:52378\n",
       "                        </td>\n",
       "                        <td style=\"text-align: left;\">\n",
       "                            <strong>Total threads: </strong> 2\n",
       "                        </td>\n",
       "                    </tr>\n",
       "                    <tr>\n",
       "                        <td style=\"text-align: left;\">\n",
       "                            <strong>Dashboard: </strong> <a href=\"http://127.0.0.1:52379/status\" target=\"_blank\">http://127.0.0.1:52379/status</a>\n",
       "                        </td>\n",
       "                        <td style=\"text-align: left;\">\n",
       "                            <strong>Memory: </strong> 7.97 GiB\n",
       "                        </td>\n",
       "                    </tr>\n",
       "                    <tr>\n",
       "                        <td style=\"text-align: left;\">\n",
       "                            <strong>Nanny: </strong> tcp://127.0.0.1:52362\n",
       "                        </td>\n",
       "                        <td style=\"text-align: left;\"></td>\n",
       "                    </tr>\n",
       "                    <tr>\n",
       "                        <td colspan=\"2\" style=\"text-align: left;\">\n",
       "                            <strong>Local directory: </strong> C:\\Users\\jdieg\\AppData\\Local\\Temp\\dask-scratch-space\\worker-whbrx910\n",
       "                        </td>\n",
       "                    </tr>\n",
       "\n",
       "                    \n",
       "\n",
       "                    \n",
       "\n",
       "                </table>\n",
       "            </details>\n",
       "            </div>\n",
       "        </div>\n",
       "        \n",
       "        <div style=\"margin-bottom: 20px;\">\n",
       "            <div style=\"width: 24px; height: 24px; background-color: #DBF5FF; border: 3px solid #4CC9FF; border-radius: 5px; position: absolute;\"> </div>\n",
       "            <div style=\"margin-left: 48px;\">\n",
       "            <details>\n",
       "                <summary>\n",
       "                    <h4 style=\"margin-bottom: 0px; display: inline;\">Worker: 1</h4>\n",
       "                </summary>\n",
       "                <table style=\"width: 100%; text-align: left;\">\n",
       "                    <tr>\n",
       "                        <td style=\"text-align: left;\">\n",
       "                            <strong>Comm: </strong> tcp://127.0.0.1:52381\n",
       "                        </td>\n",
       "                        <td style=\"text-align: left;\">\n",
       "                            <strong>Total threads: </strong> 2\n",
       "                        </td>\n",
       "                    </tr>\n",
       "                    <tr>\n",
       "                        <td style=\"text-align: left;\">\n",
       "                            <strong>Dashboard: </strong> <a href=\"http://127.0.0.1:52382/status\" target=\"_blank\">http://127.0.0.1:52382/status</a>\n",
       "                        </td>\n",
       "                        <td style=\"text-align: left;\">\n",
       "                            <strong>Memory: </strong> 7.97 GiB\n",
       "                        </td>\n",
       "                    </tr>\n",
       "                    <tr>\n",
       "                        <td style=\"text-align: left;\">\n",
       "                            <strong>Nanny: </strong> tcp://127.0.0.1:52363\n",
       "                        </td>\n",
       "                        <td style=\"text-align: left;\"></td>\n",
       "                    </tr>\n",
       "                    <tr>\n",
       "                        <td colspan=\"2\" style=\"text-align: left;\">\n",
       "                            <strong>Local directory: </strong> C:\\Users\\jdieg\\AppData\\Local\\Temp\\dask-scratch-space\\worker-0y4z_vvn\n",
       "                        </td>\n",
       "                    </tr>\n",
       "\n",
       "                    \n",
       "\n",
       "                    \n",
       "\n",
       "                </table>\n",
       "            </details>\n",
       "            </div>\n",
       "        </div>\n",
       "        \n",
       "        <div style=\"margin-bottom: 20px;\">\n",
       "            <div style=\"width: 24px; height: 24px; background-color: #DBF5FF; border: 3px solid #4CC9FF; border-radius: 5px; position: absolute;\"> </div>\n",
       "            <div style=\"margin-left: 48px;\">\n",
       "            <details>\n",
       "                <summary>\n",
       "                    <h4 style=\"margin-bottom: 0px; display: inline;\">Worker: 2</h4>\n",
       "                </summary>\n",
       "                <table style=\"width: 100%; text-align: left;\">\n",
       "                    <tr>\n",
       "                        <td style=\"text-align: left;\">\n",
       "                            <strong>Comm: </strong> tcp://127.0.0.1:52387\n",
       "                        </td>\n",
       "                        <td style=\"text-align: left;\">\n",
       "                            <strong>Total threads: </strong> 2\n",
       "                        </td>\n",
       "                    </tr>\n",
       "                    <tr>\n",
       "                        <td style=\"text-align: left;\">\n",
       "                            <strong>Dashboard: </strong> <a href=\"http://127.0.0.1:52389/status\" target=\"_blank\">http://127.0.0.1:52389/status</a>\n",
       "                        </td>\n",
       "                        <td style=\"text-align: left;\">\n",
       "                            <strong>Memory: </strong> 7.97 GiB\n",
       "                        </td>\n",
       "                    </tr>\n",
       "                    <tr>\n",
       "                        <td style=\"text-align: left;\">\n",
       "                            <strong>Nanny: </strong> tcp://127.0.0.1:52364\n",
       "                        </td>\n",
       "                        <td style=\"text-align: left;\"></td>\n",
       "                    </tr>\n",
       "                    <tr>\n",
       "                        <td colspan=\"2\" style=\"text-align: left;\">\n",
       "                            <strong>Local directory: </strong> C:\\Users\\jdieg\\AppData\\Local\\Temp\\dask-scratch-space\\worker-9748a2_q\n",
       "                        </td>\n",
       "                    </tr>\n",
       "\n",
       "                    \n",
       "\n",
       "                    \n",
       "\n",
       "                </table>\n",
       "            </details>\n",
       "            </div>\n",
       "        </div>\n",
       "        \n",
       "        <div style=\"margin-bottom: 20px;\">\n",
       "            <div style=\"width: 24px; height: 24px; background-color: #DBF5FF; border: 3px solid #4CC9FF; border-radius: 5px; position: absolute;\"> </div>\n",
       "            <div style=\"margin-left: 48px;\">\n",
       "            <details>\n",
       "                <summary>\n",
       "                    <h4 style=\"margin-bottom: 0px; display: inline;\">Worker: 3</h4>\n",
       "                </summary>\n",
       "                <table style=\"width: 100%; text-align: left;\">\n",
       "                    <tr>\n",
       "                        <td style=\"text-align: left;\">\n",
       "                            <strong>Comm: </strong> tcp://127.0.0.1:52384\n",
       "                        </td>\n",
       "                        <td style=\"text-align: left;\">\n",
       "                            <strong>Total threads: </strong> 2\n",
       "                        </td>\n",
       "                    </tr>\n",
       "                    <tr>\n",
       "                        <td style=\"text-align: left;\">\n",
       "                            <strong>Dashboard: </strong> <a href=\"http://127.0.0.1:52385/status\" target=\"_blank\">http://127.0.0.1:52385/status</a>\n",
       "                        </td>\n",
       "                        <td style=\"text-align: left;\">\n",
       "                            <strong>Memory: </strong> 7.97 GiB\n",
       "                        </td>\n",
       "                    </tr>\n",
       "                    <tr>\n",
       "                        <td style=\"text-align: left;\">\n",
       "                            <strong>Nanny: </strong> tcp://127.0.0.1:52365\n",
       "                        </td>\n",
       "                        <td style=\"text-align: left;\"></td>\n",
       "                    </tr>\n",
       "                    <tr>\n",
       "                        <td colspan=\"2\" style=\"text-align: left;\">\n",
       "                            <strong>Local directory: </strong> C:\\Users\\jdieg\\AppData\\Local\\Temp\\dask-scratch-space\\worker-_m9roqfa\n",
       "                        </td>\n",
       "                    </tr>\n",
       "\n",
       "                    \n",
       "\n",
       "                    \n",
       "\n",
       "                </table>\n",
       "            </details>\n",
       "            </div>\n",
       "        </div>\n",
       "        \n",
       "\n",
       "    </details>\n",
       "</div>\n",
       "\n",
       "        </details>\n",
       "    </div>\n",
       "</div>\n",
       "            </details>\n",
       "        \n",
       "\n",
       "    </div>\n",
       "</div>"
      ],
      "text/plain": [
       "<Client: 'tcp://127.0.0.1:52359' processes=4 threads=8, memory=31.87 GiB>"
      ]
     },
     "execution_count": 2,
     "metadata": {},
     "output_type": "execute_result"
    }
   ],
   "source": [
    "client = Client(name=\"google_data\")\n",
    "client"
   ]
  },
  {
   "cell_type": "code",
   "execution_count": 3,
   "metadata": {},
   "outputs": [],
   "source": [
    "directorio_google_reviews = \"C:\\\\Users\\\\jdieg\\\\Desktop\\\\henry\\\\proyectos\\\\Google-Yelp\\\\.data\\\\google_maps\\\\Python_Datasets_gmpas_reviews.parquet\"\n",
    "\n",
    "google_reviews_ddf = dd.read_parquet(directorio_google_reviews)"
   ]
  },
  {
   "cell_type": "code",
   "execution_count": 4,
   "metadata": {},
   "outputs": [
    {
     "data": {
      "text/plain": [
       "(Delayed('int-a5d4a44b-4ddf-4a50-9fc7-2694748d2f21'), 8)"
      ]
     },
     "execution_count": 4,
     "metadata": {},
     "output_type": "execute_result"
    }
   ],
   "source": [
    "google_reviews_ddf.shape"
   ]
  },
  {
   "cell_type": "code",
   "execution_count": 5,
   "metadata": {},
   "outputs": [],
   "source": [
    "google_reviews_ddf = google_reviews_ddf.repartition(npartitions=10)"
   ]
  },
  {
   "cell_type": "code",
   "execution_count": 5,
   "metadata": {},
   "outputs": [
    {
     "data": {
      "text/html": [
       "<div><strong>Dask DataFrame Structure:</strong></div>\n",
       "<div>\n",
       "<style scoped>\n",
       "    .dataframe tbody tr th:only-of-type {\n",
       "        vertical-align: middle;\n",
       "    }\n",
       "\n",
       "    .dataframe tbody tr th {\n",
       "        vertical-align: top;\n",
       "    }\n",
       "\n",
       "    .dataframe thead th {\n",
       "        text-align: right;\n",
       "    }\n",
       "</style>\n",
       "<table border=\"1\" class=\"dataframe\">\n",
       "  <thead>\n",
       "    <tr style=\"text-align: right;\">\n",
       "      <th></th>\n",
       "      <th>user_id</th>\n",
       "      <th>name</th>\n",
       "      <th>time</th>\n",
       "      <th>rating</th>\n",
       "      <th>text</th>\n",
       "      <th>pics</th>\n",
       "      <th>resp</th>\n",
       "      <th>gmap_id</th>\n",
       "    </tr>\n",
       "    <tr>\n",
       "      <th>npartitions=2</th>\n",
       "      <th></th>\n",
       "      <th></th>\n",
       "      <th></th>\n",
       "      <th></th>\n",
       "      <th></th>\n",
       "      <th></th>\n",
       "      <th></th>\n",
       "      <th></th>\n",
       "    </tr>\n",
       "  </thead>\n",
       "  <tbody>\n",
       "    <tr>\n",
       "      <th></th>\n",
       "      <td>float64</td>\n",
       "      <td>string</td>\n",
       "      <td>int64</td>\n",
       "      <td>int64</td>\n",
       "      <td>string</td>\n",
       "      <td>string</td>\n",
       "      <td>string</td>\n",
       "      <td>string</td>\n",
       "    </tr>\n",
       "    <tr>\n",
       "      <th></th>\n",
       "      <td>...</td>\n",
       "      <td>...</td>\n",
       "      <td>...</td>\n",
       "      <td>...</td>\n",
       "      <td>...</td>\n",
       "      <td>...</td>\n",
       "      <td>...</td>\n",
       "      <td>...</td>\n",
       "    </tr>\n",
       "    <tr>\n",
       "      <th></th>\n",
       "      <td>...</td>\n",
       "      <td>...</td>\n",
       "      <td>...</td>\n",
       "      <td>...</td>\n",
       "      <td>...</td>\n",
       "      <td>...</td>\n",
       "      <td>...</td>\n",
       "      <td>...</td>\n",
       "    </tr>\n",
       "  </tbody>\n",
       "</table>\n",
       "</div>\n",
       "<div>Dask Name: to_pyarrow_string, 2 graph layers</div>"
      ],
      "text/plain": [
       "Dask DataFrame Structure:\n",
       "               user_id    name   time rating    text    pics    resp gmap_id\n",
       "npartitions=2                                                               \n",
       "               float64  string  int64  int64  string  string  string  string\n",
       "                   ...     ...    ...    ...     ...     ...     ...     ...\n",
       "                   ...     ...    ...    ...     ...     ...     ...     ...\n",
       "Dask Name: to_pyarrow_string, 2 graph layers"
      ]
     },
     "execution_count": 5,
     "metadata": {},
     "output_type": "execute_result"
    }
   ],
   "source": [
    "google_reviews_ddf"
   ]
  },
  {
   "cell_type": "code",
   "execution_count": 6,
   "metadata": {},
   "outputs": [
    {
     "data": {
      "text/plain": [
       "Dask Series Structure:\n",
       "npartitions=1\n",
       "    int64\n",
       "      ...\n",
       "Name: time, dtype: int64\n",
       "Dask Name: getitem, 4 graph layers"
      ]
     },
     "execution_count": 6,
     "metadata": {},
     "output_type": "execute_result"
    }
   ],
   "source": [
    "google_reviews_ddf.partitions[1].time"
   ]
  },
  {
   "cell_type": "code",
   "execution_count": 7,
   "metadata": {},
   "outputs": [
    {
     "data": {
      "text/plain": [
       "Dask Series Structure:\n",
       "npartitions=2\n",
       "    int64\n",
       "      ...\n",
       "      ...\n",
       "Name: time, dtype: int64\n",
       "Dask Name: getitem, 3 graph layers"
      ]
     },
     "execution_count": 7,
     "metadata": {},
     "output_type": "execute_result"
    }
   ],
   "source": [
    "google_reviews_ddf.time"
   ]
  },
  {
   "cell_type": "code",
   "execution_count": 8,
   "metadata": {},
   "outputs": [],
   "source": [
    "google_reviews_ddf.time = dd.to_datetime(google_reviews_ddf.time, unit=\"ms\")"
   ]
  },
  {
   "cell_type": "code",
   "execution_count": 9,
   "metadata": {},
   "outputs": [
    {
     "data": {
      "text/plain": [
       "Dask Series Structure:\n",
       "npartitions=2\n",
       "    datetime64[ns]\n",
       "               ...\n",
       "               ...\n",
       "Name: time, dtype: datetime64[ns]\n",
       "Dask Name: getitem, 6 graph layers"
      ]
     },
     "execution_count": 9,
     "metadata": {},
     "output_type": "execute_result"
    }
   ],
   "source": [
    "google_reviews_ddf.time"
   ]
  },
  {
   "cell_type": "code",
   "execution_count": 10,
   "metadata": {},
   "outputs": [],
   "source": [
    "earlier_date = google_reviews_ddf.time.max()"
   ]
  },
  {
   "cell_type": "code",
   "execution_count": 11,
   "metadata": {},
   "outputs": [
    {
     "name": "stderr",
     "output_type": "stream",
     "text": [
      "2023-09-26 20:44:01,982 - distributed.nanny.memory - WARNING - Worker tcp://127.0.0.1:52378 (pid=16612) exceeded 95% memory budget. Restarting...\n",
      "2023-09-26 20:44:04,028 - distributed.nanny - WARNING - Restarting worker\n",
      "2023-09-26 20:44:16,940 - distributed.nanny.memory - WARNING - Worker tcp://127.0.0.1:52381 (pid=13568) exceeded 95% memory budget. Restarting...\n",
      "2023-09-26 20:44:18,509 - distributed.nanny - WARNING - Restarting worker\n",
      "2023-09-26 20:44:24,229 - distributed.nanny.memory - WARNING - Worker tcp://127.0.0.1:52387 (pid=7676) exceeded 95% memory budget. Restarting...\n",
      "2023-09-26 20:44:26,111 - distributed.nanny - WARNING - Restarting worker\n",
      "2023-09-26 20:44:44,666 - distributed.nanny.memory - WARNING - Worker tcp://127.0.0.1:52435 (pid=1784) exceeded 95% memory budget. Restarting...\n",
      "2023-09-26 20:44:46,529 - distributed.nanny - WARNING - Restarting worker\n",
      "2023-09-26 20:44:49,644 - distributed.nanny.memory - WARNING - Worker tcp://127.0.0.1:52384 (pid=14672) exceeded 95% memory budget. Restarting...\n",
      "2023-09-26 20:44:51,433 - distributed.nanny - WARNING - Restarting worker\n",
      "2023-09-26 20:45:08,128 - distributed.nanny.memory - WARNING - Worker tcp://127.0.0.1:52450 (pid=2820) exceeded 95% memory budget. Restarting...\n",
      "2023-09-26 20:45:10,223 - distributed.nanny - WARNING - Restarting worker\n"
     ]
    },
    {
     "ename": "KilledWorker",
     "evalue": "Attempted to run task ('series-max-chunk-d8c376c2cc88f84c72a8bf452eddf428-9608d496cb3095999b456762ef3f2f5d', 0) on 3 different workers, but all those workers died while running it. The last worker that attempt to run the task was tcp://127.0.0.1:52450. Inspecting worker logs is often a good next step to diagnose what went wrong. For more information see https://distributed.dask.org/en/stable/killed.html.",
     "output_type": "error",
     "traceback": [
      "\u001b[1;31m---------------------------------------------------------------------------\u001b[0m",
      "\u001b[1;31mKilledWorker\u001b[0m                              Traceback (most recent call last)",
      "\u001b[1;32mc:\\Users\\jdieg\\Desktop\\henry\\proyectos\\Google-Yelp\\Sprint-1\\Yelp\\etl_eda.ipynb Cell 55\u001b[0m line \u001b[0;36m1\n",
      "File \u001b[1;32mc:\\Users\\jdieg\\Desktop\\henry\\proyectos\\Google-Yelp\\.proyecto_final_env\\lib\\site-packages\\dask\\base.py:342\u001b[0m, in \u001b[0;36mDaskMethodsMixin.compute\u001b[1;34m(self, **kwargs)\u001b[0m\n\u001b[0;32m    318\u001b[0m \u001b[39mdef\u001b[39;00m \u001b[39mcompute\u001b[39m(\u001b[39mself\u001b[39m, \u001b[39m*\u001b[39m\u001b[39m*\u001b[39mkwargs):\n\u001b[0;32m    319\u001b[0m \u001b[39m    \u001b[39m\u001b[39m\"\"\"Compute this dask collection\u001b[39;00m\n\u001b[0;32m    320\u001b[0m \n\u001b[0;32m    321\u001b[0m \u001b[39m    This turns a lazy Dask collection into its in-memory equivalent.\u001b[39;00m\n\u001b[1;32m   (...)\u001b[0m\n\u001b[0;32m    340\u001b[0m \u001b[39m    dask.compute\u001b[39;00m\n\u001b[0;32m    341\u001b[0m \u001b[39m    \"\"\"\u001b[39;00m\n\u001b[1;32m--> 342\u001b[0m     (result,) \u001b[39m=\u001b[39m compute(\u001b[39mself\u001b[39m, traverse\u001b[39m=\u001b[39m\u001b[39mFalse\u001b[39;00m, \u001b[39m*\u001b[39m\u001b[39m*\u001b[39mkwargs)\n\u001b[0;32m    343\u001b[0m     \u001b[39mreturn\u001b[39;00m result\n",
      "File \u001b[1;32mc:\\Users\\jdieg\\Desktop\\henry\\proyectos\\Google-Yelp\\.proyecto_final_env\\lib\\site-packages\\dask\\base.py:628\u001b[0m, in \u001b[0;36mcompute\u001b[1;34m(traverse, optimize_graph, scheduler, get, *args, **kwargs)\u001b[0m\n\u001b[0;32m    625\u001b[0m     postcomputes\u001b[39m.\u001b[39mappend(x\u001b[39m.\u001b[39m__dask_postcompute__())\n\u001b[0;32m    627\u001b[0m \u001b[39mwith\u001b[39;00m shorten_traceback():\n\u001b[1;32m--> 628\u001b[0m     results \u001b[39m=\u001b[39m schedule(dsk, keys, \u001b[39m*\u001b[39m\u001b[39m*\u001b[39mkwargs)\n\u001b[0;32m    630\u001b[0m \u001b[39mreturn\u001b[39;00m repack([f(r, \u001b[39m*\u001b[39ma) \u001b[39mfor\u001b[39;00m r, (f, a) \u001b[39min\u001b[39;00m \u001b[39mzip\u001b[39m(results, postcomputes)])\n",
      "File \u001b[1;32mc:\\Users\\jdieg\\Desktop\\henry\\proyectos\\Google-Yelp\\.proyecto_final_env\\lib\\site-packages\\distributed\\client.py:2253\u001b[0m, in \u001b[0;36mClient._gather\u001b[1;34m(self, futures, errors, direct, local_worker)\u001b[0m\n\u001b[0;32m   2251\u001b[0m         exc \u001b[39m=\u001b[39m CancelledError(key)\n\u001b[0;32m   2252\u001b[0m     \u001b[39melse\u001b[39;00m:\n\u001b[1;32m-> 2253\u001b[0m         \u001b[39mraise\u001b[39;00m exception\u001b[39m.\u001b[39mwith_traceback(traceback)\n\u001b[0;32m   2254\u001b[0m     \u001b[39mraise\u001b[39;00m exc\n\u001b[0;32m   2255\u001b[0m \u001b[39mif\u001b[39;00m errors \u001b[39m==\u001b[39m \u001b[39m\"\u001b[39m\u001b[39mskip\u001b[39m\u001b[39m\"\u001b[39m:\n",
      "\u001b[1;31mKilledWorker\u001b[0m: Attempted to run task ('series-max-chunk-d8c376c2cc88f84c72a8bf452eddf428-9608d496cb3095999b456762ef3f2f5d', 0) on 3 different workers, but all those workers died while running it. The last worker that attempt to run the task was tcp://127.0.0.1:52450. Inspecting worker logs is often a good next step to diagnose what went wrong. For more information see https://distributed.dask.org/en/stable/killed.html."
     ]
    },
    {
     "name": "stderr",
     "output_type": "stream",
     "text": [
      "2023-09-26 20:45:19,526 - distributed.nanny.memory - WARNING - Worker tcp://127.0.0.1:52443 (pid=3116) exceeded 95% memory budget. Restarting...\n",
      "2023-09-26 20:45:20,268 - distributed.nanny - WARNING - Restarting worker\n"
     ]
    }
   ],
   "source": [
    "earlier_date.compute()"
   ]
  },
  {
   "cell_type": "code",
   "execution_count": null,
   "metadata": {},
   "outputs": [],
   "source": []
  },
  {
   "cell_type": "markdown",
   "metadata": {},
   "source": [
    "### Polars"
   ]
  },
  {
   "cell_type": "code",
   "execution_count": 14,
   "metadata": {},
   "outputs": [
    {
     "name": "stdout",
     "output_type": "stream",
     "text": [
      "shape: (1, 1)\n",
      "┌─────────┐\n",
      "│ date    │\n",
      "│ ---     │\n",
      "│ u32     │\n",
      "╞═════════╡\n",
      "│ 6990280 │\n",
      "└─────────┘\n"
     ]
    }
   ],
   "source": [
    "review_lf = pl.scan_ndjson(\"data/yelp/review-001.json\")\n",
    "ctx = pl.SQLContext(register_globals=True, eager_execution=True)\n",
    "df_small = ctx.execute(\"SELECT COUNT(date) FROM review_lf\")\n",
    "print(df_small)"
   ]
  },
  {
   "cell_type": "code",
   "execution_count": 15,
   "metadata": {},
   "outputs": [
    {
     "name": "stdout",
     "output_type": "stream",
     "text": [
      "shape: (906_362, 9)\n",
      "┌──────────────┬──────────────┬─────────────┬───────┬───┬───────┬──────┬─────────────┬─────────────┐\n",
      "│ review_id    ┆ user_id      ┆ business_id ┆ stars ┆ … ┆ funny ┆ cool ┆ text        ┆ date        │\n",
      "│ ---          ┆ ---          ┆ ---         ┆ ---   ┆   ┆ ---   ┆ ---  ┆ ---         ┆ ---         │\n",
      "│ str          ┆ str          ┆ str         ┆ f64   ┆   ┆ i64   ┆ i64  ┆ str         ┆ str         │\n",
      "╞══════════════╪══════════════╪═════════════╪═══════╪═══╪═══════╪══════╪═════════════╪═════════════╡\n",
      "│ KU_O5udG6zpx ┆ mh_-eMZ6K5RL ┆ XQfwVwDr-v0 ┆ 3.0   ┆ … ┆ 0     ┆ 0    ┆ If you      ┆ 2018-07-07  │\n",
      "│ Og-VcAEodg   ┆ WhZyISBhwA   ┆ ZS3_CbbE5Xw ┆       ┆   ┆       ┆      ┆ decide to   ┆ 22:09:11    │\n",
      "│              ┆              ┆             ┆       ┆   ┆       ┆      ┆ eat here,   ┆             │\n",
      "│              ┆              ┆             ┆       ┆   ┆       ┆      ┆ just …      ┆             │\n",
      "│ lUUhg8ltDsUZ ┆ RreNy--tOmXM ┆ cPepkJeRMtH ┆ 4.0   ┆ … ┆ 0     ┆ 1    ┆ I was       ┆ 2018-07-17  │\n",
      "│ 9h0xnwY4Dg   ┆ l1en0wiBOg   ┆ apc_b2Oe_dw ┆       ┆   ┆       ┆      ┆ really      ┆ 03:30:07    │\n",
      "│              ┆              ┆             ┆       ┆   ┆       ┆      ┆ between 3   ┆             │\n",
      "│              ┆              ┆             ┆       ┆   ┆       ┆      ┆ and 4 sta…  ┆             │\n",
      "│ JBWZmBy69VMg ┆ aFa96pz67TwO ┆ kq5Ghhh14r- ┆ 5.0   ┆ … ┆ 0     ┆ 0    ┆ My          ┆ 2018-08-23  │\n",
      "│ gxj3eYn17Q   ┆ Fu4Weq5Agg   ┆ eCxlVmlyd8w ┆       ┆   ┆       ┆      ┆ boyfriend   ┆ 21:39:38    │\n",
      "│              ┆              ┆             ┆       ┆   ┆       ┆      ┆ and I tried ┆             │\n",
      "│              ┆              ┆             ┆       ┆   ┆       ┆      ┆ this de…    ┆             │\n",
      "│ E9AB7V4z8xrt ┆ iYY5Ii1LGpZC ┆ Zx7n8mdt8Oz ┆ 5.0   ┆ … ┆ 0     ┆ 0    ┆ Amazing     ┆ 2018-04-27  │\n",
      "│ 2uPF7T55FQ   ┆ pXFkHlMefw   ┆ LRXVzolXNhQ ┆       ┆   ┆       ┆      ┆ biscuits    ┆ 23:03:21    │\n",
      "│              ┆              ┆             ┆       ┆   ┆       ┆      ┆ and (fill   ┆             │\n",
      "│              ┆              ┆             ┆       ┆   ┆       ┆      ┆ in th…      ┆             │\n",
      "│ …            ┆ …            ┆ …           ┆ …     ┆ … ┆ …     ┆ …    ┆ …           ┆ …           │\n",
      "│ e2owJAzHYo89 ┆ QYZM8lgZn2HL ┆ nrXtCSdfWg0 ┆ 4.0   ┆ … ┆ 0     ┆ 0    ┆ Took a      ┆ 2018-02-13  │\n",
      "│ x88eReSqGg   ┆ _OWYAn7E1A   ┆ TJ86onEZWkg ┆       ┆   ┆       ┆      ┆ colleague   ┆ 19:50:01    │\n",
      "│              ┆              ┆             ┆       ┆   ┆       ┆      ┆ here for    ┆             │\n",
      "│              ┆              ┆             ┆       ┆   ┆       ┆      ┆ dinner…     ┆             │\n",
      "│ _b_SOIkWHsNP ┆ L_fdAnrH5Pxi ┆ ez4kMLP6OJE ┆ 5.0   ┆ … ┆ 1     ┆ 1    ┆ My sister   ┆ 2018-12-10  │\n",
      "│ RGW4RM3X5w   ┆ 4PqF08_ToA   ┆ IaMbMrrGRdA ┆       ┆   ┆       ┆      ┆ and I went  ┆ 16:31:32    │\n",
      "│              ┆              ┆             ┆       ┆   ┆       ┆      ┆ on the      ┆             │\n",
      "│              ┆              ┆             ┆       ┆   ┆       ┆      ┆ ghos…       ┆             │\n",
      "│ cACxcUY_AIsQ ┆ MCzlzlOw7IGb ┆ fcGexL5VH5G ┆ 3.0   ┆ … ┆ 1     ┆ 0    ┆ This is a   ┆ 2018-03-13  │\n",
      "│ KkpDRXuqnw   ┆ RAKVjJBPtg   ┆ 2Xw0tRj9uOQ ┆       ┆   ┆       ┆      ┆ good pizza  ┆ 13:54:48    │\n",
      "│              ┆              ┆             ┆       ┆   ┆       ┆      ┆ option -    ┆             │\n",
      "│              ┆              ┆             ┆       ┆   ┆       ┆      ┆ th…         ┆             │\n",
      "│ RwcKOdEuLRHN ┆ 6JehEvdoCvZP ┆ VAeEXLbEcI9 ┆ 3.0   ┆ … ┆ 3     ┆ 7    ┆ Located in  ┆ 2018-01-02  │\n",
      "│ Je4M9-qpqg   ┆ J_XIxnzIIw   ┆ Emt9KGYq9aA ┆       ┆   ┆       ┆      ┆ the         ┆ 22:50:47    │\n",
      "│              ┆              ┆             ┆       ┆   ┆       ┆      ┆ 'Walking    ┆             │\n",
      "│              ┆              ┆             ┆       ┆   ┆       ┆      ┆ District…   ┆             │\n",
      "└──────────────┴──────────────┴─────────────┴───────┴───┴───────┴──────┴─────────────┴─────────────┘\n"
     ]
    }
   ],
   "source": [
    "review_lf = pl.scan_ndjson(\"data/yelp/review-001.json\")\n",
    "ctx = pl.SQLContext(lf=review_lf, eager_execution=True)\n",
    "df_small = ctx.execute(\"\"\"\n",
    "                       SELECT *\n",
    "                       FROM lf \n",
    "                       WHERE STARTS_WITH(date, '2018')\n",
    "                       \n",
    "                       \"\"\")\n",
    "print(df_small)"
   ]
  },
  {
   "cell_type": "code",
   "execution_count": 16,
   "metadata": {},
   "outputs": [],
   "source": [
    "yelp_df_2018 = df_small.to_pandas()"
   ]
  },
  {
   "cell_type": "code",
   "execution_count": 17,
   "metadata": {},
   "outputs": [],
   "source": [
    "yelp_df_2018[\"date\"] = pd.to_datetime(yelp_df_2018[\"date\"])"
   ]
  },
  {
   "cell_type": "code",
   "execution_count": 18,
   "metadata": {},
   "outputs": [
    {
     "data": {
      "text/html": [
       "<div>\n",
       "<style scoped>\n",
       "    .dataframe tbody tr th:only-of-type {\n",
       "        vertical-align: middle;\n",
       "    }\n",
       "\n",
       "    .dataframe tbody tr th {\n",
       "        vertical-align: top;\n",
       "    }\n",
       "\n",
       "    .dataframe thead th {\n",
       "        text-align: right;\n",
       "    }\n",
       "</style>\n",
       "<table border=\"1\" class=\"dataframe\">\n",
       "  <thead>\n",
       "    <tr style=\"text-align: right;\">\n",
       "      <th></th>\n",
       "      <th>review_id</th>\n",
       "      <th>user_id</th>\n",
       "      <th>business_id</th>\n",
       "      <th>stars</th>\n",
       "      <th>useful</th>\n",
       "      <th>funny</th>\n",
       "      <th>cool</th>\n",
       "      <th>text</th>\n",
       "      <th>date</th>\n",
       "    </tr>\n",
       "  </thead>\n",
       "  <tbody>\n",
       "    <tr>\n",
       "      <th>0</th>\n",
       "      <td>KU_O5udG6zpxOg-VcAEodg</td>\n",
       "      <td>mh_-eMZ6K5RLWhZyISBhwA</td>\n",
       "      <td>XQfwVwDr-v0ZS3_CbbE5Xw</td>\n",
       "      <td>3.0</td>\n",
       "      <td>0</td>\n",
       "      <td>0</td>\n",
       "      <td>0</td>\n",
       "      <td>If you decide to eat here, just be aware it is...</td>\n",
       "      <td>2018-07-07 22:09:11</td>\n",
       "    </tr>\n",
       "    <tr>\n",
       "      <th>1</th>\n",
       "      <td>lUUhg8ltDsUZ9h0xnwY4Dg</td>\n",
       "      <td>RreNy--tOmXMl1en0wiBOg</td>\n",
       "      <td>cPepkJeRMtHapc_b2Oe_dw</td>\n",
       "      <td>4.0</td>\n",
       "      <td>1</td>\n",
       "      <td>0</td>\n",
       "      <td>1</td>\n",
       "      <td>I was really between 3 and 4 stars for this on...</td>\n",
       "      <td>2018-07-17 03:30:07</td>\n",
       "    </tr>\n",
       "    <tr>\n",
       "      <th>2</th>\n",
       "      <td>JBWZmBy69VMggxj3eYn17Q</td>\n",
       "      <td>aFa96pz67TwOFu4Weq5Agg</td>\n",
       "      <td>kq5Ghhh14r-eCxlVmlyd8w</td>\n",
       "      <td>5.0</td>\n",
       "      <td>0</td>\n",
       "      <td>0</td>\n",
       "      <td>0</td>\n",
       "      <td>My boyfriend and I tried this deli for the fir...</td>\n",
       "      <td>2018-08-23 21:39:38</td>\n",
       "    </tr>\n",
       "    <tr>\n",
       "      <th>3</th>\n",
       "      <td>E9AB7V4z8xrt2uPF7T55FQ</td>\n",
       "      <td>iYY5Ii1LGpZCpXFkHlMefw</td>\n",
       "      <td>Zx7n8mdt8OzLRXVzolXNhQ</td>\n",
       "      <td>5.0</td>\n",
       "      <td>0</td>\n",
       "      <td>0</td>\n",
       "      <td>0</td>\n",
       "      <td>Amazing biscuits and (fill in the blank). Grea...</td>\n",
       "      <td>2018-04-27 23:03:21</td>\n",
       "    </tr>\n",
       "    <tr>\n",
       "      <th>4</th>\n",
       "      <td>A4n4YaE-owOVgTQcrVqHUw</td>\n",
       "      <td>S7bjj-L07JuRr-tpX1UZLw</td>\n",
       "      <td>I6L0Zxi5Ww0zEWSAVgngeQ</td>\n",
       "      <td>4.0</td>\n",
       "      <td>0</td>\n",
       "      <td>0</td>\n",
       "      <td>0</td>\n",
       "      <td>The cafe was extremely cute. We came at 8am an...</td>\n",
       "      <td>2018-07-07 20:50:12</td>\n",
       "    </tr>\n",
       "    <tr>\n",
       "      <th>...</th>\n",
       "      <td>...</td>\n",
       "      <td>...</td>\n",
       "      <td>...</td>\n",
       "      <td>...</td>\n",
       "      <td>...</td>\n",
       "      <td>...</td>\n",
       "      <td>...</td>\n",
       "      <td>...</td>\n",
       "      <td>...</td>\n",
       "    </tr>\n",
       "    <tr>\n",
       "      <th>906357</th>\n",
       "      <td>CphIcLTNU26TDb_YTOSgUQ</td>\n",
       "      <td>Is5IWDXWtqVMCVtedjJIQQ</td>\n",
       "      <td>VOITl4HlmC1EGJ_wVMS6_w</td>\n",
       "      <td>5.0</td>\n",
       "      <td>0</td>\n",
       "      <td>0</td>\n",
       "      <td>0</td>\n",
       "      <td>I compete in Jiu-Jitsu and every competition I...</td>\n",
       "      <td>2018-11-09 18:09:35</td>\n",
       "    </tr>\n",
       "    <tr>\n",
       "      <th>906358</th>\n",
       "      <td>e2owJAzHYo89x88eReSqGg</td>\n",
       "      <td>QYZM8lgZn2HL_OWYAn7E1A</td>\n",
       "      <td>nrXtCSdfWg0TJ86onEZWkg</td>\n",
       "      <td>4.0</td>\n",
       "      <td>1</td>\n",
       "      <td>0</td>\n",
       "      <td>0</td>\n",
       "      <td>Took a colleague here for dinner as we were tr...</td>\n",
       "      <td>2018-02-13 19:50:01</td>\n",
       "    </tr>\n",
       "    <tr>\n",
       "      <th>906359</th>\n",
       "      <td>_b_SOIkWHsNPRGW4RM3X5w</td>\n",
       "      <td>L_fdAnrH5Pxi4PqF08_ToA</td>\n",
       "      <td>ez4kMLP6OJEIaMbMrrGRdA</td>\n",
       "      <td>5.0</td>\n",
       "      <td>1</td>\n",
       "      <td>1</td>\n",
       "      <td>1</td>\n",
       "      <td>My sister and I went on the ghost tour with Th...</td>\n",
       "      <td>2018-12-10 16:31:32</td>\n",
       "    </tr>\n",
       "    <tr>\n",
       "      <th>906360</th>\n",
       "      <td>cACxcUY_AIsQKkpDRXuqnw</td>\n",
       "      <td>MCzlzlOw7IGbRAKVjJBPtg</td>\n",
       "      <td>fcGexL5VH5G2Xw0tRj9uOQ</td>\n",
       "      <td>3.0</td>\n",
       "      <td>1</td>\n",
       "      <td>1</td>\n",
       "      <td>0</td>\n",
       "      <td>This is a good pizza option - they deliver thr...</td>\n",
       "      <td>2018-03-13 13:54:48</td>\n",
       "    </tr>\n",
       "    <tr>\n",
       "      <th>906361</th>\n",
       "      <td>RwcKOdEuLRHNJe4M9-qpqg</td>\n",
       "      <td>6JehEvdoCvZPJ_XIxnzIIw</td>\n",
       "      <td>VAeEXLbEcI9Emt9KGYq9aA</td>\n",
       "      <td>3.0</td>\n",
       "      <td>10</td>\n",
       "      <td>3</td>\n",
       "      <td>7</td>\n",
       "      <td>Located in the 'Walking District' in Nashville...</td>\n",
       "      <td>2018-01-02 22:50:47</td>\n",
       "    </tr>\n",
       "  </tbody>\n",
       "</table>\n",
       "<p>906362 rows × 9 columns</p>\n",
       "</div>"
      ],
      "text/plain": [
       "                     review_id                 user_id  \\\n",
       "0       KU_O5udG6zpxOg-VcAEodg  mh_-eMZ6K5RLWhZyISBhwA   \n",
       "1       lUUhg8ltDsUZ9h0xnwY4Dg  RreNy--tOmXMl1en0wiBOg   \n",
       "2       JBWZmBy69VMggxj3eYn17Q  aFa96pz67TwOFu4Weq5Agg   \n",
       "3       E9AB7V4z8xrt2uPF7T55FQ  iYY5Ii1LGpZCpXFkHlMefw   \n",
       "4       A4n4YaE-owOVgTQcrVqHUw  S7bjj-L07JuRr-tpX1UZLw   \n",
       "...                        ...                     ...   \n",
       "906357  CphIcLTNU26TDb_YTOSgUQ  Is5IWDXWtqVMCVtedjJIQQ   \n",
       "906358  e2owJAzHYo89x88eReSqGg  QYZM8lgZn2HL_OWYAn7E1A   \n",
       "906359  _b_SOIkWHsNPRGW4RM3X5w  L_fdAnrH5Pxi4PqF08_ToA   \n",
       "906360  cACxcUY_AIsQKkpDRXuqnw  MCzlzlOw7IGbRAKVjJBPtg   \n",
       "906361  RwcKOdEuLRHNJe4M9-qpqg  6JehEvdoCvZPJ_XIxnzIIw   \n",
       "\n",
       "                   business_id  stars  useful  funny  cool  \\\n",
       "0       XQfwVwDr-v0ZS3_CbbE5Xw    3.0       0      0     0   \n",
       "1       cPepkJeRMtHapc_b2Oe_dw    4.0       1      0     1   \n",
       "2       kq5Ghhh14r-eCxlVmlyd8w    5.0       0      0     0   \n",
       "3       Zx7n8mdt8OzLRXVzolXNhQ    5.0       0      0     0   \n",
       "4       I6L0Zxi5Ww0zEWSAVgngeQ    4.0       0      0     0   \n",
       "...                        ...    ...     ...    ...   ...   \n",
       "906357  VOITl4HlmC1EGJ_wVMS6_w    5.0       0      0     0   \n",
       "906358  nrXtCSdfWg0TJ86onEZWkg    4.0       1      0     0   \n",
       "906359  ez4kMLP6OJEIaMbMrrGRdA    5.0       1      1     1   \n",
       "906360  fcGexL5VH5G2Xw0tRj9uOQ    3.0       1      1     0   \n",
       "906361  VAeEXLbEcI9Emt9KGYq9aA    3.0      10      3     7   \n",
       "\n",
       "                                                     text                date  \n",
       "0       If you decide to eat here, just be aware it is... 2018-07-07 22:09:11  \n",
       "1       I was really between 3 and 4 stars for this on... 2018-07-17 03:30:07  \n",
       "2       My boyfriend and I tried this deli for the fir... 2018-08-23 21:39:38  \n",
       "3       Amazing biscuits and (fill in the blank). Grea... 2018-04-27 23:03:21  \n",
       "4       The cafe was extremely cute. We came at 8am an... 2018-07-07 20:50:12  \n",
       "...                                                   ...                 ...  \n",
       "906357  I compete in Jiu-Jitsu and every competition I... 2018-11-09 18:09:35  \n",
       "906358  Took a colleague here for dinner as we were tr... 2018-02-13 19:50:01  \n",
       "906359  My sister and I went on the ghost tour with Th... 2018-12-10 16:31:32  \n",
       "906360  This is a good pizza option - they deliver thr... 2018-03-13 13:54:48  \n",
       "906361  Located in the 'Walking District' in Nashville... 2018-01-02 22:50:47  \n",
       "\n",
       "[906362 rows x 9 columns]"
      ]
     },
     "execution_count": 18,
     "metadata": {},
     "output_type": "execute_result"
    }
   ],
   "source": [
    "yelp_df_2018"
   ]
  },
  {
   "cell_type": "markdown",
   "metadata": {},
   "source": [
    "### Pandas"
   ]
  },
  {
   "cell_type": "code",
   "execution_count": 19,
   "metadata": {},
   "outputs": [],
   "source": [
    "yelp_user_df = pd.read_parquet(\"data/yelp/user-002.parquet\")"
   ]
  },
  {
   "cell_type": "code",
   "execution_count": 20,
   "metadata": {},
   "outputs": [
    {
     "data": {
      "text/plain": [
       "3834.143945"
      ]
     },
     "execution_count": 20,
     "metadata": {},
     "output_type": "execute_result"
    }
   ],
   "source": [
    "import sys\n",
    "sys.getsizeof(yelp_user_df) / 1000000"
   ]
  },
  {
   "cell_type": "code",
   "execution_count": 21,
   "metadata": {},
   "outputs": [
    {
     "data": {
      "text/plain": [
       "user_id                object\n",
       "name                   object\n",
       "review_count            int64\n",
       "yelping_since          object\n",
       "useful                  int64\n",
       "funny                   int64\n",
       "cool                    int64\n",
       "elite                  object\n",
       "friends                object\n",
       "fans                    int64\n",
       "average_stars         float64\n",
       "compliment_hot          int64\n",
       "compliment_more         int64\n",
       "compliment_profile      int64\n",
       "compliment_cute         int64\n",
       "compliment_list         int64\n",
       "compliment_note         int64\n",
       "compliment_plain        int64\n",
       "compliment_cool         int64\n",
       "compliment_funny        int64\n",
       "compliment_writer       int64\n",
       "compliment_photos       int64\n",
       "dtype: object"
      ]
     },
     "execution_count": 21,
     "metadata": {},
     "output_type": "execute_result"
    }
   ],
   "source": [
    "yelp_user_df.dtypes"
   ]
  },
  {
   "cell_type": "code",
   "execution_count": 22,
   "metadata": {},
   "outputs": [
    {
     "data": {
      "text/plain": [
       "user_id               0\n",
       "name                  0\n",
       "review_count          0\n",
       "yelping_since         0\n",
       "useful                0\n",
       "funny                 0\n",
       "cool                  0\n",
       "elite                 0\n",
       "friends               0\n",
       "fans                  0\n",
       "average_stars         0\n",
       "compliment_hot        0\n",
       "compliment_more       0\n",
       "compliment_profile    0\n",
       "compliment_cute       0\n",
       "compliment_list       0\n",
       "compliment_note       0\n",
       "compliment_plain      0\n",
       "compliment_cool       0\n",
       "compliment_funny      0\n",
       "compliment_writer     0\n",
       "compliment_photos     0\n",
       "dtype: int64"
      ]
     },
     "execution_count": 22,
     "metadata": {},
     "output_type": "execute_result"
    }
   ],
   "source": [
    "yelp_user_df.isnull().sum()"
   ]
  },
  {
   "cell_type": "code",
   "execution_count": 23,
   "metadata": {},
   "outputs": [
    {
     "data": {
      "text/plain": [
       "(2105597, 22)"
      ]
     },
     "execution_count": 23,
     "metadata": {},
     "output_type": "execute_result"
    }
   ],
   "source": [
    "yelp_user_df.shape"
   ]
  },
  {
   "cell_type": "code",
   "execution_count": 24,
   "metadata": {},
   "outputs": [],
   "source": [
    "# Dangerous code! This will run something very large computationally talking \n",
    "# yelp_user_df.agg([np.mean, np.median, np.std])"
   ]
  },
  {
   "cell_type": "code",
   "execution_count": 25,
   "metadata": {},
   "outputs": [],
   "source": [
    "yelp_2018 = yelp_df_2018.merge(yelp_user_df, on=\"user_id\")"
   ]
  },
  {
   "cell_type": "code",
   "execution_count": 26,
   "metadata": {},
   "outputs": [
    {
     "data": {
      "text/plain": [
       "Index(['review_id', 'user_id', 'business_id', 'stars', 'useful_x', 'funny_x',\n",
       "       'cool_x', 'text', 'date', 'name', 'review_count', 'yelping_since',\n",
       "       'useful_y', 'funny_y', 'cool_y', 'elite', 'friends', 'fans',\n",
       "       'average_stars', 'compliment_hot', 'compliment_more',\n",
       "       'compliment_profile', 'compliment_cute', 'compliment_list',\n",
       "       'compliment_note', 'compliment_plain', 'compliment_cool',\n",
       "       'compliment_funny', 'compliment_writer', 'compliment_photos'],\n",
       "      dtype='object')"
      ]
     },
     "execution_count": 26,
     "metadata": {},
     "output_type": "execute_result"
    }
   ],
   "source": [
    "yelp_2018.columns"
   ]
  },
  {
   "cell_type": "code",
   "execution_count": 27,
   "metadata": {},
   "outputs": [
    {
     "data": {
      "text/html": [
       "<div>\n",
       "<style scoped>\n",
       "    .dataframe tbody tr th:only-of-type {\n",
       "        vertical-align: middle;\n",
       "    }\n",
       "\n",
       "    .dataframe tbody tr th {\n",
       "        vertical-align: top;\n",
       "    }\n",
       "\n",
       "    .dataframe thead th {\n",
       "        text-align: right;\n",
       "    }\n",
       "</style>\n",
       "<table border=\"1\" class=\"dataframe\">\n",
       "  <thead>\n",
       "    <tr style=\"text-align: right;\">\n",
       "      <th></th>\n",
       "      <th>review_id</th>\n",
       "      <th>user_id</th>\n",
       "      <th>business_id</th>\n",
       "      <th>stars</th>\n",
       "      <th>useful_x</th>\n",
       "      <th>funny_x</th>\n",
       "      <th>cool_x</th>\n",
       "      <th>text</th>\n",
       "      <th>date</th>\n",
       "      <th>name</th>\n",
       "      <th>review_count</th>\n",
       "      <th>yelping_since</th>\n",
       "      <th>useful_y</th>\n",
       "      <th>funny_y</th>\n",
       "      <th>cool_y</th>\n",
       "      <th>elite</th>\n",
       "      <th>friends</th>\n",
       "      <th>fans</th>\n",
       "      <th>average_stars</th>\n",
       "    </tr>\n",
       "  </thead>\n",
       "  <tbody>\n",
       "    <tr>\n",
       "      <th>1</th>\n",
       "      <td>Bqn8psEmvYTO7izrnGNgqg</td>\n",
       "      <td>mh_-eMZ6K5RLWhZyISBhwA</td>\n",
       "      <td>8eDkw7CE0NKqMknPIu26fw</td>\n",
       "      <td>5.0</td>\n",
       "      <td>1</td>\n",
       "      <td>0</td>\n",
       "      <td>0</td>\n",
       "      <td>We tried this place on our first trip to New O...</td>\n",
       "      <td>2018-04-25 17:04:09</td>\n",
       "      <td>Melanie</td>\n",
       "      <td>33</td>\n",
       "      <td>2016-01-13 17:20:44</td>\n",
       "      <td>32</td>\n",
       "      <td>3</td>\n",
       "      <td>8</td>\n",
       "      <td></td>\n",
       "      <td>DS9QBM_NWJz1E279Zrao-A, XdXgIs4i5JFvtJf0rJlWsA...</td>\n",
       "      <td>0</td>\n",
       "      <td>4.06</td>\n",
       "    </tr>\n",
       "    <tr>\n",
       "      <th>2</th>\n",
       "      <td>78MWkzX8uQz0kDnhlhwAAg</td>\n",
       "      <td>mh_-eMZ6K5RLWhZyISBhwA</td>\n",
       "      <td>mOk3D7VczrDapNuUgLxUQw</td>\n",
       "      <td>4.0</td>\n",
       "      <td>2</td>\n",
       "      <td>0</td>\n",
       "      <td>2</td>\n",
       "      <td>So glad we stumbled upon this restaurant! It i...</td>\n",
       "      <td>2018-10-29 21:54:59</td>\n",
       "      <td>Melanie</td>\n",
       "      <td>33</td>\n",
       "      <td>2016-01-13 17:20:44</td>\n",
       "      <td>32</td>\n",
       "      <td>3</td>\n",
       "      <td>8</td>\n",
       "      <td></td>\n",
       "      <td>DS9QBM_NWJz1E279Zrao-A, XdXgIs4i5JFvtJf0rJlWsA...</td>\n",
       "      <td>0</td>\n",
       "      <td>4.06</td>\n",
       "    </tr>\n",
       "    <tr>\n",
       "      <th>3</th>\n",
       "      <td>krpCZHUj222Ha7AffGUZHQ</td>\n",
       "      <td>mh_-eMZ6K5RLWhZyISBhwA</td>\n",
       "      <td>L4kfcADLCU4T33i7Z0CkuA</td>\n",
       "      <td>2.0</td>\n",
       "      <td>3</td>\n",
       "      <td>0</td>\n",
       "      <td>1</td>\n",
       "      <td>I was looking forward to a romantic dinner her...</td>\n",
       "      <td>2018-02-11 03:07:30</td>\n",
       "      <td>Melanie</td>\n",
       "      <td>33</td>\n",
       "      <td>2016-01-13 17:20:44</td>\n",
       "      <td>32</td>\n",
       "      <td>3</td>\n",
       "      <td>8</td>\n",
       "      <td></td>\n",
       "      <td>DS9QBM_NWJz1E279Zrao-A, XdXgIs4i5JFvtJf0rJlWsA...</td>\n",
       "      <td>0</td>\n",
       "      <td>4.06</td>\n",
       "    </tr>\n",
       "    <tr>\n",
       "      <th>4</th>\n",
       "      <td>JpVqv0oZNcZyd9NqgG7tTA</td>\n",
       "      <td>mh_-eMZ6K5RLWhZyISBhwA</td>\n",
       "      <td>QWF_PoD4PthsYsq2Tk0GEQ</td>\n",
       "      <td>3.0</td>\n",
       "      <td>0</td>\n",
       "      <td>0</td>\n",
       "      <td>0</td>\n",
       "      <td>We moved to this area recently and have been l...</td>\n",
       "      <td>2018-01-21 18:08:11</td>\n",
       "      <td>Melanie</td>\n",
       "      <td>33</td>\n",
       "      <td>2016-01-13 17:20:44</td>\n",
       "      <td>32</td>\n",
       "      <td>3</td>\n",
       "      <td>8</td>\n",
       "      <td></td>\n",
       "      <td>DS9QBM_NWJz1E279Zrao-A, XdXgIs4i5JFvtJf0rJlWsA...</td>\n",
       "      <td>0</td>\n",
       "      <td>4.06</td>\n",
       "    </tr>\n",
       "    <tr>\n",
       "      <th>5</th>\n",
       "      <td>TbExVvMwCPOcKZwBq-uWRg</td>\n",
       "      <td>mh_-eMZ6K5RLWhZyISBhwA</td>\n",
       "      <td>v43sH62YQMO60zIiLR65DA</td>\n",
       "      <td>4.0</td>\n",
       "      <td>0</td>\n",
       "      <td>0</td>\n",
       "      <td>0</td>\n",
       "      <td>We like this place because of its convenience ...</td>\n",
       "      <td>2018-06-21 22:34:21</td>\n",
       "      <td>Melanie</td>\n",
       "      <td>33</td>\n",
       "      <td>2016-01-13 17:20:44</td>\n",
       "      <td>32</td>\n",
       "      <td>3</td>\n",
       "      <td>8</td>\n",
       "      <td></td>\n",
       "      <td>DS9QBM_NWJz1E279Zrao-A, XdXgIs4i5JFvtJf0rJlWsA...</td>\n",
       "      <td>0</td>\n",
       "      <td>4.06</td>\n",
       "    </tr>\n",
       "  </tbody>\n",
       "</table>\n",
       "</div>"
      ],
      "text/plain": [
       "                review_id                 user_id             business_id  \\\n",
       "1  Bqn8psEmvYTO7izrnGNgqg  mh_-eMZ6K5RLWhZyISBhwA  8eDkw7CE0NKqMknPIu26fw   \n",
       "2  78MWkzX8uQz0kDnhlhwAAg  mh_-eMZ6K5RLWhZyISBhwA  mOk3D7VczrDapNuUgLxUQw   \n",
       "3  krpCZHUj222Ha7AffGUZHQ  mh_-eMZ6K5RLWhZyISBhwA  L4kfcADLCU4T33i7Z0CkuA   \n",
       "4  JpVqv0oZNcZyd9NqgG7tTA  mh_-eMZ6K5RLWhZyISBhwA  QWF_PoD4PthsYsq2Tk0GEQ   \n",
       "5  TbExVvMwCPOcKZwBq-uWRg  mh_-eMZ6K5RLWhZyISBhwA  v43sH62YQMO60zIiLR65DA   \n",
       "\n",
       "   stars  useful_x  funny_x  cool_x  \\\n",
       "1    5.0         1        0       0   \n",
       "2    4.0         2        0       2   \n",
       "3    2.0         3        0       1   \n",
       "4    3.0         0        0       0   \n",
       "5    4.0         0        0       0   \n",
       "\n",
       "                                                text                date  \\\n",
       "1  We tried this place on our first trip to New O... 2018-04-25 17:04:09   \n",
       "2  So glad we stumbled upon this restaurant! It i... 2018-10-29 21:54:59   \n",
       "3  I was looking forward to a romantic dinner her... 2018-02-11 03:07:30   \n",
       "4  We moved to this area recently and have been l... 2018-01-21 18:08:11   \n",
       "5  We like this place because of its convenience ... 2018-06-21 22:34:21   \n",
       "\n",
       "      name  review_count        yelping_since  useful_y  funny_y  cool_y  \\\n",
       "1  Melanie            33  2016-01-13 17:20:44        32        3       8   \n",
       "2  Melanie            33  2016-01-13 17:20:44        32        3       8   \n",
       "3  Melanie            33  2016-01-13 17:20:44        32        3       8   \n",
       "4  Melanie            33  2016-01-13 17:20:44        32        3       8   \n",
       "5  Melanie            33  2016-01-13 17:20:44        32        3       8   \n",
       "\n",
       "  elite                                            friends  fans  \\\n",
       "1        DS9QBM_NWJz1E279Zrao-A, XdXgIs4i5JFvtJf0rJlWsA...     0   \n",
       "2        DS9QBM_NWJz1E279Zrao-A, XdXgIs4i5JFvtJf0rJlWsA...     0   \n",
       "3        DS9QBM_NWJz1E279Zrao-A, XdXgIs4i5JFvtJf0rJlWsA...     0   \n",
       "4        DS9QBM_NWJz1E279Zrao-A, XdXgIs4i5JFvtJf0rJlWsA...     0   \n",
       "5        DS9QBM_NWJz1E279Zrao-A, XdXgIs4i5JFvtJf0rJlWsA...     0   \n",
       "\n",
       "   average_stars  \n",
       "1           4.06  \n",
       "2           4.06  \n",
       "3           4.06  \n",
       "4           4.06  \n",
       "5           4.06  "
      ]
     },
     "execution_count": 27,
     "metadata": {},
     "output_type": "execute_result"
    }
   ],
   "source": [
    "yelp_2018[yelp_2018.duplicated(subset=[\"user_id\"])][['review_id', 'user_id', 'business_id', 'stars', 'useful_x', 'funny_x',\n",
    "       'cool_x', 'text', 'date', 'name', 'review_count', 'yelping_since',\n",
    "       'useful_y', 'funny_y', 'cool_y', 'elite', 'friends', 'fans',\n",
    "       'average_stars']].head()#.groupby(\"user_id\").count().sort_values(by=\"review_id\", ascending=False)"
   ]
  },
  {
   "cell_type": "code",
   "execution_count": 28,
   "metadata": {},
   "outputs": [
    {
     "data": {
      "text/plain": [
       "422063"
      ]
     },
     "execution_count": 28,
     "metadata": {},
     "output_type": "execute_result"
    }
   ],
   "source": [
    "# How many users leave a review in 2018?\n",
    "len(yelp_2018[\"user_id\"].unique())"
   ]
  },
  {
   "cell_type": "markdown",
   "metadata": {},
   "source": [
    "### PAndas: Exploring Business Dataset"
   ]
  },
  {
   "cell_type": "code",
   "execution_count": 29,
   "metadata": {},
   "outputs": [],
   "source": [
    "business_df = pd.read_pickle(\"data/yelp/Yelp-20230909T191413Z-003/Yelp/business.pkl\")"
   ]
  },
  {
   "cell_type": "code",
   "execution_count": 30,
   "metadata": {},
   "outputs": [
    {
     "data": {
      "text/html": [
       "<div>\n",
       "<style scoped>\n",
       "    .dataframe tbody tr th:only-of-type {\n",
       "        vertical-align: middle;\n",
       "    }\n",
       "\n",
       "    .dataframe tbody tr th {\n",
       "        vertical-align: top;\n",
       "    }\n",
       "\n",
       "    .dataframe thead th {\n",
       "        text-align: right;\n",
       "    }\n",
       "</style>\n",
       "<table border=\"1\" class=\"dataframe\">\n",
       "  <thead>\n",
       "    <tr style=\"text-align: right;\">\n",
       "      <th></th>\n",
       "      <th>business_id</th>\n",
       "      <th>name</th>\n",
       "      <th>address</th>\n",
       "      <th>city</th>\n",
       "      <th>state</th>\n",
       "      <th>postal_code</th>\n",
       "      <th>latitude</th>\n",
       "      <th>longitude</th>\n",
       "      <th>stars</th>\n",
       "      <th>review_count</th>\n",
       "      <th>...</th>\n",
       "      <th>state</th>\n",
       "      <th>postal_code</th>\n",
       "      <th>latitude</th>\n",
       "      <th>longitude</th>\n",
       "      <th>stars</th>\n",
       "      <th>review_count</th>\n",
       "      <th>is_open</th>\n",
       "      <th>attributes</th>\n",
       "      <th>categories</th>\n",
       "      <th>hours</th>\n",
       "    </tr>\n",
       "  </thead>\n",
       "  <tbody>\n",
       "    <tr>\n",
       "      <th>146428</th>\n",
       "      <td>VOITl4HlmC1EGJ_wVMS6_w</td>\n",
       "      <td>South Tampa Jiu-Jitsu &amp; MMA</td>\n",
       "      <td>4477 W Gandy Blvd</td>\n",
       "      <td>Tampa</td>\n",
       "      <td>PA</td>\n",
       "      <td>33611</td>\n",
       "      <td>27.894652</td>\n",
       "      <td>-82.520573</td>\n",
       "      <td>5.0</td>\n",
       "      <td>5</td>\n",
       "      <td>...</td>\n",
       "      <td>NaN</td>\n",
       "      <td>NaN</td>\n",
       "      <td>NaN</td>\n",
       "      <td>NaN</td>\n",
       "      <td>NaN</td>\n",
       "      <td>NaN</td>\n",
       "      <td>NaN</td>\n",
       "      <td>NaN</td>\n",
       "      <td>NaN</td>\n",
       "      <td>NaN</td>\n",
       "    </tr>\n",
       "  </tbody>\n",
       "</table>\n",
       "<p>1 rows × 28 columns</p>\n",
       "</div>"
      ],
      "text/plain": [
       "                   business_id                         name  \\\n",
       "146428  VOITl4HlmC1EGJ_wVMS6_w  South Tampa Jiu-Jitsu & MMA   \n",
       "\n",
       "                  address   city state postal_code   latitude  longitude  \\\n",
       "146428  4477 W Gandy Blvd  Tampa    PA       33611  27.894652 -82.520573   \n",
       "\n",
       "       stars review_count  ... state postal_code latitude longitude stars  \\\n",
       "146428   5.0            5  ...   NaN         NaN      NaN       NaN   NaN   \n",
       "\n",
       "       review_count is_open attributes categories hours  \n",
       "146428          NaN     NaN        NaN        NaN   NaN  \n",
       "\n",
       "[1 rows x 28 columns]"
      ]
     },
     "execution_count": 30,
     "metadata": {},
     "output_type": "execute_result"
    }
   ],
   "source": [
    "business_df[business_df.iloc[:,0] == \"VOITl4HlmC1EGJ_wVMS6_w\"]"
   ]
  },
  {
   "cell_type": "code",
   "execution_count": 31,
   "metadata": {},
   "outputs": [
    {
     "data": {
      "text/html": [
       "<div>\n",
       "<style scoped>\n",
       "    .dataframe tbody tr th:only-of-type {\n",
       "        vertical-align: middle;\n",
       "    }\n",
       "\n",
       "    .dataframe tbody tr th {\n",
       "        vertical-align: top;\n",
       "    }\n",
       "\n",
       "    .dataframe thead th {\n",
       "        text-align: right;\n",
       "    }\n",
       "</style>\n",
       "<table border=\"1\" class=\"dataframe\">\n",
       "  <thead>\n",
       "    <tr style=\"text-align: right;\">\n",
       "      <th></th>\n",
       "      <th>business_id</th>\n",
       "      <th>name</th>\n",
       "      <th>address</th>\n",
       "      <th>city</th>\n",
       "      <th>state</th>\n",
       "      <th>postal_code</th>\n",
       "      <th>latitude</th>\n",
       "      <th>longitude</th>\n",
       "      <th>stars</th>\n",
       "      <th>review_count</th>\n",
       "      <th>...</th>\n",
       "      <th>state</th>\n",
       "      <th>postal_code</th>\n",
       "      <th>latitude</th>\n",
       "      <th>longitude</th>\n",
       "      <th>stars</th>\n",
       "      <th>review_count</th>\n",
       "      <th>is_open</th>\n",
       "      <th>attributes</th>\n",
       "      <th>categories</th>\n",
       "      <th>hours</th>\n",
       "    </tr>\n",
       "  </thead>\n",
       "  <tbody>\n",
       "    <tr>\n",
       "      <th>0</th>\n",
       "      <td>Pns2l4eNsfO8kk83dixA6A</td>\n",
       "      <td>Abby Rappoport, LAC, CMQ</td>\n",
       "      <td>1616 Chapala St, Ste 2</td>\n",
       "      <td>Santa Barbara</td>\n",
       "      <td>NaN</td>\n",
       "      <td>93101</td>\n",
       "      <td>34.426679</td>\n",
       "      <td>-119.711197</td>\n",
       "      <td>5.0</td>\n",
       "      <td>7</td>\n",
       "      <td>...</td>\n",
       "      <td>NaN</td>\n",
       "      <td>NaN</td>\n",
       "      <td>NaN</td>\n",
       "      <td>NaN</td>\n",
       "      <td>NaN</td>\n",
       "      <td>NaN</td>\n",
       "      <td>NaN</td>\n",
       "      <td>NaN</td>\n",
       "      <td>NaN</td>\n",
       "      <td>NaN</td>\n",
       "    </tr>\n",
       "    <tr>\n",
       "      <th>1</th>\n",
       "      <td>mpf3x-BjTdTEA3yCZrAYPw</td>\n",
       "      <td>The UPS Store</td>\n",
       "      <td>87 Grasso Plaza Shopping Center</td>\n",
       "      <td>Affton</td>\n",
       "      <td>NaN</td>\n",
       "      <td>63123</td>\n",
       "      <td>38.551126</td>\n",
       "      <td>-90.335695</td>\n",
       "      <td>3.0</td>\n",
       "      <td>15</td>\n",
       "      <td>...</td>\n",
       "      <td>NaN</td>\n",
       "      <td>NaN</td>\n",
       "      <td>NaN</td>\n",
       "      <td>NaN</td>\n",
       "      <td>NaN</td>\n",
       "      <td>NaN</td>\n",
       "      <td>NaN</td>\n",
       "      <td>NaN</td>\n",
       "      <td>NaN</td>\n",
       "      <td>NaN</td>\n",
       "    </tr>\n",
       "    <tr>\n",
       "      <th>2</th>\n",
       "      <td>tUFrWirKiKi_TAnsVWINQQ</td>\n",
       "      <td>Target</td>\n",
       "      <td>5255 E Broadway Blvd</td>\n",
       "      <td>Tucson</td>\n",
       "      <td>NaN</td>\n",
       "      <td>85711</td>\n",
       "      <td>32.223236</td>\n",
       "      <td>-110.880452</td>\n",
       "      <td>3.5</td>\n",
       "      <td>22</td>\n",
       "      <td>...</td>\n",
       "      <td>NaN</td>\n",
       "      <td>NaN</td>\n",
       "      <td>NaN</td>\n",
       "      <td>NaN</td>\n",
       "      <td>NaN</td>\n",
       "      <td>NaN</td>\n",
       "      <td>NaN</td>\n",
       "      <td>NaN</td>\n",
       "      <td>NaN</td>\n",
       "      <td>NaN</td>\n",
       "    </tr>\n",
       "    <tr>\n",
       "      <th>3</th>\n",
       "      <td>MTSW4McQd7CbVtyjqoe9mw</td>\n",
       "      <td>St Honore Pastries</td>\n",
       "      <td>935 Race St</td>\n",
       "      <td>Philadelphia</td>\n",
       "      <td>CA</td>\n",
       "      <td>19107</td>\n",
       "      <td>39.955505</td>\n",
       "      <td>-75.155564</td>\n",
       "      <td>4.0</td>\n",
       "      <td>80</td>\n",
       "      <td>...</td>\n",
       "      <td>NaN</td>\n",
       "      <td>NaN</td>\n",
       "      <td>NaN</td>\n",
       "      <td>NaN</td>\n",
       "      <td>NaN</td>\n",
       "      <td>NaN</td>\n",
       "      <td>NaN</td>\n",
       "      <td>NaN</td>\n",
       "      <td>NaN</td>\n",
       "      <td>NaN</td>\n",
       "    </tr>\n",
       "    <tr>\n",
       "      <th>4</th>\n",
       "      <td>mWMc6_wTdE0EUBKIGXDVfA</td>\n",
       "      <td>Perkiomen Valley Brewery</td>\n",
       "      <td>101 Walnut St</td>\n",
       "      <td>Green Lane</td>\n",
       "      <td>MO</td>\n",
       "      <td>18054</td>\n",
       "      <td>40.338183</td>\n",
       "      <td>-75.471659</td>\n",
       "      <td>4.5</td>\n",
       "      <td>13</td>\n",
       "      <td>...</td>\n",
       "      <td>NaN</td>\n",
       "      <td>NaN</td>\n",
       "      <td>NaN</td>\n",
       "      <td>NaN</td>\n",
       "      <td>NaN</td>\n",
       "      <td>NaN</td>\n",
       "      <td>NaN</td>\n",
       "      <td>NaN</td>\n",
       "      <td>NaN</td>\n",
       "      <td>NaN</td>\n",
       "    </tr>\n",
       "  </tbody>\n",
       "</table>\n",
       "<p>5 rows × 28 columns</p>\n",
       "</div>"
      ],
      "text/plain": [
       "              business_id                      name  \\\n",
       "0  Pns2l4eNsfO8kk83dixA6A  Abby Rappoport, LAC, CMQ   \n",
       "1  mpf3x-BjTdTEA3yCZrAYPw             The UPS Store   \n",
       "2  tUFrWirKiKi_TAnsVWINQQ                    Target   \n",
       "3  MTSW4McQd7CbVtyjqoe9mw        St Honore Pastries   \n",
       "4  mWMc6_wTdE0EUBKIGXDVfA  Perkiomen Valley Brewery   \n",
       "\n",
       "                           address           city state postal_code  \\\n",
       "0           1616 Chapala St, Ste 2  Santa Barbara   NaN       93101   \n",
       "1  87 Grasso Plaza Shopping Center         Affton   NaN       63123   \n",
       "2             5255 E Broadway Blvd         Tucson   NaN       85711   \n",
       "3                      935 Race St   Philadelphia    CA       19107   \n",
       "4                    101 Walnut St     Green Lane    MO       18054   \n",
       "\n",
       "    latitude   longitude stars review_count  ... state postal_code latitude  \\\n",
       "0  34.426679 -119.711197   5.0            7  ...   NaN         NaN      NaN   \n",
       "1  38.551126  -90.335695   3.0           15  ...   NaN         NaN      NaN   \n",
       "2  32.223236 -110.880452   3.5           22  ...   NaN         NaN      NaN   \n",
       "3  39.955505  -75.155564   4.0           80  ...   NaN         NaN      NaN   \n",
       "4  40.338183  -75.471659   4.5           13  ...   NaN         NaN      NaN   \n",
       "\n",
       "  longitude stars review_count is_open attributes categories hours  \n",
       "0       NaN   NaN          NaN     NaN        NaN        NaN   NaN  \n",
       "1       NaN   NaN          NaN     NaN        NaN        NaN   NaN  \n",
       "2       NaN   NaN          NaN     NaN        NaN        NaN   NaN  \n",
       "3       NaN   NaN          NaN     NaN        NaN        NaN   NaN  \n",
       "4       NaN   NaN          NaN     NaN        NaN        NaN   NaN  \n",
       "\n",
       "[5 rows x 28 columns]"
      ]
     },
     "execution_count": 31,
     "metadata": {},
     "output_type": "execute_result"
    }
   ],
   "source": [
    "business_df.head()"
   ]
  },
  {
   "cell_type": "code",
   "execution_count": 32,
   "metadata": {},
   "outputs": [
    {
     "data": {
      "text/plain": [
       "(150346, 28)"
      ]
     },
     "execution_count": 32,
     "metadata": {},
     "output_type": "execute_result"
    }
   ],
   "source": [
    "business_df.shape"
   ]
  },
  {
   "cell_type": "code",
   "execution_count": 33,
   "metadata": {},
   "outputs": [
    {
     "data": {
      "text/plain": [
       "Index(['business_id', 'name', 'address', 'city', 'state', 'postal_code',\n",
       "       'latitude', 'longitude', 'stars', 'review_count', 'is_open',\n",
       "       'attributes', 'categories', 'hours', 'business_id', 'name', 'address',\n",
       "       'city', 'state', 'postal_code', 'latitude', 'longitude', 'stars',\n",
       "       'review_count', 'is_open', 'attributes', 'categories', 'hours'],\n",
       "      dtype='object')"
      ]
     },
     "execution_count": 33,
     "metadata": {},
     "output_type": "execute_result"
    }
   ],
   "source": [
    "business_df.columns"
   ]
  },
  {
   "cell_type": "markdown",
   "metadata": {},
   "source": [
    "It seems there are a few duplicated column names... Wha do they contain?"
   ]
  },
  {
   "cell_type": "code",
   "execution_count": 34,
   "metadata": {},
   "outputs": [
    {
     "data": {
      "text/plain": [
       "business_id          0\n",
       "name                 0\n",
       "address              0\n",
       "city                 0\n",
       "state                3\n",
       "postal_code          0\n",
       "latitude             0\n",
       "longitude            0\n",
       "stars                0\n",
       "review_count         0\n",
       "is_open              0\n",
       "attributes       13744\n",
       "categories         103\n",
       "hours            23223\n",
       "business_id     150341\n",
       "name            150341\n",
       "address         150341\n",
       "city            150341\n",
       "state           150341\n",
       "postal_code     150341\n",
       "latitude        150341\n",
       "longitude       150341\n",
       "stars           150341\n",
       "review_count    150341\n",
       "is_open         150341\n",
       "attributes      150341\n",
       "categories      150341\n",
       "hours           150341\n",
       "dtype: int64"
      ]
     },
     "execution_count": 34,
     "metadata": {},
     "output_type": "execute_result"
    }
   ],
   "source": [
    "business_df.isna().sum()"
   ]
  },
  {
   "cell_type": "markdown",
   "metadata": {},
   "source": [
    "Certianly, null values only.. but.. that null values counting is bit smaller that the total records.. there should be data to be saved.\n",
    "\n",
    "Indeed, 5 records that somehow the duplicated columns are not empty.. but.. hw it's happened? I do not know, I let's save this for a while since that question does not belong to the scope"
   ]
  },
  {
   "cell_type": "code",
   "execution_count": 35,
   "metadata": {},
   "outputs": [
    {
     "data": {
      "text/html": [
       "<div>\n",
       "<style scoped>\n",
       "    .dataframe tbody tr th:only-of-type {\n",
       "        vertical-align: middle;\n",
       "    }\n",
       "\n",
       "    .dataframe tbody tr th {\n",
       "        vertical-align: top;\n",
       "    }\n",
       "\n",
       "    .dataframe thead th {\n",
       "        text-align: right;\n",
       "    }\n",
       "</style>\n",
       "<table border=\"1\" class=\"dataframe\">\n",
       "  <thead>\n",
       "    <tr style=\"text-align: right;\">\n",
       "      <th></th>\n",
       "      <th>business_id</th>\n",
       "      <th>name</th>\n",
       "      <th>address</th>\n",
       "      <th>city</th>\n",
       "      <th>state</th>\n",
       "      <th>postal_code</th>\n",
       "      <th>latitude</th>\n",
       "      <th>longitude</th>\n",
       "      <th>stars</th>\n",
       "      <th>review_count</th>\n",
       "      <th>...</th>\n",
       "      <th>state</th>\n",
       "      <th>postal_code</th>\n",
       "      <th>latitude</th>\n",
       "      <th>longitude</th>\n",
       "      <th>stars</th>\n",
       "      <th>review_count</th>\n",
       "      <th>is_open</th>\n",
       "      <th>attributes</th>\n",
       "      <th>categories</th>\n",
       "      <th>hours</th>\n",
       "    </tr>\n",
       "  </thead>\n",
       "  <tbody>\n",
       "    <tr>\n",
       "      <th>590</th>\n",
       "      <td>6_Zf2QsRHCH1RhbzA9inyw</td>\n",
       "      <td>Starbucks</td>\n",
       "      <td>8602 Hillsborough Ave</td>\n",
       "      <td>Tampa</td>\n",
       "      <td>LA</td>\n",
       "      <td>33615</td>\n",
       "      <td>27.99637</td>\n",
       "      <td>-82.580954</td>\n",
       "      <td>3.0</td>\n",
       "      <td>56</td>\n",
       "      <td>...</td>\n",
       "      <td>LA</td>\n",
       "      <td>33615</td>\n",
       "      <td>27.99637</td>\n",
       "      <td>-82.580954</td>\n",
       "      <td>3.0</td>\n",
       "      <td>56</td>\n",
       "      <td>1</td>\n",
       "      <td>{'BikeParking': 'True', 'BusinessAcceptsCredit...</td>\n",
       "      <td>Coffee &amp; Tea, Food</td>\n",
       "      <td>{'Monday': '5:30-21:0', 'Tuesday': '5:30-21:0'...</td>\n",
       "    </tr>\n",
       "    <tr>\n",
       "      <th>613</th>\n",
       "      <td>Iipfa9Kaac9XH5Vo8GQwvg</td>\n",
       "      <td>Starbucks</td>\n",
       "      <td>5956 153 Avenue</td>\n",
       "      <td>Edmonton</td>\n",
       "      <td>PA</td>\n",
       "      <td>T5Y 2W1</td>\n",
       "      <td>53.616147</td>\n",
       "      <td>-113.432424</td>\n",
       "      <td>3.5</td>\n",
       "      <td>10</td>\n",
       "      <td>...</td>\n",
       "      <td>PA</td>\n",
       "      <td>T5Y 2W1</td>\n",
       "      <td>53.616147</td>\n",
       "      <td>-113.432424</td>\n",
       "      <td>3.5</td>\n",
       "      <td>10</td>\n",
       "      <td>1</td>\n",
       "      <td>{'BusinessParking': '{'garage': False, 'street...</td>\n",
       "      <td>Coffee &amp; Tea, Food</td>\n",
       "      <td>{'Monday': '5:30-22:0', 'Tuesday': '5:30-22:0'...</td>\n",
       "    </tr>\n",
       "    <tr>\n",
       "      <th>978</th>\n",
       "      <td>oY6osC4Ch3PvguA7D1hh_w</td>\n",
       "      <td>Starbucks</td>\n",
       "      <td>1251 Route 130 S</td>\n",
       "      <td>Cinnaminson</td>\n",
       "      <td>AZ</td>\n",
       "      <td>08077</td>\n",
       "      <td>40.000157</td>\n",
       "      <td>-74.987313</td>\n",
       "      <td>4.5</td>\n",
       "      <td>7</td>\n",
       "      <td>...</td>\n",
       "      <td>AZ</td>\n",
       "      <td>08077</td>\n",
       "      <td>40.000157</td>\n",
       "      <td>-74.987313</td>\n",
       "      <td>4.5</td>\n",
       "      <td>7</td>\n",
       "      <td>1</td>\n",
       "      <td>{'WiFi': 'u'free'', 'BusinessParking': '{'gara...</td>\n",
       "      <td>Coffee &amp; Tea, Food</td>\n",
       "      <td>{'Monday': '5:30-20:0', 'Tuesday': '5:30-20:0'...</td>\n",
       "    </tr>\n",
       "    <tr>\n",
       "      <th>1296</th>\n",
       "      <td>pxuMxh5oC7W-PDN9wwvozg</td>\n",
       "      <td>Starbucks</td>\n",
       "      <td>219 N Center St</td>\n",
       "      <td>Reno</td>\n",
       "      <td>FL</td>\n",
       "      <td>89501</td>\n",
       "      <td>39.527772</td>\n",
       "      <td>-119.812518</td>\n",
       "      <td>3.0</td>\n",
       "      <td>44</td>\n",
       "      <td>...</td>\n",
       "      <td>FL</td>\n",
       "      <td>89501</td>\n",
       "      <td>39.527772</td>\n",
       "      <td>-119.812518</td>\n",
       "      <td>3.0</td>\n",
       "      <td>44</td>\n",
       "      <td>0</td>\n",
       "      <td>{'BikeParking': 'False', 'Caters': 'False', 'O...</td>\n",
       "      <td>Coffee &amp; Tea, Food</td>\n",
       "      <td>{'Monday': '5:30-19:0', 'Tuesday': '5:30-19:0'...</td>\n",
       "    </tr>\n",
       "    <tr>\n",
       "      <th>1543</th>\n",
       "      <td>lo2VbA7Lwzu3i23pQpmzlw</td>\n",
       "      <td>Starbucks</td>\n",
       "      <td>1125 S Black Horse Pike, Space 575</td>\n",
       "      <td>Gloucester Township</td>\n",
       "      <td>NJ</td>\n",
       "      <td>08012</td>\n",
       "      <td>39.78403</td>\n",
       "      <td>-75.05207</td>\n",
       "      <td>3.0</td>\n",
       "      <td>15</td>\n",
       "      <td>...</td>\n",
       "      <td>NJ</td>\n",
       "      <td>08012</td>\n",
       "      <td>39.78403</td>\n",
       "      <td>-75.05207</td>\n",
       "      <td>3.0</td>\n",
       "      <td>15</td>\n",
       "      <td>1</td>\n",
       "      <td>{'BikeParking': 'True', 'RestaurantsPriceRange...</td>\n",
       "      <td>Food, Coffee &amp; Tea</td>\n",
       "      <td>{'Monday': '0:0-0:0', 'Tuesday': '10:30-20:0',...</td>\n",
       "    </tr>\n",
       "  </tbody>\n",
       "</table>\n",
       "<p>5 rows × 28 columns</p>\n",
       "</div>"
      ],
      "text/plain": [
       "                 business_id       name                             address  \\\n",
       "590   6_Zf2QsRHCH1RhbzA9inyw  Starbucks               8602 Hillsborough Ave   \n",
       "613   Iipfa9Kaac9XH5Vo8GQwvg  Starbucks                     5956 153 Avenue   \n",
       "978   oY6osC4Ch3PvguA7D1hh_w  Starbucks                    1251 Route 130 S   \n",
       "1296  pxuMxh5oC7W-PDN9wwvozg  Starbucks                     219 N Center St   \n",
       "1543  lo2VbA7Lwzu3i23pQpmzlw  Starbucks  1125 S Black Horse Pike, Space 575   \n",
       "\n",
       "                     city state postal_code   latitude   longitude stars  \\\n",
       "590                 Tampa    LA       33615   27.99637  -82.580954   3.0   \n",
       "613              Edmonton    PA     T5Y 2W1  53.616147 -113.432424   3.5   \n",
       "978           Cinnaminson    AZ       08077  40.000157  -74.987313   4.5   \n",
       "1296                 Reno    FL       89501  39.527772 -119.812518   3.0   \n",
       "1543  Gloucester Township    NJ       08012   39.78403   -75.05207   3.0   \n",
       "\n",
       "     review_count  ... state postal_code   latitude   longitude stars  \\\n",
       "590            56  ...    LA       33615   27.99637  -82.580954   3.0   \n",
       "613            10  ...    PA     T5Y 2W1  53.616147 -113.432424   3.5   \n",
       "978             7  ...    AZ       08077  40.000157  -74.987313   4.5   \n",
       "1296           44  ...    FL       89501  39.527772 -119.812518   3.0   \n",
       "1543           15  ...    NJ       08012   39.78403   -75.05207   3.0   \n",
       "\n",
       "     review_count is_open                                         attributes  \\\n",
       "590            56       1  {'BikeParking': 'True', 'BusinessAcceptsCredit...   \n",
       "613            10       1  {'BusinessParking': '{'garage': False, 'street...   \n",
       "978             7       1  {'WiFi': 'u'free'', 'BusinessParking': '{'gara...   \n",
       "1296           44       0  {'BikeParking': 'False', 'Caters': 'False', 'O...   \n",
       "1543           15       1  {'BikeParking': 'True', 'RestaurantsPriceRange...   \n",
       "\n",
       "              categories                                              hours  \n",
       "590   Coffee & Tea, Food  {'Monday': '5:30-21:0', 'Tuesday': '5:30-21:0'...  \n",
       "613   Coffee & Tea, Food  {'Monday': '5:30-22:0', 'Tuesday': '5:30-22:0'...  \n",
       "978   Coffee & Tea, Food  {'Monday': '5:30-20:0', 'Tuesday': '5:30-20:0'...  \n",
       "1296  Coffee & Tea, Food  {'Monday': '5:30-19:0', 'Tuesday': '5:30-19:0'...  \n",
       "1543  Food, Coffee & Tea  {'Monday': '0:0-0:0', 'Tuesday': '10:30-20:0',...  \n",
       "\n",
       "[5 rows x 28 columns]"
      ]
     },
     "execution_count": 35,
     "metadata": {},
     "output_type": "execute_result"
    }
   ],
   "source": [
    "business_df[~business_df.iloc[:,-1].isna()]"
   ]
  },
  {
   "cell_type": "markdown",
   "metadata": {},
   "source": [
    "but.. do these duplicated columns hold same information?\n",
    "\n",
    "The following output indicates, they do.."
   ]
  },
  {
   "cell_type": "code",
   "execution_count": 36,
   "metadata": {},
   "outputs": [
    {
     "data": {
      "text/html": [
       "<div>\n",
       "<style scoped>\n",
       "    .dataframe tbody tr th:only-of-type {\n",
       "        vertical-align: middle;\n",
       "    }\n",
       "\n",
       "    .dataframe tbody tr th {\n",
       "        vertical-align: top;\n",
       "    }\n",
       "\n",
       "    .dataframe thead th {\n",
       "        text-align: right;\n",
       "    }\n",
       "</style>\n",
       "<table border=\"1\" class=\"dataframe\">\n",
       "  <thead>\n",
       "    <tr style=\"text-align: right;\">\n",
       "      <th></th>\n",
       "      <th>categories</th>\n",
       "      <th>categories</th>\n",
       "    </tr>\n",
       "  </thead>\n",
       "  <tbody>\n",
       "    <tr>\n",
       "      <th>590</th>\n",
       "      <td>Coffee &amp; Tea, Food</td>\n",
       "      <td>Coffee &amp; Tea, Food</td>\n",
       "    </tr>\n",
       "    <tr>\n",
       "      <th>613</th>\n",
       "      <td>Coffee &amp; Tea, Food</td>\n",
       "      <td>Coffee &amp; Tea, Food</td>\n",
       "    </tr>\n",
       "    <tr>\n",
       "      <th>978</th>\n",
       "      <td>Coffee &amp; Tea, Food</td>\n",
       "      <td>Coffee &amp; Tea, Food</td>\n",
       "    </tr>\n",
       "    <tr>\n",
       "      <th>1296</th>\n",
       "      <td>Coffee &amp; Tea, Food</td>\n",
       "      <td>Coffee &amp; Tea, Food</td>\n",
       "    </tr>\n",
       "    <tr>\n",
       "      <th>1543</th>\n",
       "      <td>Food, Coffee &amp; Tea</td>\n",
       "      <td>Food, Coffee &amp; Tea</td>\n",
       "    </tr>\n",
       "  </tbody>\n",
       "</table>\n",
       "</div>"
      ],
      "text/plain": [
       "              categories          categories\n",
       "590   Coffee & Tea, Food  Coffee & Tea, Food\n",
       "613   Coffee & Tea, Food  Coffee & Tea, Food\n",
       "978   Coffee & Tea, Food  Coffee & Tea, Food\n",
       "1296  Coffee & Tea, Food  Coffee & Tea, Food\n",
       "1543  Food, Coffee & Tea  Food, Coffee & Tea"
      ]
     },
     "execution_count": 36,
     "metadata": {},
     "output_type": "execute_result"
    }
   ],
   "source": [
    "business_df[~business_df.iloc[:,-1].isna()][\"categories\"] # -> It seems this rows holds same information"
   ]
  },
  {
   "cell_type": "markdown",
   "metadata": {},
   "source": [
    "So let's just drop those duplicated columns.. how? by dropping \"na\"s through columns whose null values are more than 150k.. but this threshold will add up the null values for the duplicated name columns.. for example.. columns \"attributes\" one only holds 13477 missing values, and the other one it is almost completely empty.. well, the threshold will drop both columns unfortunataly u.u I think due to column column ambiguity.. so.. getting rid off ambiguity is goint to be essential\n",
    "\n",
    "* attributes       13744\n",
    "* categories         103\n",
    "* hours            23223"
   ]
  },
  {
   "cell_type": "code",
   "execution_count": 37,
   "metadata": {},
   "outputs": [],
   "source": [
    "business_df[\"attributes\"].iloc[:,0].fillna(\"{'Attribute': 'Unknown'}\",inplace=True)\n",
    "business_df[\"categories\"].iloc[:,0].fillna(\"Unknown Category\", inplace=True)\n",
    "business_df[\"hours\"].iloc[:,0].fillna(\"Unknown Hours\", inplace=True)"
   ]
  },
  {
   "cell_type": "code",
   "execution_count": 38,
   "metadata": {},
   "outputs": [],
   "source": [
    "business_df[\"attributes\"].iloc[:,0].fillna(\"{'Attribute': 'Unknown'}\", inplace=True)"
   ]
  },
  {
   "cell_type": "code",
   "execution_count": 39,
   "metadata": {},
   "outputs": [
    {
     "data": {
      "text/plain": [
       "attributes     13744\n",
       "attributes    150341\n",
       "dtype: int64"
      ]
     },
     "execution_count": 39,
     "metadata": {},
     "output_type": "execute_result"
    }
   ],
   "source": [
    "business_df[\"attributes\"].isna().sum()"
   ]
  },
  {
   "cell_type": "code",
   "execution_count": 40,
   "metadata": {},
   "outputs": [
    {
     "data": {
      "text/plain": [
       "Index(['business_id', 'name', 'address', 'city', 'state', 'postal_code',\n",
       "       'latitude', 'longitude', 'stars', 'review_count', 'is_open',\n",
       "       'attributes', 'categories', 'hours'],\n",
       "      dtype='object')"
      ]
     },
     "execution_count": 40,
     "metadata": {},
     "output_type": "execute_result"
    }
   ],
   "source": [
    "business_columns = business_df.columns[:14]\n",
    "business_columns"
   ]
  },
  {
   "cell_type": "code",
   "execution_count": 41,
   "metadata": {},
   "outputs": [],
   "source": [
    "business_df.loc[business_df[\"attributes\"].iloc[:,0].isna(), \"attributes\"].iloc[:,0] = \"No attributes\""
   ]
  },
  {
   "cell_type": "code",
   "execution_count": 42,
   "metadata": {},
   "outputs": [],
   "source": [
    "business_df.columns = range(len(business_df.columns))"
   ]
  },
  {
   "cell_type": "code",
   "execution_count": 43,
   "metadata": {},
   "outputs": [],
   "source": [
    "business_df.drop(business_df.loc[:,14:].columns, axis=1, inplace=True)"
   ]
  },
  {
   "cell_type": "code",
   "execution_count": 44,
   "metadata": {},
   "outputs": [
    {
     "data": {
      "text/plain": [
       "0         0\n",
       "1         0\n",
       "2         0\n",
       "3         0\n",
       "4         3\n",
       "5         0\n",
       "6         0\n",
       "7         0\n",
       "8         0\n",
       "9         0\n",
       "10        0\n",
       "11    13744\n",
       "12      103\n",
       "13    23223\n",
       "dtype: int64"
      ]
     },
     "execution_count": 44,
     "metadata": {},
     "output_type": "execute_result"
    }
   ],
   "source": [
    "business_df.isna().sum()"
   ]
  },
  {
   "cell_type": "code",
   "execution_count": 45,
   "metadata": {},
   "outputs": [],
   "source": [
    "business_df.columns = business_columns[:14]"
   ]
  },
  {
   "cell_type": "code",
   "execution_count": 60,
   "metadata": {},
   "outputs": [],
   "source": [
    "business_df[\"categories\"] = (business_df[\"categories\"].astype(str).apply(lambda x: x.split(\",\")).\n",
    "                                apply(lambda x: [x_.strip() for x_ in x]))"
   ]
  },
  {
   "cell_type": "code",
   "execution_count": 64,
   "metadata": {},
   "outputs": [],
   "source": [
    "business_restaurant_df = business_df[business_df[\"categories\"].apply(lambda x: \"Restaurants\" in x)]"
   ]
  },
  {
   "cell_type": "code",
   "execution_count": 65,
   "metadata": {},
   "outputs": [],
   "source": [
    "business_restaurant_df.to_parquet(\"data/yelp/business_restaurant.parquet\")"
   ]
  },
  {
   "cell_type": "markdown",
   "metadata": {},
   "source": [
    "### Saving business into parquet file after dropping duplicated columns"
   ]
  },
  {
   "cell_type": "code",
   "execution_count": 46,
   "metadata": {},
   "outputs": [
    {
     "data": {
      "text/html": [
       "<div>\n",
       "<style scoped>\n",
       "    .dataframe tbody tr th:only-of-type {\n",
       "        vertical-align: middle;\n",
       "    }\n",
       "\n",
       "    .dataframe tbody tr th {\n",
       "        vertical-align: top;\n",
       "    }\n",
       "\n",
       "    .dataframe thead th {\n",
       "        text-align: right;\n",
       "    }\n",
       "</style>\n",
       "<table border=\"1\" class=\"dataframe\">\n",
       "  <thead>\n",
       "    <tr style=\"text-align: right;\">\n",
       "      <th></th>\n",
       "      <th>business_id</th>\n",
       "      <th>name</th>\n",
       "      <th>address</th>\n",
       "      <th>city</th>\n",
       "      <th>state</th>\n",
       "      <th>postal_code</th>\n",
       "      <th>latitude</th>\n",
       "      <th>longitude</th>\n",
       "      <th>stars</th>\n",
       "      <th>review_count</th>\n",
       "      <th>is_open</th>\n",
       "      <th>attributes</th>\n",
       "      <th>categories</th>\n",
       "      <th>hours</th>\n",
       "    </tr>\n",
       "  </thead>\n",
       "  <tbody>\n",
       "    <tr>\n",
       "      <th>0</th>\n",
       "      <td>Pns2l4eNsfO8kk83dixA6A</td>\n",
       "      <td>Abby Rappoport, LAC, CMQ</td>\n",
       "      <td>1616 Chapala St, Ste 2</td>\n",
       "      <td>Santa Barbara</td>\n",
       "      <td>NaN</td>\n",
       "      <td>93101</td>\n",
       "      <td>34.426679</td>\n",
       "      <td>-119.711197</td>\n",
       "      <td>5.0</td>\n",
       "      <td>7</td>\n",
       "      <td>0</td>\n",
       "      <td>{'ByAppointmentOnly': 'True'}</td>\n",
       "      <td>Doctors, Traditional Chinese Medicine, Naturop...</td>\n",
       "      <td>None</td>\n",
       "    </tr>\n",
       "    <tr>\n",
       "      <th>1</th>\n",
       "      <td>mpf3x-BjTdTEA3yCZrAYPw</td>\n",
       "      <td>The UPS Store</td>\n",
       "      <td>87 Grasso Plaza Shopping Center</td>\n",
       "      <td>Affton</td>\n",
       "      <td>NaN</td>\n",
       "      <td>63123</td>\n",
       "      <td>38.551126</td>\n",
       "      <td>-90.335695</td>\n",
       "      <td>3.0</td>\n",
       "      <td>15</td>\n",
       "      <td>1</td>\n",
       "      <td>{'BusinessAcceptsCreditCards': 'True'}</td>\n",
       "      <td>Shipping Centers, Local Services, Notaries, Ma...</td>\n",
       "      <td>{'Monday': '0:0-0:0', 'Tuesday': '8:0-18:30', ...</td>\n",
       "    </tr>\n",
       "    <tr>\n",
       "      <th>2</th>\n",
       "      <td>tUFrWirKiKi_TAnsVWINQQ</td>\n",
       "      <td>Target</td>\n",
       "      <td>5255 E Broadway Blvd</td>\n",
       "      <td>Tucson</td>\n",
       "      <td>NaN</td>\n",
       "      <td>85711</td>\n",
       "      <td>32.223236</td>\n",
       "      <td>-110.880452</td>\n",
       "      <td>3.5</td>\n",
       "      <td>22</td>\n",
       "      <td>0</td>\n",
       "      <td>{'BikeParking': 'True', 'BusinessAcceptsCredit...</td>\n",
       "      <td>Department Stores, Shopping, Fashion, Home &amp; G...</td>\n",
       "      <td>{'Monday': '8:0-22:0', 'Tuesday': '8:0-22:0', ...</td>\n",
       "    </tr>\n",
       "    <tr>\n",
       "      <th>3</th>\n",
       "      <td>MTSW4McQd7CbVtyjqoe9mw</td>\n",
       "      <td>St Honore Pastries</td>\n",
       "      <td>935 Race St</td>\n",
       "      <td>Philadelphia</td>\n",
       "      <td>CA</td>\n",
       "      <td>19107</td>\n",
       "      <td>39.955505</td>\n",
       "      <td>-75.155564</td>\n",
       "      <td>4.0</td>\n",
       "      <td>80</td>\n",
       "      <td>1</td>\n",
       "      <td>{'RestaurantsDelivery': 'False', 'OutdoorSeati...</td>\n",
       "      <td>Restaurants, Food, Bubble Tea, Coffee &amp; Tea, B...</td>\n",
       "      <td>{'Monday': '7:0-20:0', 'Tuesday': '7:0-20:0', ...</td>\n",
       "    </tr>\n",
       "    <tr>\n",
       "      <th>4</th>\n",
       "      <td>mWMc6_wTdE0EUBKIGXDVfA</td>\n",
       "      <td>Perkiomen Valley Brewery</td>\n",
       "      <td>101 Walnut St</td>\n",
       "      <td>Green Lane</td>\n",
       "      <td>MO</td>\n",
       "      <td>18054</td>\n",
       "      <td>40.338183</td>\n",
       "      <td>-75.471659</td>\n",
       "      <td>4.5</td>\n",
       "      <td>13</td>\n",
       "      <td>1</td>\n",
       "      <td>{'BusinessAcceptsCreditCards': 'True', 'Wheelc...</td>\n",
       "      <td>Brewpubs, Breweries, Food</td>\n",
       "      <td>{'Wednesday': '14:0-22:0', 'Thursday': '16:0-2...</td>\n",
       "    </tr>\n",
       "  </tbody>\n",
       "</table>\n",
       "</div>"
      ],
      "text/plain": [
       "              business_id                      name  \\\n",
       "0  Pns2l4eNsfO8kk83dixA6A  Abby Rappoport, LAC, CMQ   \n",
       "1  mpf3x-BjTdTEA3yCZrAYPw             The UPS Store   \n",
       "2  tUFrWirKiKi_TAnsVWINQQ                    Target   \n",
       "3  MTSW4McQd7CbVtyjqoe9mw        St Honore Pastries   \n",
       "4  mWMc6_wTdE0EUBKIGXDVfA  Perkiomen Valley Brewery   \n",
       "\n",
       "                           address           city state postal_code  \\\n",
       "0           1616 Chapala St, Ste 2  Santa Barbara   NaN       93101   \n",
       "1  87 Grasso Plaza Shopping Center         Affton   NaN       63123   \n",
       "2             5255 E Broadway Blvd         Tucson   NaN       85711   \n",
       "3                      935 Race St   Philadelphia    CA       19107   \n",
       "4                    101 Walnut St     Green Lane    MO       18054   \n",
       "\n",
       "    latitude   longitude stars review_count is_open  \\\n",
       "0  34.426679 -119.711197   5.0            7       0   \n",
       "1  38.551126  -90.335695   3.0           15       1   \n",
       "2  32.223236 -110.880452   3.5           22       0   \n",
       "3  39.955505  -75.155564   4.0           80       1   \n",
       "4  40.338183  -75.471659   4.5           13       1   \n",
       "\n",
       "                                          attributes  \\\n",
       "0                      {'ByAppointmentOnly': 'True'}   \n",
       "1             {'BusinessAcceptsCreditCards': 'True'}   \n",
       "2  {'BikeParking': 'True', 'BusinessAcceptsCredit...   \n",
       "3  {'RestaurantsDelivery': 'False', 'OutdoorSeati...   \n",
       "4  {'BusinessAcceptsCreditCards': 'True', 'Wheelc...   \n",
       "\n",
       "                                          categories  \\\n",
       "0  Doctors, Traditional Chinese Medicine, Naturop...   \n",
       "1  Shipping Centers, Local Services, Notaries, Ma...   \n",
       "2  Department Stores, Shopping, Fashion, Home & G...   \n",
       "3  Restaurants, Food, Bubble Tea, Coffee & Tea, B...   \n",
       "4                          Brewpubs, Breweries, Food   \n",
       "\n",
       "                                               hours  \n",
       "0                                               None  \n",
       "1  {'Monday': '0:0-0:0', 'Tuesday': '8:0-18:30', ...  \n",
       "2  {'Monday': '8:0-22:0', 'Tuesday': '8:0-22:0', ...  \n",
       "3  {'Monday': '7:0-20:0', 'Tuesday': '7:0-20:0', ...  \n",
       "4  {'Wednesday': '14:0-22:0', 'Thursday': '16:0-2...  "
      ]
     },
     "execution_count": 46,
     "metadata": {},
     "output_type": "execute_result"
    }
   ],
   "source": [
    "#Firt of all, let's have a loot at the output\n",
    "business_df.head()"
   ]
  },
  {
   "cell_type": "code",
   "execution_count": 47,
   "metadata": {},
   "outputs": [],
   "source": [
    "# business_df.to_parquet(path=\"data/yelp/business.parquet\")"
   ]
  },
  {
   "cell_type": "markdown",
   "metadata": {},
   "source": [
    "### Getting Unique Categories from Categories Features"
   ]
  },
  {
   "cell_type": "code",
   "execution_count": 48,
   "metadata": {},
   "outputs": [],
   "source": [
    "categories = business_df[\"categories\"].astype(str).apply(lambda x: x.split(\",\"))"
   ]
  },
  {
   "cell_type": "code",
   "execution_count": 49,
   "metadata": {},
   "outputs": [],
   "source": [
    "output_category = []\n",
    "for array_category in categories.tolist():\n",
    "    for category in array_category:\n",
    "        output_category.append(category)\n"
   ]
  },
  {
   "cell_type": "code",
   "execution_count": 50,
   "metadata": {},
   "outputs": [
    {
     "data": {
      "text/html": [
       "<div>\n",
       "<style scoped>\n",
       "    .dataframe tbody tr th:only-of-type {\n",
       "        vertical-align: middle;\n",
       "    }\n",
       "\n",
       "    .dataframe tbody tr th {\n",
       "        vertical-align: top;\n",
       "    }\n",
       "\n",
       "    .dataframe thead th {\n",
       "        text-align: right;\n",
       "    }\n",
       "</style>\n",
       "<table border=\"1\" class=\"dataframe\">\n",
       "  <thead>\n",
       "    <tr style=\"text-align: right;\">\n",
       "      <th></th>\n",
       "      <th>0</th>\n",
       "    </tr>\n",
       "  </thead>\n",
       "  <tbody>\n",
       "    <tr>\n",
       "      <th>0</th>\n",
       "      <td>Doctors</td>\n",
       "    </tr>\n",
       "    <tr>\n",
       "      <th>1</th>\n",
       "      <td>Traditional Chinese Medicine</td>\n",
       "    </tr>\n",
       "    <tr>\n",
       "      <th>2</th>\n",
       "      <td>Naturopathic/Holistic</td>\n",
       "    </tr>\n",
       "    <tr>\n",
       "      <th>3</th>\n",
       "      <td>Acupuncture</td>\n",
       "    </tr>\n",
       "    <tr>\n",
       "      <th>4</th>\n",
       "      <td>Health &amp; Medical</td>\n",
       "    </tr>\n",
       "    <tr>\n",
       "      <th>...</th>\n",
       "      <td>...</td>\n",
       "    </tr>\n",
       "    <tr>\n",
       "      <th>668690</th>\n",
       "      <td>Bikes</td>\n",
       "    </tr>\n",
       "    <tr>\n",
       "      <th>668691</th>\n",
       "      <td>Beauty &amp; Spas</td>\n",
       "    </tr>\n",
       "    <tr>\n",
       "      <th>668692</th>\n",
       "      <td>Permanent Makeup</td>\n",
       "    </tr>\n",
       "    <tr>\n",
       "      <th>668693</th>\n",
       "      <td>Piercing</td>\n",
       "    </tr>\n",
       "    <tr>\n",
       "      <th>668694</th>\n",
       "      <td>Tattoo</td>\n",
       "    </tr>\n",
       "  </tbody>\n",
       "</table>\n",
       "<p>668695 rows × 1 columns</p>\n",
       "</div>"
      ],
      "text/plain": [
       "                                    0\n",
       "0                             Doctors\n",
       "1        Traditional Chinese Medicine\n",
       "2               Naturopathic/Holistic\n",
       "3                         Acupuncture\n",
       "4                    Health & Medical\n",
       "...                               ...\n",
       "668690                          Bikes\n",
       "668691                  Beauty & Spas\n",
       "668692               Permanent Makeup\n",
       "668693                       Piercing\n",
       "668694                         Tattoo\n",
       "\n",
       "[668695 rows x 1 columns]"
      ]
     },
     "execution_count": 50,
     "metadata": {},
     "output_type": "execute_result"
    }
   ],
   "source": [
    "categories = pd.DataFrame(output_category)\n",
    "categories"
   ]
  },
  {
   "cell_type": "code",
   "execution_count": 51,
   "metadata": {},
   "outputs": [
    {
     "data": {
      "text/plain": [
       " Restaurants           36978\n",
       " Food                  20998\n",
       " Shopping              18915\n",
       "Restaurants            15290\n",
       " Home Services         10563\n",
       "                       ...  \n",
       " Somali                    1\n",
       " College Counseling        1\n",
       "First Aid Classes          1\n",
       " Parklets                  1\n",
       " Calabrian                 1\n",
       "Name: count, Length: 2455, dtype: int64"
      ]
     },
     "execution_count": 51,
     "metadata": {},
     "output_type": "execute_result"
    }
   ],
   "source": [
    "categories.value_counts().sort_values(ascending=False)"
   ]
  },
  {
   "cell_type": "code",
   "execution_count": 52,
   "metadata": {},
   "outputs": [],
   "source": [
    "import ast\n",
    "def safe_literal_eval(x):\n",
    "    try:\n",
    "        return ast.literal_eval(x)\n",
    "    except (ValueError, SyntaxError):\n",
    "        return \"hey\""
   ]
  },
  {
   "cell_type": "markdown",
   "metadata": {},
   "source": [
    "### Visualizing Large Datasets with PySpark"
   ]
  },
  {
   "cell_type": "code",
   "execution_count": 1,
   "metadata": {},
   "outputs": [],
   "source": [
    "import findspark\n",
    "findspark.init(\"C:\\spark\")"
   ]
  },
  {
   "cell_type": "code",
   "execution_count": 2,
   "metadata": {},
   "outputs": [],
   "source": [
    "import pyspark\n",
    "from pyspark.sql import SparkSession"
   ]
  },
  {
   "cell_type": "code",
   "execution_count": 3,
   "metadata": {},
   "outputs": [
    {
     "data": {
      "text/html": [
       "\n",
       "            <div>\n",
       "                <p><b>SparkSession - in-memory</b></p>\n",
       "                \n",
       "        <div>\n",
       "            <p><b>SparkContext</b></p>\n",
       "\n",
       "            <p><a href=\"http://DESKTOP-U3AQAUL:4041\">Spark UI</a></p>\n",
       "\n",
       "            <dl>\n",
       "              <dt>Version</dt>\n",
       "                <dd><code>v3.3.3</code></dd>\n",
       "              <dt>Master</dt>\n",
       "                <dd><code>local[*]</code></dd>\n",
       "              <dt>AppName</dt>\n",
       "                <dd><code>EDA_google_yelp</code></dd>\n",
       "            </dl>\n",
       "        </div>\n",
       "        \n",
       "            </div>\n",
       "        "
      ],
      "text/plain": [
       "<pyspark.sql.session.SparkSession at 0x2641f97bdf0>"
      ]
     },
     "execution_count": 3,
     "metadata": {},
     "output_type": "execute_result"
    }
   ],
   "source": [
    "spark = SparkSession.builder.appName(\"EDA_google_yelp\").getOrCreate()\n",
    "spark"
   ]
  },
  {
   "cell_type": "code",
   "execution_count": 5,
   "metadata": {},
   "outputs": [],
   "source": [
    "reviews_json_dir = \"C:\\\\Users\\\\jdieg\\\\Desktop\\\\henry\\\\proyectos\\\\Google-Yelp\\\\.data\\\\yelp\\\\review-001.json\"\n",
    "review_full_DS = spark.read.json(reviews_json_dir)"
   ]
  },
  {
   "cell_type": "code",
   "execution_count": 6,
   "metadata": {},
   "outputs": [
    {
     "name": "stdout",
     "output_type": "stream",
     "text": [
      "root\n",
      " |-- business_id: string (nullable = true)\n",
      " |-- cool: long (nullable = true)\n",
      " |-- date: string (nullable = true)\n",
      " |-- funny: long (nullable = true)\n",
      " |-- review_id: string (nullable = true)\n",
      " |-- stars: double (nullable = true)\n",
      " |-- text: string (nullable = true)\n",
      " |-- useful: long (nullable = true)\n",
      " |-- user_id: string (nullable = true)\n",
      "\n"
     ]
    }
   ],
   "source": [
    "review_full_DS.printSchema()"
   ]
  },
  {
   "cell_type": "code",
   "execution_count": 7,
   "metadata": {},
   "outputs": [],
   "source": [
    "review_full_DS.createOrReplaceTempView(\"reviews\")"
   ]
  },
  {
   "cell_type": "code",
   "execution_count": 8,
   "metadata": {},
   "outputs": [
    {
     "data": {
      "text/plain": [
       "[Table(name='reviews', database=None, description=None, tableType='TEMPORARY', isTemporary=True)]"
      ]
     },
     "execution_count": 8,
     "metadata": {},
     "output_type": "execute_result"
    }
   ],
   "source": [
    "spark.catalog.listTables()"
   ]
  },
  {
   "cell_type": "code",
   "execution_count": 9,
   "metadata": {},
   "outputs": [
    {
     "name": "stdout",
     "output_type": "stream",
     "text": [
      "+-------------------+-------------------+\n",
      "|          min(date)|          max(date)|\n",
      "+-------------------+-------------------+\n",
      "|2005-02-16 03:23:22|2022-01-19 19:48:45|\n",
      "+-------------------+-------------------+\n",
      "\n"
     ]
    }
   ],
   "source": [
    "query_0 = \"\"\"\n",
    "SELECT MIN(date), MAX(date)\n",
    "FROM reviews\n",
    "\"\"\"\n",
    "spark.sql(query_0).show()"
   ]
  },
  {
   "cell_type": "code",
   "execution_count": 10,
   "metadata": {},
   "outputs": [],
   "source": [
    "query_1 = \"\"\"\n",
    "SELECT YEAR(date) AS year, COUNT(date) as COUNT \n",
    "FROM reviews \n",
    "GROUP BY YEAR(date) \n",
    "ORDER BY YEAR(date) DESC;\n",
    "\"\"\"\n",
    "number_of_reviews_along_years = spark.sql(query_1)"
   ]
  },
  {
   "cell_type": "code",
   "execution_count": 11,
   "metadata": {},
   "outputs": [],
   "source": [
    "reviews_distribution_across_years = number_of_reviews_along_years.toPandas()"
   ]
  },
  {
   "cell_type": "code",
   "execution_count": 12,
   "metadata": {},
   "outputs": [
    {
     "data": {
      "text/plain": [
       "<Axes: xlabel='year'>"
      ]
     },
     "execution_count": 12,
     "metadata": {},
     "output_type": "execute_result"
    },
    {
     "data": {
      "image/png": "[encoded data removed]",
      "text/plain": [
       "<Figure size 640x480 with 1 Axes>"
      ]
     },
     "metadata": {},
     "output_type": "display_data"
    }
   ],
   "source": [
    "reviews_distribution_across_years.set_index(\"year\").plot(kind=\"bar\", rot=45)"
   ]
  },
  {
   "cell_type": "code",
   "execution_count": 15,
   "metadata": {},
   "outputs": [],
   "source": [
    "business_restaurant_dir = \"C:\\\\Users\\\\jdieg\\\\Desktop\\\\henry\\\\proyectos\\\\Google-Yelp\\\\.data\\\\yelp\\\\business_restaurante.parquet\"\n",
    "business_full_DS = spark.read.parquet(business_restaurant_dir)"
   ]
  },
  {
   "cell_type": "code",
   "execution_count": 16,
   "metadata": {},
   "outputs": [],
   "source": [
    "business_full_DS.createOrReplaceTempView(\"business\")"
   ]
  },
  {
   "cell_type": "code",
   "execution_count": 17,
   "metadata": {},
   "outputs": [
    {
     "name": "stdout",
     "output_type": "stream",
     "text": [
      "root\n",
      " |-- business_id: string (nullable = true)\n",
      " |-- name: string (nullable = true)\n",
      " |-- address: string (nullable = true)\n",
      " |-- city: string (nullable = true)\n",
      " |-- state: string (nullable = true)\n",
      " |-- postal_code: string (nullable = true)\n",
      " |-- latitude: double (nullable = true)\n",
      " |-- longitude: double (nullable = true)\n",
      " |-- stars: double (nullable = true)\n",
      " |-- review_count: long (nullable = true)\n",
      " |-- is_open: long (nullable = true)\n",
      " |-- attributes: struct (nullable = true)\n",
      " |    |-- AcceptsInsurance: string (nullable = true)\n",
      " |    |-- AgesAllowed: string (nullable = true)\n",
      " |    |-- Alcohol: string (nullable = true)\n",
      " |    |-- Ambience: string (nullable = true)\n",
      " |    |-- BYOB: string (nullable = true)\n",
      " |    |-- BYOBCorkage: string (nullable = true)\n",
      " |    |-- BestNights: string (nullable = true)\n",
      " |    |-- BikeParking: string (nullable = true)\n",
      " |    |-- BusinessAcceptsBitcoin: string (nullable = true)\n",
      " |    |-- BusinessAcceptsCreditCards: string (nullable = true)\n",
      " |    |-- BusinessParking: string (nullable = true)\n",
      " |    |-- ByAppointmentOnly: string (nullable = true)\n",
      " |    |-- Caters: string (nullable = true)\n",
      " |    |-- CoatCheck: string (nullable = true)\n",
      " |    |-- Corkage: string (nullable = true)\n",
      " |    |-- DietaryRestrictions: string (nullable = true)\n",
      " |    |-- DogsAllowed: string (nullable = true)\n",
      " |    |-- DriveThru: string (nullable = true)\n",
      " |    |-- GoodForDancing: string (nullable = true)\n",
      " |    |-- GoodForKids: string (nullable = true)\n",
      " |    |-- GoodForMeal: string (nullable = true)\n",
      " |    |-- HairSpecializesIn: string (nullable = true)\n",
      " |    |-- HappyHour: string (nullable = true)\n",
      " |    |-- HasTV: string (nullable = true)\n",
      " |    |-- Music: string (nullable = true)\n",
      " |    |-- NoiseLevel: string (nullable = true)\n",
      " |    |-- Open24Hours: string (nullable = true)\n",
      " |    |-- OutdoorSeating: string (nullable = true)\n",
      " |    |-- RestaurantsAttire: string (nullable = true)\n",
      " |    |-- RestaurantsCounterService: string (nullable = true)\n",
      " |    |-- RestaurantsDelivery: string (nullable = true)\n",
      " |    |-- RestaurantsGoodForGroups: string (nullable = true)\n",
      " |    |-- RestaurantsPriceRange2: string (nullable = true)\n",
      " |    |-- RestaurantsReservations: string (nullable = true)\n",
      " |    |-- RestaurantsTableService: string (nullable = true)\n",
      " |    |-- RestaurantsTakeOut: string (nullable = true)\n",
      " |    |-- Smoking: string (nullable = true)\n",
      " |    |-- WheelchairAccessible: string (nullable = true)\n",
      " |    |-- WiFi: string (nullable = true)\n",
      " |-- categories: array (nullable = true)\n",
      " |    |-- element: string (containsNull = true)\n",
      " |-- hours: struct (nullable = true)\n",
      " |    |-- Friday: string (nullable = true)\n",
      " |    |-- Monday: string (nullable = true)\n",
      " |    |-- Saturday: string (nullable = true)\n",
      " |    |-- Sunday: string (nullable = true)\n",
      " |    |-- Thursday: string (nullable = true)\n",
      " |    |-- Tuesday: string (nullable = true)\n",
      " |    |-- Wednesday: string (nullable = true)\n",
      "\n"
     ]
    }
   ],
   "source": [
    "business_full_DS.printSchema()"
   ]
  },
  {
   "cell_type": "code",
   "execution_count": 18,
   "metadata": {},
   "outputs": [
    {
     "data": {
      "text/plain": [
       "[Table(name='business', database=None, description=None, tableType='TEMPORARY', isTemporary=True),\n",
       " Table(name='reviews', database=None, description=None, tableType='TEMPORARY', isTemporary=True)]"
      ]
     },
     "execution_count": 18,
     "metadata": {},
     "output_type": "execute_result"
    }
   ],
   "source": [
    "spark.catalog.listTables()"
   ]
  },
  {
   "cell_type": "code",
   "execution_count": 19,
   "metadata": {},
   "outputs": [
    {
     "name": "stdout",
     "output_type": "stream",
     "text": [
      "+-----------+\n",
      "|count(name)|\n",
      "+-----------+\n",
      "|      52268|\n",
      "+-----------+\n",
      "\n"
     ]
    }
   ],
   "source": [
    "query_2 = \"\"\"\n",
    "SELECT count(name)\n",
    "FROM business\n",
    "\"\"\"\n",
    "spark.sql(query_2).show()"
   ]
  },
  {
   "cell_type": "code",
   "execution_count": 20,
   "metadata": {},
   "outputs": [
    {
     "name": "stdout",
     "output_type": "stream",
     "text": [
      "+--------------------+------------------+-----------+------------+-----+-----------+----------+-----------+-----+------------+-------+--------------------+--------------------+--------------------+\n",
      "|         business_id|              name|    address|        city|state|postal_code|  latitude|  longitude|stars|review_count|is_open|          attributes|          categories|               hours|\n",
      "+--------------------+------------------+-----------+------------+-----+-----------+----------+-----------+-----+------------+-------+--------------------+--------------------+--------------------+\n",
      "|MTSW4McQd7CbVtyjq...|St Honore Pastries|935 Race St|Philadelphia|   CA|      19107|39.9555052|-75.1555641|  4.0|          80|      1|{null, null, u'no...|[Restaurants, Foo...|{7:0-21:0, 7:0-20...|\n",
      "+--------------------+------------------+-----------+------------+-----+-----------+----------+-----------+-----+------------+-------+--------------------+--------------------+--------------------+\n",
      "\n"
     ]
    }
   ],
   "source": [
    "query_3 = \"\"\"\n",
    "SELECT *\n",
    "FROM business\n",
    "LIMIT 1\n",
    "\"\"\"\n",
    "\n",
    "spark.sql(query_3).show()"
   ]
  },
  {
   "cell_type": "code",
   "execution_count": 21,
   "metadata": {},
   "outputs": [
    {
     "name": "stdout",
     "output_type": "stream",
     "text": [
      "+--------------------+----+-------------------+-----+--------------------+-----+--------------------+------+--------------------+\n",
      "|         business_id|cool|               date|funny|           review_id|stars|                text|useful|             user_id|\n",
      "+--------------------+----+-------------------+-----+--------------------+-----+--------------------+------+--------------------+\n",
      "|XQfwVwDr-v0ZS3_Cb...|   0|2018-07-07 22:09:11|    0|KU_O5udG6zpxOg-Vc...|  3.0|If you decide to ...|     0|mh_-eMZ6K5RLWhZyI...|\n",
      "|7ATYjTIgM3jUlt4UM...|   1|2012-01-03 15:28:18|    0|BiTunyQ73aT9WBnpR...|  5.0|I've taken a lot ...|     1|OyoGAe7OKpv6SyGZT...|\n",
      "|YjUWPpI6HXG530lwP...|   0|2014-02-05 20:30:30|    0|saUsX_uimxRlCVr67...|  3.0|Family diner. Had...|     0|8g_iMtfSiwikVnbP2...|\n",
      "|kxX2SOes4o-D3ZQBk...|   1|2015-01-04 00:01:03|    0|AqPFMleE6RsU23_au...|  5.0|Wow!  Yummy, diff...|     1|_7bHUi9Uuf5__HHc_...|\n",
      "|e4Vwtrqf-wpJfwesg...|   1|2017-01-14 20:54:15|    0|Sx8TMOWLNuJBWer-0...|  4.0|Cute interior and...|     1|bcjbaE6dDog4jkNY9...|\n",
      "+--------------------+----+-------------------+-----+--------------------+-----+--------------------+------+--------------------+\n",
      "\n"
     ]
    }
   ],
   "source": [
    "query_4 = \"\"\"\n",
    "SELECT *\n",
    "FROM reviews\n",
    "LIMIT 5\n",
    "\"\"\"\n",
    "\n",
    "spark.sql(query_4).show()"
   ]
  },
  {
   "cell_type": "code",
   "execution_count": 22,
   "metadata": {},
   "outputs": [],
   "source": [
    "query_5 = \"\"\"\n",
    "SELECT *\n",
    "FROM reviews\n",
    "WHERE YEAR(date) BETWEEN '2015' AND '2022'\n",
    "\"\"\"\n",
    "\n",
    "reviews_2015_2022 = spark.sql(query_5)"
   ]
  },
  {
   "cell_type": "code",
   "execution_count": 33,
   "metadata": {},
   "outputs": [],
   "source": [
    "reviews_2015_2022.createOrReplaceTempView(\"reviews_2015_2022\")"
   ]
  },
  {
   "cell_type": "code",
   "execution_count": 34,
   "metadata": {},
   "outputs": [
    {
     "data": {
      "text/plain": [
       "[Table(name='business', catalog=None, namespace=[], description=None, tableType='TEMPORARY', isTemporary=True),\n",
       " Table(name='reviews', catalog=None, namespace=[], description=None, tableType='TEMPORARY', isTemporary=True),\n",
       " Table(name='reviews_2015_2022', catalog=None, namespace=[], description=None, tableType='TEMPORARY', isTemporary=True)]"
      ]
     },
     "execution_count": 34,
     "metadata": {},
     "output_type": "execute_result"
    }
   ],
   "source": [
    "spark.catalog.listTables()"
   ]
  },
  {
   "cell_type": "code",
   "execution_count": 25,
   "metadata": {},
   "outputs": [
    {
     "ename": "Py4JJavaError",
     "evalue": "An error occurred while calling o88.parquet.\n: org.apache.spark.SparkException: Job aborted.\r\n\tat org.apache.spark.sql.errors.QueryExecutionErrors$.jobAbortedError(QueryExecutionErrors.scala:651)\r\n\tat org.apache.spark.sql.execution.datasources.FileFormatWriter$.write(FileFormatWriter.scala:288)\r\n\tat org.apache.spark.sql.execution.datasources.InsertIntoHadoopFsRelationCommand.run(InsertIntoHadoopFsRelationCommand.scala:186)\r\n\tat org.apache.spark.sql.execution.command.DataWritingCommandExec.sideEffectResult$lzycompute(commands.scala:113)\r\n\tat org.apache.spark.sql.execution.command.DataWritingCommandExec.sideEffectResult(commands.scala:111)\r\n\tat org.apache.spark.sql.execution.command.DataWritingCommandExec.executeCollect(commands.scala:125)\r\n\tat org.apache.spark.sql.execution.QueryExecution$$anonfun$eagerlyExecuteCommands$1.$anonfun$applyOrElse$1(QueryExecution.scala:98)\r\n\tat org.apache.spark.sql.execution.SQLExecution$.$anonfun$withNewExecutionId$6(SQLExecution.scala:109)\r\n\tat org.apache.spark.sql.execution.SQLExecution$.withSQLConfPropagated(SQLExecution.scala:169)\r\n\tat org.apache.spark.sql.execution.SQLExecution$.$anonfun$withNewExecutionId$1(SQLExecution.scala:95)\r\n\tat org.apache.spark.sql.SparkSession.withActive(SparkSession.scala:779)\r\n\tat org.apache.spark.sql.execution.SQLExecution$.withNewExecutionId(SQLExecution.scala:64)\r\n\tat org.apache.spark.sql.execution.QueryExecution$$anonfun$eagerlyExecuteCommands$1.applyOrElse(QueryExecution.scala:98)\r\n\tat org.apache.spark.sql.execution.QueryExecution$$anonfun$eagerlyExecuteCommands$1.applyOrElse(QueryExecution.scala:94)\r\n\tat org.apache.spark.sql.catalyst.trees.TreeNode.$anonfun$transformDownWithPruning$1(TreeNode.scala:584)\r\n\tat org.apache.spark.sql.catalyst.trees.CurrentOrigin$.withOrigin(TreeNode.scala:176)\r\n\tat org.apache.spark.sql.catalyst.trees.TreeNode.transformDownWithPruning(TreeNode.scala:584)\r\n\tat org.apache.spark.sql.catalyst.plans.logical.LogicalPlan.org$apache$spark$sql$catalyst$plans$logical$AnalysisHelper$$super$transformDownWithPruning(LogicalPlan.scala:30)\r\n\tat org.apache.spark.sql.catalyst.plans.logical.AnalysisHelper.transformDownWithPruning(AnalysisHelper.scala:267)\r\n\tat org.apache.spark.sql.catalyst.plans.logical.AnalysisHelper.transformDownWithPruning$(AnalysisHelper.scala:263)\r\n\tat org.apache.spark.sql.catalyst.plans.logical.LogicalPlan.transformDownWithPruning(LogicalPlan.scala:30)\r\n\tat org.apache.spark.sql.catalyst.plans.logical.LogicalPlan.transformDownWithPruning(LogicalPlan.scala:30)\r\n\tat org.apache.spark.sql.catalyst.trees.TreeNode.transformDown(TreeNode.scala:560)\r\n\tat org.apache.spark.sql.execution.QueryExecution.eagerlyExecuteCommands(QueryExecution.scala:94)\r\n\tat org.apache.spark.sql.execution.QueryExecution.commandExecuted$lzycompute(QueryExecution.scala:81)\r\n\tat org.apache.spark.sql.execution.QueryExecution.commandExecuted(QueryExecution.scala:79)\r\n\tat org.apache.spark.sql.execution.QueryExecution.assertCommandExecuted(QueryExecution.scala:116)\r\n\tat org.apache.spark.sql.DataFrameWriter.runCommand(DataFrameWriter.scala:860)\r\n\tat org.apache.spark.sql.DataFrameWriter.saveToV1Source(DataFrameWriter.scala:390)\r\n\tat org.apache.spark.sql.DataFrameWriter.saveInternal(DataFrameWriter.scala:363)\r\n\tat org.apache.spark.sql.DataFrameWriter.save(DataFrameWriter.scala:239)\r\n\tat org.apache.spark.sql.DataFrameWriter.parquet(DataFrameWriter.scala:793)\r\n\tat sun.reflect.NativeMethodAccessorImpl.invoke0(Native Method)\r\n\tat sun.reflect.NativeMethodAccessorImpl.invoke(NativeMethodAccessorImpl.java:62)\r\n\tat sun.reflect.DelegatingMethodAccessorImpl.invoke(DelegatingMethodAccessorImpl.java:43)\r\n\tat java.lang.reflect.Method.invoke(Method.java:498)\r\n\tat py4j.reflection.MethodInvoker.invoke(MethodInvoker.java:244)\r\n\tat py4j.reflection.ReflectionEngine.invoke(ReflectionEngine.java:357)\r\n\tat py4j.Gateway.invoke(Gateway.java:282)\r\n\tat py4j.commands.AbstractCommand.invokeMethod(AbstractCommand.java:132)\r\n\tat py4j.commands.CallCommand.execute(CallCommand.java:79)\r\n\tat py4j.ClientServerConnection.waitForCommands(ClientServerConnection.java:182)\r\n\tat py4j.ClientServerConnection.run(ClientServerConnection.java:106)\r\n\tat java.lang.Thread.run(Thread.java:750)\r\nCaused by: java.lang.UnsatisfiedLinkError: org.apache.hadoop.io.nativeio.NativeIO$Windows.access0(Ljava/lang/String;I)Z\r\n\tat org.apache.hadoop.io.nativeio.NativeIO$Windows.access0(Native Method)\r\n\tat org.apache.hadoop.io.nativeio.NativeIO$Windows.access(NativeIO.java:793)\r\n\tat org.apache.hadoop.fs.FileUtil.canRead(FileUtil.java:1218)\r\n\tat org.apache.hadoop.fs.FileUtil.list(FileUtil.java:1423)\r\n\tat org.apache.hadoop.fs.RawLocalFileSystem.listStatus(RawLocalFileSystem.java:601)\r\n\tat org.apache.hadoop.fs.FileSystem.listStatus(FileSystem.java:1972)\r\n\tat org.apache.hadoop.fs.FileSystem.listStatus(FileSystem.java:2014)\r\n\tat org.apache.hadoop.fs.ChecksumFileSystem.listStatus(ChecksumFileSystem.java:761)\r\n\tat org.apache.hadoop.fs.FileSystem.listStatus(FileSystem.java:1972)\r\n\tat org.apache.hadoop.fs.FileSystem.listStatus(FileSystem.java:2014)\r\n\tat org.apache.hadoop.mapreduce.lib.output.FileOutputCommitter.getAllCommittedTaskPaths(FileOutputCommitter.java:334)\r\n\tat org.apache.hadoop.mapreduce.lib.output.FileOutputCommitter.commitJobInternal(FileOutputCommitter.java:404)\r\n\tat org.apache.hadoop.mapreduce.lib.output.FileOutputCommitter.commitJob(FileOutputCommitter.java:377)\r\n\tat org.apache.parquet.hadoop.ParquetOutputCommitter.commitJob(ParquetOutputCommitter.java:48)\r\n\tat org.apache.spark.internal.io.HadoopMapReduceCommitProtocol.commitJob(HadoopMapReduceCommitProtocol.scala:192)\r\n\tat org.apache.spark.sql.execution.datasources.FileFormatWriter$.$anonfun$write$26(FileFormatWriter.scala:277)\r\n\tat scala.runtime.java8.JFunction0$mcV$sp.apply(JFunction0$mcV$sp.java:23)\r\n\tat org.apache.spark.util.Utils$.timeTakenMs(Utils.scala:642)\r\n\tat org.apache.spark.sql.execution.datasources.FileFormatWriter$.write(FileFormatWriter.scala:277)\r\n\t... 42 more\r\n",
     "output_type": "error",
     "traceback": [
      "\u001b[1;31m---------------------------------------------------------------------------\u001b[0m",
      "\u001b[1;31mPy4JJavaError\u001b[0m                             Traceback (most recent call last)",
      "\u001b[1;32mc:\\Users\\jdieg\\Desktop\\henry\\proyectos\\Google-Yelp\\Sprint-1\\Yelp\\etl_eda.ipynb Cell 130\u001b[0m line \u001b[0;36m2\n\u001b[0;32m      <a href='vscode-notebook-cell:/c%3A/Users/jdieg/Desktop/henry/proyectos/Google-Yelp/Sprint-1/Yelp/etl_eda.ipynb#Y242sZmlsZQ%3D%3D?line=0'>1</a>\u001b[0m reviews_2015_2022_output_dir \u001b[39m=\u001b[39m \u001b[39m\"\u001b[39m\u001b[39mC:\u001b[39m\u001b[39m\\\\\u001b[39;00m\u001b[39mUsers\u001b[39m\u001b[39m\\\\\u001b[39;00m\u001b[39mjdieg\u001b[39m\u001b[39m\\\\\u001b[39;00m\u001b[39mDesktop\u001b[39m\u001b[39m\\\\\u001b[39;00m\u001b[39mhenry\u001b[39m\u001b[39m\\\\\u001b[39;00m\u001b[39mproyectos\u001b[39m\u001b[39m\\\\\u001b[39;00m\u001b[39mGoogle-Yelp\u001b[39m\u001b[39m\\\\\u001b[39;00m\u001b[39m.data\u001b[39m\u001b[39m\\\\\u001b[39;00m\u001b[39myelp\u001b[39m\u001b[39m\\\\\u001b[39;00m\u001b[39mreviews_2015_2022.parquet\u001b[39m\u001b[39m\"\u001b[39m\n\u001b[1;32m----> <a href='vscode-notebook-cell:/c%3A/Users/jdieg/Desktop/henry/proyectos/Google-Yelp/Sprint-1/Yelp/etl_eda.ipynb#Y242sZmlsZQ%3D%3D?line=1'>2</a>\u001b[0m reviews_2015_2022\u001b[39m.\u001b[39;49mwrite\u001b[39m.\u001b[39;49mparquet(reviews_2015_2022_output_dir)\n",
      "File \u001b[1;32mC:\\spark\\python\\pyspark\\sql\\readwriter.py:1140\u001b[0m, in \u001b[0;36mDataFrameWriter.parquet\u001b[1;34m(self, path, mode, partitionBy, compression)\u001b[0m\n\u001b[0;32m   1138\u001b[0m     \u001b[39mself\u001b[39m\u001b[39m.\u001b[39mpartitionBy(partitionBy)\n\u001b[0;32m   1139\u001b[0m \u001b[39mself\u001b[39m\u001b[39m.\u001b[39m_set_opts(compression\u001b[39m=\u001b[39mcompression)\n\u001b[1;32m-> 1140\u001b[0m \u001b[39mself\u001b[39;49m\u001b[39m.\u001b[39;49m_jwrite\u001b[39m.\u001b[39;49mparquet(path)\n",
      "File \u001b[1;32mC:\\spark\\python\\lib\\py4j-0.10.9.5-src.zip\\py4j\\java_gateway.py:1321\u001b[0m, in \u001b[0;36mJavaMember.__call__\u001b[1;34m(self, *args)\u001b[0m\n\u001b[0;32m   1315\u001b[0m command \u001b[39m=\u001b[39m proto\u001b[39m.\u001b[39mCALL_COMMAND_NAME \u001b[39m+\u001b[39m\\\n\u001b[0;32m   1316\u001b[0m     \u001b[39mself\u001b[39m\u001b[39m.\u001b[39mcommand_header \u001b[39m+\u001b[39m\\\n\u001b[0;32m   1317\u001b[0m     args_command \u001b[39m+\u001b[39m\\\n\u001b[0;32m   1318\u001b[0m     proto\u001b[39m.\u001b[39mEND_COMMAND_PART\n\u001b[0;32m   1320\u001b[0m answer \u001b[39m=\u001b[39m \u001b[39mself\u001b[39m\u001b[39m.\u001b[39mgateway_client\u001b[39m.\u001b[39msend_command(command)\n\u001b[1;32m-> 1321\u001b[0m return_value \u001b[39m=\u001b[39m get_return_value(\n\u001b[0;32m   1322\u001b[0m     answer, \u001b[39mself\u001b[39;49m\u001b[39m.\u001b[39;49mgateway_client, \u001b[39mself\u001b[39;49m\u001b[39m.\u001b[39;49mtarget_id, \u001b[39mself\u001b[39;49m\u001b[39m.\u001b[39;49mname)\n\u001b[0;32m   1324\u001b[0m \u001b[39mfor\u001b[39;00m temp_arg \u001b[39min\u001b[39;00m temp_args:\n\u001b[0;32m   1325\u001b[0m     temp_arg\u001b[39m.\u001b[39m_detach()\n",
      "File \u001b[1;32mC:\\spark\\python\\pyspark\\sql\\utils.py:190\u001b[0m, in \u001b[0;36mcapture_sql_exception.<locals>.deco\u001b[1;34m(*a, **kw)\u001b[0m\n\u001b[0;32m    188\u001b[0m \u001b[39mdef\u001b[39;00m \u001b[39mdeco\u001b[39m(\u001b[39m*\u001b[39ma: Any, \u001b[39m*\u001b[39m\u001b[39m*\u001b[39mkw: Any) \u001b[39m-\u001b[39m\u001b[39m>\u001b[39m Any:\n\u001b[0;32m    189\u001b[0m     \u001b[39mtry\u001b[39;00m:\n\u001b[1;32m--> 190\u001b[0m         \u001b[39mreturn\u001b[39;00m f(\u001b[39m*\u001b[39ma, \u001b[39m*\u001b[39m\u001b[39m*\u001b[39mkw)\n\u001b[0;32m    191\u001b[0m     \u001b[39mexcept\u001b[39;00m Py4JJavaError \u001b[39mas\u001b[39;00m e:\n\u001b[0;32m    192\u001b[0m         converted \u001b[39m=\u001b[39m convert_exception(e\u001b[39m.\u001b[39mjava_exception)\n",
      "File \u001b[1;32mC:\\spark\\python\\lib\\py4j-0.10.9.5-src.zip\\py4j\\protocol.py:326\u001b[0m, in \u001b[0;36mget_return_value\u001b[1;34m(answer, gateway_client, target_id, name)\u001b[0m\n\u001b[0;32m    324\u001b[0m value \u001b[39m=\u001b[39m OUTPUT_CONVERTER[\u001b[39mtype\u001b[39m](answer[\u001b[39m2\u001b[39m:], gateway_client)\n\u001b[0;32m    325\u001b[0m \u001b[39mif\u001b[39;00m answer[\u001b[39m1\u001b[39m] \u001b[39m==\u001b[39m REFERENCE_TYPE:\n\u001b[1;32m--> 326\u001b[0m     \u001b[39mraise\u001b[39;00m Py4JJavaError(\n\u001b[0;32m    327\u001b[0m         \u001b[39m\"\u001b[39m\u001b[39mAn error occurred while calling \u001b[39m\u001b[39m{0}\u001b[39;00m\u001b[39m{1}\u001b[39;00m\u001b[39m{2}\u001b[39;00m\u001b[39m.\u001b[39m\u001b[39m\\n\u001b[39;00m\u001b[39m\"\u001b[39m\u001b[39m.\u001b[39m\n\u001b[0;32m    328\u001b[0m         \u001b[39mformat\u001b[39m(target_id, \u001b[39m\"\u001b[39m\u001b[39m.\u001b[39m\u001b[39m\"\u001b[39m, name), value)\n\u001b[0;32m    329\u001b[0m \u001b[39melse\u001b[39;00m:\n\u001b[0;32m    330\u001b[0m     \u001b[39mraise\u001b[39;00m Py4JError(\n\u001b[0;32m    331\u001b[0m         \u001b[39m\"\u001b[39m\u001b[39mAn error occurred while calling \u001b[39m\u001b[39m{0}\u001b[39;00m\u001b[39m{1}\u001b[39;00m\u001b[39m{2}\u001b[39;00m\u001b[39m. Trace:\u001b[39m\u001b[39m\\n\u001b[39;00m\u001b[39m{3}\u001b[39;00m\u001b[39m\\n\u001b[39;00m\u001b[39m\"\u001b[39m\u001b[39m.\u001b[39m\n\u001b[0;32m    332\u001b[0m         \u001b[39mformat\u001b[39m(target_id, \u001b[39m\"\u001b[39m\u001b[39m.\u001b[39m\u001b[39m\"\u001b[39m, name, value))\n",
      "\u001b[1;31mPy4JJavaError\u001b[0m: An error occurred while calling o88.parquet.\n: org.apache.spark.SparkException: Job aborted.\r\n\tat org.apache.spark.sql.errors.QueryExecutionErrors$.jobAbortedError(QueryExecutionErrors.scala:651)\r\n\tat org.apache.spark.sql.execution.datasources.FileFormatWriter$.write(FileFormatWriter.scala:288)\r\n\tat org.apache.spark.sql.execution.datasources.InsertIntoHadoopFsRelationCommand.run(InsertIntoHadoopFsRelationCommand.scala:186)\r\n\tat org.apache.spark.sql.execution.command.DataWritingCommandExec.sideEffectResult$lzycompute(commands.scala:113)\r\n\tat org.apache.spark.sql.execution.command.DataWritingCommandExec.sideEffectResult(commands.scala:111)\r\n\tat org.apache.spark.sql.execution.command.DataWritingCommandExec.executeCollect(commands.scala:125)\r\n\tat org.apache.spark.sql.execution.QueryExecution$$anonfun$eagerlyExecuteCommands$1.$anonfun$applyOrElse$1(QueryExecution.scala:98)\r\n\tat org.apache.spark.sql.execution.SQLExecution$.$anonfun$withNewExecutionId$6(SQLExecution.scala:109)\r\n\tat org.apache.spark.sql.execution.SQLExecution$.withSQLConfPropagated(SQLExecution.scala:169)\r\n\tat org.apache.spark.sql.execution.SQLExecution$.$anonfun$withNewExecutionId$1(SQLExecution.scala:95)\r\n\tat org.apache.spark.sql.SparkSession.withActive(SparkSession.scala:779)\r\n\tat org.apache.spark.sql.execution.SQLExecution$.withNewExecutionId(SQLExecution.scala:64)\r\n\tat org.apache.spark.sql.execution.QueryExecution$$anonfun$eagerlyExecuteCommands$1.applyOrElse(QueryExecution.scala:98)\r\n\tat org.apache.spark.sql.execution.QueryExecution$$anonfun$eagerlyExecuteCommands$1.applyOrElse(QueryExecution.scala:94)\r\n\tat org.apache.spark.sql.catalyst.trees.TreeNode.$anonfun$transformDownWithPruning$1(TreeNode.scala:584)\r\n\tat org.apache.spark.sql.catalyst.trees.CurrentOrigin$.withOrigin(TreeNode.scala:176)\r\n\tat org.apache.spark.sql.catalyst.trees.TreeNode.transformDownWithPruning(TreeNode.scala:584)\r\n\tat org.apache.spark.sql.catalyst.plans.logical.LogicalPlan.org$apache$spark$sql$catalyst$plans$logical$AnalysisHelper$$super$transformDownWithPruning(LogicalPlan.scala:30)\r\n\tat org.apache.spark.sql.catalyst.plans.logical.AnalysisHelper.transformDownWithPruning(AnalysisHelper.scala:267)\r\n\tat org.apache.spark.sql.catalyst.plans.logical.AnalysisHelper.transformDownWithPruning$(AnalysisHelper.scala:263)\r\n\tat org.apache.spark.sql.catalyst.plans.logical.LogicalPlan.transformDownWithPruning(LogicalPlan.scala:30)\r\n\tat org.apache.spark.sql.catalyst.plans.logical.LogicalPlan.transformDownWithPruning(LogicalPlan.scala:30)\r\n\tat org.apache.spark.sql.catalyst.trees.TreeNode.transformDown(TreeNode.scala:560)\r\n\tat org.apache.spark.sql.execution.QueryExecution.eagerlyExecuteCommands(QueryExecution.scala:94)\r\n\tat org.apache.spark.sql.execution.QueryExecution.commandExecuted$lzycompute(QueryExecution.scala:81)\r\n\tat org.apache.spark.sql.execution.QueryExecution.commandExecuted(QueryExecution.scala:79)\r\n\tat org.apache.spark.sql.execution.QueryExecution.assertCommandExecuted(QueryExecution.scala:116)\r\n\tat org.apache.spark.sql.DataFrameWriter.runCommand(DataFrameWriter.scala:860)\r\n\tat org.apache.spark.sql.DataFrameWriter.saveToV1Source(DataFrameWriter.scala:390)\r\n\tat org.apache.spark.sql.DataFrameWriter.saveInternal(DataFrameWriter.scala:363)\r\n\tat org.apache.spark.sql.DataFrameWriter.save(DataFrameWriter.scala:239)\r\n\tat org.apache.spark.sql.DataFrameWriter.parquet(DataFrameWriter.scala:793)\r\n\tat sun.reflect.NativeMethodAccessorImpl.invoke0(Native Method)\r\n\tat sun.reflect.NativeMethodAccessorImpl.invoke(NativeMethodAccessorImpl.java:62)\r\n\tat sun.reflect.DelegatingMethodAccessorImpl.invoke(DelegatingMethodAccessorImpl.java:43)\r\n\tat java.lang.reflect.Method.invoke(Method.java:498)\r\n\tat py4j.reflection.MethodInvoker.invoke(MethodInvoker.java:244)\r\n\tat py4j.reflection.ReflectionEngine.invoke(ReflectionEngine.java:357)\r\n\tat py4j.Gateway.invoke(Gateway.java:282)\r\n\tat py4j.commands.AbstractCommand.invokeMethod(AbstractCommand.java:132)\r\n\tat py4j.commands.CallCommand.execute(CallCommand.java:79)\r\n\tat py4j.ClientServerConnection.waitForCommands(ClientServerConnection.java:182)\r\n\tat py4j.ClientServerConnection.run(ClientServerConnection.java:106)\r\n\tat java.lang.Thread.run(Thread.java:750)\r\nCaused by: java.lang.UnsatisfiedLinkError: org.apache.hadoop.io.nativeio.NativeIO$Windows.access0(Ljava/lang/String;I)Z\r\n\tat org.apache.hadoop.io.nativeio.NativeIO$Windows.access0(Native Method)\r\n\tat org.apache.hadoop.io.nativeio.NativeIO$Windows.access(NativeIO.java:793)\r\n\tat org.apache.hadoop.fs.FileUtil.canRead(FileUtil.java:1218)\r\n\tat org.apache.hadoop.fs.FileUtil.list(FileUtil.java:1423)\r\n\tat org.apache.hadoop.fs.RawLocalFileSystem.listStatus(RawLocalFileSystem.java:601)\r\n\tat org.apache.hadoop.fs.FileSystem.listStatus(FileSystem.java:1972)\r\n\tat org.apache.hadoop.fs.FileSystem.listStatus(FileSystem.java:2014)\r\n\tat org.apache.hadoop.fs.ChecksumFileSystem.listStatus(ChecksumFileSystem.java:761)\r\n\tat org.apache.hadoop.fs.FileSystem.listStatus(FileSystem.java:1972)\r\n\tat org.apache.hadoop.fs.FileSystem.listStatus(FileSystem.java:2014)\r\n\tat org.apache.hadoop.mapreduce.lib.output.FileOutputCommitter.getAllCommittedTaskPaths(FileOutputCommitter.java:334)\r\n\tat org.apache.hadoop.mapreduce.lib.output.FileOutputCommitter.commitJobInternal(FileOutputCommitter.java:404)\r\n\tat org.apache.hadoop.mapreduce.lib.output.FileOutputCommitter.commitJob(FileOutputCommitter.java:377)\r\n\tat org.apache.parquet.hadoop.ParquetOutputCommitter.commitJob(ParquetOutputCommitter.java:48)\r\n\tat org.apache.spark.internal.io.HadoopMapReduceCommitProtocol.commitJob(HadoopMapReduceCommitProtocol.scala:192)\r\n\tat org.apache.spark.sql.execution.datasources.FileFormatWriter$.$anonfun$write$26(FileFormatWriter.scala:277)\r\n\tat scala.runtime.java8.JFunction0$mcV$sp.apply(JFunction0$mcV$sp.java:23)\r\n\tat org.apache.spark.util.Utils$.timeTakenMs(Utils.scala:642)\r\n\tat org.apache.spark.sql.execution.datasources.FileFormatWriter$.write(FileFormatWriter.scala:277)\r\n\t... 42 more\r\n"
     ]
    }
   ],
   "source": [
    "reviews_2015_2022_output_dir = \"C:\\\\Users\\\\jdieg\\\\Desktop\\\\henry\\\\proyectos\\\\Google-Yelp\\\\.data\\\\yelp\\\\reviews_2015_2022.parquet\"\n",
    "reviews_2015_2022.write.parquet(reviews_2015_2022_output_dir)"
   ]
  },
  {
   "cell_type": "code",
   "execution_count": null,
   "metadata": {},
   "outputs": [],
   "source": []
  }
 ],
 "metadata": {
  "kernelspec": {
   "display_name": "Python 3",
   "language": "python",
   "name": "python3"
  },
  "language_info": {
   "codemirror_mode": {
    "name": "ipython",
    "version": 3
   },
   "file_extension": ".py",
   "mimetype": "text/x-python",
   "name": "python",
   "nbconvert_exporter": "python",
   "pygments_lexer": "ipython3",
   "version": "3.10.11"
  },
  "orig_nbformat": 4
 },
 "nbformat": 4,
 "nbformat_minor": 2
}
