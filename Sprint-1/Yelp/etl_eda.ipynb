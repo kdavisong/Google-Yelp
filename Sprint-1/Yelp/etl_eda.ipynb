{
 "cells": [
  {
   "cell_type": "markdown",
   "metadata": {},
   "source": [
    "### Wellcome to EDA work\n",
    "\n",
    "El proposito de este notebook es el de explorar los datos a traves de la agregacion de estos.\n",
    "\n",
    "Datasets:\n",
    "- review-001.json: Reseñas de usuarios.\n",
    "- user-002.parquet: \n",
    "- business.pickle\n",
    "- Python_gmaps_metada\n",
    "- Python_Datasets_gmpas_reviews\n",
    "\n",
    "Los retos son:\n",
    "\n",
    "* Archivos muy pesados.\n",
    "* Diferentes formatos en los datasets.\n",
    "* Tal vez algo de limpieza y transformacion.\n",
    "\n",
    "\n",
    "Herramientas ocupadas\n",
    "\n",
    "* Polars - Lazy Frames (under SQL context)\n",
    "* Pandas - Data Frames\n",
    "* PySpark - Tables (Also under SQL context)"
   ]
  },
  {
   "cell_type": "code",
   "execution_count": 1,
   "metadata": {},
   "outputs": [],
   "source": [
    "import numpy as np\n",
    "import polars as pl\n",
    "import pandas as pd\n",
    "import matplotlib.pyplot as plt\n",
    "import pyarrow.parquet as pq"
   ]
  },
  {
   "cell_type": "markdown",
   "metadata": {},
   "source": [
    "### Google Reviews\n",
    "\n",
    "Este dataset es parquet contiene casi 90 millones de registros. Estos son solo las reseñas de los usuarios donde este se relaciona con el dataset de metadata. En metadata se elabora mas columnas que serivran para poder filtrar nuestra data y asi dar breves reportes.\n",
    "\n",
    "Debido a que es un dara set muy pesado, esto solo es posible con pyarrow. Es una libreria cuya "
   ]
  },
  {
   "cell_type": "code",
   "execution_count": 13,
   "metadata": {},
   "outputs": [],
   "source": [
    "directorio_google_reviews = \"C:\\\\Users\\\\jdieg\\\\Desktop\\\\henry\\\\proyectos\\\\Google-Yelp\\\\.data\\\\google_maps\\\\Python_Datasets_gmpas_reviews.parquet\"\n",
    "\n",
    "google_reviews = pq.read_table(directorio_google_reviews)"
   ]
  },
  {
   "cell_type": "markdown",
   "metadata": {},
   "source": [
    "Hasta este paso, el dataset cargado a googlereviews es relativamente ligero, al menos en la PC consume poco arriba de 3.5 GB.. al pasarlo a pandas es cuando hay un consumo significante quedando la variable incluso en 34 GB.. no se si esto queda almacenado en la RAM, pero se convierte en un dataset muy pesado. Despues de tener el pandas, asignar `None` a la variable `google_reviews` para liberar un poco.\n",
    "\n",
    "![imagen](C:\\\\Users\\\\jdieg\\\\Desktop\\\\henry\\\\proyectos\\\\Google-Yelp\\\\imagenes\\\\sprint_1\\\\eda_etl\\\\consumo_pandas.JPG)"
   ]
  },
  {
   "cell_type": "code",
   "execution_count": 14,
   "metadata": {},
   "outputs": [],
   "source": [
    "google_reviews_df = google_reviews.to_pandas()\n",
    "google_reviews_df.shape"
   ]
  },
  {
   "cell_type": "code",
   "execution_count": 4,
   "metadata": {},
   "outputs": [
    {
     "data": {
      "text/plain": [
       "user_id    float64\n",
       "name        object\n",
       "time         int64\n",
       "rating       int64\n",
       "text        object\n",
       "pics        object\n",
       "resp        object\n",
       "gmap_id     object\n",
       "dtype: object"
      ]
     },
     "execution_count": 4,
     "metadata": {},
     "output_type": "execute_result"
    }
   ],
   "source": [
    "google_reviews_df.dtypes"
   ]
  },
  {
   "cell_type": "markdown",
   "metadata": {},
   "source": [
    "Libera espacio en la variable `google_reviews`"
   ]
  },
  {
   "cell_type": "code",
   "execution_count": 5,
   "metadata": {},
   "outputs": [],
   "source": [
    "google_reviews = None"
   ]
  },
  {
   "cell_type": "markdown",
   "metadata": {},
   "source": [
    "Para hacer operaciones mas rapido en el dataframe de pandas es recomendable usar el backend de pyarrow para el tipo de dato haciendo lo siguiente (puede demorar algunos minutos)"
   ]
  },
  {
   "cell_type": "code",
   "execution_count": 6,
   "metadata": {},
   "outputs": [
    {
     "name": "stderr",
     "output_type": "stream",
     "text": [
      "c:\\Users\\jdieg\\Desktop\\henry\\proyectos\\Google-Yelp\\.proyecto_final_env\\lib\\site-packages\\pandas\\core\\dtypes\\cast.py:1056: RuntimeWarning: invalid value encountered in cast\n",
      "  if (arr.astype(int) == arr).all():\n",
      "c:\\Users\\jdieg\\Desktop\\henry\\proyectos\\Google-Yelp\\.proyecto_final_env\\lib\\site-packages\\pandas\\core\\dtypes\\cast.py:1080: RuntimeWarning: invalid value encountered in cast\n",
      "  if (arr.astype(int) == arr).all():\n"
     ]
    },
    {
     "data": {
      "text/plain": [
       "user_id    double[pyarrow]\n",
       "name       string[pyarrow]\n",
       "time        int64[pyarrow]\n",
       "rating      int64[pyarrow]\n",
       "text       string[pyarrow]\n",
       "pics                object\n",
       "resp                object\n",
       "gmap_id    string[pyarrow]\n",
       "dtype: object"
      ]
     },
     "execution_count": 6,
     "metadata": {},
     "output_type": "execute_result"
    }
   ],
   "source": [
    "google_reviews_df = google_reviews_df.convert_dtypes(dtype_backend=\"pyarrow\")\n",
    "google_reviews_df.dtypes"
   ]
  },
  {
   "cell_type": "markdown",
   "metadata": {},
   "source": [
    "Y se puede intentar hacer una conversion por ejemplo de las fechas unix (columna time) a fechas normales"
   ]
  },
  {
   "cell_type": "code",
   "execution_count": 7,
   "metadata": {},
   "outputs": [
    {
     "data": {
      "text/html": [
       "<div>\n",
       "<style scoped>\n",
       "    .dataframe tbody tr th:only-of-type {\n",
       "        vertical-align: middle;\n",
       "    }\n",
       "\n",
       "    .dataframe tbody tr th {\n",
       "        vertical-align: top;\n",
       "    }\n",
       "\n",
       "    .dataframe thead th {\n",
       "        text-align: right;\n",
       "    }\n",
       "</style>\n",
       "<table border=\"1\" class=\"dataframe\">\n",
       "  <thead>\n",
       "    <tr style=\"text-align: right;\">\n",
       "      <th></th>\n",
       "      <th>user_id</th>\n",
       "      <th>name</th>\n",
       "      <th>time</th>\n",
       "      <th>rating</th>\n",
       "      <th>text</th>\n",
       "      <th>pics</th>\n",
       "      <th>resp</th>\n",
       "      <th>gmap_id</th>\n",
       "    </tr>\n",
       "  </thead>\n",
       "  <tbody>\n",
       "    <tr>\n",
       "      <th>0</th>\n",
       "      <td>1.140438e+20</td>\n",
       "      <td>Kanisha Mixon</td>\n",
       "      <td>1597168272670</td>\n",
       "      <td>5</td>\n",
       "      <td>Very Personable staff! Beautiful and clean env...</td>\n",
       "      <td>None</td>\n",
       "      <td>None</td>\n",
       "      <td>0x8862134e67ff5c87:0x38b5e2ae99cd1fcf</td>\n",
       "    </tr>\n",
       "    <tr>\n",
       "      <th>1</th>\n",
       "      <td>1.160090e+20</td>\n",
       "      <td>Brandie Hodges</td>\n",
       "      <td>1609899039594</td>\n",
       "      <td>5</td>\n",
       "      <td>Best clothing intown</td>\n",
       "      <td>None</td>\n",
       "      <td>None</td>\n",
       "      <td>0x8862134e67ff5c87:0x38b5e2ae99cd1fcf</td>\n",
       "    </tr>\n",
       "    <tr>\n",
       "      <th>2</th>\n",
       "      <td>1.062399e+20</td>\n",
       "      <td>Sharon King</td>\n",
       "      <td>1547235290843</td>\n",
       "      <td>4</td>\n",
       "      <td>&lt;NA&gt;</td>\n",
       "      <td>None</td>\n",
       "      <td>None</td>\n",
       "      <td>0x8862134e67ff5c87:0x38b5e2ae99cd1fcf</td>\n",
       "    </tr>\n",
       "    <tr>\n",
       "      <th>3</th>\n",
       "      <td>1.049701e+20</td>\n",
       "      <td>Veronica Pierce</td>\n",
       "      <td>1517709403534</td>\n",
       "      <td>5</td>\n",
       "      <td>&lt;NA&gt;</td>\n",
       "      <td>None</td>\n",
       "      <td>None</td>\n",
       "      <td>0x8862134e67ff5c87:0x38b5e2ae99cd1fcf</td>\n",
       "    </tr>\n",
       "    <tr>\n",
       "      <th>4</th>\n",
       "      <td>1.105875e+20</td>\n",
       "      <td>Whitney Waldon Collier</td>\n",
       "      <td>1535245718492</td>\n",
       "      <td>5</td>\n",
       "      <td>&lt;NA&gt;</td>\n",
       "      <td>None</td>\n",
       "      <td>None</td>\n",
       "      <td>0x8862134e67ff5c87:0x38b5e2ae99cd1fcf</td>\n",
       "    </tr>\n",
       "  </tbody>\n",
       "</table>\n",
       "</div>"
      ],
      "text/plain": [
       "        user_id                    name           time  rating  \\\n",
       "0  1.140438e+20           Kanisha Mixon  1597168272670       5   \n",
       "1  1.160090e+20          Brandie Hodges  1609899039594       5   \n",
       "2  1.062399e+20             Sharon King  1547235290843       4   \n",
       "3  1.049701e+20         Veronica Pierce  1517709403534       5   \n",
       "4  1.105875e+20  Whitney Waldon Collier  1535245718492       5   \n",
       "\n",
       "                                                text  pics  resp  \\\n",
       "0  Very Personable staff! Beautiful and clean env...  None  None   \n",
       "1                               Best clothing intown  None  None   \n",
       "2                                               <NA>  None  None   \n",
       "3                                               <NA>  None  None   \n",
       "4                                               <NA>  None  None   \n",
       "\n",
       "                                 gmap_id  \n",
       "0  0x8862134e67ff5c87:0x38b5e2ae99cd1fcf  \n",
       "1  0x8862134e67ff5c87:0x38b5e2ae99cd1fcf  \n",
       "2  0x8862134e67ff5c87:0x38b5e2ae99cd1fcf  \n",
       "3  0x8862134e67ff5c87:0x38b5e2ae99cd1fcf  \n",
       "4  0x8862134e67ff5c87:0x38b5e2ae99cd1fcf  "
      ]
     },
     "execution_count": 7,
     "metadata": {},
     "output_type": "execute_result"
    }
   ],
   "source": [
    "google_reviews_df.head()"
   ]
  },
  {
   "cell_type": "code",
   "execution_count": 8,
   "metadata": {},
   "outputs": [],
   "source": [
    "google_reviews_df[\"time\"] = pd.to_datetime(google_reviews_df[\"time\"], unit=\"ms\")"
   ]
  },
  {
   "cell_type": "code",
   "execution_count": 9,
   "metadata": {},
   "outputs": [
    {
     "data": {
      "text/plain": [
       "0          2020-08-11 17:51:12.670\n",
       "1          2021-01-06 02:10:39.594\n",
       "2          2019-01-11 19:34:50.843\n",
       "3          2018-02-04 01:56:43.534\n",
       "4          2018-08-26 01:08:38.492\n",
       "                     ...          \n",
       "89946354   2021-03-03 03:15:23.428\n",
       "89946355   2019-06-30 21:58:31.835\n",
       "89946356   2017-07-26 00:36:06.785\n",
       "89946357   2019-08-10 19:54:20.108\n",
       "89946358   2020-04-19 13:20:38.249\n",
       "Name: time, Length: 89946359, dtype: datetime64[ns]"
      ]
     },
     "execution_count": 9,
     "metadata": {},
     "output_type": "execute_result"
    }
   ],
   "source": [
    "google_reviews_df[\"time\"]"
   ]
  },
  {
   "cell_type": "markdown",
   "metadata": {},
   "source": [
    "Y solo demoro 9.8 segundos convertir 89,946,359 registros. Esto convence que pyarrow sera una buena herramienta para la exploratoria de datos. Invito ampliamente a conocer a fondo las bondades de esta API de python que se esta empleando [pyarrow](https://arrow.apache.org/docs/python/index.html).\n",
    "\n",
    "NO OLVIDES CONVERTIR NUEVAS COLUMNAS A pyarrow BACKEND!\n",
    "\n",
    "aunque esto es solo para numericos (enteros y decimales, conocidos en arrow int y double respectivamente) y cadena de caracteres (texto)"
   ]
  },
  {
   "cell_type": "code",
   "execution_count": 10,
   "metadata": {},
   "outputs": [
    {
     "data": {
      "text/plain": [
       "user_id    double[pyarrow]\n",
       "name       string[pyarrow]\n",
       "time        datetime64[ns]\n",
       "rating      int64[pyarrow]\n",
       "text       string[pyarrow]\n",
       "pics                object\n",
       "resp                object\n",
       "gmap_id    string[pyarrow]\n",
       "dtype: object"
      ]
     },
     "execution_count": 10,
     "metadata": {},
     "output_type": "execute_result"
    }
   ],
   "source": [
    "google_reviews_df[\"time\"].convert_dtypes(dtype_backend=\"pyarrow\")\n",
    "google_reviews_df.dtypes"
   ]
  },
  {
   "cell_type": "markdown",
   "metadata": {},
   "source": [
    "### Nulos\n",
    "\n",
    "En porcentaje en cada columna"
   ]
  },
  {
   "cell_type": "code",
   "execution_count": 122,
   "metadata": {},
   "outputs": [],
   "source": [
    "def proporcion_nulos(data_frame:pd.DataFrame):\n",
    "    \"\"\"\n",
    "    Calculate the percentage of null (missing) values in each column of a Pandas DataFrame.\n",
    "\n",
    "    Parameters:\n",
    "    data_frame (pd.DataFrame): The input DataFrame for which null percentages are calculated.\n",
    "\n",
    "    Returns:\n",
    "    pd.Series: A Pandas Series containing the percentage of null values for each column.\n",
    "    \"\"\"\n",
    "    return data_frame.isnull().sum() / data_frame.shape[0] * 100"
   ]
  },
  {
   "cell_type": "code",
   "execution_count": 12,
   "metadata": {},
   "outputs": [
    {
     "data": {
      "text/plain": [
       "user_id     0.000000\n",
       "name        0.000000\n",
       "time        0.000000\n",
       "rating      0.000000\n",
       "text       43.701318\n",
       "pics       97.225370\n",
       "resp       87.738125\n",
       "gmap_id     0.000000\n",
       "dtype: float64"
      ]
     },
     "execution_count": 12,
     "metadata": {},
     "output_type": "execute_result"
    }
   ],
   "source": [
    "proporcion_nulos(google_reviews_df)"
   ]
  },
  {
   "cell_type": "code",
   "execution_count": 13,
   "metadata": {},
   "outputs": [
    {
     "data": {
      "image/png": "[encoded data removed]",
      "text/plain": [
       "<Figure size 640x480 with 1 Axes>"
      ]
     },
     "metadata": {},
     "output_type": "display_data"
    }
   ],
   "source": [
    "proporcion_nulos(google_reviews_df).plot(kind=\"bar\", rot=45, title=\"Google Reviews Null Values Proportion\");"
   ]
  },
  {
   "cell_type": "markdown",
   "metadata": {},
   "source": [
    "Ciertamente hay columnas con un considerable porcentaje de valores nulos."
   ]
  },
  {
   "cell_type": "code",
   "execution_count": 14,
   "metadata": {},
   "outputs": [],
   "source": [
    "google_reviews_df.drop([\"pics\", \"resp\"], axis=1, inplace=True)"
   ]
  },
  {
   "cell_type": "code",
   "execution_count": 15,
   "metadata": {},
   "outputs": [
    {
     "data": {
      "text/html": [
       "<div>\n",
       "<style scoped>\n",
       "    .dataframe tbody tr th:only-of-type {\n",
       "        vertical-align: middle;\n",
       "    }\n",
       "\n",
       "    .dataframe tbody tr th {\n",
       "        vertical-align: top;\n",
       "    }\n",
       "\n",
       "    .dataframe thead th {\n",
       "        text-align: right;\n",
       "    }\n",
       "</style>\n",
       "<table border=\"1\" class=\"dataframe\">\n",
       "  <thead>\n",
       "    <tr style=\"text-align: right;\">\n",
       "      <th></th>\n",
       "      <th>user_id</th>\n",
       "      <th>name</th>\n",
       "      <th>time</th>\n",
       "      <th>rating</th>\n",
       "      <th>text</th>\n",
       "      <th>gmap_id</th>\n",
       "    </tr>\n",
       "  </thead>\n",
       "  <tbody>\n",
       "    <tr>\n",
       "      <th>0</th>\n",
       "      <td>1.140438e+20</td>\n",
       "      <td>Kanisha Mixon</td>\n",
       "      <td>2020-08-11 17:51:12.670</td>\n",
       "      <td>5</td>\n",
       "      <td>Very Personable staff! Beautiful and clean env...</td>\n",
       "      <td>0x8862134e67ff5c87:0x38b5e2ae99cd1fcf</td>\n",
       "    </tr>\n",
       "    <tr>\n",
       "      <th>1</th>\n",
       "      <td>1.160090e+20</td>\n",
       "      <td>Brandie Hodges</td>\n",
       "      <td>2021-01-06 02:10:39.594</td>\n",
       "      <td>5</td>\n",
       "      <td>Best clothing intown</td>\n",
       "      <td>0x8862134e67ff5c87:0x38b5e2ae99cd1fcf</td>\n",
       "    </tr>\n",
       "    <tr>\n",
       "      <th>2</th>\n",
       "      <td>1.062399e+20</td>\n",
       "      <td>Sharon King</td>\n",
       "      <td>2019-01-11 19:34:50.843</td>\n",
       "      <td>4</td>\n",
       "      <td>&lt;NA&gt;</td>\n",
       "      <td>0x8862134e67ff5c87:0x38b5e2ae99cd1fcf</td>\n",
       "    </tr>\n",
       "    <tr>\n",
       "      <th>3</th>\n",
       "      <td>1.049701e+20</td>\n",
       "      <td>Veronica Pierce</td>\n",
       "      <td>2018-02-04 01:56:43.534</td>\n",
       "      <td>5</td>\n",
       "      <td>&lt;NA&gt;</td>\n",
       "      <td>0x8862134e67ff5c87:0x38b5e2ae99cd1fcf</td>\n",
       "    </tr>\n",
       "    <tr>\n",
       "      <th>4</th>\n",
       "      <td>1.105875e+20</td>\n",
       "      <td>Whitney Waldon Collier</td>\n",
       "      <td>2018-08-26 01:08:38.492</td>\n",
       "      <td>5</td>\n",
       "      <td>&lt;NA&gt;</td>\n",
       "      <td>0x8862134e67ff5c87:0x38b5e2ae99cd1fcf</td>\n",
       "    </tr>\n",
       "  </tbody>\n",
       "</table>\n",
       "</div>"
      ],
      "text/plain": [
       "        user_id                    name                    time  rating  \\\n",
       "0  1.140438e+20           Kanisha Mixon 2020-08-11 17:51:12.670       5   \n",
       "1  1.160090e+20          Brandie Hodges 2021-01-06 02:10:39.594       5   \n",
       "2  1.062399e+20             Sharon King 2019-01-11 19:34:50.843       4   \n",
       "3  1.049701e+20         Veronica Pierce 2018-02-04 01:56:43.534       5   \n",
       "4  1.105875e+20  Whitney Waldon Collier 2018-08-26 01:08:38.492       5   \n",
       "\n",
       "                                                text  \\\n",
       "0  Very Personable staff! Beautiful and clean env...   \n",
       "1                               Best clothing intown   \n",
       "2                                               <NA>   \n",
       "3                                               <NA>   \n",
       "4                                               <NA>   \n",
       "\n",
       "                                 gmap_id  \n",
       "0  0x8862134e67ff5c87:0x38b5e2ae99cd1fcf  \n",
       "1  0x8862134e67ff5c87:0x38b5e2ae99cd1fcf  \n",
       "2  0x8862134e67ff5c87:0x38b5e2ae99cd1fcf  \n",
       "3  0x8862134e67ff5c87:0x38b5e2ae99cd1fcf  \n",
       "4  0x8862134e67ff5c87:0x38b5e2ae99cd1fcf  "
      ]
     },
     "execution_count": 15,
     "metadata": {},
     "output_type": "execute_result"
    }
   ],
   "source": [
    "google_reviews_df.head()"
   ]
  },
  {
   "cell_type": "code",
   "execution_count": 16,
   "metadata": {},
   "outputs": [
    {
     "data": {
      "text/plain": [
       "(Timestamp('1990-12-31 00:00:00'), Timestamp('2021-09-09 16:22:53.205000'))"
      ]
     },
     "execution_count": 16,
     "metadata": {},
     "output_type": "execute_result"
    }
   ],
   "source": [
    "google_reviews_df[\"time\"].min(), google_reviews_df[\"time\"].max()"
   ]
  },
  {
   "cell_type": "code",
   "execution_count": 17,
   "metadata": {},
   "outputs": [],
   "source": [
    "google_reviews_df[\"year\"] = google_reviews_df[\"time\"].dt.year"
   ]
  },
  {
   "cell_type": "code",
   "execution_count": 18,
   "metadata": {},
   "outputs": [],
   "source": [
    "google_reviews_df[\"year\"] = google_reviews_df[\"year\"].convert_dtypes(dtype_backend=\"pyarrow\")"
   ]
  },
  {
   "cell_type": "code",
   "execution_count": 19,
   "metadata": {},
   "outputs": [
    {
     "data": {
      "image/png": "[encoded data removed]",
      "text/plain": [
       "<Figure size 640x480 with 1 Axes>"
      ]
     },
     "metadata": {},
     "output_type": "display_data"
    }
   ],
   "source": [
    "google_reviews_df[\"year\"].value_counts().plot(kind=\"bar\", rot=60, title=\"Number of Reviews along Years\");"
   ]
  },
  {
   "cell_type": "code",
   "execution_count": 20,
   "metadata": {},
   "outputs": [
    {
     "data": {
      "text/plain": [
       "89851857"
      ]
     },
     "execution_count": 20,
     "metadata": {},
     "output_type": "execute_result"
    }
   ],
   "source": [
    "(google_reviews_df[\"year\"] > 2011).sum()"
   ]
  },
  {
   "cell_type": "code",
   "execution_count": 21,
   "metadata": {},
   "outputs": [
    {
     "data": {
      "text/plain": [
       "94502"
      ]
     },
     "execution_count": 21,
     "metadata": {},
     "output_type": "execute_result"
    }
   ],
   "source": [
    "google_reviews_df.shape[0] - (google_reviews_df[\"year\"] > 2011).sum()"
   ]
  },
  {
   "cell_type": "code",
   "execution_count": 22,
   "metadata": {},
   "outputs": [],
   "source": [
    "chunk_size = 9000000\n",
    "\n",
    "chunks = [google_reviews_df[idx_pos: idx_pos + chunk_size] for idx_pos in range(0, len(google_reviews_df), chunk_size)]\n",
    "\n",
    "result_df = pd.DataFrame()\n",
    "\n",
    "for chunk in chunks:\n",
    "    chunk = chunk[chunk[\"year\"] > 2011]\n",
    "    result_df = pd.concat([result_df, chunk], ignore_index=True)"
   ]
  },
  {
   "cell_type": "code",
   "execution_count": 23,
   "metadata": {},
   "outputs": [],
   "source": [
    "chunks = None"
   ]
  },
  {
   "cell_type": "code",
   "execution_count": 24,
   "metadata": {},
   "outputs": [],
   "source": [
    "google_reviews_df = result_df"
   ]
  },
  {
   "cell_type": "code",
   "execution_count": 25,
   "metadata": {},
   "outputs": [
    {
     "data": {
      "text/plain": [
       "user_id     0.000000\n",
       "name        0.000000\n",
       "time        0.000000\n",
       "rating      0.000000\n",
       "text       43.695738\n",
       "gmap_id     0.000000\n",
       "year        0.000000\n",
       "dtype: float64"
      ]
     },
     "execution_count": 25,
     "metadata": {},
     "output_type": "execute_result"
    }
   ],
   "source": [
    "proporcion_nulos(google_reviews_df)"
   ]
  },
  {
   "cell_type": "code",
   "execution_count": 26,
   "metadata": {},
   "outputs": [
    {
     "data": {
      "text/html": [
       "<div>\n",
       "<style scoped>\n",
       "    .dataframe tbody tr th:only-of-type {\n",
       "        vertical-align: middle;\n",
       "    }\n",
       "\n",
       "    .dataframe tbody tr th {\n",
       "        vertical-align: top;\n",
       "    }\n",
       "\n",
       "    .dataframe thead th {\n",
       "        text-align: right;\n",
       "    }\n",
       "</style>\n",
       "<table border=\"1\" class=\"dataframe\">\n",
       "  <thead>\n",
       "    <tr style=\"text-align: right;\">\n",
       "      <th></th>\n",
       "      <th>user_id</th>\n",
       "      <th>name</th>\n",
       "      <th>time</th>\n",
       "      <th>rating</th>\n",
       "      <th>text</th>\n",
       "      <th>gmap_id</th>\n",
       "      <th>year</th>\n",
       "    </tr>\n",
       "  </thead>\n",
       "  <tbody>\n",
       "    <tr>\n",
       "      <th>0</th>\n",
       "      <td>1.140438e+20</td>\n",
       "      <td>Kanisha Mixon</td>\n",
       "      <td>2020-08-11 17:51:12.670</td>\n",
       "      <td>5</td>\n",
       "      <td>Very Personable staff! Beautiful and clean env...</td>\n",
       "      <td>0x8862134e67ff5c87:0x38b5e2ae99cd1fcf</td>\n",
       "      <td>2020</td>\n",
       "    </tr>\n",
       "    <tr>\n",
       "      <th>1</th>\n",
       "      <td>1.160090e+20</td>\n",
       "      <td>Brandie Hodges</td>\n",
       "      <td>2021-01-06 02:10:39.594</td>\n",
       "      <td>5</td>\n",
       "      <td>Best clothing intown</td>\n",
       "      <td>0x8862134e67ff5c87:0x38b5e2ae99cd1fcf</td>\n",
       "      <td>2021</td>\n",
       "    </tr>\n",
       "    <tr>\n",
       "      <th>2</th>\n",
       "      <td>1.062399e+20</td>\n",
       "      <td>Sharon King</td>\n",
       "      <td>2019-01-11 19:34:50.843</td>\n",
       "      <td>4</td>\n",
       "      <td>&lt;NA&gt;</td>\n",
       "      <td>0x8862134e67ff5c87:0x38b5e2ae99cd1fcf</td>\n",
       "      <td>2019</td>\n",
       "    </tr>\n",
       "    <tr>\n",
       "      <th>3</th>\n",
       "      <td>1.049701e+20</td>\n",
       "      <td>Veronica Pierce</td>\n",
       "      <td>2018-02-04 01:56:43.534</td>\n",
       "      <td>5</td>\n",
       "      <td>&lt;NA&gt;</td>\n",
       "      <td>0x8862134e67ff5c87:0x38b5e2ae99cd1fcf</td>\n",
       "      <td>2018</td>\n",
       "    </tr>\n",
       "    <tr>\n",
       "      <th>4</th>\n",
       "      <td>1.105875e+20</td>\n",
       "      <td>Whitney Waldon Collier</td>\n",
       "      <td>2018-08-26 01:08:38.492</td>\n",
       "      <td>5</td>\n",
       "      <td>&lt;NA&gt;</td>\n",
       "      <td>0x8862134e67ff5c87:0x38b5e2ae99cd1fcf</td>\n",
       "      <td>2018</td>\n",
       "    </tr>\n",
       "    <tr>\n",
       "      <th>...</th>\n",
       "      <td>...</td>\n",
       "      <td>...</td>\n",
       "      <td>...</td>\n",
       "      <td>...</td>\n",
       "      <td>...</td>\n",
       "      <td>...</td>\n",
       "      <td>...</td>\n",
       "    </tr>\n",
       "    <tr>\n",
       "      <th>89851852</th>\n",
       "      <td>1.078991e+20</td>\n",
       "      <td>Carlene Calabaza</td>\n",
       "      <td>2021-03-03 03:15:23.428</td>\n",
       "      <td>5</td>\n",
       "      <td>&lt;NA&gt;</td>\n",
       "      <td>0x53349429523d615b:0x2a66a9272032e8b4</td>\n",
       "      <td>2021</td>\n",
       "    </tr>\n",
       "    <tr>\n",
       "      <th>89851853</th>\n",
       "      <td>1.173878e+20</td>\n",
       "      <td>Gizmo</td>\n",
       "      <td>2019-06-30 21:58:31.835</td>\n",
       "      <td>5</td>\n",
       "      <td>&lt;NA&gt;</td>\n",
       "      <td>0x53349429523d615b:0x2a66a9272032e8b4</td>\n",
       "      <td>2019</td>\n",
       "    </tr>\n",
       "    <tr>\n",
       "      <th>89851854</th>\n",
       "      <td>1.078871e+20</td>\n",
       "      <td>Jan Soucek</td>\n",
       "      <td>2017-07-26 00:36:06.785</td>\n",
       "      <td>5</td>\n",
       "      <td>&lt;NA&gt;</td>\n",
       "      <td>0x53349429523d615b:0x2a66a9272032e8b4</td>\n",
       "      <td>2017</td>\n",
       "    </tr>\n",
       "    <tr>\n",
       "      <th>89851855</th>\n",
       "      <td>1.047652e+20</td>\n",
       "      <td>Kyle Leatherow</td>\n",
       "      <td>2019-08-10 19:54:20.108</td>\n",
       "      <td>3</td>\n",
       "      <td>&lt;NA&gt;</td>\n",
       "      <td>0x53349429523d615b:0x2a66a9272032e8b4</td>\n",
       "      <td>2019</td>\n",
       "    </tr>\n",
       "    <tr>\n",
       "      <th>89851856</th>\n",
       "      <td>1.079835e+20</td>\n",
       "      <td>Richard Bowling</td>\n",
       "      <td>2020-04-19 13:20:38.249</td>\n",
       "      <td>3</td>\n",
       "      <td>&lt;NA&gt;</td>\n",
       "      <td>0x53349429523d615b:0x2a66a9272032e8b4</td>\n",
       "      <td>2020</td>\n",
       "    </tr>\n",
       "  </tbody>\n",
       "</table>\n",
       "<p>89851857 rows × 7 columns</p>\n",
       "</div>"
      ],
      "text/plain": [
       "               user_id                    name                    time  \\\n",
       "0         1.140438e+20           Kanisha Mixon 2020-08-11 17:51:12.670   \n",
       "1         1.160090e+20          Brandie Hodges 2021-01-06 02:10:39.594   \n",
       "2         1.062399e+20             Sharon King 2019-01-11 19:34:50.843   \n",
       "3         1.049701e+20         Veronica Pierce 2018-02-04 01:56:43.534   \n",
       "4         1.105875e+20  Whitney Waldon Collier 2018-08-26 01:08:38.492   \n",
       "...                ...                     ...                     ...   \n",
       "89851852  1.078991e+20        Carlene Calabaza 2021-03-03 03:15:23.428   \n",
       "89851853  1.173878e+20                   Gizmo 2019-06-30 21:58:31.835   \n",
       "89851854  1.078871e+20              Jan Soucek 2017-07-26 00:36:06.785   \n",
       "89851855  1.047652e+20          Kyle Leatherow 2019-08-10 19:54:20.108   \n",
       "89851856  1.079835e+20         Richard Bowling 2020-04-19 13:20:38.249   \n",
       "\n",
       "          rating                                               text  \\\n",
       "0              5  Very Personable staff! Beautiful and clean env...   \n",
       "1              5                               Best clothing intown   \n",
       "2              4                                               <NA>   \n",
       "3              5                                               <NA>   \n",
       "4              5                                               <NA>   \n",
       "...          ...                                                ...   \n",
       "89851852       5                                               <NA>   \n",
       "89851853       5                                               <NA>   \n",
       "89851854       5                                               <NA>   \n",
       "89851855       3                                               <NA>   \n",
       "89851856       3                                               <NA>   \n",
       "\n",
       "                                        gmap_id  year  \n",
       "0         0x8862134e67ff5c87:0x38b5e2ae99cd1fcf  2020  \n",
       "1         0x8862134e67ff5c87:0x38b5e2ae99cd1fcf  2021  \n",
       "2         0x8862134e67ff5c87:0x38b5e2ae99cd1fcf  2019  \n",
       "3         0x8862134e67ff5c87:0x38b5e2ae99cd1fcf  2018  \n",
       "4         0x8862134e67ff5c87:0x38b5e2ae99cd1fcf  2018  \n",
       "...                                         ...   ...  \n",
       "89851852  0x53349429523d615b:0x2a66a9272032e8b4  2021  \n",
       "89851853  0x53349429523d615b:0x2a66a9272032e8b4  2019  \n",
       "89851854  0x53349429523d615b:0x2a66a9272032e8b4  2017  \n",
       "89851855  0x53349429523d615b:0x2a66a9272032e8b4  2019  \n",
       "89851856  0x53349429523d615b:0x2a66a9272032e8b4  2020  \n",
       "\n",
       "[89851857 rows x 7 columns]"
      ]
     },
     "execution_count": 26,
     "metadata": {},
     "output_type": "execute_result"
    }
   ],
   "source": [
    "google_reviews_df"
   ]
  },
  {
   "cell_type": "markdown",
   "metadata": {},
   "source": [
    "### I quick view on the count of ratings"
   ]
  },
  {
   "cell_type": "code",
   "execution_count": 27,
   "metadata": {},
   "outputs": [
    {
     "data": {
      "image/png": "[encoded data removed]",
      "text/plain": [
       "<Figure size 640x480 with 1 Axes>"
      ]
     },
     "metadata": {},
     "output_type": "display_data"
    }
   ],
   "source": [
    "google_reviews_df[\"rating\"].value_counts().plot(kind=\"bar\", rot=90, title=\"count of ratings\");"
   ]
  },
  {
   "cell_type": "code",
   "execution_count": 28,
   "metadata": {},
   "outputs": [],
   "source": [
    "google_maps__folder_path = \"C:\\\\Users\\\\jdieg\\\\Desktop\\\\henry\\\\proyectos\\\\Google-Yelp\\\\.data\\\\google_maps\"\n",
    "google_reviews_df.to_parquet(google_maps__folder_path + \"\\\\google_reviews.parquet\")"
   ]
  },
  {
   "cell_type": "markdown",
   "metadata": {},
   "source": [
    "### Metadata\n",
    "\n",
    "A comparacion de gmaps_review, este parquet es relativamente mas ligero, siendo pandas capaz de la lectura de el archivo parquet"
   ]
  },
  {
   "cell_type": "code",
   "execution_count": 29,
   "metadata": {},
   "outputs": [
    {
     "data": {
      "text/plain": [
       "name                string[pyarrow]\n",
       "address             string[pyarrow]\n",
       "gmap_id             string[pyarrow]\n",
       "description         string[pyarrow]\n",
       "latitude            double[pyarrow]\n",
       "longitude           double[pyarrow]\n",
       "category                     object\n",
       "avg_rating          double[pyarrow]\n",
       "num_of_reviews       int64[pyarrow]\n",
       "price               string[pyarrow]\n",
       "hours                        object\n",
       "MISC                         object\n",
       "state               string[pyarrow]\n",
       "relative_results             object\n",
       "url                 string[pyarrow]\n",
       "dtype: object"
      ]
     },
     "execution_count": 29,
     "metadata": {},
     "output_type": "execute_result"
    }
   ],
   "source": [
    "directorio_metadata_reviews =  \"C:\\\\Users\\\\jdieg\\\\Desktop\\\\henry\\\\proyectos\\\\Google-Yelp\\\\.data\\\\google_maps\\\\Python_gmaps_metada.parquet\"\n",
    "\n",
    "metada_reviews_df = pd.read_parquet(directorio_metadata_reviews).convert_dtypes(dtype_backend=\"pyarrow\")\n",
    "metada_reviews_df.dtypes"
   ]
  },
  {
   "cell_type": "code",
   "execution_count": 30,
   "metadata": {},
   "outputs": [
    {
     "data": {
      "text/plain": [
       "(3025011, 15)"
      ]
     },
     "execution_count": 30,
     "metadata": {},
     "output_type": "execute_result"
    }
   ],
   "source": [
    "metada_reviews_df.shape"
   ]
  },
  {
   "cell_type": "code",
   "execution_count": 31,
   "metadata": {},
   "outputs": [
    {
     "data": {
      "text/plain": [
       "(<Axes: title={'center': 'Null Proportion ofor Metadata'}>,\n",
       " name                 0.001223\n",
       " address              2.661511\n",
       " gmap_id              0.000000\n",
       " description         91.593783\n",
       " latitude             0.000000\n",
       " longitude            0.000000\n",
       " category             0.575833\n",
       " avg_rating           0.000000\n",
       " num_of_reviews       0.000000\n",
       " price               90.902413\n",
       " hours               26.029823\n",
       " MISC                22.837405\n",
       " state               24.676109\n",
       " relative_results     9.753948\n",
       " url                  0.000000\n",
       " dtype: float64)"
      ]
     },
     "execution_count": 31,
     "metadata": {},
     "output_type": "execute_result"
    },
    {
     "data": {
      "image/png": "[encoded data removed]",
      "text/plain": [
       "<Figure size 640x480 with 1 Axes>"
      ]
     },
     "metadata": {},
     "output_type": "display_data"
    }
   ],
   "source": [
    "proporcion_nulos(metada_reviews_df).plot(kind=\"bar\", rot=65, title=\"Null Proportion ofor Metadata\"),proporcion_nulos(metada_reviews_df)"
   ]
  },
  {
   "cell_type": "code",
   "execution_count": 32,
   "metadata": {},
   "outputs": [],
   "source": [
    "metada_reviews_df.drop([\"description\", \"price\"], axis=1, inplace=True)"
   ]
  },
  {
   "cell_type": "markdown",
   "metadata": {},
   "source": [
    "### Getting States"
   ]
  },
  {
   "cell_type": "code",
   "execution_count": 33,
   "metadata": {},
   "outputs": [
    {
     "data": {
      "text/plain": [
       "name                 0.001223\n",
       "address              2.661511\n",
       "gmap_id              0.000000\n",
       "latitude             0.000000\n",
       "longitude            0.000000\n",
       "category             0.575833\n",
       "avg_rating           0.000000\n",
       "num_of_reviews       0.000000\n",
       "hours               26.029823\n",
       "MISC                22.837405\n",
       "state               24.676109\n",
       "relative_results     9.753948\n",
       "url                  0.000000\n",
       "dtype: float64"
      ]
     },
     "execution_count": 33,
     "metadata": {},
     "output_type": "execute_result"
    }
   ],
   "source": [
    "proporcion_nulos(metada_reviews_df)"
   ]
  },
  {
   "cell_type": "markdown",
   "metadata": {},
   "source": [
    "First, let's get rid off null on address rows"
   ]
  },
  {
   "cell_type": "code",
   "execution_count": 34,
   "metadata": {},
   "outputs": [],
   "source": [
    "metada_reviews_df = metada_reviews_df[~metada_reviews_df[\"address\"].isna()]"
   ]
  },
  {
   "cell_type": "markdown",
   "metadata": {},
   "source": [
    "Then, builgind up our lambdas expresion on small porcion for testing"
   ]
  },
  {
   "cell_type": "code",
   "execution_count": 35,
   "metadata": {},
   "outputs": [],
   "source": [
    "small_metadata = metada_reviews_df[:200]"
   ]
  },
  {
   "cell_type": "code",
   "execution_count": 36,
   "metadata": {},
   "outputs": [
    {
     "data": {
      "text/plain": [
       "0      GA\n",
       "1      CA\n",
       "2      CA\n",
       "3      CA\n",
       "4      CA\n",
       "       ..\n",
       "205    FL\n",
       "206    CA\n",
       "207    ID\n",
       "208    TX\n",
       "210    TX\n",
       "Name: address, Length: 200, dtype: object"
      ]
     },
     "execution_count": 36,
     "metadata": {},
     "output_type": "execute_result"
    }
   ],
   "source": [
    "(\n",
    "    small_metadata[\"address\"]\n",
    "    # Get address element\n",
    "    .apply(lambda row: [address_element.strip() for address_element in row.split(\",\")][-1])\n",
    "    # Get the element of City\n",
    "    .apply(lambda x: x.split()[0].strip())\n",
    "\n",
    "    )"
   ]
  },
  {
   "cell_type": "code",
   "execution_count": 37,
   "metadata": {},
   "outputs": [],
   "source": [
    "metada_reviews_df[\"us_state\"] = (\n",
    "    metada_reviews_df[\"address\"]\n",
    "    # Get address element\n",
    "    .apply(lambda row: [address_element.strip() for address_element in row.split(\",\")][-1])\n",
    "    # Get the element of City\n",
    "    .apply(lambda x: x.split()[0])\n",
    "\n",
    "    )"
   ]
  },
  {
   "cell_type": "code",
   "execution_count": 38,
   "metadata": {},
   "outputs": [
    {
     "data": {
      "text/plain": [
       "0          GA\n",
       "1          CA\n",
       "2          CA\n",
       "3          CA\n",
       "4          CA\n",
       "           ..\n",
       "3025006    IL\n",
       "3025007    CA\n",
       "3025008    WY\n",
       "3025009    AZ\n",
       "3025010    WY\n",
       "Name: us_state, Length: 2944500, dtype: object"
      ]
     },
     "execution_count": 38,
     "metadata": {},
     "output_type": "execute_result"
    }
   ],
   "source": [
    "metada_reviews_df[\"us_state\"]"
   ]
  },
  {
   "cell_type": "code",
   "execution_count": 39,
   "metadata": {},
   "outputs": [],
   "source": [
    "usps_state_abbreviations = {\n",
    "    'AL': 'Alabama',\n",
    "    'AK': 'Alaska',\n",
    "    'AZ': 'Arizona',\n",
    "    'AR': 'Arkansas',\n",
    "    'CA': 'California',\n",
    "    'CO': 'Colorado',\n",
    "    'CT': 'Connecticut',\n",
    "    'DE': 'Delaware',\n",
    "    'FL': 'Florida',\n",
    "    'GA': 'Georgia',\n",
    "    'HI': 'Hawaii',\n",
    "    'ID': 'Idaho',\n",
    "    'IL': 'Illinois',\n",
    "    'IN': 'Indiana',\n",
    "    'IA': 'Iowa',\n",
    "    'KS': 'Kansas',\n",
    "    'KY': 'Kentucky',\n",
    "    'LA': 'Louisiana',\n",
    "    'ME': 'Maine',\n",
    "    'MD': 'Maryland',\n",
    "    'MA': 'Massachusetts',\n",
    "    'MI': 'Michigan',\n",
    "    'MN': 'Minnesota',\n",
    "    'MS': 'Mississippi',\n",
    "    'MO': 'Missouri',\n",
    "    'MT': 'Montana',\n",
    "    'NE': 'Nebraska',\n",
    "    'NV': 'Nevada',\n",
    "    'NH': 'New Hampshire',\n",
    "    'NJ': 'New Jersey',\n",
    "    'NM': 'New Mexico',\n",
    "    'NY': 'New York',\n",
    "    'NC': 'North Carolina',\n",
    "    'ND': 'North Dakota',\n",
    "    'OH': 'Ohio',\n",
    "    'OK': 'Oklahoma',\n",
    "    'OR': 'Oregon',\n",
    "    'PA': 'Pennsylvania',\n",
    "    'RI': 'Rhode Island',\n",
    "    'SC': 'South Carolina',\n",
    "    'SD': 'South Dakota',\n",
    "    'TN': 'Tennessee',\n",
    "    'TX': 'Texas',\n",
    "    'UT': 'Utah',\n",
    "    'VT': 'Vermont',\n",
    "    'VA': 'Virginia',\n",
    "    'WA': 'Washington',\n",
    "    'WV': 'West Virginia',\n",
    "    'WI': 'Wisconsin',\n",
    "    'WY': 'Wyoming'\n",
    "}\n"
   ]
  },
  {
   "cell_type": "code",
   "execution_count": 40,
   "metadata": {},
   "outputs": [
    {
     "data": {
      "text/plain": [
       "<generator object <genexpr> at 0x00000197A44FB840>"
      ]
     },
     "execution_count": 40,
     "metadata": {},
     "output_type": "execute_result"
    }
   ],
   "source": [
    "(state_code for state_code in usps_state_abbreviations.keys())"
   ]
  },
  {
   "cell_type": "code",
   "execution_count": 41,
   "metadata": {},
   "outputs": [],
   "source": [
    "us_states_set = set(list(usps_state_abbreviations.keys()))"
   ]
  },
  {
   "cell_type": "code",
   "execution_count": 42,
   "metadata": {},
   "outputs": [],
   "source": [
    "metada_reviews_df = metada_reviews_df[metada_reviews_df[\"us_state\"].apply(lambda state: state in us_states_set)]"
   ]
  },
  {
   "cell_type": "code",
   "execution_count": 43,
   "metadata": {},
   "outputs": [
    {
     "data": {
      "text/plain": [
       "(2875143, 14)"
      ]
     },
     "execution_count": 43,
     "metadata": {},
     "output_type": "execute_result"
    }
   ],
   "source": [
    "metada_reviews_df.shape"
   ]
  },
  {
   "cell_type": "code",
   "execution_count": 44,
   "metadata": {},
   "outputs": [
    {
     "data": {
      "image/png": "[encoded data removed]",
      "text/plain": [
       "<Figure size 2500x1000 with 1 Axes>"
      ]
     },
     "metadata": {},
     "output_type": "display_data"
    }
   ],
   "source": [
    "metada_reviews_df[\"us_state\"].value_counts().plot(kind=\"bar\", figsize=(25, 10), rot=0, title=\"Places at each USA State\");"
   ]
  },
  {
   "cell_type": "code",
   "execution_count": 45,
   "metadata": {},
   "outputs": [
    {
     "data": {
      "text/plain": [
       "'Mississippi'"
      ]
     },
     "execution_count": 45,
     "metadata": {},
     "output_type": "execute_result"
    }
   ],
   "source": [
    "usps_state_abbreviations[\"MS\"]"
   ]
  },
  {
   "cell_type": "markdown",
   "metadata": {},
   "source": [
    "### Categories"
   ]
  },
  {
   "cell_type": "markdown",
   "metadata": {},
   "source": [
    "Getting rid off nulls"
   ]
  },
  {
   "cell_type": "code",
   "execution_count": 46,
   "metadata": {},
   "outputs": [
    {
     "data": {
      "text/plain": [
       "name                 0.000000\n",
       "address              0.000000\n",
       "gmap_id              0.000000\n",
       "latitude             0.000000\n",
       "longitude            0.000000\n",
       "category             0.591449\n",
       "avg_rating           0.000000\n",
       "num_of_reviews       0.000000\n",
       "hours               25.886086\n",
       "MISC                20.858232\n",
       "state               24.486469\n",
       "relative_results     8.697411\n",
       "url                  0.000000\n",
       "us_state             0.000000\n",
       "dtype: float64"
      ]
     },
     "execution_count": 46,
     "metadata": {},
     "output_type": "execute_result"
    }
   ],
   "source": [
    "proporcion_nulos(metada_reviews_df)"
   ]
  },
  {
   "cell_type": "markdown",
   "metadata": {},
   "source": [
    "Number of nulls"
   ]
  },
  {
   "cell_type": "code",
   "execution_count": 47,
   "metadata": {},
   "outputs": [
    {
     "data": {
      "text/plain": [
       "17005"
      ]
     },
     "execution_count": 47,
     "metadata": {},
     "output_type": "execute_result"
    }
   ],
   "source": [
    "metada_reviews_df[\"category\"].isnull().sum()"
   ]
  },
  {
   "cell_type": "code",
   "execution_count": 48,
   "metadata": {},
   "outputs": [],
   "source": [
    "metada_reviews_df.dropna(subset=\"category\", axis=0, inplace=True)"
   ]
  },
  {
   "cell_type": "code",
   "execution_count": 50,
   "metadata": {},
   "outputs": [],
   "source": [
    "set_categories = {\"Restaurant\", \"Bar\", \"bakery\", \"seafood\", \"Fast food restaurant\", \"Cafe\", \"Hamburger Restaurant\",\n",
    "                  \"Family Restaurant\",\"ice cream shop\", \"Chinese restaurant\", \"Italian restaurant\", \"Vegetarian Restaurant\"\n",
    "                   \"Japanese restaurant\", \"Bistro\", \"Mexican restaurant\", \"Grill\", \"Dessert Restaurant\"\n",
    "                   \"Greek restaurant\", \"Thai restaurant\", \"Indian restaurant\", \"Spanish restaurant\",\n",
    "                   \"British restaurant\", \"Tex-mex restaurant\", \"American restaurant\",\n",
    "                   \"Health food restaurant\", \"Delivery restaurant\", \"Brunch restaurant\",\n",
    "                   \"Sandwich shop\", \"Fast food restaurant\", \"Cake shop\", \"Chicken restaurant\",\n",
    "                   \"Donut shop\", \"Coffee shop\", \"Southern restaurant (US)\", \"Juice shop\", \"Breakfast restaurant\",\n",
    "                   \"Pizza restaurant\", \"Bar & grill, Burrito restaurant\", \"Pizza\", \"Diner\", \"Takeout restaurant\",\n",
    "                   \"Sushi restaurant\", \"Hamburger restaurant\", \"Steak house\", \"Asian restaurant\", \"New American restaurant\", \"Singaporean Restaurant\"}\n",
    "\n",
    "mask_categories = metada_reviews_df[\"category\"].apply(lambda categories: [category.lower().strip() in set_categories for category in categories].count(True) > 0)"
   ]
  },
  {
   "cell_type": "code",
   "execution_count": 51,
   "metadata": {},
   "outputs": [],
   "source": [
    "metada_reviews_df = metada_reviews_df[mask_categories]"
   ]
  },
  {
   "cell_type": "code",
   "execution_count": 268,
   "metadata": {},
   "outputs": [],
   "source": [
    "metadata_output_parquet_dir = \"C:\\\\Users\\\\jdieg\\\\Desktop\\\\henry\\proyectos\\\\Google-Yelp\\\\.data\\\\google_maps\"\n",
    "metada_reviews_df.to_parquet(metadata_output_parquet_dir + \"\\\\metadata_google_reviews.parquet\")"
   ]
  },
  {
   "cell_type": "code",
   "execution_count": 252,
   "metadata": {},
   "outputs": [
    {
     "data": {
      "text/plain": [
       "((223863, 14), (89851857, 7))"
      ]
     },
     "execution_count": 252,
     "metadata": {},
     "output_type": "execute_result"
    }
   ],
   "source": [
    "metada_reviews_df.shape, google_reviews_df.shape"
   ]
  },
  {
   "cell_type": "code",
   "execution_count": 57,
   "metadata": {},
   "outputs": [
    {
     "data": {
      "text/plain": [
       "(name                 0.000000\n",
       " address              0.000000\n",
       " gmap_id              0.000000\n",
       " latitude             0.000000\n",
       " longitude            0.000000\n",
       " category             0.000000\n",
       " avg_rating           0.000000\n",
       " num_of_reviews       0.000000\n",
       " hours               11.970714\n",
       " MISC                 0.698642\n",
       " state               11.519099\n",
       " relative_results    18.386692\n",
       " url                  0.000000\n",
       " us_state             0.000000\n",
       " dtype: float64,\n",
       " (223863, 14))"
      ]
     },
     "execution_count": 57,
     "metadata": {},
     "output_type": "execute_result"
    }
   ],
   "source": [
    "proporcion_nulos(metada_reviews_df), metada_reviews_df.shape"
   ]
  },
  {
   "cell_type": "markdown",
   "metadata": {},
   "source": [
    "### Joining google revies to metadata"
   ]
  },
  {
   "cell_type": "code",
   "execution_count": 4,
   "metadata": {},
   "outputs": [],
   "source": [
    "google_maps__folder_path = 'C:\\\\Users\\\\jdieg\\\\Desktop\\\\henry\\\\proyectos\\\\Google-Yelp\\\\.data\\\\google_maps'"
   ]
  },
  {
   "cell_type": "code",
   "execution_count": 2,
   "metadata": {},
   "outputs": [],
   "source": [
    "import dask.dataframe as dd\n",
    "\n",
    "metadata_left_ddf = dd.read_parquet(google_maps__folder_path + \"\\\\metadata_google_reviews.parquet\", npartitions=10)\n",
    "google_reviews_right_ddf = dd.read_parquet(google_maps__folder_path + \"\\\\google_reviews.parquet\", npartitions=10)\n",
    "\n",
    "result_ddf = metadata_left_ddf.merge(google_reviews_right_ddf, on=\"gmap_id\", how=\"left\")\n",
    "\n",
    "result_ddf = result_ddf.compute()"
   ]
  },
  {
   "cell_type": "code",
   "execution_count": 5,
   "metadata": {},
   "outputs": [],
   "source": [
    "result_ddf.to_parquet(google_maps__folder_path + \"\\\\metadata_google_joined.parquet\")"
   ]
  },
  {
   "cell_type": "code",
   "execution_count": 8,
   "metadata": {},
   "outputs": [
    {
     "data": {
      "text/plain": [
       "Index(['name_x', 'address', 'gmap_id', 'latitude', 'longitude', 'category',\n",
       "       'avg_rating', 'num_of_reviews', 'hours', 'MISC', 'state',\n",
       "       'relative_results', 'url', 'us_state', 'user_id', 'name_y', 'time',\n",
       "       'rating', 'text', 'year'],\n",
       "      dtype='object')"
      ]
     },
     "execution_count": 8,
     "metadata": {},
     "output_type": "execute_result"
    }
   ],
   "source": [
    "result_ddf.columns"
   ]
  },
  {
   "cell_type": "code",
   "execution_count": 9,
   "metadata": {},
   "outputs": [
    {
     "data": {
      "text/html": [
       "<div>\n",
       "<style scoped>\n",
       "    .dataframe tbody tr th:only-of-type {\n",
       "        vertical-align: middle;\n",
       "    }\n",
       "\n",
       "    .dataframe tbody tr th {\n",
       "        vertical-align: top;\n",
       "    }\n",
       "\n",
       "    .dataframe thead th {\n",
       "        text-align: right;\n",
       "    }\n",
       "</style>\n",
       "<table border=\"1\" class=\"dataframe\">\n",
       "  <thead>\n",
       "    <tr style=\"text-align: right;\">\n",
       "      <th></th>\n",
       "      <th>name_x</th>\n",
       "      <th>address</th>\n",
       "      <th>gmap_id</th>\n",
       "      <th>latitude</th>\n",
       "      <th>longitude</th>\n",
       "      <th>category</th>\n",
       "      <th>avg_rating</th>\n",
       "      <th>num_of_reviews</th>\n",
       "      <th>hours</th>\n",
       "      <th>MISC</th>\n",
       "      <th>state</th>\n",
       "      <th>relative_results</th>\n",
       "      <th>url</th>\n",
       "      <th>us_state</th>\n",
       "      <th>user_id</th>\n",
       "      <th>name_y</th>\n",
       "      <th>time</th>\n",
       "      <th>rating</th>\n",
       "      <th>text</th>\n",
       "      <th>year</th>\n",
       "    </tr>\n",
       "  </thead>\n",
       "  <tbody>\n",
       "    <tr>\n",
       "      <th>0</th>\n",
       "      <td>Flock and Stock</td>\n",
       "      <td>Flock and Stock, 615 Channelside Dr, Tampa, FL...</td>\n",
       "      <td>0x88c2c5c515fa6e53:0xee4f630ca314fe01</td>\n",
       "      <td>27.943383</td>\n",
       "      <td>-82.44751</td>\n",
       "      <td>['Restaurant']</td>\n",
       "      <td>2.8</td>\n",
       "      <td>52</td>\n",
       "      <td>[array(['Wednesday', '11AM–11PM'], dtype=objec...</td>\n",
       "      <td>{'Accessibility': array(['Wheelchair accessibl...</td>\n",
       "      <td>Open ⋅ Closes 11PM</td>\n",
       "      <td>['0x88c2c5056de83ac1:0x620ac50153c61f98']</td>\n",
       "      <td>https://www.google.com/maps/place//data=!4m2!3...</td>\n",
       "      <td>FL</td>\n",
       "      <td>1.097755e+20</td>\n",
       "      <td>N</td>\n",
       "      <td>2021-02-14 02:06:09.716</td>\n",
       "      <td>4</td>\n",
       "      <td>The chicken was a little dry and they need to ...</td>\n",
       "      <td>2021</td>\n",
       "    </tr>\n",
       "    <tr>\n",
       "      <th>1</th>\n",
       "      <td>Flock and Stock</td>\n",
       "      <td>Flock and Stock, 615 Channelside Dr, Tampa, FL...</td>\n",
       "      <td>0x88c2c5c515fa6e53:0xee4f630ca314fe01</td>\n",
       "      <td>27.943383</td>\n",
       "      <td>-82.44751</td>\n",
       "      <td>['Restaurant']</td>\n",
       "      <td>2.8</td>\n",
       "      <td>52</td>\n",
       "      <td>[array(['Wednesday', '11AM–11PM'], dtype=objec...</td>\n",
       "      <td>{'Accessibility': array(['Wheelchair accessibl...</td>\n",
       "      <td>Open ⋅ Closes 11PM</td>\n",
       "      <td>['0x88c2c5056de83ac1:0x620ac50153c61f98']</td>\n",
       "      <td>https://www.google.com/maps/place//data=!4m2!3...</td>\n",
       "      <td>FL</td>\n",
       "      <td>1.154786e+20</td>\n",
       "      <td>Amaury Suarez</td>\n",
       "      <td>2021-07-17 01:47:22.482</td>\n",
       "      <td>3</td>\n",
       "      <td>A fried chicken place that is always out of ch...</td>\n",
       "      <td>2021</td>\n",
       "    </tr>\n",
       "    <tr>\n",
       "      <th>2</th>\n",
       "      <td>Flock and Stock</td>\n",
       "      <td>Flock and Stock, 615 Channelside Dr, Tampa, FL...</td>\n",
       "      <td>0x88c2c5c515fa6e53:0xee4f630ca314fe01</td>\n",
       "      <td>27.943383</td>\n",
       "      <td>-82.44751</td>\n",
       "      <td>['Restaurant']</td>\n",
       "      <td>2.8</td>\n",
       "      <td>52</td>\n",
       "      <td>[array(['Wednesday', '11AM–11PM'], dtype=objec...</td>\n",
       "      <td>{'Accessibility': array(['Wheelchair accessibl...</td>\n",
       "      <td>Open ⋅ Closes 11PM</td>\n",
       "      <td>['0x88c2c5056de83ac1:0x620ac50153c61f98']</td>\n",
       "      <td>https://www.google.com/maps/place//data=!4m2!3...</td>\n",
       "      <td>FL</td>\n",
       "      <td>1.053001e+20</td>\n",
       "      <td>Meghin Hagley</td>\n",
       "      <td>2019-07-15 01:42:14.912</td>\n",
       "      <td>2</td>\n",
       "      <td>Pictures look better then what you get. The Di...</td>\n",
       "      <td>2019</td>\n",
       "    </tr>\n",
       "    <tr>\n",
       "      <th>3</th>\n",
       "      <td>Flock and Stock</td>\n",
       "      <td>Flock and Stock, 615 Channelside Dr, Tampa, FL...</td>\n",
       "      <td>0x88c2c5c515fa6e53:0xee4f630ca314fe01</td>\n",
       "      <td>27.943383</td>\n",
       "      <td>-82.44751</td>\n",
       "      <td>['Restaurant']</td>\n",
       "      <td>2.8</td>\n",
       "      <td>52</td>\n",
       "      <td>[array(['Wednesday', '11AM–11PM'], dtype=objec...</td>\n",
       "      <td>{'Accessibility': array(['Wheelchair accessibl...</td>\n",
       "      <td>Open ⋅ Closes 11PM</td>\n",
       "      <td>['0x88c2c5056de83ac1:0x620ac50153c61f98']</td>\n",
       "      <td>https://www.google.com/maps/place//data=!4m2!3...</td>\n",
       "      <td>FL</td>\n",
       "      <td>1.146867e+20</td>\n",
       "      <td>Justin Mooney</td>\n",
       "      <td>2021-03-27 17:26:56.058</td>\n",
       "      <td>5</td>\n",
       "      <td>The prices here are pretty reasonable and you ...</td>\n",
       "      <td>2021</td>\n",
       "    </tr>\n",
       "  </tbody>\n",
       "</table>\n",
       "</div>"
      ],
      "text/plain": [
       "            name_x                                            address  \\\n",
       "0  Flock and Stock  Flock and Stock, 615 Channelside Dr, Tampa, FL...   \n",
       "1  Flock and Stock  Flock and Stock, 615 Channelside Dr, Tampa, FL...   \n",
       "2  Flock and Stock  Flock and Stock, 615 Channelside Dr, Tampa, FL...   \n",
       "3  Flock and Stock  Flock and Stock, 615 Channelside Dr, Tampa, FL...   \n",
       "\n",
       "                                 gmap_id   latitude  longitude  \\\n",
       "0  0x88c2c5c515fa6e53:0xee4f630ca314fe01  27.943383  -82.44751   \n",
       "1  0x88c2c5c515fa6e53:0xee4f630ca314fe01  27.943383  -82.44751   \n",
       "2  0x88c2c5c515fa6e53:0xee4f630ca314fe01  27.943383  -82.44751   \n",
       "3  0x88c2c5c515fa6e53:0xee4f630ca314fe01  27.943383  -82.44751   \n",
       "\n",
       "         category  avg_rating  num_of_reviews  \\\n",
       "0  ['Restaurant']         2.8              52   \n",
       "1  ['Restaurant']         2.8              52   \n",
       "2  ['Restaurant']         2.8              52   \n",
       "3  ['Restaurant']         2.8              52   \n",
       "\n",
       "                                               hours  \\\n",
       "0  [array(['Wednesday', '11AM–11PM'], dtype=objec...   \n",
       "1  [array(['Wednesday', '11AM–11PM'], dtype=objec...   \n",
       "2  [array(['Wednesday', '11AM–11PM'], dtype=objec...   \n",
       "3  [array(['Wednesday', '11AM–11PM'], dtype=objec...   \n",
       "\n",
       "                                                MISC               state  \\\n",
       "0  {'Accessibility': array(['Wheelchair accessibl...  Open ⋅ Closes 11PM   \n",
       "1  {'Accessibility': array(['Wheelchair accessibl...  Open ⋅ Closes 11PM   \n",
       "2  {'Accessibility': array(['Wheelchair accessibl...  Open ⋅ Closes 11PM   \n",
       "3  {'Accessibility': array(['Wheelchair accessibl...  Open ⋅ Closes 11PM   \n",
       "\n",
       "                            relative_results  \\\n",
       "0  ['0x88c2c5056de83ac1:0x620ac50153c61f98']   \n",
       "1  ['0x88c2c5056de83ac1:0x620ac50153c61f98']   \n",
       "2  ['0x88c2c5056de83ac1:0x620ac50153c61f98']   \n",
       "3  ['0x88c2c5056de83ac1:0x620ac50153c61f98']   \n",
       "\n",
       "                                                 url us_state       user_id  \\\n",
       "0  https://www.google.com/maps/place//data=!4m2!3...       FL  1.097755e+20   \n",
       "1  https://www.google.com/maps/place//data=!4m2!3...       FL  1.154786e+20   \n",
       "2  https://www.google.com/maps/place//data=!4m2!3...       FL  1.053001e+20   \n",
       "3  https://www.google.com/maps/place//data=!4m2!3...       FL  1.146867e+20   \n",
       "\n",
       "          name_y                    time  rating  \\\n",
       "0              N 2021-02-14 02:06:09.716       4   \n",
       "1  Amaury Suarez 2021-07-17 01:47:22.482       3   \n",
       "2  Meghin Hagley 2019-07-15 01:42:14.912       2   \n",
       "3  Justin Mooney 2021-03-27 17:26:56.058       5   \n",
       "\n",
       "                                                text  year  \n",
       "0  The chicken was a little dry and they need to ...  2021  \n",
       "1  A fried chicken place that is always out of ch...  2021  \n",
       "2  Pictures look better then what you get. The Di...  2019  \n",
       "3  The prices here are pretty reasonable and you ...  2021  "
      ]
     },
     "execution_count": 9,
     "metadata": {},
     "output_type": "execute_result"
    }
   ],
   "source": [
    "result_ddf.head(4)"
   ]
  },
  {
   "cell_type": "code",
   "execution_count": 10,
   "metadata": {},
   "outputs": [],
   "source": [
    "## Codigo peligroso.\n",
    "# result_ddf.groupby(\"us_state\").aggregate([\"sum\", \"mean\", \"max\", \"min\"])"
   ]
  },
  {
   "cell_type": "markdown",
   "metadata": {},
   "source": [
    "### Reading parquet file joined with pandas powered by pyarrow back-end"
   ]
  },
  {
   "cell_type": "code",
   "execution_count": 5,
   "metadata": {},
   "outputs": [],
   "source": [
    "metadata_google_reviews = pd.read_parquet(google_maps__folder_path + \"\\\\metadata_google_joined.parquet\", engine=\"pyarrow\", dtype_backend=\"pyarrow\")"
   ]
  },
  {
   "cell_type": "code",
   "execution_count": 13,
   "metadata": {},
   "outputs": [
    {
     "data": {
      "image/png": "[encoded data removed]",
      "text/plain": [
       "<Figure size 2000x1000 with 1 Axes>"
      ]
     },
     "metadata": {},
     "output_type": "display_data"
    }
   ],
   "source": [
    "metadata_google_reviews[\"us_state\"].value_counts().plot(kind=\"bar\", title=\"Number of reviews per state\", figsize=(20, 10));"
   ]
  },
  {
   "cell_type": "code",
   "execution_count": 17,
   "metadata": {},
   "outputs": [
    {
     "data": {
      "image/png": "[encoded data removed]",
      "text/plain": [
       "<Figure size 640x480 with 1 Axes>"
      ]
     },
     "metadata": {},
     "output_type": "display_data"
    }
   ],
   "source": [
    "metadata_google_reviews.loc[metadata_google_reviews[\"us_state\"] == \"NY\", \"rating\"].value_counts().plot(kind=\"bar\", title=\"number of ratings in NY\");"
   ]
  },
  {
   "cell_type": "code",
   "execution_count": 18,
   "metadata": {},
   "outputs": [
    {
     "data": {
      "image/png": "[encoded data removed]",
      "text/plain": [
       "<Figure size 640x480 with 1 Axes>"
      ]
     },
     "metadata": {},
     "output_type": "display_data"
    }
   ],
   "source": [
    "metadata_google_reviews.loc[metadata_google_reviews[\"us_state\"] == \"CA\", \"rating\"].value_counts().plot(kind=\"bar\", title=\"number of ratings in NY\");"
   ]
  },
  {
   "cell_type": "code",
   "execution_count": 20,
   "metadata": {},
   "outputs": [
    {
     "data": {
      "image/png": "[encoded data removed]",
      "text/plain": [
       "<Figure size 640x480 with 1 Axes>"
      ]
     },
     "metadata": {},
     "output_type": "display_data"
    }
   ],
   "source": [
    "metadata_google_reviews.loc[metadata_google_reviews[\"us_state\"] == \"TX\", \"rating\"].value_counts().plot(kind=\"bar\", title=\"number of ratings in NY\");"
   ]
  },
  {
   "cell_type": "code",
   "execution_count": 5,
   "metadata": {},
   "outputs": [
    {
     "ename": "NameError",
     "evalue": "name 'metadata_google_reviews' is not defined",
     "output_type": "error",
     "traceback": [
      "\u001b[1;31m---------------------------------------------------------------------------\u001b[0m",
      "\u001b[1;31mNameError\u001b[0m                                 Traceback (most recent call last)",
      "\u001b[1;32mc:\\Users\\jdieg\\Desktop\\henry\\proyectos\\Google-Yelp\\Sprint-1\\Yelp\\etl_eda.ipynb Cell 84\u001b[0m line \u001b[0;36m1\n\u001b[1;32m----> <a href='vscode-notebook-cell:/c%3A/Users/jdieg/Desktop/henry/proyectos/Google-Yelp/Sprint-1/Yelp/etl_eda.ipynb#Y146sZmlsZQ%3D%3D?line=0'>1</a>\u001b[0m metadata_google_reviews\u001b[39m.\u001b[39mhead()\n",
      "\u001b[1;31mNameError\u001b[0m: name 'metadata_google_reviews' is not defined"
     ]
    }
   ],
   "source": [
    "metadata_google_reviews.head()"
   ]
  },
  {
   "cell_type": "code",
   "execution_count": null,
   "metadata": {},
   "outputs": [],
   "source": []
  },
  {
   "cell_type": "code",
   "execution_count": null,
   "metadata": {},
   "outputs": [],
   "source": []
  },
  {
   "cell_type": "code",
   "execution_count": null,
   "metadata": {},
   "outputs": [],
   "source": []
  },
  {
   "cell_type": "code",
   "execution_count": null,
   "metadata": {},
   "outputs": [],
   "source": []
  },
  {
   "cell_type": "code",
   "execution_count": null,
   "metadata": {},
   "outputs": [],
   "source": [
    "chuck_size = 900000\n",
    "\n",
    "google_reviews_chunks = [google_reviews_df[idx_google: idx_google + chunk_size] for idx_google in range(0, len(google_reviews_df), chuck_size)]\n",
    "\n",
    "merged_df = pd.DataFrame()\n",
    "\n",
    "for chunk in google_reviews_chunks:\n",
    "    merged_chunk = metada_reviews_df.merge(chunk, on=\"gmap_id\", how=\"left\")\n",
    "    merged_df = pd.concat([merged_df, merged_chunk], ignore_index=True)"
   ]
  },
  {
   "cell_type": "code",
   "execution_count": null,
   "metadata": {},
   "outputs": [],
   "source": []
  },
  {
   "cell_type": "code",
   "execution_count": null,
   "metadata": {},
   "outputs": [],
   "source": []
  },
  {
   "cell_type": "code",
   "execution_count": null,
   "metadata": {},
   "outputs": [],
   "source": []
  },
  {
   "cell_type": "code",
   "execution_count": null,
   "metadata": {},
   "outputs": [],
   "source": []
  },
  {
   "cell_type": "markdown",
   "metadata": {},
   "source": [
    "This checks locations with coordinates"
   ]
  },
  {
   "cell_type": "code",
   "execution_count": 83,
   "metadata": {},
   "outputs": [],
   "source": [
    "# from geopy.geocoders import Nominatim\n",
    "# from geopy.exc import GeocoderTimedOut"
   ]
  },
  {
   "cell_type": "code",
   "execution_count": 84,
   "metadata": {},
   "outputs": [],
   "source": [
    "# geolocator = Nominatim(user_agent=\"reverse_geocoding_example\")\n"
   ]
  },
  {
   "cell_type": "code",
   "execution_count": 113,
   "metadata": {},
   "outputs": [],
   "source": [
    "# # Define a function for reverse geocoding\n",
    "# def reverse_geocode(lat, lon):\n",
    "#     try:\n",
    "#         location = geolocator.reverse((lat, lon), exactly_one=True)\n",
    "#         if location is not None:\n",
    "#             address = location.address\n",
    "#             return address\n",
    "#         else:\n",
    "#             return \"Location not found\"\n",
    "#     except GeocoderTimedOut:\n",
    "#         return reverse_geocode(lat, lon)\n",
    "#     except IndexError:\n",
    "#         return \"Unknown State\"\n",
    "\n"
   ]
  },
  {
   "cell_type": "markdown",
   "metadata": {},
   "source": [
    "### Chunkenizer"
   ]
  },
  {
   "cell_type": "code",
   "execution_count": 104,
   "metadata": {},
   "outputs": [],
   "source": [
    "###################################### Snipped Code ###########################################\n",
    "# # Define chunk size\n",
    "# chunk_size = 10000\n",
    "\n",
    "# # Split DataFrames into chunks\n",
    "# left_chunks = [left_df[i:i+chunk_size] for i in range(0, len(left_df), chunk_size)]\n",
    "# right_chunks = [right_df[i:i+chunk_size] for i in range(0, len(right_df), chunk_size)]\n",
    "\n",
    "# # Initialize an empty result DataFrame\n",
    "# result_df = pd.DataFrame()\n",
    "\n",
    "# # Iterate through chunks and merge\n",
    "# for left_chunk, right_chunk in zip(left_chunks, right_chunks):\n",
    "#     merged_chunk = pd.merge(left_chunk, right_chunk, on='key', how='inner')\n",
    "#     result_df = pd.concat([result_df, merged_chunk], ignore_index=True)\n",
    "\n",
    "# # result_df contains the merged result"
   ]
  },
  {
   "cell_type": "markdown",
   "metadata": {},
   "source": [
    "### Working on Yelp Folder"
   ]
  },
  {
   "cell_type": "code",
   "execution_count": 15,
   "metadata": {},
   "outputs": [],
   "source": [
    "yelp_folder_path= \"C:\\\\Users\\\\jdieg\\\\Desktop\\\\henry\\\\proyectos\\\\Google-Yelp\\\\.data\\\\yelp\"\n",
    "\n",
    "yelp_review_df = pd.read_json(yelp_folder_path + \"\\\\review-001.json\", lines=True, engine=\"pyarrow\", dtype_backend=\"pyarrow\")"
   ]
  },
  {
   "cell_type": "code",
   "execution_count": 19,
   "metadata": {},
   "outputs": [
    {
     "data": {
      "text/plain": [
       "review_id      0\n",
       "user_id        0\n",
       "business_id    0\n",
       "stars          0\n",
       "useful         0\n",
       "funny          0\n",
       "cool           0\n",
       "text           0\n",
       "date           0\n",
       "dtype: int64"
      ]
     },
     "execution_count": 19,
     "metadata": {},
     "output_type": "execute_result"
    }
   ],
   "source": [
    "yelp_review_df.isnull().sum()"
   ]
  },
  {
   "cell_type": "code",
   "execution_count": 20,
   "metadata": {},
   "outputs": [],
   "source": [
    "yelp_review_df[\"year\"] = yelp_review_df[\"date\"].dt.year\n",
    "yelp_review_df[\"month\"] = yelp_review_df[\"date\"].dt.month"
   ]
  },
  {
   "cell_type": "code",
   "execution_count": 22,
   "metadata": {},
   "outputs": [
    {
     "data": {
      "image/png": "[encoded data removed]",
      "text/plain": [
       "<Figure size 1500x500 with 1 Axes>"
      ]
     },
     "metadata": {},
     "output_type": "display_data"
    }
   ],
   "source": [
    "yelp_review_df[\"year\"].value_counts().plot(kind=\"bar\", \n",
    "                                      rot=45, \n",
    "                                      title=\"Yelp review counting on each year\", \n",
    "                                      figsize=(15, 5));"
   ]
  },
  {
   "cell_type": "code",
   "execution_count": 26,
   "metadata": {},
   "outputs": [
    {
     "data": {
      "image/png": "[encoded data removed]",
      "text/plain": [
       "<Figure size 1500x500 with 1 Axes>"
      ]
     },
     "metadata": {},
     "output_type": "display_data"
    }
   ],
   "source": [
    "yelp_review_df[\"month\"].value_counts().plot(kind=\"bar\", \n",
    "                                      rot=45, \n",
    "                                      title=\"Yelp reviews counting on each month\", \n",
    "                                      figsize=(15, 5));"
   ]
  },
  {
   "cell_type": "code",
   "execution_count": 27,
   "metadata": {},
   "outputs": [
    {
     "data": {
      "image/png": "[encoded data removed]",
      "text/plain": [
       "<Figure size 1500x500 with 1 Axes>"
      ]
     },
     "metadata": {},
     "output_type": "display_data"
    }
   ],
   "source": [
    "yelp_review_df[\"stars\"].value_counts().plot(kind=\"bar\", \n",
    "                                      rot=45, \n",
    "                                      title=\"Stars Rating Proportion\", \n",
    "                                      figsize=(15, 5));"
   ]
  },
  {
   "cell_type": "markdown",
   "metadata": {},
   "source": [
    "It may be good idea to have a llok at time.. do customers tend to leave 5 stars rating in morning, evening, night? lets find out"
   ]
  },
  {
   "cell_type": "code",
   "execution_count": 61,
   "metadata": {},
   "outputs": [
    {
     "data": {
      "text/plain": [
       "0          22\n",
       "1          15\n",
       "2          20\n",
       "3           0\n",
       "4          20\n",
       "           ..\n",
       "6990275    21\n",
       "6990276    16\n",
       "6990277     3\n",
       "6990278    18\n",
       "6990279    22\n",
       "Name: date, Length: 6990280, dtype: int64[pyarrow]"
      ]
     },
     "execution_count": 61,
     "metadata": {},
     "output_type": "execute_result"
    }
   ],
   "source": [
    "yelp_review_df[\"date\"].dt.hour"
   ]
  },
  {
   "cell_type": "markdown",
   "metadata": {},
   "source": [
    "Creating bins and labels"
   ]
  },
  {
   "cell_type": "markdown",
   "metadata": {},
   "source": [
    "![time category](https://qph.cf2.quoracdn.net/main-qimg-f3b2e5427d4c7bcdb2dd4c0c2d71383f)"
   ]
  },
  {
   "cell_type": "code",
   "execution_count": 91,
   "metadata": {},
   "outputs": [],
   "source": [
    "time_labels = ['Night', 'Morning', 'Afternoon', 'Evening', \"Night\"] \n",
    "time_bins = [0, 6, 12, 18, 22, 24]\n",
    "\n",
    "yelp_review_df[\"time_category\"] = pd.cut(yelp_review_df[\"date\"].dt.hour, bins=time_bins, labels=time_labels, ordered=False, include_lowest=True)"
   ]
  },
  {
   "cell_type": "code",
   "execution_count": 96,
   "metadata": {},
   "outputs": [
    {
     "data": {
      "image/png": "[encoded data removed]",
      "text/plain": [
       "<Figure size 640x480 with 1 Axes>"
      ]
     },
     "metadata": {},
     "output_type": "display_data"
    }
   ],
   "source": [
    "yelp_review_df[\"time_category\"].value_counts().plot(kind=\"bar\", \n",
    "                                                    title=\"number of reviews according to day stage\",\n",
    "                                                    rot=0,\n",
    "                                                    );"
   ]
  },
  {
   "cell_type": "code",
   "execution_count": 99,
   "metadata": {},
   "outputs": [
    {
     "data": {
      "text/plain": [
       "0            Evening\n",
       "1          Afternoon\n",
       "2            Evening\n",
       "3              Night\n",
       "4            Evening\n",
       "             ...    \n",
       "6990275      Evening\n",
       "6990276    Afternoon\n",
       "6990277        Night\n",
       "6990278    Afternoon\n",
       "6990279      Evening\n",
       "Name: time_category, Length: 6990280, dtype: category\n",
       "Categories (4, object): ['Afternoon', 'Evening', 'Morning', 'Night']"
      ]
     },
     "execution_count": 99,
     "metadata": {},
     "output_type": "execute_result"
    }
   ],
   "source": [
    "yelp_review_df[\"time_category\"]"
   ]
  },
  {
   "cell_type": "code",
   "execution_count": 106,
   "metadata": {},
   "outputs": [
    {
     "name": "stdout",
     "output_type": "stream",
     "text": [
      "<class 'pandas.core.frame.DataFrame'>\n",
      "RangeIndex: 6990280 entries, 0 to 6990279\n",
      "Data columns (total 12 columns):\n",
      " #   Column         Dtype                \n",
      "---  ------         -----                \n",
      " 0   review_id      string[pyarrow]      \n",
      " 1   user_id        string[pyarrow]      \n",
      " 2   business_id    string[pyarrow]      \n",
      " 3   stars          double[pyarrow]      \n",
      " 4   useful         int64[pyarrow]       \n",
      " 5   funny          int64[pyarrow]       \n",
      " 6   cool           int64[pyarrow]       \n",
      " 7   text           string[pyarrow]      \n",
      " 8   date           timestamp[s][pyarrow]\n",
      " 9   year           int64[pyarrow]       \n",
      " 10  month          int64[pyarrow]       \n",
      " 11  time_category  category             \n",
      "dtypes: category(1), double[pyarrow](1), int64[pyarrow](5), string[pyarrow](4), timestamp[s][pyarrow](1)\n",
      "memory usage: 4.6 GB\n"
     ]
    }
   ],
   "source": [
    "yelp_review_df.info()"
   ]
  },
  {
   "cell_type": "code",
   "execution_count": 111,
   "metadata": {},
   "outputs": [
    {
     "data": {
      "text/html": [
       "<div>\n",
       "<style scoped>\n",
       "    .dataframe tbody tr th:only-of-type {\n",
       "        vertical-align: middle;\n",
       "    }\n",
       "\n",
       "    .dataframe tbody tr th {\n",
       "        vertical-align: top;\n",
       "    }\n",
       "\n",
       "    .dataframe thead th {\n",
       "        text-align: right;\n",
       "    }\n",
       "</style>\n",
       "<table border=\"1\" class=\"dataframe\">\n",
       "  <thead>\n",
       "    <tr style=\"text-align: right;\">\n",
       "      <th></th>\n",
       "      <th>review_id</th>\n",
       "      <th>user_id</th>\n",
       "      <th>business_id</th>\n",
       "      <th>stars</th>\n",
       "      <th>useful</th>\n",
       "      <th>funny</th>\n",
       "      <th>cool</th>\n",
       "      <th>text</th>\n",
       "      <th>date</th>\n",
       "      <th>year</th>\n",
       "      <th>month</th>\n",
       "      <th>time_category</th>\n",
       "    </tr>\n",
       "  </thead>\n",
       "  <tbody>\n",
       "    <tr>\n",
       "      <th>0</th>\n",
       "      <td>KU_O5udG6zpxOg-VcAEodg</td>\n",
       "      <td>mh_-eMZ6K5RLWhZyISBhwA</td>\n",
       "      <td>XQfwVwDr-v0ZS3_CbbE5Xw</td>\n",
       "      <td>3.0</td>\n",
       "      <td>0</td>\n",
       "      <td>0</td>\n",
       "      <td>0</td>\n",
       "      <td>If you decide to eat here, just be aware it is...</td>\n",
       "      <td>2018-07-07 22:09:11</td>\n",
       "      <td>2018</td>\n",
       "      <td>7</td>\n",
       "      <td>Evening</td>\n",
       "    </tr>\n",
       "    <tr>\n",
       "      <th>1</th>\n",
       "      <td>BiTunyQ73aT9WBnpR9DZGw</td>\n",
       "      <td>OyoGAe7OKpv6SyGZT5g77Q</td>\n",
       "      <td>7ATYjTIgM3jUlt4UM3IypQ</td>\n",
       "      <td>5.0</td>\n",
       "      <td>1</td>\n",
       "      <td>0</td>\n",
       "      <td>1</td>\n",
       "      <td>I've taken a lot of spin classes over the year...</td>\n",
       "      <td>2012-01-03 15:28:18</td>\n",
       "      <td>2012</td>\n",
       "      <td>1</td>\n",
       "      <td>Afternoon</td>\n",
       "    </tr>\n",
       "    <tr>\n",
       "      <th>2</th>\n",
       "      <td>saUsX_uimxRlCVr67Z4Jig</td>\n",
       "      <td>8g_iMtfSiwikVnbP2etR0A</td>\n",
       "      <td>YjUWPpI6HXG530lwP-fb2A</td>\n",
       "      <td>3.0</td>\n",
       "      <td>0</td>\n",
       "      <td>0</td>\n",
       "      <td>0</td>\n",
       "      <td>Family diner. Had the buffet. Eclectic assortm...</td>\n",
       "      <td>2014-02-05 20:30:30</td>\n",
       "      <td>2014</td>\n",
       "      <td>2</td>\n",
       "      <td>Evening</td>\n",
       "    </tr>\n",
       "    <tr>\n",
       "      <th>3</th>\n",
       "      <td>AqPFMleE6RsU23_auESxiA</td>\n",
       "      <td>_7bHUi9Uuf5__HHc_Q8guQ</td>\n",
       "      <td>kxX2SOes4o-D3ZQBkiMRfA</td>\n",
       "      <td>5.0</td>\n",
       "      <td>1</td>\n",
       "      <td>0</td>\n",
       "      <td>1</td>\n",
       "      <td>Wow!  Yummy, different,  delicious.   Our favo...</td>\n",
       "      <td>2015-01-04 00:01:03</td>\n",
       "      <td>2015</td>\n",
       "      <td>1</td>\n",
       "      <td>Night</td>\n",
       "    </tr>\n",
       "    <tr>\n",
       "      <th>4</th>\n",
       "      <td>Sx8TMOWLNuJBWer-0pcmoA</td>\n",
       "      <td>bcjbaE6dDog4jkNY91ncLQ</td>\n",
       "      <td>e4Vwtrqf-wpJfwesgvdgxQ</td>\n",
       "      <td>4.0</td>\n",
       "      <td>1</td>\n",
       "      <td>0</td>\n",
       "      <td>1</td>\n",
       "      <td>Cute interior and owner (?) gave us tour of up...</td>\n",
       "      <td>2017-01-14 20:54:15</td>\n",
       "      <td>2017</td>\n",
       "      <td>1</td>\n",
       "      <td>Evening</td>\n",
       "    </tr>\n",
       "    <tr>\n",
       "      <th>...</th>\n",
       "      <td>...</td>\n",
       "      <td>...</td>\n",
       "      <td>...</td>\n",
       "      <td>...</td>\n",
       "      <td>...</td>\n",
       "      <td>...</td>\n",
       "      <td>...</td>\n",
       "      <td>...</td>\n",
       "      <td>...</td>\n",
       "      <td>...</td>\n",
       "      <td>...</td>\n",
       "      <td>...</td>\n",
       "    </tr>\n",
       "    <tr>\n",
       "      <th>6990275</th>\n",
       "      <td>H0RIamZu0B0Ei0P4aeh3sQ</td>\n",
       "      <td>qskILQ3k0I_qcCMI-k6_QQ</td>\n",
       "      <td>jals67o91gcrD4DC81Vk6w</td>\n",
       "      <td>5.0</td>\n",
       "      <td>1</td>\n",
       "      <td>2</td>\n",
       "      <td>1</td>\n",
       "      <td>Latest addition to services from ICCU is Apple...</td>\n",
       "      <td>2014-12-17 21:45:20</td>\n",
       "      <td>2014</td>\n",
       "      <td>12</td>\n",
       "      <td>Evening</td>\n",
       "    </tr>\n",
       "    <tr>\n",
       "      <th>6990276</th>\n",
       "      <td>shTPgbgdwTHSuU67mGCmZQ</td>\n",
       "      <td>Zo0th2m8Ez4gLSbHftiQvg</td>\n",
       "      <td>2vLksaMmSEcGbjI5gywpZA</td>\n",
       "      <td>5.0</td>\n",
       "      <td>2</td>\n",
       "      <td>1</td>\n",
       "      <td>2</td>\n",
       "      <td>This spot offers a great, affordable east week...</td>\n",
       "      <td>2021-03-31 16:55:10</td>\n",
       "      <td>2021</td>\n",
       "      <td>3</td>\n",
       "      <td>Afternoon</td>\n",
       "    </tr>\n",
       "    <tr>\n",
       "      <th>6990277</th>\n",
       "      <td>YNfNhgZlaaCO5Q_YJR4rEw</td>\n",
       "      <td>mm6E4FbCMwJmb7kPDZ5v2Q</td>\n",
       "      <td>R1khUUxidqfaJmcpmGd4aw</td>\n",
       "      <td>4.0</td>\n",
       "      <td>1</td>\n",
       "      <td>0</td>\n",
       "      <td>0</td>\n",
       "      <td>This Home Depot won me over when I needed to g...</td>\n",
       "      <td>2019-12-30 03:56:30</td>\n",
       "      <td>2019</td>\n",
       "      <td>12</td>\n",
       "      <td>Night</td>\n",
       "    </tr>\n",
       "    <tr>\n",
       "      <th>6990278</th>\n",
       "      <td>i-I4ZOhoX70Nw5H0FwrQUA</td>\n",
       "      <td>YwAMC-jvZ1fvEUum6QkEkw</td>\n",
       "      <td>Rr9kKArrMhSLVE9a53q-aA</td>\n",
       "      <td>5.0</td>\n",
       "      <td>1</td>\n",
       "      <td>0</td>\n",
       "      <td>0</td>\n",
       "      <td>For when I'm feeling like ignoring my calorie-...</td>\n",
       "      <td>2022-01-19 18:59:27</td>\n",
       "      <td>2022</td>\n",
       "      <td>1</td>\n",
       "      <td>Afternoon</td>\n",
       "    </tr>\n",
       "    <tr>\n",
       "      <th>6990279</th>\n",
       "      <td>RwcKOdEuLRHNJe4M9-qpqg</td>\n",
       "      <td>6JehEvdoCvZPJ_XIxnzIIw</td>\n",
       "      <td>VAeEXLbEcI9Emt9KGYq9aA</td>\n",
       "      <td>3.0</td>\n",
       "      <td>10</td>\n",
       "      <td>3</td>\n",
       "      <td>7</td>\n",
       "      <td>Located in the 'Walking District' in Nashville...</td>\n",
       "      <td>2018-01-02 22:50:47</td>\n",
       "      <td>2018</td>\n",
       "      <td>1</td>\n",
       "      <td>Evening</td>\n",
       "    </tr>\n",
       "  </tbody>\n",
       "</table>\n",
       "<p>6990280 rows × 12 columns</p>\n",
       "</div>"
      ],
      "text/plain": [
       "                      review_id                 user_id  \\\n",
       "0        KU_O5udG6zpxOg-VcAEodg  mh_-eMZ6K5RLWhZyISBhwA   \n",
       "1        BiTunyQ73aT9WBnpR9DZGw  OyoGAe7OKpv6SyGZT5g77Q   \n",
       "2        saUsX_uimxRlCVr67Z4Jig  8g_iMtfSiwikVnbP2etR0A   \n",
       "3        AqPFMleE6RsU23_auESxiA  _7bHUi9Uuf5__HHc_Q8guQ   \n",
       "4        Sx8TMOWLNuJBWer-0pcmoA  bcjbaE6dDog4jkNY91ncLQ   \n",
       "...                         ...                     ...   \n",
       "6990275  H0RIamZu0B0Ei0P4aeh3sQ  qskILQ3k0I_qcCMI-k6_QQ   \n",
       "6990276  shTPgbgdwTHSuU67mGCmZQ  Zo0th2m8Ez4gLSbHftiQvg   \n",
       "6990277  YNfNhgZlaaCO5Q_YJR4rEw  mm6E4FbCMwJmb7kPDZ5v2Q   \n",
       "6990278  i-I4ZOhoX70Nw5H0FwrQUA  YwAMC-jvZ1fvEUum6QkEkw   \n",
       "6990279  RwcKOdEuLRHNJe4M9-qpqg  6JehEvdoCvZPJ_XIxnzIIw   \n",
       "\n",
       "                    business_id  stars  useful  funny  cool  \\\n",
       "0        XQfwVwDr-v0ZS3_CbbE5Xw    3.0       0      0     0   \n",
       "1        7ATYjTIgM3jUlt4UM3IypQ    5.0       1      0     1   \n",
       "2        YjUWPpI6HXG530lwP-fb2A    3.0       0      0     0   \n",
       "3        kxX2SOes4o-D3ZQBkiMRfA    5.0       1      0     1   \n",
       "4        e4Vwtrqf-wpJfwesgvdgxQ    4.0       1      0     1   \n",
       "...                         ...    ...     ...    ...   ...   \n",
       "6990275  jals67o91gcrD4DC81Vk6w    5.0       1      2     1   \n",
       "6990276  2vLksaMmSEcGbjI5gywpZA    5.0       2      1     2   \n",
       "6990277  R1khUUxidqfaJmcpmGd4aw    4.0       1      0     0   \n",
       "6990278  Rr9kKArrMhSLVE9a53q-aA    5.0       1      0     0   \n",
       "6990279  VAeEXLbEcI9Emt9KGYq9aA    3.0      10      3     7   \n",
       "\n",
       "                                                      text  \\\n",
       "0        If you decide to eat here, just be aware it is...   \n",
       "1        I've taken a lot of spin classes over the year...   \n",
       "2        Family diner. Had the buffet. Eclectic assortm...   \n",
       "3        Wow!  Yummy, different,  delicious.   Our favo...   \n",
       "4        Cute interior and owner (?) gave us tour of up...   \n",
       "...                                                    ...   \n",
       "6990275  Latest addition to services from ICCU is Apple...   \n",
       "6990276  This spot offers a great, affordable east week...   \n",
       "6990277  This Home Depot won me over when I needed to g...   \n",
       "6990278  For when I'm feeling like ignoring my calorie-...   \n",
       "6990279  Located in the 'Walking District' in Nashville...   \n",
       "\n",
       "                        date  year  month time_category  \n",
       "0        2018-07-07 22:09:11  2018      7       Evening  \n",
       "1        2012-01-03 15:28:18  2012      1     Afternoon  \n",
       "2        2014-02-05 20:30:30  2014      2       Evening  \n",
       "3        2015-01-04 00:01:03  2015      1         Night  \n",
       "4        2017-01-14 20:54:15  2017      1       Evening  \n",
       "...                      ...   ...    ...           ...  \n",
       "6990275  2014-12-17 21:45:20  2014     12       Evening  \n",
       "6990276  2021-03-31 16:55:10  2021      3     Afternoon  \n",
       "6990277  2019-12-30 03:56:30  2019     12         Night  \n",
       "6990278  2022-01-19 18:59:27  2022      1     Afternoon  \n",
       "6990279  2018-01-02 22:50:47  2018      1       Evening  \n",
       "\n",
       "[6990280 rows x 12 columns]"
      ]
     },
     "execution_count": 111,
     "metadata": {},
     "output_type": "execute_result"
    }
   ],
   "source": [
    "yelp_review_df"
   ]
  },
  {
   "cell_type": "markdown",
   "metadata": {},
   "source": [
    "### Business Dataset"
   ]
  },
  {
   "cell_type": "code",
   "execution_count": 113,
   "metadata": {},
   "outputs": [],
   "source": [
    "yelp_business_path = \"C:\\\\Users\\\\jdieg\\\\Desktop\\\\henry\\\\proyectos\\\\Google-Yelp\\\\.data\\\\yelp\\\\Yelp-20230922T024530Z-003\\\\Yelp\\\\business.pkl\"\n",
    "\n",
    "\n",
    "business_df = pd.read_pickle(yelp_business_path)"
   ]
  },
  {
   "cell_type": "code",
   "execution_count": 114,
   "metadata": {},
   "outputs": [
    {
     "data": {
      "text/html": [
       "<div>\n",
       "<style scoped>\n",
       "    .dataframe tbody tr th:only-of-type {\n",
       "        vertical-align: middle;\n",
       "    }\n",
       "\n",
       "    .dataframe tbody tr th {\n",
       "        vertical-align: top;\n",
       "    }\n",
       "\n",
       "    .dataframe thead th {\n",
       "        text-align: right;\n",
       "    }\n",
       "</style>\n",
       "<table border=\"1\" class=\"dataframe\">\n",
       "  <thead>\n",
       "    <tr style=\"text-align: right;\">\n",
       "      <th></th>\n",
       "      <th>business_id</th>\n",
       "      <th>name</th>\n",
       "      <th>address</th>\n",
       "      <th>city</th>\n",
       "      <th>state</th>\n",
       "      <th>postal_code</th>\n",
       "      <th>latitude</th>\n",
       "      <th>longitude</th>\n",
       "      <th>stars</th>\n",
       "      <th>review_count</th>\n",
       "      <th>...</th>\n",
       "      <th>state</th>\n",
       "      <th>postal_code</th>\n",
       "      <th>latitude</th>\n",
       "      <th>longitude</th>\n",
       "      <th>stars</th>\n",
       "      <th>review_count</th>\n",
       "      <th>is_open</th>\n",
       "      <th>attributes</th>\n",
       "      <th>categories</th>\n",
       "      <th>hours</th>\n",
       "    </tr>\n",
       "  </thead>\n",
       "  <tbody>\n",
       "    <tr>\n",
       "      <th>0</th>\n",
       "      <td>Pns2l4eNsfO8kk83dixA6A</td>\n",
       "      <td>Abby Rappoport, LAC, CMQ</td>\n",
       "      <td>1616 Chapala St, Ste 2</td>\n",
       "      <td>Santa Barbara</td>\n",
       "      <td>NaN</td>\n",
       "      <td>93101</td>\n",
       "      <td>34.426679</td>\n",
       "      <td>-119.711197</td>\n",
       "      <td>5.0</td>\n",
       "      <td>7</td>\n",
       "      <td>...</td>\n",
       "      <td>NaN</td>\n",
       "      <td>NaN</td>\n",
       "      <td>NaN</td>\n",
       "      <td>NaN</td>\n",
       "      <td>NaN</td>\n",
       "      <td>NaN</td>\n",
       "      <td>NaN</td>\n",
       "      <td>NaN</td>\n",
       "      <td>NaN</td>\n",
       "      <td>NaN</td>\n",
       "    </tr>\n",
       "    <tr>\n",
       "      <th>1</th>\n",
       "      <td>mpf3x-BjTdTEA3yCZrAYPw</td>\n",
       "      <td>The UPS Store</td>\n",
       "      <td>87 Grasso Plaza Shopping Center</td>\n",
       "      <td>Affton</td>\n",
       "      <td>NaN</td>\n",
       "      <td>63123</td>\n",
       "      <td>38.551126</td>\n",
       "      <td>-90.335695</td>\n",
       "      <td>3.0</td>\n",
       "      <td>15</td>\n",
       "      <td>...</td>\n",
       "      <td>NaN</td>\n",
       "      <td>NaN</td>\n",
       "      <td>NaN</td>\n",
       "      <td>NaN</td>\n",
       "      <td>NaN</td>\n",
       "      <td>NaN</td>\n",
       "      <td>NaN</td>\n",
       "      <td>NaN</td>\n",
       "      <td>NaN</td>\n",
       "      <td>NaN</td>\n",
       "    </tr>\n",
       "    <tr>\n",
       "      <th>2</th>\n",
       "      <td>tUFrWirKiKi_TAnsVWINQQ</td>\n",
       "      <td>Target</td>\n",
       "      <td>5255 E Broadway Blvd</td>\n",
       "      <td>Tucson</td>\n",
       "      <td>NaN</td>\n",
       "      <td>85711</td>\n",
       "      <td>32.223236</td>\n",
       "      <td>-110.880452</td>\n",
       "      <td>3.5</td>\n",
       "      <td>22</td>\n",
       "      <td>...</td>\n",
       "      <td>NaN</td>\n",
       "      <td>NaN</td>\n",
       "      <td>NaN</td>\n",
       "      <td>NaN</td>\n",
       "      <td>NaN</td>\n",
       "      <td>NaN</td>\n",
       "      <td>NaN</td>\n",
       "      <td>NaN</td>\n",
       "      <td>NaN</td>\n",
       "      <td>NaN</td>\n",
       "    </tr>\n",
       "    <tr>\n",
       "      <th>3</th>\n",
       "      <td>MTSW4McQd7CbVtyjqoe9mw</td>\n",
       "      <td>St Honore Pastries</td>\n",
       "      <td>935 Race St</td>\n",
       "      <td>Philadelphia</td>\n",
       "      <td>CA</td>\n",
       "      <td>19107</td>\n",
       "      <td>39.955505</td>\n",
       "      <td>-75.155564</td>\n",
       "      <td>4.0</td>\n",
       "      <td>80</td>\n",
       "      <td>...</td>\n",
       "      <td>NaN</td>\n",
       "      <td>NaN</td>\n",
       "      <td>NaN</td>\n",
       "      <td>NaN</td>\n",
       "      <td>NaN</td>\n",
       "      <td>NaN</td>\n",
       "      <td>NaN</td>\n",
       "      <td>NaN</td>\n",
       "      <td>NaN</td>\n",
       "      <td>NaN</td>\n",
       "    </tr>\n",
       "    <tr>\n",
       "      <th>4</th>\n",
       "      <td>mWMc6_wTdE0EUBKIGXDVfA</td>\n",
       "      <td>Perkiomen Valley Brewery</td>\n",
       "      <td>101 Walnut St</td>\n",
       "      <td>Green Lane</td>\n",
       "      <td>MO</td>\n",
       "      <td>18054</td>\n",
       "      <td>40.338183</td>\n",
       "      <td>-75.471659</td>\n",
       "      <td>4.5</td>\n",
       "      <td>13</td>\n",
       "      <td>...</td>\n",
       "      <td>NaN</td>\n",
       "      <td>NaN</td>\n",
       "      <td>NaN</td>\n",
       "      <td>NaN</td>\n",
       "      <td>NaN</td>\n",
       "      <td>NaN</td>\n",
       "      <td>NaN</td>\n",
       "      <td>NaN</td>\n",
       "      <td>NaN</td>\n",
       "      <td>NaN</td>\n",
       "    </tr>\n",
       "  </tbody>\n",
       "</table>\n",
       "<p>5 rows × 28 columns</p>\n",
       "</div>"
      ],
      "text/plain": [
       "              business_id                      name  \\\n",
       "0  Pns2l4eNsfO8kk83dixA6A  Abby Rappoport, LAC, CMQ   \n",
       "1  mpf3x-BjTdTEA3yCZrAYPw             The UPS Store   \n",
       "2  tUFrWirKiKi_TAnsVWINQQ                    Target   \n",
       "3  MTSW4McQd7CbVtyjqoe9mw        St Honore Pastries   \n",
       "4  mWMc6_wTdE0EUBKIGXDVfA  Perkiomen Valley Brewery   \n",
       "\n",
       "                           address           city state postal_code  \\\n",
       "0           1616 Chapala St, Ste 2  Santa Barbara   NaN       93101   \n",
       "1  87 Grasso Plaza Shopping Center         Affton   NaN       63123   \n",
       "2             5255 E Broadway Blvd         Tucson   NaN       85711   \n",
       "3                      935 Race St   Philadelphia    CA       19107   \n",
       "4                    101 Walnut St     Green Lane    MO       18054   \n",
       "\n",
       "    latitude   longitude stars review_count  ... state postal_code latitude  \\\n",
       "0  34.426679 -119.711197   5.0            7  ...   NaN         NaN      NaN   \n",
       "1  38.551126  -90.335695   3.0           15  ...   NaN         NaN      NaN   \n",
       "2  32.223236 -110.880452   3.5           22  ...   NaN         NaN      NaN   \n",
       "3  39.955505  -75.155564   4.0           80  ...   NaN         NaN      NaN   \n",
       "4  40.338183  -75.471659   4.5           13  ...   NaN         NaN      NaN   \n",
       "\n",
       "  longitude stars review_count is_open attributes categories hours  \n",
       "0       NaN   NaN          NaN     NaN        NaN        NaN   NaN  \n",
       "1       NaN   NaN          NaN     NaN        NaN        NaN   NaN  \n",
       "2       NaN   NaN          NaN     NaN        NaN        NaN   NaN  \n",
       "3       NaN   NaN          NaN     NaN        NaN        NaN   NaN  \n",
       "4       NaN   NaN          NaN     NaN        NaN        NaN   NaN  \n",
       "\n",
       "[5 rows x 28 columns]"
      ]
     },
     "execution_count": 114,
     "metadata": {},
     "output_type": "execute_result"
    }
   ],
   "source": [
    "business_df.head()"
   ]
  },
  {
   "cell_type": "code",
   "execution_count": 32,
   "metadata": {},
   "outputs": [
    {
     "data": {
      "text/plain": [
       "(150346, 28)"
      ]
     },
     "execution_count": 32,
     "metadata": {},
     "output_type": "execute_result"
    }
   ],
   "source": [
    "business_df.shape"
   ]
  },
  {
   "cell_type": "code",
   "execution_count": 33,
   "metadata": {},
   "outputs": [
    {
     "data": {
      "text/plain": [
       "Index(['business_id', 'name', 'address', 'city', 'state', 'postal_code',\n",
       "       'latitude', 'longitude', 'stars', 'review_count', 'is_open',\n",
       "       'attributes', 'categories', 'hours', 'business_id', 'name', 'address',\n",
       "       'city', 'state', 'postal_code', 'latitude', 'longitude', 'stars',\n",
       "       'review_count', 'is_open', 'attributes', 'categories', 'hours'],\n",
       "      dtype='object')"
      ]
     },
     "execution_count": 33,
     "metadata": {},
     "output_type": "execute_result"
    }
   ],
   "source": [
    "business_df.columns"
   ]
  },
  {
   "cell_type": "markdown",
   "metadata": {},
   "source": [
    "It seems there are a few duplicated column names... Wha do they contain?"
   ]
  },
  {
   "cell_type": "code",
   "execution_count": 34,
   "metadata": {},
   "outputs": [
    {
     "data": {
      "text/plain": [
       "business_id          0\n",
       "name                 0\n",
       "address              0\n",
       "city                 0\n",
       "state                3\n",
       "postal_code          0\n",
       "latitude             0\n",
       "longitude            0\n",
       "stars                0\n",
       "review_count         0\n",
       "is_open              0\n",
       "attributes       13744\n",
       "categories         103\n",
       "hours            23223\n",
       "business_id     150341\n",
       "name            150341\n",
       "address         150341\n",
       "city            150341\n",
       "state           150341\n",
       "postal_code     150341\n",
       "latitude        150341\n",
       "longitude       150341\n",
       "stars           150341\n",
       "review_count    150341\n",
       "is_open         150341\n",
       "attributes      150341\n",
       "categories      150341\n",
       "hours           150341\n",
       "dtype: int64"
      ]
     },
     "execution_count": 34,
     "metadata": {},
     "output_type": "execute_result"
    }
   ],
   "source": [
    "business_df.isna().sum()"
   ]
  },
  {
   "cell_type": "markdown",
   "metadata": {},
   "source": [
    "Certianly, null values only.. but.. that null values counting is bit smaller that the total records.. there should be data to be saved.\n",
    "\n",
    "Indeed, 5 records that somehow the duplicated columns are not empty.. but.. hw it's happened? I do not know, I let's save this for a while since that question does not belong to the scope"
   ]
  },
  {
   "cell_type": "code",
   "execution_count": 35,
   "metadata": {},
   "outputs": [
    {
     "data": {
      "text/html": [
       "<div>\n",
       "<style scoped>\n",
       "    .dataframe tbody tr th:only-of-type {\n",
       "        vertical-align: middle;\n",
       "    }\n",
       "\n",
       "    .dataframe tbody tr th {\n",
       "        vertical-align: top;\n",
       "    }\n",
       "\n",
       "    .dataframe thead th {\n",
       "        text-align: right;\n",
       "    }\n",
       "</style>\n",
       "<table border=\"1\" class=\"dataframe\">\n",
       "  <thead>\n",
       "    <tr style=\"text-align: right;\">\n",
       "      <th></th>\n",
       "      <th>business_id</th>\n",
       "      <th>name</th>\n",
       "      <th>address</th>\n",
       "      <th>city</th>\n",
       "      <th>state</th>\n",
       "      <th>postal_code</th>\n",
       "      <th>latitude</th>\n",
       "      <th>longitude</th>\n",
       "      <th>stars</th>\n",
       "      <th>review_count</th>\n",
       "      <th>...</th>\n",
       "      <th>state</th>\n",
       "      <th>postal_code</th>\n",
       "      <th>latitude</th>\n",
       "      <th>longitude</th>\n",
       "      <th>stars</th>\n",
       "      <th>review_count</th>\n",
       "      <th>is_open</th>\n",
       "      <th>attributes</th>\n",
       "      <th>categories</th>\n",
       "      <th>hours</th>\n",
       "    </tr>\n",
       "  </thead>\n",
       "  <tbody>\n",
       "    <tr>\n",
       "      <th>590</th>\n",
       "      <td>6_Zf2QsRHCH1RhbzA9inyw</td>\n",
       "      <td>Starbucks</td>\n",
       "      <td>8602 Hillsborough Ave</td>\n",
       "      <td>Tampa</td>\n",
       "      <td>LA</td>\n",
       "      <td>33615</td>\n",
       "      <td>27.99637</td>\n",
       "      <td>-82.580954</td>\n",
       "      <td>3.0</td>\n",
       "      <td>56</td>\n",
       "      <td>...</td>\n",
       "      <td>LA</td>\n",
       "      <td>33615</td>\n",
       "      <td>27.99637</td>\n",
       "      <td>-82.580954</td>\n",
       "      <td>3.0</td>\n",
       "      <td>56</td>\n",
       "      <td>1</td>\n",
       "      <td>{'BikeParking': 'True', 'BusinessAcceptsCredit...</td>\n",
       "      <td>Coffee &amp; Tea, Food</td>\n",
       "      <td>{'Monday': '5:30-21:0', 'Tuesday': '5:30-21:0'...</td>\n",
       "    </tr>\n",
       "    <tr>\n",
       "      <th>613</th>\n",
       "      <td>Iipfa9Kaac9XH5Vo8GQwvg</td>\n",
       "      <td>Starbucks</td>\n",
       "      <td>5956 153 Avenue</td>\n",
       "      <td>Edmonton</td>\n",
       "      <td>PA</td>\n",
       "      <td>T5Y 2W1</td>\n",
       "      <td>53.616147</td>\n",
       "      <td>-113.432424</td>\n",
       "      <td>3.5</td>\n",
       "      <td>10</td>\n",
       "      <td>...</td>\n",
       "      <td>PA</td>\n",
       "      <td>T5Y 2W1</td>\n",
       "      <td>53.616147</td>\n",
       "      <td>-113.432424</td>\n",
       "      <td>3.5</td>\n",
       "      <td>10</td>\n",
       "      <td>1</td>\n",
       "      <td>{'BusinessParking': '{'garage': False, 'street...</td>\n",
       "      <td>Coffee &amp; Tea, Food</td>\n",
       "      <td>{'Monday': '5:30-22:0', 'Tuesday': '5:30-22:0'...</td>\n",
       "    </tr>\n",
       "    <tr>\n",
       "      <th>978</th>\n",
       "      <td>oY6osC4Ch3PvguA7D1hh_w</td>\n",
       "      <td>Starbucks</td>\n",
       "      <td>1251 Route 130 S</td>\n",
       "      <td>Cinnaminson</td>\n",
       "      <td>AZ</td>\n",
       "      <td>08077</td>\n",
       "      <td>40.000157</td>\n",
       "      <td>-74.987313</td>\n",
       "      <td>4.5</td>\n",
       "      <td>7</td>\n",
       "      <td>...</td>\n",
       "      <td>AZ</td>\n",
       "      <td>08077</td>\n",
       "      <td>40.000157</td>\n",
       "      <td>-74.987313</td>\n",
       "      <td>4.5</td>\n",
       "      <td>7</td>\n",
       "      <td>1</td>\n",
       "      <td>{'WiFi': 'u'free'', 'BusinessParking': '{'gara...</td>\n",
       "      <td>Coffee &amp; Tea, Food</td>\n",
       "      <td>{'Monday': '5:30-20:0', 'Tuesday': '5:30-20:0'...</td>\n",
       "    </tr>\n",
       "    <tr>\n",
       "      <th>1296</th>\n",
       "      <td>pxuMxh5oC7W-PDN9wwvozg</td>\n",
       "      <td>Starbucks</td>\n",
       "      <td>219 N Center St</td>\n",
       "      <td>Reno</td>\n",
       "      <td>FL</td>\n",
       "      <td>89501</td>\n",
       "      <td>39.527772</td>\n",
       "      <td>-119.812518</td>\n",
       "      <td>3.0</td>\n",
       "      <td>44</td>\n",
       "      <td>...</td>\n",
       "      <td>FL</td>\n",
       "      <td>89501</td>\n",
       "      <td>39.527772</td>\n",
       "      <td>-119.812518</td>\n",
       "      <td>3.0</td>\n",
       "      <td>44</td>\n",
       "      <td>0</td>\n",
       "      <td>{'BikeParking': 'False', 'Caters': 'False', 'O...</td>\n",
       "      <td>Coffee &amp; Tea, Food</td>\n",
       "      <td>{'Monday': '5:30-19:0', 'Tuesday': '5:30-19:0'...</td>\n",
       "    </tr>\n",
       "    <tr>\n",
       "      <th>1543</th>\n",
       "      <td>lo2VbA7Lwzu3i23pQpmzlw</td>\n",
       "      <td>Starbucks</td>\n",
       "      <td>1125 S Black Horse Pike, Space 575</td>\n",
       "      <td>Gloucester Township</td>\n",
       "      <td>NJ</td>\n",
       "      <td>08012</td>\n",
       "      <td>39.78403</td>\n",
       "      <td>-75.05207</td>\n",
       "      <td>3.0</td>\n",
       "      <td>15</td>\n",
       "      <td>...</td>\n",
       "      <td>NJ</td>\n",
       "      <td>08012</td>\n",
       "      <td>39.78403</td>\n",
       "      <td>-75.05207</td>\n",
       "      <td>3.0</td>\n",
       "      <td>15</td>\n",
       "      <td>1</td>\n",
       "      <td>{'BikeParking': 'True', 'RestaurantsPriceRange...</td>\n",
       "      <td>Food, Coffee &amp; Tea</td>\n",
       "      <td>{'Monday': '0:0-0:0', 'Tuesday': '10:30-20:0',...</td>\n",
       "    </tr>\n",
       "  </tbody>\n",
       "</table>\n",
       "<p>5 rows × 28 columns</p>\n",
       "</div>"
      ],
      "text/plain": [
       "                 business_id       name                             address  \\\n",
       "590   6_Zf2QsRHCH1RhbzA9inyw  Starbucks               8602 Hillsborough Ave   \n",
       "613   Iipfa9Kaac9XH5Vo8GQwvg  Starbucks                     5956 153 Avenue   \n",
       "978   oY6osC4Ch3PvguA7D1hh_w  Starbucks                    1251 Route 130 S   \n",
       "1296  pxuMxh5oC7W-PDN9wwvozg  Starbucks                     219 N Center St   \n",
       "1543  lo2VbA7Lwzu3i23pQpmzlw  Starbucks  1125 S Black Horse Pike, Space 575   \n",
       "\n",
       "                     city state postal_code   latitude   longitude stars  \\\n",
       "590                 Tampa    LA       33615   27.99637  -82.580954   3.0   \n",
       "613              Edmonton    PA     T5Y 2W1  53.616147 -113.432424   3.5   \n",
       "978           Cinnaminson    AZ       08077  40.000157  -74.987313   4.5   \n",
       "1296                 Reno    FL       89501  39.527772 -119.812518   3.0   \n",
       "1543  Gloucester Township    NJ       08012   39.78403   -75.05207   3.0   \n",
       "\n",
       "     review_count  ... state postal_code   latitude   longitude stars  \\\n",
       "590            56  ...    LA       33615   27.99637  -82.580954   3.0   \n",
       "613            10  ...    PA     T5Y 2W1  53.616147 -113.432424   3.5   \n",
       "978             7  ...    AZ       08077  40.000157  -74.987313   4.5   \n",
       "1296           44  ...    FL       89501  39.527772 -119.812518   3.0   \n",
       "1543           15  ...    NJ       08012   39.78403   -75.05207   3.0   \n",
       "\n",
       "     review_count is_open                                         attributes  \\\n",
       "590            56       1  {'BikeParking': 'True', 'BusinessAcceptsCredit...   \n",
       "613            10       1  {'BusinessParking': '{'garage': False, 'street...   \n",
       "978             7       1  {'WiFi': 'u'free'', 'BusinessParking': '{'gara...   \n",
       "1296           44       0  {'BikeParking': 'False', 'Caters': 'False', 'O...   \n",
       "1543           15       1  {'BikeParking': 'True', 'RestaurantsPriceRange...   \n",
       "\n",
       "              categories                                              hours  \n",
       "590   Coffee & Tea, Food  {'Monday': '5:30-21:0', 'Tuesday': '5:30-21:0'...  \n",
       "613   Coffee & Tea, Food  {'Monday': '5:30-22:0', 'Tuesday': '5:30-22:0'...  \n",
       "978   Coffee & Tea, Food  {'Monday': '5:30-20:0', 'Tuesday': '5:30-20:0'...  \n",
       "1296  Coffee & Tea, Food  {'Monday': '5:30-19:0', 'Tuesday': '5:30-19:0'...  \n",
       "1543  Food, Coffee & Tea  {'Monday': '0:0-0:0', 'Tuesday': '10:30-20:0',...  \n",
       "\n",
       "[5 rows x 28 columns]"
      ]
     },
     "execution_count": 35,
     "metadata": {},
     "output_type": "execute_result"
    }
   ],
   "source": [
    "business_df[~business_df.iloc[:,-1].isna()]"
   ]
  },
  {
   "cell_type": "markdown",
   "metadata": {},
   "source": [
    "but.. do these duplicated columns hold same information?\n",
    "\n",
    "The following output indicates, they do.."
   ]
  },
  {
   "cell_type": "code",
   "execution_count": 36,
   "metadata": {},
   "outputs": [
    {
     "data": {
      "text/html": [
       "<div>\n",
       "<style scoped>\n",
       "    .dataframe tbody tr th:only-of-type {\n",
       "        vertical-align: middle;\n",
       "    }\n",
       "\n",
       "    .dataframe tbody tr th {\n",
       "        vertical-align: top;\n",
       "    }\n",
       "\n",
       "    .dataframe thead th {\n",
       "        text-align: right;\n",
       "    }\n",
       "</style>\n",
       "<table border=\"1\" class=\"dataframe\">\n",
       "  <thead>\n",
       "    <tr style=\"text-align: right;\">\n",
       "      <th></th>\n",
       "      <th>categories</th>\n",
       "      <th>categories</th>\n",
       "    </tr>\n",
       "  </thead>\n",
       "  <tbody>\n",
       "    <tr>\n",
       "      <th>590</th>\n",
       "      <td>Coffee &amp; Tea, Food</td>\n",
       "      <td>Coffee &amp; Tea, Food</td>\n",
       "    </tr>\n",
       "    <tr>\n",
       "      <th>613</th>\n",
       "      <td>Coffee &amp; Tea, Food</td>\n",
       "      <td>Coffee &amp; Tea, Food</td>\n",
       "    </tr>\n",
       "    <tr>\n",
       "      <th>978</th>\n",
       "      <td>Coffee &amp; Tea, Food</td>\n",
       "      <td>Coffee &amp; Tea, Food</td>\n",
       "    </tr>\n",
       "    <tr>\n",
       "      <th>1296</th>\n",
       "      <td>Coffee &amp; Tea, Food</td>\n",
       "      <td>Coffee &amp; Tea, Food</td>\n",
       "    </tr>\n",
       "    <tr>\n",
       "      <th>1543</th>\n",
       "      <td>Food, Coffee &amp; Tea</td>\n",
       "      <td>Food, Coffee &amp; Tea</td>\n",
       "    </tr>\n",
       "  </tbody>\n",
       "</table>\n",
       "</div>"
      ],
      "text/plain": [
       "              categories          categories\n",
       "590   Coffee & Tea, Food  Coffee & Tea, Food\n",
       "613   Coffee & Tea, Food  Coffee & Tea, Food\n",
       "978   Coffee & Tea, Food  Coffee & Tea, Food\n",
       "1296  Coffee & Tea, Food  Coffee & Tea, Food\n",
       "1543  Food, Coffee & Tea  Food, Coffee & Tea"
      ]
     },
     "execution_count": 36,
     "metadata": {},
     "output_type": "execute_result"
    }
   ],
   "source": [
    "business_df[~business_df.iloc[:,-1].isna()][\"categories\"] # -> It seems this rows holds same information"
   ]
  },
  {
   "cell_type": "markdown",
   "metadata": {},
   "source": [
    "So let's just drop those duplicated columns.. how? by dropping \"na\"s through columns whose null values are more than 150k.. but this threshold will add up the null values for the duplicated name columns.. for example.. columns \"attributes\" one only holds 13477 missing values, and the other one it is almost completely empty.. well, the threshold will drop both columns unfortunataly u.u I think due to column column ambiguity.. so.. getting rid off ambiguity is goint to be essential\n",
    "\n",
    "* attributes       13744\n",
    "* categories         103\n",
    "* hours            23223"
   ]
  },
  {
   "cell_type": "code",
   "execution_count": 37,
   "metadata": {},
   "outputs": [],
   "source": [
    "business_df[\"attributes\"].iloc[:,0].fillna(\"{'Attribute': 'Unknown'}\",inplace=True)\n",
    "business_df[\"categories\"].iloc[:,0].fillna(\"Unknown Category\", inplace=True)\n",
    "business_df[\"hours\"].iloc[:,0].fillna(\"Unknown Hours\", inplace=True)"
   ]
  },
  {
   "cell_type": "code",
   "execution_count": 38,
   "metadata": {},
   "outputs": [],
   "source": [
    "business_df[\"attributes\"].iloc[:,0].fillna(\"{'Attribute': 'Unknown'}\", inplace=True)"
   ]
  },
  {
   "cell_type": "code",
   "execution_count": 39,
   "metadata": {},
   "outputs": [
    {
     "data": {
      "text/plain": [
       "attributes     13744\n",
       "attributes    150341\n",
       "dtype: int64"
      ]
     },
     "execution_count": 39,
     "metadata": {},
     "output_type": "execute_result"
    }
   ],
   "source": [
    "business_df[\"attributes\"].isna().sum()"
   ]
  },
  {
   "cell_type": "code",
   "execution_count": 40,
   "metadata": {},
   "outputs": [
    {
     "data": {
      "text/plain": [
       "Index(['business_id', 'name', 'address', 'city', 'state', 'postal_code',\n",
       "       'latitude', 'longitude', 'stars', 'review_count', 'is_open',\n",
       "       'attributes', 'categories', 'hours'],\n",
       "      dtype='object')"
      ]
     },
     "execution_count": 40,
     "metadata": {},
     "output_type": "execute_result"
    }
   ],
   "source": [
    "business_columns = business_df.columns[:14]\n",
    "business_columns"
   ]
  },
  {
   "cell_type": "code",
   "execution_count": 41,
   "metadata": {},
   "outputs": [],
   "source": [
    "business_df.loc[business_df[\"attributes\"].iloc[:,0].isna(), \"attributes\"].iloc[:,0] = \"No attributes\""
   ]
  },
  {
   "cell_type": "code",
   "execution_count": 42,
   "metadata": {},
   "outputs": [],
   "source": [
    "business_df.columns = range(len(business_df.columns))"
   ]
  },
  {
   "cell_type": "code",
   "execution_count": 43,
   "metadata": {},
   "outputs": [],
   "source": [
    "business_df.drop(business_df.loc[:,14:].columns, axis=1, inplace=True)"
   ]
  },
  {
   "cell_type": "code",
   "execution_count": 44,
   "metadata": {},
   "outputs": [
    {
     "data": {
      "text/plain": [
       "0         0\n",
       "1         0\n",
       "2         0\n",
       "3         0\n",
       "4         3\n",
       "5         0\n",
       "6         0\n",
       "7         0\n",
       "8         0\n",
       "9         0\n",
       "10        0\n",
       "11    13744\n",
       "12      103\n",
       "13    23223\n",
       "dtype: int64"
      ]
     },
     "execution_count": 44,
     "metadata": {},
     "output_type": "execute_result"
    }
   ],
   "source": [
    "business_df.isna().sum()"
   ]
  },
  {
   "cell_type": "code",
   "execution_count": 45,
   "metadata": {},
   "outputs": [],
   "source": [
    "business_df.columns = business_columns[:14]"
   ]
  },
  {
   "cell_type": "code",
   "execution_count": 60,
   "metadata": {},
   "outputs": [],
   "source": [
    "business_df[\"categories\"] = (business_df[\"categories\"].astype(str).apply(lambda x: x.split(\",\")).\n",
    "                                apply(lambda x: [x_.strip() for x_ in x]))"
   ]
  },
  {
   "cell_type": "code",
   "execution_count": 64,
   "metadata": {},
   "outputs": [],
   "source": [
    "business_restaurant_df = business_df[business_df[\"categories\"].apply(lambda x: \"Restaurants\" in x)]"
   ]
  },
  {
   "cell_type": "markdown",
   "metadata": {},
   "source": [
    "### Saving business into parquet file after dropping duplicated columns"
   ]
  },
  {
   "cell_type": "code",
   "execution_count": 46,
   "metadata": {},
   "outputs": [
    {
     "data": {
      "text/html": [
       "<div>\n",
       "<style scoped>\n",
       "    .dataframe tbody tr th:only-of-type {\n",
       "        vertical-align: middle;\n",
       "    }\n",
       "\n",
       "    .dataframe tbody tr th {\n",
       "        vertical-align: top;\n",
       "    }\n",
       "\n",
       "    .dataframe thead th {\n",
       "        text-align: right;\n",
       "    }\n",
       "</style>\n",
       "<table border=\"1\" class=\"dataframe\">\n",
       "  <thead>\n",
       "    <tr style=\"text-align: right;\">\n",
       "      <th></th>\n",
       "      <th>business_id</th>\n",
       "      <th>name</th>\n",
       "      <th>address</th>\n",
       "      <th>city</th>\n",
       "      <th>state</th>\n",
       "      <th>postal_code</th>\n",
       "      <th>latitude</th>\n",
       "      <th>longitude</th>\n",
       "      <th>stars</th>\n",
       "      <th>review_count</th>\n",
       "      <th>is_open</th>\n",
       "      <th>attributes</th>\n",
       "      <th>categories</th>\n",
       "      <th>hours</th>\n",
       "    </tr>\n",
       "  </thead>\n",
       "  <tbody>\n",
       "    <tr>\n",
       "      <th>0</th>\n",
       "      <td>Pns2l4eNsfO8kk83dixA6A</td>\n",
       "      <td>Abby Rappoport, LAC, CMQ</td>\n",
       "      <td>1616 Chapala St, Ste 2</td>\n",
       "      <td>Santa Barbara</td>\n",
       "      <td>NaN</td>\n",
       "      <td>93101</td>\n",
       "      <td>34.426679</td>\n",
       "      <td>-119.711197</td>\n",
       "      <td>5.0</td>\n",
       "      <td>7</td>\n",
       "      <td>0</td>\n",
       "      <td>{'ByAppointmentOnly': 'True'}</td>\n",
       "      <td>Doctors, Traditional Chinese Medicine, Naturop...</td>\n",
       "      <td>None</td>\n",
       "    </tr>\n",
       "    <tr>\n",
       "      <th>1</th>\n",
       "      <td>mpf3x-BjTdTEA3yCZrAYPw</td>\n",
       "      <td>The UPS Store</td>\n",
       "      <td>87 Grasso Plaza Shopping Center</td>\n",
       "      <td>Affton</td>\n",
       "      <td>NaN</td>\n",
       "      <td>63123</td>\n",
       "      <td>38.551126</td>\n",
       "      <td>-90.335695</td>\n",
       "      <td>3.0</td>\n",
       "      <td>15</td>\n",
       "      <td>1</td>\n",
       "      <td>{'BusinessAcceptsCreditCards': 'True'}</td>\n",
       "      <td>Shipping Centers, Local Services, Notaries, Ma...</td>\n",
       "      <td>{'Monday': '0:0-0:0', 'Tuesday': '8:0-18:30', ...</td>\n",
       "    </tr>\n",
       "    <tr>\n",
       "      <th>2</th>\n",
       "      <td>tUFrWirKiKi_TAnsVWINQQ</td>\n",
       "      <td>Target</td>\n",
       "      <td>5255 E Broadway Blvd</td>\n",
       "      <td>Tucson</td>\n",
       "      <td>NaN</td>\n",
       "      <td>85711</td>\n",
       "      <td>32.223236</td>\n",
       "      <td>-110.880452</td>\n",
       "      <td>3.5</td>\n",
       "      <td>22</td>\n",
       "      <td>0</td>\n",
       "      <td>{'BikeParking': 'True', 'BusinessAcceptsCredit...</td>\n",
       "      <td>Department Stores, Shopping, Fashion, Home &amp; G...</td>\n",
       "      <td>{'Monday': '8:0-22:0', 'Tuesday': '8:0-22:0', ...</td>\n",
       "    </tr>\n",
       "    <tr>\n",
       "      <th>3</th>\n",
       "      <td>MTSW4McQd7CbVtyjqoe9mw</td>\n",
       "      <td>St Honore Pastries</td>\n",
       "      <td>935 Race St</td>\n",
       "      <td>Philadelphia</td>\n",
       "      <td>CA</td>\n",
       "      <td>19107</td>\n",
       "      <td>39.955505</td>\n",
       "      <td>-75.155564</td>\n",
       "      <td>4.0</td>\n",
       "      <td>80</td>\n",
       "      <td>1</td>\n",
       "      <td>{'RestaurantsDelivery': 'False', 'OutdoorSeati...</td>\n",
       "      <td>Restaurants, Food, Bubble Tea, Coffee &amp; Tea, B...</td>\n",
       "      <td>{'Monday': '7:0-20:0', 'Tuesday': '7:0-20:0', ...</td>\n",
       "    </tr>\n",
       "    <tr>\n",
       "      <th>4</th>\n",
       "      <td>mWMc6_wTdE0EUBKIGXDVfA</td>\n",
       "      <td>Perkiomen Valley Brewery</td>\n",
       "      <td>101 Walnut St</td>\n",
       "      <td>Green Lane</td>\n",
       "      <td>MO</td>\n",
       "      <td>18054</td>\n",
       "      <td>40.338183</td>\n",
       "      <td>-75.471659</td>\n",
       "      <td>4.5</td>\n",
       "      <td>13</td>\n",
       "      <td>1</td>\n",
       "      <td>{'BusinessAcceptsCreditCards': 'True', 'Wheelc...</td>\n",
       "      <td>Brewpubs, Breweries, Food</td>\n",
       "      <td>{'Wednesday': '14:0-22:0', 'Thursday': '16:0-2...</td>\n",
       "    </tr>\n",
       "  </tbody>\n",
       "</table>\n",
       "</div>"
      ],
      "text/plain": [
       "              business_id                      name  \\\n",
       "0  Pns2l4eNsfO8kk83dixA6A  Abby Rappoport, LAC, CMQ   \n",
       "1  mpf3x-BjTdTEA3yCZrAYPw             The UPS Store   \n",
       "2  tUFrWirKiKi_TAnsVWINQQ                    Target   \n",
       "3  MTSW4McQd7CbVtyjqoe9mw        St Honore Pastries   \n",
       "4  mWMc6_wTdE0EUBKIGXDVfA  Perkiomen Valley Brewery   \n",
       "\n",
       "                           address           city state postal_code  \\\n",
       "0           1616 Chapala St, Ste 2  Santa Barbara   NaN       93101   \n",
       "1  87 Grasso Plaza Shopping Center         Affton   NaN       63123   \n",
       "2             5255 E Broadway Blvd         Tucson   NaN       85711   \n",
       "3                      935 Race St   Philadelphia    CA       19107   \n",
       "4                    101 Walnut St     Green Lane    MO       18054   \n",
       "\n",
       "    latitude   longitude stars review_count is_open  \\\n",
       "0  34.426679 -119.711197   5.0            7       0   \n",
       "1  38.551126  -90.335695   3.0           15       1   \n",
       "2  32.223236 -110.880452   3.5           22       0   \n",
       "3  39.955505  -75.155564   4.0           80       1   \n",
       "4  40.338183  -75.471659   4.5           13       1   \n",
       "\n",
       "                                          attributes  \\\n",
       "0                      {'ByAppointmentOnly': 'True'}   \n",
       "1             {'BusinessAcceptsCreditCards': 'True'}   \n",
       "2  {'BikeParking': 'True', 'BusinessAcceptsCredit...   \n",
       "3  {'RestaurantsDelivery': 'False', 'OutdoorSeati...   \n",
       "4  {'BusinessAcceptsCreditCards': 'True', 'Wheelc...   \n",
       "\n",
       "                                          categories  \\\n",
       "0  Doctors, Traditional Chinese Medicine, Naturop...   \n",
       "1  Shipping Centers, Local Services, Notaries, Ma...   \n",
       "2  Department Stores, Shopping, Fashion, Home & G...   \n",
       "3  Restaurants, Food, Bubble Tea, Coffee & Tea, B...   \n",
       "4                          Brewpubs, Breweries, Food   \n",
       "\n",
       "                                               hours  \n",
       "0                                               None  \n",
       "1  {'Monday': '0:0-0:0', 'Tuesday': '8:0-18:30', ...  \n",
       "2  {'Monday': '8:0-22:0', 'Tuesday': '8:0-22:0', ...  \n",
       "3  {'Monday': '7:0-20:0', 'Tuesday': '7:0-20:0', ...  \n",
       "4  {'Wednesday': '14:0-22:0', 'Thursday': '16:0-2...  "
      ]
     },
     "execution_count": 46,
     "metadata": {},
     "output_type": "execute_result"
    }
   ],
   "source": [
    "#Firt of all, let's have a loot at the output\n",
    "business_df.head()"
   ]
  },
  {
   "cell_type": "code",
   "execution_count": 47,
   "metadata": {},
   "outputs": [],
   "source": [
    "# business_df.to_parquet(path=\"data/yelp/business.parquet\")"
   ]
  },
  {
   "cell_type": "markdown",
   "metadata": {},
   "source": [
    "### Loading filtered business parquet"
   ]
  },
  {
   "cell_type": "code",
   "execution_count": 373,
   "metadata": {},
   "outputs": [],
   "source": [
    "yelp_business_parquet_path = \"C:\\\\Users\\\\jdieg\\\\Desktop\\\\henry\\\\proyectos\\\\Google-Yelp\\\\.data\\\\yelp\\\\business_restaurante.parquet\"\n",
    "business_df = pd.read_parquet(yelp_business_parquet_path, engine=\"pyarrow\", dtype_backend=\"pyarrow\")"
   ]
  },
  {
   "cell_type": "code",
   "execution_count": 374,
   "metadata": {},
   "outputs": [
    {
     "name": "stdout",
     "output_type": "stream",
     "text": [
      "<class 'pandas.core.frame.DataFrame'>\n",
      "RangeIndex: 52268 entries, 0 to 52267\n",
      "Data columns (total 14 columns):\n",
      " #   Column        Non-Null Count  Dtype                                                                                                                                                                                                                                                                                                                                                                                                                                                                                                                                                                                                                                                                                                                                                                                                                                                                                                                                                                \n",
      "---  ------        --------------  -----                                                                                                                                                                                                                                                                                                                                                                                                                                                                                                                                                                                                                                                                                                                                                                                                                                                                                                                                                                \n",
      " 0   business_id   52268 non-null  string[pyarrow]                                                                                                                                                                                                                                                                                                                                                                                                                                                                                                                                                                                                                                                                                                                                                                                                                                                                                                                                                      \n",
      " 1   name          52268 non-null  string[pyarrow]                                                                                                                                                                                                                                                                                                                                                                                                                                                                                                                                                                                                                                                                                                                                                                                                                                                                                                                                                      \n",
      " 2   address       52268 non-null  string[pyarrow]                                                                                                                                                                                                                                                                                                                                                                                                                                                                                                                                                                                                                                                                                                                                                                                                                                                                                                                                                      \n",
      " 3   city          52268 non-null  string[pyarrow]                                                                                                                                                                                                                                                                                                                                                                                                                                                                                                                                                                                                                                                                                                                                                                                                                                                                                                                                                      \n",
      " 4   state         52268 non-null  string[pyarrow]                                                                                                                                                                                                                                                                                                                                                                                                                                                                                                                                                                                                                                                                                                                                                                                                                                                                                                                                                      \n",
      " 5   postal_code   52268 non-null  string[pyarrow]                                                                                                                                                                                                                                                                                                                                                                                                                                                                                                                                                                                                                                                                                                                                                                                                                                                                                                                                                      \n",
      " 6   latitude      52268 non-null  double[pyarrow]                                                                                                                                                                                                                                                                                                                                                                                                                                                                                                                                                                                                                                                                                                                                                                                                                                                                                                                                                      \n",
      " 7   longitude     52268 non-null  double[pyarrow]                                                                                                                                                                                                                                                                                                                                                                                                                                                                                                                                                                                                                                                                                                                                                                                                                                                                                                                                                      \n",
      " 8   stars         52268 non-null  double[pyarrow]                                                                                                                                                                                                                                                                                                                                                                                                                                                                                                                                                                                                                                                                                                                                                                                                                                                                                                                                                      \n",
      " 9   review_count  52268 non-null  int64[pyarrow]                                                                                                                                                                                                                                                                                                                                                                                                                                                                                                                                                                                                                                                                                                                                                                                                                                                                                                                                                       \n",
      " 10  is_open       52268 non-null  int64[pyarrow]                                                                                                                                                                                                                                                                                                                                                                                                                                                                                                                                                                                                                                                                                                                                                                                                                                                                                                                                                       \n",
      " 11  attributes    51703 non-null  struct<AcceptsInsurance: string, AgesAllowed: string, Alcohol: string, Ambience: string, BYOB: string, BYOBCorkage: string, BestNights: string, BikeParking: string, BusinessAcceptsBitcoin: string, BusinessAcceptsCreditCards: string, BusinessParking: string, ByAppointmentOnly: string, Caters: string, CoatCheck: string, Corkage: string, DietaryRestrictions: string, DogsAllowed: string, DriveThru: string, GoodForDancing: string, GoodForKids: string, GoodForMeal: string, HairSpecializesIn: string, HappyHour: string, HasTV: string, Music: string, NoiseLevel: string, Open24Hours: string, OutdoorSeating: string, RestaurantsAttire: string, RestaurantsCounterService: string, RestaurantsDelivery: string, RestaurantsGoodForGroups: string, RestaurantsPriceRange2: string, RestaurantsReservations: string, RestaurantsTableService: string, RestaurantsTakeOut: string, Smoking: string, WheelchairAccessible: string, WiFi: string>[pyarrow]\n",
      " 12  categories    52268 non-null  list<element: string>[pyarrow]                                                                                                                                                                                                                                                                                                                                                                                                                                                                                                                                                                                                                                                                                                                                                                                                                                                                                                                                       \n",
      " 13  hours         44990 non-null  struct<Friday: string, Monday: string, Saturday: string, Sunday: string, Thursday: string, Tuesday: string, Wednesday: string>[pyarrow]                                                                                                                                                                                                                                                                                                                                                                                                                                                                                                                                                                                                                                                                                                                                                                                                                              \n",
      "dtypes: double[pyarrow](3), int64[pyarrow](2), list<element: string>[pyarrow](1), string[pyarrow](6), struct<AcceptsInsurance: string, AgesAllowed: string, Alcohol: string, Ambience: string, BYOB: string, BYOBCorkage: string, BestNights: string, BikeParking: string, BusinessAcceptsBitcoin: string, BusinessAcceptsCreditCards: string, BusinessParking: string, ByAppointmentOnly: string, Caters: string, CoatCheck: string, Corkage: string, DietaryRestrictions: string, DogsAllowed: string, DriveThru: string, GoodForDancing: string, GoodForKids: string, GoodForMeal: string, HairSpecializesIn: string, HappyHour: string, HasTV: string, Music: string, NoiseLevel: string, Open24Hours: string, OutdoorSeating: string, RestaurantsAttire: string, RestaurantsCounterService: string, RestaurantsDelivery: string, RestaurantsGoodForGroups: string, RestaurantsPriceRange2: string, RestaurantsReservations: string, RestaurantsTableService: string, RestaurantsTakeOut: string, Smoking: string, WheelchairAccessible: string, WiFi: string>[pyarrow](1), struct<Friday: string, Monday: string, Saturday: string, Sunday: string, Thursday: string, Tuesday: string, Wednesday: string>[pyarrow](1)\n",
      "memory usage: 39.5 MB\n"
     ]
    }
   ],
   "source": [
    "business_df.info()"
   ]
  },
  {
   "cell_type": "code",
   "execution_count": 375,
   "metadata": {},
   "outputs": [
    {
     "data": {
      "text/plain": [
       "business_id      0.000000\n",
       "name             0.000000\n",
       "address          0.000000\n",
       "city             0.000000\n",
       "state            0.000000\n",
       "postal_code      0.000000\n",
       "latitude         0.000000\n",
       "longitude        0.000000\n",
       "stars            0.000000\n",
       "review_count     0.000000\n",
       "is_open          0.000000\n",
       "attributes       1.080967\n",
       "categories       0.000000\n",
       "hours           13.924390\n",
       "dtype: float64"
      ]
     },
     "execution_count": 375,
     "metadata": {},
     "output_type": "execute_result"
    }
   ],
   "source": [
    "proporcion_nulos(business_df)"
   ]
  },
  {
   "cell_type": "code",
   "execution_count": 376,
   "metadata": {},
   "outputs": [],
   "source": [
    "business_df.dropna(subset=\"attributes\", inplace=True)"
   ]
  },
  {
   "cell_type": "code",
   "execution_count": 377,
   "metadata": {},
   "outputs": [
    {
     "data": {
      "text/plain": [
       "business_id      0.000000\n",
       "name             0.000000\n",
       "address          0.000000\n",
       "city             0.000000\n",
       "state            0.000000\n",
       "postal_code      0.000000\n",
       "latitude         0.000000\n",
       "longitude        0.000000\n",
       "stars            0.000000\n",
       "review_count     0.000000\n",
       "is_open          0.000000\n",
       "attributes       0.000000\n",
       "categories       0.000000\n",
       "hours           13.591088\n",
       "dtype: float64"
      ]
     },
     "execution_count": 377,
     "metadata": {},
     "output_type": "execute_result"
    }
   ],
   "source": [
    "proporcion_nulos(business_df)"
   ]
  },
  {
   "cell_type": "markdown",
   "metadata": {},
   "source": [
    "### Workin on BusinessParking nested dictonary inside Attributes Column\n",
    "Due to nested dictionary on BusinessParking key, we can handle this by creating a new column for it"
   ]
  },
  {
   "cell_type": "code",
   "execution_count": 378,
   "metadata": {},
   "outputs": [],
   "source": [
    "business_df[\"kind_of_parking\"] = business_df[\"attributes\"].apply(lambda attributes: attributes[\"BusinessParking\"])"
   ]
  },
  {
   "cell_type": "code",
   "execution_count": 379,
   "metadata": {},
   "outputs": [
    {
     "data": {
      "text/plain": [
       "\"{'garage': False, 'street': True, 'validated': False, 'lot': False, 'valet': False}\""
      ]
     },
     "execution_count": 379,
     "metadata": {},
     "output_type": "execute_result"
    }
   ],
   "source": [
    "business_df[\"kind_of_parking\"][0]"
   ]
  },
  {
   "cell_type": "markdown",
   "metadata": {},
   "source": [
    "Checking nulls on new columns created"
   ]
  },
  {
   "cell_type": "code",
   "execution_count": 380,
   "metadata": {},
   "outputs": [
    {
     "data": {
      "text/plain": [
       "6092"
      ]
     },
     "execution_count": 380,
     "metadata": {},
     "output_type": "execute_result"
    }
   ],
   "source": [
    "business_df[\"kind_of_parking\"].isnull().sum()"
   ]
  },
  {
   "cell_type": "markdown",
   "metadata": {},
   "source": [
    "Visualizing real \"nulls\""
   ]
  },
  {
   "cell_type": "code",
   "execution_count": 381,
   "metadata": {},
   "outputs": [
    {
     "data": {
      "text/plain": [
       "10       None\n",
       "15       None\n",
       "27       None\n",
       "29       None\n",
       "41       None\n",
       "         ... \n",
       "52234    None\n",
       "52239    None\n",
       "52243    None\n",
       "52251    None\n",
       "52256    None\n",
       "Name: kind_of_parking, Length: 6092, dtype: object"
      ]
     },
     "execution_count": 381,
     "metadata": {},
     "output_type": "execute_result"
    }
   ],
   "source": [
    "business_df.loc[business_df[\"kind_of_parking\"].isnull(), \"kind_of_parking\"]"
   ]
  },
  {
   "cell_type": "code",
   "execution_count": 382,
   "metadata": {},
   "outputs": [],
   "source": [
    "business_df[\"kind_of_parking\"].fillna(\"{'Unknown': True}\", inplace=True)"
   ]
  },
  {
   "cell_type": "code",
   "execution_count": 383,
   "metadata": {},
   "outputs": [
    {
     "data": {
      "text/plain": [
       "0"
      ]
     },
     "execution_count": 383,
     "metadata": {},
     "output_type": "execute_result"
    }
   ],
   "source": [
    "business_df[\"kind_of_parking\"].isna().sum()"
   ]
  },
  {
   "cell_type": "markdown",
   "metadata": {},
   "source": [
    "Filling string Nulls (\"None\")"
   ]
  },
  {
   "cell_type": "code",
   "execution_count": 384,
   "metadata": {},
   "outputs": [
    {
     "data": {
      "text/plain": [
       "'None'"
      ]
     },
     "execution_count": 384,
     "metadata": {},
     "output_type": "execute_result"
    }
   ],
   "source": [
    "business_df[\"kind_of_parking\"][1]"
   ]
  },
  {
   "cell_type": "code",
   "execution_count": 385,
   "metadata": {},
   "outputs": [],
   "source": [
    "business_df.loc[business_df[\"kind_of_parking\"] == \"None\",\"kind_of_parking\"] = \"{'Unknown': True}\""
   ]
  },
  {
   "cell_type": "code",
   "execution_count": 386,
   "metadata": {},
   "outputs": [
    {
     "data": {
      "text/html": [
       "<div>\n",
       "<style scoped>\n",
       "    .dataframe tbody tr th:only-of-type {\n",
       "        vertical-align: middle;\n",
       "    }\n",
       "\n",
       "    .dataframe tbody tr th {\n",
       "        vertical-align: top;\n",
       "    }\n",
       "\n",
       "    .dataframe thead th {\n",
       "        text-align: right;\n",
       "    }\n",
       "</style>\n",
       "<table border=\"1\" class=\"dataframe\">\n",
       "  <thead>\n",
       "    <tr style=\"text-align: right;\">\n",
       "      <th></th>\n",
       "      <th>business_id</th>\n",
       "      <th>name</th>\n",
       "      <th>address</th>\n",
       "      <th>city</th>\n",
       "      <th>state</th>\n",
       "      <th>postal_code</th>\n",
       "      <th>latitude</th>\n",
       "      <th>longitude</th>\n",
       "      <th>stars</th>\n",
       "      <th>review_count</th>\n",
       "      <th>is_open</th>\n",
       "      <th>attributes</th>\n",
       "      <th>categories</th>\n",
       "      <th>hours</th>\n",
       "      <th>kind_of_parking</th>\n",
       "    </tr>\n",
       "  </thead>\n",
       "  <tbody>\n",
       "  </tbody>\n",
       "</table>\n",
       "</div>"
      ],
      "text/plain": [
       "Empty DataFrame\n",
       "Columns: [business_id, name, address, city, state, postal_code, latitude, longitude, stars, review_count, is_open, attributes, categories, hours, kind_of_parking]\n",
       "Index: []"
      ]
     },
     "execution_count": 386,
     "metadata": {},
     "output_type": "execute_result"
    }
   ],
   "source": [
    "business_df[business_df[\"kind_of_parking\"].isnull()]"
   ]
  },
  {
   "cell_type": "markdown",
   "metadata": {},
   "source": [
    "This is only a string, grabbing as an dict it will be necesary"
   ]
  },
  {
   "cell_type": "code",
   "execution_count": 387,
   "metadata": {},
   "outputs": [],
   "source": [
    "import ast\n",
    "\n",
    "def safe_literal_eval(x):\n",
    "    try:\n",
    "        return ast.literal_eval(x)\n",
    "    except (ValueError, SyntaxError):\n",
    "        return None"
   ]
  },
  {
   "cell_type": "code",
   "execution_count": 388,
   "metadata": {},
   "outputs": [],
   "source": [
    "business_df[\"kind_of_parking\"] = business_df[\"kind_of_parking\"].apply(safe_literal_eval)"
   ]
  },
  {
   "cell_type": "code",
   "execution_count": 389,
   "metadata": {},
   "outputs": [
    {
     "data": {
      "text/plain": [
       "({'garage': False,\n",
       "  'street': True,\n",
       "  'validated': False,\n",
       "  'lot': False,\n",
       "  'valet': False},\n",
       " dict)"
      ]
     },
     "execution_count": 389,
     "metadata": {},
     "output_type": "execute_result"
    }
   ],
   "source": [
    "business_df[\"kind_of_parking\"][0], type(business_df[\"kind_of_parking\"][0])"
   ]
  },
  {
   "cell_type": "code",
   "execution_count": 390,
   "metadata": {},
   "outputs": [
    {
     "data": {
      "text/plain": [
       "0        {'garage': False, 'street': True, 'validated':...\n",
       "1                                        {'Unknown': True}\n",
       "2        {'garage': False, 'street': False, 'validated'...\n",
       "3        {'garage': False, 'street': False, 'validated'...\n",
       "4        {'garage': False, 'street': False, 'validated'...\n",
       "                               ...                        \n",
       "52263    {'garage': False, 'street': False, 'validated'...\n",
       "52264    {'garage': False, 'street': False, 'validated'...\n",
       "52265    {'garage': None, 'street': True, 'validated': ...\n",
       "52266    {'garage': False, 'street': True, 'validated':...\n",
       "52267    {'garage': False, 'street': False, 'validated'...\n",
       "Name: kind_of_parking, Length: 51703, dtype: object"
      ]
     },
     "execution_count": 390,
     "metadata": {},
     "output_type": "execute_result"
    }
   ],
   "source": [
    "business_df[\"kind_of_parking\"]"
   ]
  },
  {
   "cell_type": "code",
   "execution_count": 391,
   "metadata": {},
   "outputs": [
    {
     "data": {
      "text/plain": [
       "0"
      ]
     },
     "execution_count": 391,
     "metadata": {},
     "output_type": "execute_result"
    }
   ],
   "source": [
    "business_df[\"kind_of_parking\"].isna().sum()"
   ]
  },
  {
   "cell_type": "markdown",
   "metadata": {},
   "source": [
    "Grabbing Parking Lots Types that holds True"
   ]
  },
  {
   "cell_type": "code",
   "execution_count": 392,
   "metadata": {},
   "outputs": [],
   "source": [
    "def filter_attr_bool(dict):\n",
    "\n",
    "    filtered_dict = {}\n",
    "\n",
    "    # Iterate through the items of the original dictionary\n",
    "    for key, value in dict.items():\n",
    "        # Check if the value is 'True' (as a string) and add it to the filtered dictionary\n",
    "        if value == 'True':\n",
    "            filtered_dict[key] = value\n",
    "        elif value == True:\n",
    "            filtered_dict[key] = value\n",
    "    \n",
    "    return filtered_dict\n",
    "    \n"
   ]
  },
  {
   "cell_type": "code",
   "execution_count": 395,
   "metadata": {},
   "outputs": [],
   "source": [
    "business_df[\"kind_of_parking\"] = (business_df[\"kind_of_parking\"]\n",
    "                                  .apply(lambda parking_lot: filter_attr_bool(parking_lot))\n",
    "                                  .apply(lambda parking: list(parking)))"
   ]
  },
  {
   "cell_type": "code",
   "execution_count": 403,
   "metadata": {},
   "outputs": [
    {
     "data": {
      "text/html": [
       "<div>\n",
       "<style scoped>\n",
       "    .dataframe tbody tr th:only-of-type {\n",
       "        vertical-align: middle;\n",
       "    }\n",
       "\n",
       "    .dataframe tbody tr th {\n",
       "        vertical-align: top;\n",
       "    }\n",
       "\n",
       "    .dataframe thead th {\n",
       "        text-align: right;\n",
       "    }\n",
       "</style>\n",
       "<table border=\"1\" class=\"dataframe\">\n",
       "  <thead>\n",
       "    <tr style=\"text-align: right;\">\n",
       "      <th></th>\n",
       "      <th>business_id</th>\n",
       "      <th>name</th>\n",
       "      <th>address</th>\n",
       "      <th>city</th>\n",
       "      <th>state</th>\n",
       "      <th>postal_code</th>\n",
       "      <th>latitude</th>\n",
       "      <th>longitude</th>\n",
       "      <th>stars</th>\n",
       "      <th>review_count</th>\n",
       "      <th>is_open</th>\n",
       "      <th>attributes</th>\n",
       "      <th>categories</th>\n",
       "      <th>hours</th>\n",
       "      <th>kind_of_parking</th>\n",
       "    </tr>\n",
       "  </thead>\n",
       "  <tbody>\n",
       "    <tr>\n",
       "      <th>0</th>\n",
       "      <td>MTSW4McQd7CbVtyjqoe9mw</td>\n",
       "      <td>St Honore Pastries</td>\n",
       "      <td>935 Race St</td>\n",
       "      <td>Philadelphia</td>\n",
       "      <td>CA</td>\n",
       "      <td>19107</td>\n",
       "      <td>39.955505</td>\n",
       "      <td>-75.155564</td>\n",
       "      <td>4.0</td>\n",
       "      <td>80</td>\n",
       "      <td>1</td>\n",
       "      <td>{'AcceptsInsurance': None, 'AgesAllowed': None...</td>\n",
       "      <td>['Restaurants' 'Food' 'Bubble Tea' 'Coffee &amp; T...</td>\n",
       "      <td>{'Friday': '7:0-21:0', 'Monday': '7:0-20:0', '...</td>\n",
       "      <td>[street]</td>\n",
       "    </tr>\n",
       "    <tr>\n",
       "      <th>1</th>\n",
       "      <td>CF33F8-E6oudUQ46HnavjQ</td>\n",
       "      <td>Sonic Drive-In</td>\n",
       "      <td>615 S Main St</td>\n",
       "      <td>Ashland City</td>\n",
       "      <td>AZ</td>\n",
       "      <td>37015</td>\n",
       "      <td>36.269593</td>\n",
       "      <td>-87.058943</td>\n",
       "      <td>2.0</td>\n",
       "      <td>6</td>\n",
       "      <td>1</td>\n",
       "      <td>{'AcceptsInsurance': None, 'AgesAllowed': None...</td>\n",
       "      <td>['Burgers' 'Fast Food' 'Sandwiches' 'Food' 'Ic...</td>\n",
       "      <td>{'Friday': '9:0-0:0', 'Monday': '0:0-0:0', 'Sa...</td>\n",
       "      <td>[Unknown]</td>\n",
       "    </tr>\n",
       "    <tr>\n",
       "      <th>2</th>\n",
       "      <td>k0hlBqXX-Bt0vf1op7Jr1w</td>\n",
       "      <td>Tsevi's Pub And Grill</td>\n",
       "      <td>8025 Mackenzie Rd</td>\n",
       "      <td>Affton</td>\n",
       "      <td>TN</td>\n",
       "      <td>63123</td>\n",
       "      <td>38.565165</td>\n",
       "      <td>-90.321087</td>\n",
       "      <td>3.0</td>\n",
       "      <td>19</td>\n",
       "      <td>0</td>\n",
       "      <td>{'AcceptsInsurance': None, 'AgesAllowed': None...</td>\n",
       "      <td>['Pubs' 'Restaurants' 'Italian' 'Bars' 'Americ...</td>\n",
       "      <td>&lt;NA&gt;</td>\n",
       "      <td>[lot]</td>\n",
       "    </tr>\n",
       "    <tr>\n",
       "      <th>3</th>\n",
       "      <td>bBDDEgkFA1Otx9Lfe7BZUQ</td>\n",
       "      <td>Sonic Drive-In</td>\n",
       "      <td>2312 Dickerson Pike</td>\n",
       "      <td>Nashville</td>\n",
       "      <td>MO</td>\n",
       "      <td>37207</td>\n",
       "      <td>36.208102</td>\n",
       "      <td>-86.768170</td>\n",
       "      <td>1.5</td>\n",
       "      <td>10</td>\n",
       "      <td>1</td>\n",
       "      <td>{'AcceptsInsurance': None, 'AgesAllowed': None...</td>\n",
       "      <td>['Ice Cream &amp; Frozen Yogurt' 'Fast Food' 'Burg...</td>\n",
       "      <td>{'Friday': '6:0-16:0', 'Monday': '0:0-0:0', 'S...</td>\n",
       "      <td>[]</td>\n",
       "    </tr>\n",
       "    <tr>\n",
       "      <th>4</th>\n",
       "      <td>eEOYSgkmpB90uNA7lDOMRA</td>\n",
       "      <td>Vietnamese Food Truck</td>\n",
       "      <td></td>\n",
       "      <td>Tampa Bay</td>\n",
       "      <td>MO</td>\n",
       "      <td>33602</td>\n",
       "      <td>27.955269</td>\n",
       "      <td>-82.456320</td>\n",
       "      <td>4.0</td>\n",
       "      <td>10</td>\n",
       "      <td>1</td>\n",
       "      <td>{'AcceptsInsurance': None, 'AgesAllowed': None...</td>\n",
       "      <td>['Vietnamese' 'Food' 'Restaurants' 'Food Trucks']</td>\n",
       "      <td>{'Friday': '11:0-14:0', 'Monday': '11:0-14:0',...</td>\n",
       "      <td>[]</td>\n",
       "    </tr>\n",
       "  </tbody>\n",
       "</table>\n",
       "</div>"
      ],
      "text/plain": [
       "              business_id                   name              address  \\\n",
       "0  MTSW4McQd7CbVtyjqoe9mw     St Honore Pastries          935 Race St   \n",
       "1  CF33F8-E6oudUQ46HnavjQ         Sonic Drive-In        615 S Main St   \n",
       "2  k0hlBqXX-Bt0vf1op7Jr1w  Tsevi's Pub And Grill    8025 Mackenzie Rd   \n",
       "3  bBDDEgkFA1Otx9Lfe7BZUQ         Sonic Drive-In  2312 Dickerson Pike   \n",
       "4  eEOYSgkmpB90uNA7lDOMRA  Vietnamese Food Truck                        \n",
       "\n",
       "           city state postal_code   latitude  longitude  stars  review_count  \\\n",
       "0  Philadelphia    CA       19107  39.955505 -75.155564    4.0            80   \n",
       "1  Ashland City    AZ       37015  36.269593 -87.058943    2.0             6   \n",
       "2        Affton    TN       63123  38.565165 -90.321087    3.0            19   \n",
       "3     Nashville    MO       37207  36.208102 -86.768170    1.5            10   \n",
       "4     Tampa Bay    MO       33602  27.955269 -82.456320    4.0            10   \n",
       "\n",
       "   is_open                                         attributes  \\\n",
       "0        1  {'AcceptsInsurance': None, 'AgesAllowed': None...   \n",
       "1        1  {'AcceptsInsurance': None, 'AgesAllowed': None...   \n",
       "2        0  {'AcceptsInsurance': None, 'AgesAllowed': None...   \n",
       "3        1  {'AcceptsInsurance': None, 'AgesAllowed': None...   \n",
       "4        1  {'AcceptsInsurance': None, 'AgesAllowed': None...   \n",
       "\n",
       "                                          categories  \\\n",
       "0  ['Restaurants' 'Food' 'Bubble Tea' 'Coffee & T...   \n",
       "1  ['Burgers' 'Fast Food' 'Sandwiches' 'Food' 'Ic...   \n",
       "2  ['Pubs' 'Restaurants' 'Italian' 'Bars' 'Americ...   \n",
       "3  ['Ice Cream & Frozen Yogurt' 'Fast Food' 'Burg...   \n",
       "4  ['Vietnamese' 'Food' 'Restaurants' 'Food Trucks']   \n",
       "\n",
       "                                               hours kind_of_parking  \n",
       "0  {'Friday': '7:0-21:0', 'Monday': '7:0-20:0', '...        [street]  \n",
       "1  {'Friday': '9:0-0:0', 'Monday': '0:0-0:0', 'Sa...       [Unknown]  \n",
       "2                                               <NA>           [lot]  \n",
       "3  {'Friday': '6:0-16:0', 'Monday': '0:0-0:0', 'S...              []  \n",
       "4  {'Friday': '11:0-14:0', 'Monday': '11:0-14:0',...              []  "
      ]
     },
     "execution_count": 403,
     "metadata": {},
     "output_type": "execute_result"
    }
   ],
   "source": [
    "business_df.head()"
   ]
  },
  {
   "cell_type": "markdown",
   "metadata": {},
   "source": [
    "Working on attributes"
   ]
  },
  {
   "cell_type": "markdown",
   "metadata": {},
   "source": [
    "Grabbing Attributes that holds True"
   ]
  },
  {
   "cell_type": "markdown",
   "metadata": {},
   "source": [
    "Attribute Column -Dictionary Schema-"
   ]
  },
  {
   "cell_type": "code",
   "execution_count": 406,
   "metadata": {},
   "outputs": [
    {
     "data": {
      "text/plain": [
       "{'AcceptsInsurance': None,\n",
       " 'AgesAllowed': None,\n",
       " 'Alcohol': \"u'none'\",\n",
       " 'Ambience': None,\n",
       " 'BYOB': None,\n",
       " 'BYOBCorkage': None,\n",
       " 'BestNights': None,\n",
       " 'BikeParking': 'True',\n",
       " 'BusinessAcceptsBitcoin': None,\n",
       " 'BusinessAcceptsCreditCards': 'False',\n",
       " 'BusinessParking': \"{'garage': False, 'street': True, 'validated': False, 'lot': False, 'valet': False}\",\n",
       " 'ByAppointmentOnly': 'False',\n",
       " 'Caters': 'True',\n",
       " 'CoatCheck': None,\n",
       " 'Corkage': None,\n",
       " 'DietaryRestrictions': None,\n",
       " 'DogsAllowed': None,\n",
       " 'DriveThru': None,\n",
       " 'GoodForDancing': None,\n",
       " 'GoodForKids': None,\n",
       " 'GoodForMeal': None,\n",
       " 'HairSpecializesIn': None,\n",
       " 'HappyHour': None,\n",
       " 'HasTV': None,\n",
       " 'Music': None,\n",
       " 'NoiseLevel': None,\n",
       " 'Open24Hours': None,\n",
       " 'OutdoorSeating': 'False',\n",
       " 'RestaurantsAttire': None,\n",
       " 'RestaurantsCounterService': None,\n",
       " 'RestaurantsDelivery': 'False',\n",
       " 'RestaurantsGoodForGroups': None,\n",
       " 'RestaurantsPriceRange2': '1',\n",
       " 'RestaurantsReservations': None,\n",
       " 'RestaurantsTableService': None,\n",
       " 'RestaurantsTakeOut': 'True',\n",
       " 'Smoking': None,\n",
       " 'WheelchairAccessible': None,\n",
       " 'WiFi': \"u'free'\"}"
      ]
     },
     "execution_count": 406,
     "metadata": {},
     "output_type": "execute_result"
    }
   ],
   "source": [
    "business_df[\"attributes\"][0]"
   ]
  },
  {
   "cell_type": "code",
   "execution_count": 407,
   "metadata": {},
   "outputs": [
    {
     "data": {
      "text/plain": [
       "0        {'AcceptsInsurance': None, 'AgesAllowed': None...\n",
       "1        {'AcceptsInsurance': None, 'AgesAllowed': None...\n",
       "2        {'AcceptsInsurance': None, 'AgesAllowed': None...\n",
       "3        {'AcceptsInsurance': None, 'AgesAllowed': None...\n",
       "4        {'AcceptsInsurance': None, 'AgesAllowed': None...\n",
       "                               ...                        \n",
       "52263    {'AcceptsInsurance': None, 'AgesAllowed': None...\n",
       "52264    {'AcceptsInsurance': None, 'AgesAllowed': None...\n",
       "52265    {'AcceptsInsurance': None, 'AgesAllowed': None...\n",
       "52266    {'AcceptsInsurance': None, 'AgesAllowed': None...\n",
       "52267    {'AcceptsInsurance': None, 'AgesAllowed': None...\n",
       "Name: attributes, Length: 51703, dtype: struct<AcceptsInsurance: string, AgesAllowed: string, Alcohol: string, Ambience: string, BYOB: string, BYOBCorkage: string, BestNights: string, BikeParking: string, BusinessAcceptsBitcoin: string, BusinessAcceptsCreditCards: string, BusinessParking: string, ByAppointmentOnly: string, Caters: string, CoatCheck: string, Corkage: string, DietaryRestrictions: string, DogsAllowed: string, DriveThru: string, GoodForDancing: string, GoodForKids: string, GoodForMeal: string, HairSpecializesIn: string, HappyHour: string, HasTV: string, Music: string, NoiseLevel: string, Open24Hours: string, OutdoorSeating: string, RestaurantsAttire: string, RestaurantsCounterService: string, RestaurantsDelivery: string, RestaurantsGoodForGroups: string, RestaurantsPriceRange2: string, RestaurantsReservations: string, RestaurantsTableService: string, RestaurantsTakeOut: string, Smoking: string, WheelchairAccessible: string, WiFi: string>[pyarrow]"
      ]
     },
     "execution_count": 407,
     "metadata": {},
     "output_type": "execute_result"
    }
   ],
   "source": [
    "business_df[\"attributes\"]"
   ]
  },
  {
   "cell_type": "code",
   "execution_count": 408,
   "metadata": {},
   "outputs": [],
   "source": [
    "business_df[\"attributes\"] = business_df[\"attributes\"].apply(lambda attributes:  filter_attr_bool(attributes))"
   ]
  },
  {
   "cell_type": "code",
   "execution_count": 411,
   "metadata": {},
   "outputs": [],
   "source": [
    "business_df[\"attributes\"] = business_df[\"attributes\"].apply(lambda attributes: list(attributes))"
   ]
  },
  {
   "cell_type": "code",
   "execution_count": 412,
   "metadata": {},
   "outputs": [
    {
     "data": {
      "text/html": [
       "<div>\n",
       "<style scoped>\n",
       "    .dataframe tbody tr th:only-of-type {\n",
       "        vertical-align: middle;\n",
       "    }\n",
       "\n",
       "    .dataframe tbody tr th {\n",
       "        vertical-align: top;\n",
       "    }\n",
       "\n",
       "    .dataframe thead th {\n",
       "        text-align: right;\n",
       "    }\n",
       "</style>\n",
       "<table border=\"1\" class=\"dataframe\">\n",
       "  <thead>\n",
       "    <tr style=\"text-align: right;\">\n",
       "      <th></th>\n",
       "      <th>business_id</th>\n",
       "      <th>name</th>\n",
       "      <th>address</th>\n",
       "      <th>city</th>\n",
       "      <th>state</th>\n",
       "      <th>postal_code</th>\n",
       "      <th>latitude</th>\n",
       "      <th>longitude</th>\n",
       "      <th>stars</th>\n",
       "      <th>review_count</th>\n",
       "      <th>is_open</th>\n",
       "      <th>attributes</th>\n",
       "      <th>categories</th>\n",
       "      <th>hours</th>\n",
       "      <th>kind_of_parking</th>\n",
       "    </tr>\n",
       "  </thead>\n",
       "  <tbody>\n",
       "    <tr>\n",
       "      <th>0</th>\n",
       "      <td>MTSW4McQd7CbVtyjqoe9mw</td>\n",
       "      <td>St Honore Pastries</td>\n",
       "      <td>935 Race St</td>\n",
       "      <td>Philadelphia</td>\n",
       "      <td>CA</td>\n",
       "      <td>19107</td>\n",
       "      <td>39.955505</td>\n",
       "      <td>-75.155564</td>\n",
       "      <td>4.0</td>\n",
       "      <td>80</td>\n",
       "      <td>1</td>\n",
       "      <td>[BikeParking, Caters, RestaurantsTakeOut]</td>\n",
       "      <td>['Restaurants' 'Food' 'Bubble Tea' 'Coffee &amp; T...</td>\n",
       "      <td>{'Friday': '7:0-21:0', 'Monday': '7:0-20:0', '...</td>\n",
       "      <td>[street]</td>\n",
       "    </tr>\n",
       "    <tr>\n",
       "      <th>1</th>\n",
       "      <td>CF33F8-E6oudUQ46HnavjQ</td>\n",
       "      <td>Sonic Drive-In</td>\n",
       "      <td>615 S Main St</td>\n",
       "      <td>Ashland City</td>\n",
       "      <td>AZ</td>\n",
       "      <td>37015</td>\n",
       "      <td>36.269593</td>\n",
       "      <td>-87.058943</td>\n",
       "      <td>2.0</td>\n",
       "      <td>6</td>\n",
       "      <td>1</td>\n",
       "      <td>[BusinessAcceptsCreditCards, DriveThru, GoodFo...</td>\n",
       "      <td>['Burgers' 'Fast Food' 'Sandwiches' 'Food' 'Ic...</td>\n",
       "      <td>{'Friday': '9:0-0:0', 'Monday': '0:0-0:0', 'Sa...</td>\n",
       "      <td>[Unknown]</td>\n",
       "    </tr>\n",
       "    <tr>\n",
       "      <th>2</th>\n",
       "      <td>k0hlBqXX-Bt0vf1op7Jr1w</td>\n",
       "      <td>Tsevi's Pub And Grill</td>\n",
       "      <td>8025 Mackenzie Rd</td>\n",
       "      <td>Affton</td>\n",
       "      <td>TN</td>\n",
       "      <td>63123</td>\n",
       "      <td>38.565165</td>\n",
       "      <td>-90.321087</td>\n",
       "      <td>3.0</td>\n",
       "      <td>19</td>\n",
       "      <td>0</td>\n",
       "      <td>[BusinessAcceptsCreditCards, Caters, GoodForKi...</td>\n",
       "      <td>['Pubs' 'Restaurants' 'Italian' 'Bars' 'Americ...</td>\n",
       "      <td>&lt;NA&gt;</td>\n",
       "      <td>[lot]</td>\n",
       "    </tr>\n",
       "    <tr>\n",
       "      <th>3</th>\n",
       "      <td>bBDDEgkFA1Otx9Lfe7BZUQ</td>\n",
       "      <td>Sonic Drive-In</td>\n",
       "      <td>2312 Dickerson Pike</td>\n",
       "      <td>Nashville</td>\n",
       "      <td>MO</td>\n",
       "      <td>37207</td>\n",
       "      <td>36.208102</td>\n",
       "      <td>-86.768170</td>\n",
       "      <td>1.5</td>\n",
       "      <td>10</td>\n",
       "      <td>1</td>\n",
       "      <td>[BusinessAcceptsCreditCards, DriveThru, GoodFo...</td>\n",
       "      <td>['Ice Cream &amp; Frozen Yogurt' 'Fast Food' 'Burg...</td>\n",
       "      <td>{'Friday': '6:0-16:0', 'Monday': '0:0-0:0', 'S...</td>\n",
       "      <td>[]</td>\n",
       "    </tr>\n",
       "    <tr>\n",
       "      <th>4</th>\n",
       "      <td>eEOYSgkmpB90uNA7lDOMRA</td>\n",
       "      <td>Vietnamese Food Truck</td>\n",
       "      <td></td>\n",
       "      <td>Tampa Bay</td>\n",
       "      <td>MO</td>\n",
       "      <td>33602</td>\n",
       "      <td>27.955269</td>\n",
       "      <td>-82.456320</td>\n",
       "      <td>4.0</td>\n",
       "      <td>10</td>\n",
       "      <td>1</td>\n",
       "      <td>[]</td>\n",
       "      <td>['Vietnamese' 'Food' 'Restaurants' 'Food Trucks']</td>\n",
       "      <td>{'Friday': '11:0-14:0', 'Monday': '11:0-14:0',...</td>\n",
       "      <td>[]</td>\n",
       "    </tr>\n",
       "  </tbody>\n",
       "</table>\n",
       "</div>"
      ],
      "text/plain": [
       "              business_id                   name              address  \\\n",
       "0  MTSW4McQd7CbVtyjqoe9mw     St Honore Pastries          935 Race St   \n",
       "1  CF33F8-E6oudUQ46HnavjQ         Sonic Drive-In        615 S Main St   \n",
       "2  k0hlBqXX-Bt0vf1op7Jr1w  Tsevi's Pub And Grill    8025 Mackenzie Rd   \n",
       "3  bBDDEgkFA1Otx9Lfe7BZUQ         Sonic Drive-In  2312 Dickerson Pike   \n",
       "4  eEOYSgkmpB90uNA7lDOMRA  Vietnamese Food Truck                        \n",
       "\n",
       "           city state postal_code   latitude  longitude  stars  review_count  \\\n",
       "0  Philadelphia    CA       19107  39.955505 -75.155564    4.0            80   \n",
       "1  Ashland City    AZ       37015  36.269593 -87.058943    2.0             6   \n",
       "2        Affton    TN       63123  38.565165 -90.321087    3.0            19   \n",
       "3     Nashville    MO       37207  36.208102 -86.768170    1.5            10   \n",
       "4     Tampa Bay    MO       33602  27.955269 -82.456320    4.0            10   \n",
       "\n",
       "   is_open                                         attributes  \\\n",
       "0        1          [BikeParking, Caters, RestaurantsTakeOut]   \n",
       "1        1  [BusinessAcceptsCreditCards, DriveThru, GoodFo...   \n",
       "2        0  [BusinessAcceptsCreditCards, Caters, GoodForKi...   \n",
       "3        1  [BusinessAcceptsCreditCards, DriveThru, GoodFo...   \n",
       "4        1                                                 []   \n",
       "\n",
       "                                          categories  \\\n",
       "0  ['Restaurants' 'Food' 'Bubble Tea' 'Coffee & T...   \n",
       "1  ['Burgers' 'Fast Food' 'Sandwiches' 'Food' 'Ic...   \n",
       "2  ['Pubs' 'Restaurants' 'Italian' 'Bars' 'Americ...   \n",
       "3  ['Ice Cream & Frozen Yogurt' 'Fast Food' 'Burg...   \n",
       "4  ['Vietnamese' 'Food' 'Restaurants' 'Food Trucks']   \n",
       "\n",
       "                                               hours kind_of_parking  \n",
       "0  {'Friday': '7:0-21:0', 'Monday': '7:0-20:0', '...        [street]  \n",
       "1  {'Friday': '9:0-0:0', 'Monday': '0:0-0:0', 'Sa...       [Unknown]  \n",
       "2                                               <NA>           [lot]  \n",
       "3  {'Friday': '6:0-16:0', 'Monday': '0:0-0:0', 'S...              []  \n",
       "4  {'Friday': '11:0-14:0', 'Monday': '11:0-14:0',...              []  "
      ]
     },
     "execution_count": 412,
     "metadata": {},
     "output_type": "execute_result"
    }
   ],
   "source": [
    "business_df.head()"
   ]
  },
  {
   "cell_type": "code",
   "execution_count": 445,
   "metadata": {},
   "outputs": [],
   "source": [
    "unique_attributes = business_df.explode(column=\"attributes\")[\"attributes\"].unique()"
   ]
  },
  {
   "cell_type": "code",
   "execution_count": 448,
   "metadata": {},
   "outputs": [],
   "source": [
    "attribute_to_id = {attr: i + 1 for i, attr in enumerate(unique_attributes)}"
   ]
  },
  {
   "cell_type": "code",
   "execution_count": 449,
   "metadata": {},
   "outputs": [
    {
     "data": {
      "text/plain": [
       "{'BikeParking': 1,\n",
       " 'Caters': 2,\n",
       " 'RestaurantsTakeOut': 3,\n",
       " 'BusinessAcceptsCreditCards': 4,\n",
       " 'DriveThru': 5,\n",
       " 'GoodForKids': 6,\n",
       " 'HasTV': 7,\n",
       " 'OutdoorSeating': 8,\n",
       " 'RestaurantsDelivery': 9,\n",
       " 'RestaurantsGoodForGroups': 10,\n",
       " 'WheelchairAccessible': 11,\n",
       " nan: 12,\n",
       " 'HappyHour': 13,\n",
       " 'RestaurantsReservations': 14,\n",
       " 'RestaurantsTableService': 15,\n",
       " 'DogsAllowed': 16,\n",
       " 'Corkage': 17,\n",
       " 'GoodForDancing': 18,\n",
       " 'BYOB': 19,\n",
       " 'ByAppointmentOnly': 20,\n",
       " 'CoatCheck': 21,\n",
       " 'BusinessAcceptsBitcoin': 22,\n",
       " 'RestaurantsCounterService': 23,\n",
       " 'AcceptsInsurance': 24,\n",
       " 'Open24Hours': 25}"
      ]
     },
     "execution_count": 449,
     "metadata": {},
     "output_type": "execute_result"
    }
   ],
   "source": [
    "attribute_to_id"
   ]
  },
  {
   "cell_type": "code",
   "execution_count": 453,
   "metadata": {},
   "outputs": [],
   "source": [
    "exploded_attributes = business_df.explode(column=\"attributes\")[[\"attributes\"]]"
   ]
  },
  {
   "cell_type": "code",
   "execution_count": 455,
   "metadata": {},
   "outputs": [
    {
     "data": {
      "text/html": [
       "<div>\n",
       "<style scoped>\n",
       "    .dataframe tbody tr th:only-of-type {\n",
       "        vertical-align: middle;\n",
       "    }\n",
       "\n",
       "    .dataframe tbody tr th {\n",
       "        vertical-align: top;\n",
       "    }\n",
       "\n",
       "    .dataframe thead th {\n",
       "        text-align: right;\n",
       "    }\n",
       "</style>\n",
       "<table border=\"1\" class=\"dataframe\">\n",
       "  <thead>\n",
       "    <tr style=\"text-align: right;\">\n",
       "      <th></th>\n",
       "      <th>attributes</th>\n",
       "    </tr>\n",
       "  </thead>\n",
       "  <tbody>\n",
       "    <tr>\n",
       "      <th>0</th>\n",
       "      <td>BikeParking</td>\n",
       "    </tr>\n",
       "    <tr>\n",
       "      <th>0</th>\n",
       "      <td>Caters</td>\n",
       "    </tr>\n",
       "    <tr>\n",
       "      <th>0</th>\n",
       "      <td>RestaurantsTakeOut</td>\n",
       "    </tr>\n",
       "    <tr>\n",
       "      <th>1</th>\n",
       "      <td>BusinessAcceptsCreditCards</td>\n",
       "    </tr>\n",
       "    <tr>\n",
       "      <th>1</th>\n",
       "      <td>DriveThru</td>\n",
       "    </tr>\n",
       "    <tr>\n",
       "      <th>...</th>\n",
       "      <td>...</td>\n",
       "    </tr>\n",
       "    <tr>\n",
       "      <th>52266</th>\n",
       "      <td>WheelchairAccessible</td>\n",
       "    </tr>\n",
       "    <tr>\n",
       "      <th>52267</th>\n",
       "      <td>GoodForKids</td>\n",
       "    </tr>\n",
       "    <tr>\n",
       "      <th>52267</th>\n",
       "      <td>RestaurantsGoodForGroups</td>\n",
       "    </tr>\n",
       "    <tr>\n",
       "      <th>52267</th>\n",
       "      <td>RestaurantsTableService</td>\n",
       "    </tr>\n",
       "    <tr>\n",
       "      <th>52267</th>\n",
       "      <td>RestaurantsTakeOut</td>\n",
       "    </tr>\n",
       "  </tbody>\n",
       "</table>\n",
       "<p>344223 rows × 1 columns</p>\n",
       "</div>"
      ],
      "text/plain": [
       "                       attributes\n",
       "0                     BikeParking\n",
       "0                          Caters\n",
       "0              RestaurantsTakeOut\n",
       "1      BusinessAcceptsCreditCards\n",
       "1                       DriveThru\n",
       "...                           ...\n",
       "52266        WheelchairAccessible\n",
       "52267                 GoodForKids\n",
       "52267    RestaurantsGoodForGroups\n",
       "52267     RestaurantsTableService\n",
       "52267          RestaurantsTakeOut\n",
       "\n",
       "[344223 rows x 1 columns]"
      ]
     },
     "execution_count": 455,
     "metadata": {},
     "output_type": "execute_result"
    }
   ],
   "source": [
    "exploded_attributes"
   ]
  },
  {
   "cell_type": "code",
   "execution_count": 456,
   "metadata": {},
   "outputs": [],
   "source": [
    "exploded_attributes[\"ids\"] = exploded_attributes[\"attributes\"].map(attribute_to_id)"
   ]
  },
  {
   "cell_type": "code",
   "execution_count": 469,
   "metadata": {},
   "outputs": [],
   "source": [
    "attribute_dict = exploded_attributes.set_index(\"ids\").drop_duplicates().to_dict()[\"attributes\"]"
   ]
  },
  {
   "cell_type": "code",
   "execution_count": 473,
   "metadata": {},
   "outputs": [
    {
     "data": {
      "text/plain": [
       "{1: 'BikeParking',\n",
       " 2: 'Caters',\n",
       " 3: 'RestaurantsTakeOut',\n",
       " 4: 'BusinessAcceptsCreditCards',\n",
       " 5: 'DriveThru',\n",
       " 6: 'GoodForKids',\n",
       " 7: 'HasTV',\n",
       " 8: 'OutdoorSeating',\n",
       " 9: 'RestaurantsDelivery',\n",
       " 10: 'RestaurantsGoodForGroups',\n",
       " 11: 'WheelchairAccessible',\n",
       " 12: nan,\n",
       " 13: 'HappyHour',\n",
       " 14: 'RestaurantsReservations',\n",
       " 15: 'RestaurantsTableService',\n",
       " 16: 'DogsAllowed',\n",
       " 17: 'Corkage',\n",
       " 18: 'GoodForDancing',\n",
       " 19: 'BYOB',\n",
       " 20: 'ByAppointmentOnly',\n",
       " 21: 'CoatCheck',\n",
       " 22: 'BusinessAcceptsBitcoin',\n",
       " 23: 'RestaurantsCounterService',\n",
       " 24: 'AcceptsInsurance',\n",
       " 25: 'Open24Hours'}"
      ]
     },
     "execution_count": 473,
     "metadata": {},
     "output_type": "execute_result"
    }
   ],
   "source": [
    "attribute_dict"
   ]
  },
  {
   "cell_type": "code",
   "execution_count": 474,
   "metadata": {},
   "outputs": [
    {
     "data": {
      "text/plain": [
       "0                [BikeParking, Caters, RestaurantsTakeOut]\n",
       "1        [BusinessAcceptsCreditCards, DriveThru, GoodFo...\n",
       "2        [BusinessAcceptsCreditCards, Caters, GoodForKi...\n",
       "3        [BusinessAcceptsCreditCards, DriveThru, GoodFo...\n",
       "4                                                       []\n",
       "                               ...                        \n",
       "52263    [BikeParking, BusinessAcceptsCreditCards, Cate...\n",
       "52264    [BikeParking, BusinessAcceptsCreditCards, Good...\n",
       "52265    [BikeParking, BusinessAcceptsCreditCards, Cate...\n",
       "52266    [BikeParking, BusinessAcceptsCreditCards, Cate...\n",
       "52267    [GoodForKids, RestaurantsGoodForGroups, Restau...\n",
       "Name: attributes, Length: 51703, dtype: object"
      ]
     },
     "execution_count": 474,
     "metadata": {},
     "output_type": "execute_result"
    }
   ],
   "source": [
    "business_df[\"attributes\"]"
   ]
  },
  {
   "cell_type": "code",
   "execution_count": null,
   "metadata": {},
   "outputs": [],
   "source": []
  },
  {
   "cell_type": "code",
   "execution_count": null,
   "metadata": {},
   "outputs": [],
   "source": []
  },
  {
   "cell_type": "code",
   "execution_count": null,
   "metadata": {},
   "outputs": [],
   "source": []
  },
  {
   "cell_type": "code",
   "execution_count": null,
   "metadata": {},
   "outputs": [],
   "source": []
  },
  {
   "cell_type": "code",
   "execution_count": 444,
   "metadata": {},
   "outputs": [
    {
     "ename": "ValueError",
     "evalue": "All arrays must be of the same length",
     "output_type": "error",
     "traceback": [
      "\u001b[1;31m---------------------------------------------------------------------------\u001b[0m",
      "\u001b[1;31mValueError\u001b[0m                                Traceback (most recent call last)",
      "\u001b[1;32mc:\\Users\\jdieg\\Desktop\\henry\\proyectos\\Google-Yelp\\Sprint-1\\Yelp\\etl_eda.ipynb Cell 183\u001b[0m line \u001b[0;36m1\n\u001b[0;32m     <a href='vscode-notebook-cell:/c%3A/Users/jdieg/Desktop/henry/proyectos/Google-Yelp/Sprint-1/Yelp/etl_eda.ipynb#Z1055sZmlsZQ%3D%3D?line=14'>15</a>\u001b[0m ids, labels \u001b[39m=\u001b[39m pd\u001b[39m.\u001b[39mfactorize(data)\n\u001b[0;32m     <a href='vscode-notebook-cell:/c%3A/Users/jdieg/Desktop/henry/proyectos/Google-Yelp/Sprint-1/Yelp/etl_eda.ipynb#Z1055sZmlsZQ%3D%3D?line=16'>17</a>\u001b[0m \u001b[39m# Create a new DataFrame to store the mapping\u001b[39;00m\n\u001b[1;32m---> <a href='vscode-notebook-cell:/c%3A/Users/jdieg/Desktop/henry/proyectos/Google-Yelp/Sprint-1/Yelp/etl_eda.ipynb#Z1055sZmlsZQ%3D%3D?line=17'>18</a>\u001b[0m mapping_df \u001b[39m=\u001b[39m pd\u001b[39m.\u001b[39;49mDataFrame({\u001b[39m'\u001b[39;49m\u001b[39mValue\u001b[39;49m\u001b[39m'\u001b[39;49m: labels, \u001b[39m'\u001b[39;49m\u001b[39mID\u001b[39;49m\u001b[39m'\u001b[39;49m: ids})\n\u001b[0;32m     <a href='vscode-notebook-cell:/c%3A/Users/jdieg/Desktop/henry/proyectos/Google-Yelp/Sprint-1/Yelp/etl_eda.ipynb#Z1055sZmlsZQ%3D%3D?line=19'>20</a>\u001b[0m \u001b[39m# Print the mapping DataFrame\u001b[39;00m\n\u001b[0;32m     <a href='vscode-notebook-cell:/c%3A/Users/jdieg/Desktop/henry/proyectos/Google-Yelp/Sprint-1/Yelp/etl_eda.ipynb#Z1055sZmlsZQ%3D%3D?line=20'>21</a>\u001b[0m \u001b[39mprint\u001b[39m(mapping_df)\n",
      "File \u001b[1;32mc:\\Users\\jdieg\\Desktop\\henry\\proyectos\\Google-Yelp\\.proyecto_final_env\\lib\\site-packages\\pandas\\core\\frame.py:736\u001b[0m, in \u001b[0;36mDataFrame.__init__\u001b[1;34m(self, data, index, columns, dtype, copy)\u001b[0m\n\u001b[0;32m    730\u001b[0m     mgr \u001b[39m=\u001b[39m \u001b[39mself\u001b[39m\u001b[39m.\u001b[39m_init_mgr(\n\u001b[0;32m    731\u001b[0m         data, axes\u001b[39m=\u001b[39m{\u001b[39m\"\u001b[39m\u001b[39mindex\u001b[39m\u001b[39m\"\u001b[39m: index, \u001b[39m\"\u001b[39m\u001b[39mcolumns\u001b[39m\u001b[39m\"\u001b[39m: columns}, dtype\u001b[39m=\u001b[39mdtype, copy\u001b[39m=\u001b[39mcopy\n\u001b[0;32m    732\u001b[0m     )\n\u001b[0;32m    734\u001b[0m \u001b[39melif\u001b[39;00m \u001b[39misinstance\u001b[39m(data, \u001b[39mdict\u001b[39m):\n\u001b[0;32m    735\u001b[0m     \u001b[39m# GH#38939 de facto copy defaults to False only in non-dict cases\u001b[39;00m\n\u001b[1;32m--> 736\u001b[0m     mgr \u001b[39m=\u001b[39m dict_to_mgr(data, index, columns, dtype\u001b[39m=\u001b[39;49mdtype, copy\u001b[39m=\u001b[39;49mcopy, typ\u001b[39m=\u001b[39;49mmanager)\n\u001b[0;32m    737\u001b[0m \u001b[39melif\u001b[39;00m \u001b[39misinstance\u001b[39m(data, ma\u001b[39m.\u001b[39mMaskedArray):\n\u001b[0;32m    738\u001b[0m     \u001b[39mfrom\u001b[39;00m \u001b[39mnumpy\u001b[39;00m\u001b[39m.\u001b[39;00m\u001b[39mma\u001b[39;00m \u001b[39mimport\u001b[39;00m mrecords\n",
      "File \u001b[1;32mc:\\Users\\jdieg\\Desktop\\henry\\proyectos\\Google-Yelp\\.proyecto_final_env\\lib\\site-packages\\pandas\\core\\internals\\construction.py:503\u001b[0m, in \u001b[0;36mdict_to_mgr\u001b[1;34m(data, index, columns, dtype, typ, copy)\u001b[0m\n\u001b[0;32m    499\u001b[0m     \u001b[39melse\u001b[39;00m:\n\u001b[0;32m    500\u001b[0m         \u001b[39m# dtype check to exclude e.g. range objects, scalars\u001b[39;00m\n\u001b[0;32m    501\u001b[0m         arrays \u001b[39m=\u001b[39m [x\u001b[39m.\u001b[39mcopy() \u001b[39mif\u001b[39;00m \u001b[39mhasattr\u001b[39m(x, \u001b[39m\"\u001b[39m\u001b[39mdtype\u001b[39m\u001b[39m\"\u001b[39m) \u001b[39melse\u001b[39;00m x \u001b[39mfor\u001b[39;00m x \u001b[39min\u001b[39;00m arrays]\n\u001b[1;32m--> 503\u001b[0m \u001b[39mreturn\u001b[39;00m arrays_to_mgr(arrays, columns, index, dtype\u001b[39m=\u001b[39;49mdtype, typ\u001b[39m=\u001b[39;49mtyp, consolidate\u001b[39m=\u001b[39;49mcopy)\n",
      "File \u001b[1;32mc:\\Users\\jdieg\\Desktop\\henry\\proyectos\\Google-Yelp\\.proyecto_final_env\\lib\\site-packages\\pandas\\core\\internals\\construction.py:114\u001b[0m, in \u001b[0;36marrays_to_mgr\u001b[1;34m(arrays, columns, index, dtype, verify_integrity, typ, consolidate)\u001b[0m\n\u001b[0;32m    111\u001b[0m \u001b[39mif\u001b[39;00m verify_integrity:\n\u001b[0;32m    112\u001b[0m     \u001b[39m# figure out the index, if necessary\u001b[39;00m\n\u001b[0;32m    113\u001b[0m     \u001b[39mif\u001b[39;00m index \u001b[39mis\u001b[39;00m \u001b[39mNone\u001b[39;00m:\n\u001b[1;32m--> 114\u001b[0m         index \u001b[39m=\u001b[39m _extract_index(arrays)\n\u001b[0;32m    115\u001b[0m     \u001b[39melse\u001b[39;00m:\n\u001b[0;32m    116\u001b[0m         index \u001b[39m=\u001b[39m ensure_index(index)\n",
      "File \u001b[1;32mc:\\Users\\jdieg\\Desktop\\henry\\proyectos\\Google-Yelp\\.proyecto_final_env\\lib\\site-packages\\pandas\\core\\internals\\construction.py:677\u001b[0m, in \u001b[0;36m_extract_index\u001b[1;34m(data)\u001b[0m\n\u001b[0;32m    675\u001b[0m lengths \u001b[39m=\u001b[39m \u001b[39mlist\u001b[39m(\u001b[39mset\u001b[39m(raw_lengths))\n\u001b[0;32m    676\u001b[0m \u001b[39mif\u001b[39;00m \u001b[39mlen\u001b[39m(lengths) \u001b[39m>\u001b[39m \u001b[39m1\u001b[39m:\n\u001b[1;32m--> 677\u001b[0m     \u001b[39mraise\u001b[39;00m \u001b[39mValueError\u001b[39;00m(\u001b[39m\"\u001b[39m\u001b[39mAll arrays must be of the same length\u001b[39m\u001b[39m\"\u001b[39m)\n\u001b[0;32m    679\u001b[0m \u001b[39mif\u001b[39;00m have_dicts:\n\u001b[0;32m    680\u001b[0m     \u001b[39mraise\u001b[39;00m \u001b[39mValueError\u001b[39;00m(\n\u001b[0;32m    681\u001b[0m         \u001b[39m\"\u001b[39m\u001b[39mMixing dicts with non-Series may lead to ambiguous ordering.\u001b[39m\u001b[39m\"\u001b[39m\n\u001b[0;32m    682\u001b[0m     )\n",
      "\u001b[1;31mValueError\u001b[0m: All arrays must be of the same length"
     ]
    }
   ],
   "source": [
    "# Your Series\n",
    "data = pd.Series([\n",
    "    'BikeParking',\n",
    "    'Caters',\n",
    "    'RestaurantsTakeOut',\n",
    "    'BusinessAcceptsCreditCards',\n",
    "    'DriveThru',\n",
    "    'WheelchairAccessible',\n",
    "    'GoodForKids',\n",
    "    'PetFriendly',\n",
    "    'GoodForKids'\n",
    "])\n",
    "\n",
    "# Use the factorize function to assign IDs to unique values\n",
    "ids, labels = pd.factorize(data)\n",
    "\n",
    "# Create a new DataFrame to store the mapping\n",
    "mapping_df = pd.DataFrame({'Value': labels, 'ID': ids})\n",
    "\n",
    "# Print the mapping DataFrame\n",
    "print(mapping_df)"
   ]
  },
  {
   "cell_type": "code",
   "execution_count": null,
   "metadata": {},
   "outputs": [],
   "source": []
  },
  {
   "cell_type": "code",
   "execution_count": null,
   "metadata": {},
   "outputs": [],
   "source": []
  },
  {
   "cell_type": "markdown",
   "metadata": {},
   "source": [
    "### Visualizing Large Datasets with PySpark"
   ]
  },
  {
   "cell_type": "code",
   "execution_count": 1,
   "metadata": {},
   "outputs": [],
   "source": [
    "import findspark\n",
    "findspark.init(\"C:\\spark\")"
   ]
  },
  {
   "cell_type": "code",
   "execution_count": 2,
   "metadata": {},
   "outputs": [],
   "source": [
    "import pyspark\n",
    "from pyspark.sql import SparkSession"
   ]
  },
  {
   "cell_type": "code",
   "execution_count": 3,
   "metadata": {},
   "outputs": [
    {
     "data": {
      "text/html": [
       "\n",
       "            <div>\n",
       "                <p><b>SparkSession - in-memory</b></p>\n",
       "                \n",
       "        <div>\n",
       "            <p><b>SparkContext</b></p>\n",
       "\n",
       "            <p><a href=\"http://DESKTOP-U3AQAUL:4041\">Spark UI</a></p>\n",
       "\n",
       "            <dl>\n",
       "              <dt>Version</dt>\n",
       "                <dd><code>v3.3.3</code></dd>\n",
       "              <dt>Master</dt>\n",
       "                <dd><code>local[*]</code></dd>\n",
       "              <dt>AppName</dt>\n",
       "                <dd><code>EDA_google_yelp</code></dd>\n",
       "            </dl>\n",
       "        </div>\n",
       "        \n",
       "            </div>\n",
       "        "
      ],
      "text/plain": [
       "<pyspark.sql.session.SparkSession at 0x2641f97bdf0>"
      ]
     },
     "execution_count": 3,
     "metadata": {},
     "output_type": "execute_result"
    }
   ],
   "source": [
    "spark = SparkSession.builder.appName(\"EDA_google_yelp\").getOrCreate()\n",
    "spark"
   ]
  },
  {
   "cell_type": "code",
   "execution_count": 5,
   "metadata": {},
   "outputs": [],
   "source": [
    "reviews_json_dir = \"C:\\\\Users\\\\jdieg\\\\Desktop\\\\henry\\\\proyectos\\\\Google-Yelp\\\\.data\\\\yelp\\\\review-001.json\"\n",
    "review_full_DS = spark.read.json(reviews_json_dir)"
   ]
  },
  {
   "cell_type": "code",
   "execution_count": 6,
   "metadata": {},
   "outputs": [
    {
     "name": "stdout",
     "output_type": "stream",
     "text": [
      "root\n",
      " |-- business_id: string (nullable = true)\n",
      " |-- cool: long (nullable = true)\n",
      " |-- date: string (nullable = true)\n",
      " |-- funny: long (nullable = true)\n",
      " |-- review_id: string (nullable = true)\n",
      " |-- stars: double (nullable = true)\n",
      " |-- text: string (nullable = true)\n",
      " |-- useful: long (nullable = true)\n",
      " |-- user_id: string (nullable = true)\n",
      "\n"
     ]
    }
   ],
   "source": [
    "review_full_DS.printSchema()"
   ]
  },
  {
   "cell_type": "code",
   "execution_count": 7,
   "metadata": {},
   "outputs": [],
   "source": [
    "review_full_DS.createOrReplaceTempView(\"reviews\")"
   ]
  },
  {
   "cell_type": "code",
   "execution_count": 8,
   "metadata": {},
   "outputs": [
    {
     "data": {
      "text/plain": [
       "[Table(name='reviews', database=None, description=None, tableType='TEMPORARY', isTemporary=True)]"
      ]
     },
     "execution_count": 8,
     "metadata": {},
     "output_type": "execute_result"
    }
   ],
   "source": [
    "spark.catalog.listTables()"
   ]
  },
  {
   "cell_type": "code",
   "execution_count": 9,
   "metadata": {},
   "outputs": [
    {
     "name": "stdout",
     "output_type": "stream",
     "text": [
      "+-------------------+-------------------+\n",
      "|          min(date)|          max(date)|\n",
      "+-------------------+-------------------+\n",
      "|2005-02-16 03:23:22|2022-01-19 19:48:45|\n",
      "+-------------------+-------------------+\n",
      "\n"
     ]
    }
   ],
   "source": [
    "query_0 = \"\"\"\n",
    "SELECT MIN(date), MAX(date)\n",
    "FROM reviews\n",
    "\"\"\"\n",
    "spark.sql(query_0).show()"
   ]
  },
  {
   "cell_type": "code",
   "execution_count": 10,
   "metadata": {},
   "outputs": [],
   "source": [
    "query_1 = \"\"\"\n",
    "SELECT YEAR(date) AS year, COUNT(date) as COUNT \n",
    "FROM reviews \n",
    "GROUP BY YEAR(date) \n",
    "ORDER BY YEAR(date) DESC;\n",
    "\"\"\"\n",
    "number_of_reviews_along_years = spark.sql(query_1)"
   ]
  },
  {
   "cell_type": "code",
   "execution_count": 11,
   "metadata": {},
   "outputs": [],
   "source": [
    "reviews_distribution_across_years = number_of_reviews_along_years.toPandas()"
   ]
  },
  {
   "cell_type": "code",
   "execution_count": 12,
   "metadata": {},
   "outputs": [
    {
     "data": {
      "text/plain": [
       "<Axes: xlabel='year'>"
      ]
     },
     "execution_count": 12,
     "metadata": {},
     "output_type": "execute_result"
    },
    {
     "data": {
      "image/png": "[encoded data removed]",
      "text/plain": [
       "<Figure size 640x480 with 1 Axes>"
      ]
     },
     "metadata": {},
     "output_type": "display_data"
    }
   ],
   "source": [
    "reviews_distribution_across_years.set_index(\"year\").plot(kind=\"bar\", rot=45)"
   ]
  },
  {
   "cell_type": "code",
   "execution_count": 15,
   "metadata": {},
   "outputs": [],
   "source": [
    "business_restaurant_dir = \"C:\\\\Users\\\\jdieg\\\\Desktop\\\\henry\\\\proyectos\\\\Google-Yelp\\\\.data\\\\yelp\\\\business_restaurante.parquet\"\n",
    "business_full_DS = spark.read.parquet(business_restaurant_dir)"
   ]
  },
  {
   "cell_type": "code",
   "execution_count": 16,
   "metadata": {},
   "outputs": [],
   "source": [
    "business_full_DS.createOrReplaceTempView(\"business\")"
   ]
  },
  {
   "cell_type": "code",
   "execution_count": 17,
   "metadata": {},
   "outputs": [
    {
     "name": "stdout",
     "output_type": "stream",
     "text": [
      "root\n",
      " |-- business_id: string (nullable = true)\n",
      " |-- name: string (nullable = true)\n",
      " |-- address: string (nullable = true)\n",
      " |-- city: string (nullable = true)\n",
      " |-- state: string (nullable = true)\n",
      " |-- postal_code: string (nullable = true)\n",
      " |-- latitude: double (nullable = true)\n",
      " |-- longitude: double (nullable = true)\n",
      " |-- stars: double (nullable = true)\n",
      " |-- review_count: long (nullable = true)\n",
      " |-- is_open: long (nullable = true)\n",
      " |-- attributes: struct (nullable = true)\n",
      " |    |-- AcceptsInsurance: string (nullable = true)\n",
      " |    |-- AgesAllowed: string (nullable = true)\n",
      " |    |-- Alcohol: string (nullable = true)\n",
      " |    |-- Ambience: string (nullable = true)\n",
      " |    |-- BYOB: string (nullable = true)\n",
      " |    |-- BYOBCorkage: string (nullable = true)\n",
      " |    |-- BestNights: string (nullable = true)\n",
      " |    |-- BikeParking: string (nullable = true)\n",
      " |    |-- BusinessAcceptsBitcoin: string (nullable = true)\n",
      " |    |-- BusinessAcceptsCreditCards: string (nullable = true)\n",
      " |    |-- BusinessParking: string (nullable = true)\n",
      " |    |-- ByAppointmentOnly: string (nullable = true)\n",
      " |    |-- Caters: string (nullable = true)\n",
      " |    |-- CoatCheck: string (nullable = true)\n",
      " |    |-- Corkage: string (nullable = true)\n",
      " |    |-- DietaryRestrictions: string (nullable = true)\n",
      " |    |-- DogsAllowed: string (nullable = true)\n",
      " |    |-- DriveThru: string (nullable = true)\n",
      " |    |-- GoodForDancing: string (nullable = true)\n",
      " |    |-- GoodForKids: string (nullable = true)\n",
      " |    |-- GoodForMeal: string (nullable = true)\n",
      " |    |-- HairSpecializesIn: string (nullable = true)\n",
      " |    |-- HappyHour: string (nullable = true)\n",
      " |    |-- HasTV: string (nullable = true)\n",
      " |    |-- Music: string (nullable = true)\n",
      " |    |-- NoiseLevel: string (nullable = true)\n",
      " |    |-- Open24Hours: string (nullable = true)\n",
      " |    |-- OutdoorSeating: string (nullable = true)\n",
      " |    |-- RestaurantsAttire: string (nullable = true)\n",
      " |    |-- RestaurantsCounterService: string (nullable = true)\n",
      " |    |-- RestaurantsDelivery: string (nullable = true)\n",
      " |    |-- RestaurantsGoodForGroups: string (nullable = true)\n",
      " |    |-- RestaurantsPriceRange2: string (nullable = true)\n",
      " |    |-- RestaurantsReservations: string (nullable = true)\n",
      " |    |-- RestaurantsTableService: string (nullable = true)\n",
      " |    |-- RestaurantsTakeOut: string (nullable = true)\n",
      " |    |-- Smoking: string (nullable = true)\n",
      " |    |-- WheelchairAccessible: string (nullable = true)\n",
      " |    |-- WiFi: string (nullable = true)\n",
      " |-- categories: array (nullable = true)\n",
      " |    |-- element: string (containsNull = true)\n",
      " |-- hours: struct (nullable = true)\n",
      " |    |-- Friday: string (nullable = true)\n",
      " |    |-- Monday: string (nullable = true)\n",
      " |    |-- Saturday: string (nullable = true)\n",
      " |    |-- Sunday: string (nullable = true)\n",
      " |    |-- Thursday: string (nullable = true)\n",
      " |    |-- Tuesday: string (nullable = true)\n",
      " |    |-- Wednesday: string (nullable = true)\n",
      "\n"
     ]
    }
   ],
   "source": [
    "business_full_DS.printSchema()"
   ]
  },
  {
   "cell_type": "code",
   "execution_count": 18,
   "metadata": {},
   "outputs": [
    {
     "data": {
      "text/plain": [
       "[Table(name='business', database=None, description=None, tableType='TEMPORARY', isTemporary=True),\n",
       " Table(name='reviews', database=None, description=None, tableType='TEMPORARY', isTemporary=True)]"
      ]
     },
     "execution_count": 18,
     "metadata": {},
     "output_type": "execute_result"
    }
   ],
   "source": [
    "spark.catalog.listTables()"
   ]
  },
  {
   "cell_type": "code",
   "execution_count": 19,
   "metadata": {},
   "outputs": [
    {
     "name": "stdout",
     "output_type": "stream",
     "text": [
      "+-----------+\n",
      "|count(name)|\n",
      "+-----------+\n",
      "|      52268|\n",
      "+-----------+\n",
      "\n"
     ]
    }
   ],
   "source": [
    "query_2 = \"\"\"\n",
    "SELECT count(name)\n",
    "FROM business\n",
    "\"\"\"\n",
    "spark.sql(query_2).show()"
   ]
  },
  {
   "cell_type": "code",
   "execution_count": 20,
   "metadata": {},
   "outputs": [
    {
     "name": "stdout",
     "output_type": "stream",
     "text": [
      "+--------------------+------------------+-----------+------------+-----+-----------+----------+-----------+-----+------------+-------+--------------------+--------------------+--------------------+\n",
      "|         business_id|              name|    address|        city|state|postal_code|  latitude|  longitude|stars|review_count|is_open|          attributes|          categories|               hours|\n",
      "+--------------------+------------------+-----------+------------+-----+-----------+----------+-----------+-----+------------+-------+--------------------+--------------------+--------------------+\n",
      "|MTSW4McQd7CbVtyjq...|St Honore Pastries|935 Race St|Philadelphia|   CA|      19107|39.9555052|-75.1555641|  4.0|          80|      1|{null, null, u'no...|[Restaurants, Foo...|{7:0-21:0, 7:0-20...|\n",
      "+--------------------+------------------+-----------+------------+-----+-----------+----------+-----------+-----+------------+-------+--------------------+--------------------+--------------------+\n",
      "\n"
     ]
    }
   ],
   "source": [
    "query_3 = \"\"\"\n",
    "SELECT *\n",
    "FROM business\n",
    "LIMIT 1\n",
    "\"\"\"\n",
    "\n",
    "spark.sql(query_3).show()"
   ]
  },
  {
   "cell_type": "code",
   "execution_count": 21,
   "metadata": {},
   "outputs": [
    {
     "name": "stdout",
     "output_type": "stream",
     "text": [
      "+--------------------+----+-------------------+-----+--------------------+-----+--------------------+------+--------------------+\n",
      "|         business_id|cool|               date|funny|           review_id|stars|                text|useful|             user_id|\n",
      "+--------------------+----+-------------------+-----+--------------------+-----+--------------------+------+--------------------+\n",
      "|XQfwVwDr-v0ZS3_Cb...|   0|2018-07-07 22:09:11|    0|KU_O5udG6zpxOg-Vc...|  3.0|If you decide to ...|     0|mh_-eMZ6K5RLWhZyI...|\n",
      "|7ATYjTIgM3jUlt4UM...|   1|2012-01-03 15:28:18|    0|BiTunyQ73aT9WBnpR...|  5.0|I've taken a lot ...|     1|OyoGAe7OKpv6SyGZT...|\n",
      "|YjUWPpI6HXG530lwP...|   0|2014-02-05 20:30:30|    0|saUsX_uimxRlCVr67...|  3.0|Family diner. Had...|     0|8g_iMtfSiwikVnbP2...|\n",
      "|kxX2SOes4o-D3ZQBk...|   1|2015-01-04 00:01:03|    0|AqPFMleE6RsU23_au...|  5.0|Wow!  Yummy, diff...|     1|_7bHUi9Uuf5__HHc_...|\n",
      "|e4Vwtrqf-wpJfwesg...|   1|2017-01-14 20:54:15|    0|Sx8TMOWLNuJBWer-0...|  4.0|Cute interior and...|     1|bcjbaE6dDog4jkNY9...|\n",
      "+--------------------+----+-------------------+-----+--------------------+-----+--------------------+------+--------------------+\n",
      "\n"
     ]
    }
   ],
   "source": [
    "query_4 = \"\"\"\n",
    "SELECT *\n",
    "FROM reviews\n",
    "LIMIT 5\n",
    "\"\"\"\n",
    "\n",
    "spark.sql(query_4).show()"
   ]
  },
  {
   "cell_type": "code",
   "execution_count": 22,
   "metadata": {},
   "outputs": [],
   "source": [
    "query_5 = \"\"\"\n",
    "SELECT *\n",
    "FROM reviews\n",
    "WHERE YEAR(date) BETWEEN '2015' AND '2022'\n",
    "\"\"\"\n",
    "\n",
    "reviews_2015_2022 = spark.sql(query_5)"
   ]
  },
  {
   "cell_type": "code",
   "execution_count": 33,
   "metadata": {},
   "outputs": [],
   "source": [
    "reviews_2015_2022.createOrReplaceTempView(\"reviews_2015_2022\")"
   ]
  },
  {
   "cell_type": "code",
   "execution_count": 34,
   "metadata": {},
   "outputs": [
    {
     "data": {
      "text/plain": [
       "[Table(name='business', catalog=None, namespace=[], description=None, tableType='TEMPORARY', isTemporary=True),\n",
       " Table(name='reviews', catalog=None, namespace=[], description=None, tableType='TEMPORARY', isTemporary=True),\n",
       " Table(name='reviews_2015_2022', catalog=None, namespace=[], description=None, tableType='TEMPORARY', isTemporary=True)]"
      ]
     },
     "execution_count": 34,
     "metadata": {},
     "output_type": "execute_result"
    }
   ],
   "source": [
    "spark.catalog.listTables()"
   ]
  },
  {
   "cell_type": "code",
   "execution_count": 25,
   "metadata": {},
   "outputs": [
    {
     "ename": "Py4JJavaError",
     "evalue": "An error occurred while calling o88.parquet.\n: org.apache.spark.SparkException: Job aborted.\r\n\tat org.apache.spark.sql.errors.QueryExecutionErrors$.jobAbortedError(QueryExecutionErrors.scala:651)\r\n\tat org.apache.spark.sql.execution.datasources.FileFormatWriter$.write(FileFormatWriter.scala:288)\r\n\tat org.apache.spark.sql.execution.datasources.InsertIntoHadoopFsRelationCommand.run(InsertIntoHadoopFsRelationCommand.scala:186)\r\n\tat org.apache.spark.sql.execution.command.DataWritingCommandExec.sideEffectResult$lzycompute(commands.scala:113)\r\n\tat org.apache.spark.sql.execution.command.DataWritingCommandExec.sideEffectResult(commands.scala:111)\r\n\tat org.apache.spark.sql.execution.command.DataWritingCommandExec.executeCollect(commands.scala:125)\r\n\tat org.apache.spark.sql.execution.QueryExecution$$anonfun$eagerlyExecuteCommands$1.$anonfun$applyOrElse$1(QueryExecution.scala:98)\r\n\tat org.apache.spark.sql.execution.SQLExecution$.$anonfun$withNewExecutionId$6(SQLExecution.scala:109)\r\n\tat org.apache.spark.sql.execution.SQLExecution$.withSQLConfPropagated(SQLExecution.scala:169)\r\n\tat org.apache.spark.sql.execution.SQLExecution$.$anonfun$withNewExecutionId$1(SQLExecution.scala:95)\r\n\tat org.apache.spark.sql.SparkSession.withActive(SparkSession.scala:779)\r\n\tat org.apache.spark.sql.execution.SQLExecution$.withNewExecutionId(SQLExecution.scala:64)\r\n\tat org.apache.spark.sql.execution.QueryExecution$$anonfun$eagerlyExecuteCommands$1.applyOrElse(QueryExecution.scala:98)\r\n\tat org.apache.spark.sql.execution.QueryExecution$$anonfun$eagerlyExecuteCommands$1.applyOrElse(QueryExecution.scala:94)\r\n\tat org.apache.spark.sql.catalyst.trees.TreeNode.$anonfun$transformDownWithPruning$1(TreeNode.scala:584)\r\n\tat org.apache.spark.sql.catalyst.trees.CurrentOrigin$.withOrigin(TreeNode.scala:176)\r\n\tat org.apache.spark.sql.catalyst.trees.TreeNode.transformDownWithPruning(TreeNode.scala:584)\r\n\tat org.apache.spark.sql.catalyst.plans.logical.LogicalPlan.org$apache$spark$sql$catalyst$plans$logical$AnalysisHelper$$super$transformDownWithPruning(LogicalPlan.scala:30)\r\n\tat org.apache.spark.sql.catalyst.plans.logical.AnalysisHelper.transformDownWithPruning(AnalysisHelper.scala:267)\r\n\tat org.apache.spark.sql.catalyst.plans.logical.AnalysisHelper.transformDownWithPruning$(AnalysisHelper.scala:263)\r\n\tat org.apache.spark.sql.catalyst.plans.logical.LogicalPlan.transformDownWithPruning(LogicalPlan.scala:30)\r\n\tat org.apache.spark.sql.catalyst.plans.logical.LogicalPlan.transformDownWithPruning(LogicalPlan.scala:30)\r\n\tat org.apache.spark.sql.catalyst.trees.TreeNode.transformDown(TreeNode.scala:560)\r\n\tat org.apache.spark.sql.execution.QueryExecution.eagerlyExecuteCommands(QueryExecution.scala:94)\r\n\tat org.apache.spark.sql.execution.QueryExecution.commandExecuted$lzycompute(QueryExecution.scala:81)\r\n\tat org.apache.spark.sql.execution.QueryExecution.commandExecuted(QueryExecution.scala:79)\r\n\tat org.apache.spark.sql.execution.QueryExecution.assertCommandExecuted(QueryExecution.scala:116)\r\n\tat org.apache.spark.sql.DataFrameWriter.runCommand(DataFrameWriter.scala:860)\r\n\tat org.apache.spark.sql.DataFrameWriter.saveToV1Source(DataFrameWriter.scala:390)\r\n\tat org.apache.spark.sql.DataFrameWriter.saveInternal(DataFrameWriter.scala:363)\r\n\tat org.apache.spark.sql.DataFrameWriter.save(DataFrameWriter.scala:239)\r\n\tat org.apache.spark.sql.DataFrameWriter.parquet(DataFrameWriter.scala:793)\r\n\tat sun.reflect.NativeMethodAccessorImpl.invoke0(Native Method)\r\n\tat sun.reflect.NativeMethodAccessorImpl.invoke(NativeMethodAccessorImpl.java:62)\r\n\tat sun.reflect.DelegatingMethodAccessorImpl.invoke(DelegatingMethodAccessorImpl.java:43)\r\n\tat java.lang.reflect.Method.invoke(Method.java:498)\r\n\tat py4j.reflection.MethodInvoker.invoke(MethodInvoker.java:244)\r\n\tat py4j.reflection.ReflectionEngine.invoke(ReflectionEngine.java:357)\r\n\tat py4j.Gateway.invoke(Gateway.java:282)\r\n\tat py4j.commands.AbstractCommand.invokeMethod(AbstractCommand.java:132)\r\n\tat py4j.commands.CallCommand.execute(CallCommand.java:79)\r\n\tat py4j.ClientServerConnection.waitForCommands(ClientServerConnection.java:182)\r\n\tat py4j.ClientServerConnection.run(ClientServerConnection.java:106)\r\n\tat java.lang.Thread.run(Thread.java:750)\r\nCaused by: java.lang.UnsatisfiedLinkError: org.apache.hadoop.io.nativeio.NativeIO$Windows.access0(Ljava/lang/String;I)Z\r\n\tat org.apache.hadoop.io.nativeio.NativeIO$Windows.access0(Native Method)\r\n\tat org.apache.hadoop.io.nativeio.NativeIO$Windows.access(NativeIO.java:793)\r\n\tat org.apache.hadoop.fs.FileUtil.canRead(FileUtil.java:1218)\r\n\tat org.apache.hadoop.fs.FileUtil.list(FileUtil.java:1423)\r\n\tat org.apache.hadoop.fs.RawLocalFileSystem.listStatus(RawLocalFileSystem.java:601)\r\n\tat org.apache.hadoop.fs.FileSystem.listStatus(FileSystem.java:1972)\r\n\tat org.apache.hadoop.fs.FileSystem.listStatus(FileSystem.java:2014)\r\n\tat org.apache.hadoop.fs.ChecksumFileSystem.listStatus(ChecksumFileSystem.java:761)\r\n\tat org.apache.hadoop.fs.FileSystem.listStatus(FileSystem.java:1972)\r\n\tat org.apache.hadoop.fs.FileSystem.listStatus(FileSystem.java:2014)\r\n\tat org.apache.hadoop.mapreduce.lib.output.FileOutputCommitter.getAllCommittedTaskPaths(FileOutputCommitter.java:334)\r\n\tat org.apache.hadoop.mapreduce.lib.output.FileOutputCommitter.commitJobInternal(FileOutputCommitter.java:404)\r\n\tat org.apache.hadoop.mapreduce.lib.output.FileOutputCommitter.commitJob(FileOutputCommitter.java:377)\r\n\tat org.apache.parquet.hadoop.ParquetOutputCommitter.commitJob(ParquetOutputCommitter.java:48)\r\n\tat org.apache.spark.internal.io.HadoopMapReduceCommitProtocol.commitJob(HadoopMapReduceCommitProtocol.scala:192)\r\n\tat org.apache.spark.sql.execution.datasources.FileFormatWriter$.$anonfun$write$26(FileFormatWriter.scala:277)\r\n\tat scala.runtime.java8.JFunction0$mcV$sp.apply(JFunction0$mcV$sp.java:23)\r\n\tat org.apache.spark.util.Utils$.timeTakenMs(Utils.scala:642)\r\n\tat org.apache.spark.sql.execution.datasources.FileFormatWriter$.write(FileFormatWriter.scala:277)\r\n\t... 42 more\r\n",
     "output_type": "error",
     "traceback": [
      "\u001b[1;31m---------------------------------------------------------------------------\u001b[0m",
      "\u001b[1;31mPy4JJavaError\u001b[0m                             Traceback (most recent call last)",
      "\u001b[1;32mc:\\Users\\jdieg\\Desktop\\henry\\proyectos\\Google-Yelp\\Sprint-1\\Yelp\\etl_eda.ipynb Cell 130\u001b[0m line \u001b[0;36m2\n\u001b[0;32m      <a href='vscode-notebook-cell:/c%3A/Users/jdieg/Desktop/henry/proyectos/Google-Yelp/Sprint-1/Yelp/etl_eda.ipynb#Y242sZmlsZQ%3D%3D?line=0'>1</a>\u001b[0m reviews_2015_2022_output_dir \u001b[39m=\u001b[39m \u001b[39m\"\u001b[39m\u001b[39mC:\u001b[39m\u001b[39m\\\\\u001b[39;00m\u001b[39mUsers\u001b[39m\u001b[39m\\\\\u001b[39;00m\u001b[39mjdieg\u001b[39m\u001b[39m\\\\\u001b[39;00m\u001b[39mDesktop\u001b[39m\u001b[39m\\\\\u001b[39;00m\u001b[39mhenry\u001b[39m\u001b[39m\\\\\u001b[39;00m\u001b[39mproyectos\u001b[39m\u001b[39m\\\\\u001b[39;00m\u001b[39mGoogle-Yelp\u001b[39m\u001b[39m\\\\\u001b[39;00m\u001b[39m.data\u001b[39m\u001b[39m\\\\\u001b[39;00m\u001b[39myelp\u001b[39m\u001b[39m\\\\\u001b[39;00m\u001b[39mreviews_2015_2022.parquet\u001b[39m\u001b[39m\"\u001b[39m\n\u001b[1;32m----> <a href='vscode-notebook-cell:/c%3A/Users/jdieg/Desktop/henry/proyectos/Google-Yelp/Sprint-1/Yelp/etl_eda.ipynb#Y242sZmlsZQ%3D%3D?line=1'>2</a>\u001b[0m reviews_2015_2022\u001b[39m.\u001b[39;49mwrite\u001b[39m.\u001b[39;49mparquet(reviews_2015_2022_output_dir)\n",
      "File \u001b[1;32mC:\\spark\\python\\pyspark\\sql\\readwriter.py:1140\u001b[0m, in \u001b[0;36mDataFrameWriter.parquet\u001b[1;34m(self, path, mode, partitionBy, compression)\u001b[0m\n\u001b[0;32m   1138\u001b[0m     \u001b[39mself\u001b[39m\u001b[39m.\u001b[39mpartitionBy(partitionBy)\n\u001b[0;32m   1139\u001b[0m \u001b[39mself\u001b[39m\u001b[39m.\u001b[39m_set_opts(compression\u001b[39m=\u001b[39mcompression)\n\u001b[1;32m-> 1140\u001b[0m \u001b[39mself\u001b[39;49m\u001b[39m.\u001b[39;49m_jwrite\u001b[39m.\u001b[39;49mparquet(path)\n",
      "File \u001b[1;32mC:\\spark\\python\\lib\\py4j-0.10.9.5-src.zip\\py4j\\java_gateway.py:1321\u001b[0m, in \u001b[0;36mJavaMember.__call__\u001b[1;34m(self, *args)\u001b[0m\n\u001b[0;32m   1315\u001b[0m command \u001b[39m=\u001b[39m proto\u001b[39m.\u001b[39mCALL_COMMAND_NAME \u001b[39m+\u001b[39m\\\n\u001b[0;32m   1316\u001b[0m     \u001b[39mself\u001b[39m\u001b[39m.\u001b[39mcommand_header \u001b[39m+\u001b[39m\\\n\u001b[0;32m   1317\u001b[0m     args_command \u001b[39m+\u001b[39m\\\n\u001b[0;32m   1318\u001b[0m     proto\u001b[39m.\u001b[39mEND_COMMAND_PART\n\u001b[0;32m   1320\u001b[0m answer \u001b[39m=\u001b[39m \u001b[39mself\u001b[39m\u001b[39m.\u001b[39mgateway_client\u001b[39m.\u001b[39msend_command(command)\n\u001b[1;32m-> 1321\u001b[0m return_value \u001b[39m=\u001b[39m get_return_value(\n\u001b[0;32m   1322\u001b[0m     answer, \u001b[39mself\u001b[39;49m\u001b[39m.\u001b[39;49mgateway_client, \u001b[39mself\u001b[39;49m\u001b[39m.\u001b[39;49mtarget_id, \u001b[39mself\u001b[39;49m\u001b[39m.\u001b[39;49mname)\n\u001b[0;32m   1324\u001b[0m \u001b[39mfor\u001b[39;00m temp_arg \u001b[39min\u001b[39;00m temp_args:\n\u001b[0;32m   1325\u001b[0m     temp_arg\u001b[39m.\u001b[39m_detach()\n",
      "File \u001b[1;32mC:\\spark\\python\\pyspark\\sql\\utils.py:190\u001b[0m, in \u001b[0;36mcapture_sql_exception.<locals>.deco\u001b[1;34m(*a, **kw)\u001b[0m\n\u001b[0;32m    188\u001b[0m \u001b[39mdef\u001b[39;00m \u001b[39mdeco\u001b[39m(\u001b[39m*\u001b[39ma: Any, \u001b[39m*\u001b[39m\u001b[39m*\u001b[39mkw: Any) \u001b[39m-\u001b[39m\u001b[39m>\u001b[39m Any:\n\u001b[0;32m    189\u001b[0m     \u001b[39mtry\u001b[39;00m:\n\u001b[1;32m--> 190\u001b[0m         \u001b[39mreturn\u001b[39;00m f(\u001b[39m*\u001b[39ma, \u001b[39m*\u001b[39m\u001b[39m*\u001b[39mkw)\n\u001b[0;32m    191\u001b[0m     \u001b[39mexcept\u001b[39;00m Py4JJavaError \u001b[39mas\u001b[39;00m e:\n\u001b[0;32m    192\u001b[0m         converted \u001b[39m=\u001b[39m convert_exception(e\u001b[39m.\u001b[39mjava_exception)\n",
      "File \u001b[1;32mC:\\spark\\python\\lib\\py4j-0.10.9.5-src.zip\\py4j\\protocol.py:326\u001b[0m, in \u001b[0;36mget_return_value\u001b[1;34m(answer, gateway_client, target_id, name)\u001b[0m\n\u001b[0;32m    324\u001b[0m value \u001b[39m=\u001b[39m OUTPUT_CONVERTER[\u001b[39mtype\u001b[39m](answer[\u001b[39m2\u001b[39m:], gateway_client)\n\u001b[0;32m    325\u001b[0m \u001b[39mif\u001b[39;00m answer[\u001b[39m1\u001b[39m] \u001b[39m==\u001b[39m REFERENCE_TYPE:\n\u001b[1;32m--> 326\u001b[0m     \u001b[39mraise\u001b[39;00m Py4JJavaError(\n\u001b[0;32m    327\u001b[0m         \u001b[39m\"\u001b[39m\u001b[39mAn error occurred while calling \u001b[39m\u001b[39m{0}\u001b[39;00m\u001b[39m{1}\u001b[39;00m\u001b[39m{2}\u001b[39;00m\u001b[39m.\u001b[39m\u001b[39m\\n\u001b[39;00m\u001b[39m\"\u001b[39m\u001b[39m.\u001b[39m\n\u001b[0;32m    328\u001b[0m         \u001b[39mformat\u001b[39m(target_id, \u001b[39m\"\u001b[39m\u001b[39m.\u001b[39m\u001b[39m\"\u001b[39m, name), value)\n\u001b[0;32m    329\u001b[0m \u001b[39melse\u001b[39;00m:\n\u001b[0;32m    330\u001b[0m     \u001b[39mraise\u001b[39;00m Py4JError(\n\u001b[0;32m    331\u001b[0m         \u001b[39m\"\u001b[39m\u001b[39mAn error occurred while calling \u001b[39m\u001b[39m{0}\u001b[39;00m\u001b[39m{1}\u001b[39;00m\u001b[39m{2}\u001b[39;00m\u001b[39m. Trace:\u001b[39m\u001b[39m\\n\u001b[39;00m\u001b[39m{3}\u001b[39;00m\u001b[39m\\n\u001b[39;00m\u001b[39m\"\u001b[39m\u001b[39m.\u001b[39m\n\u001b[0;32m    332\u001b[0m         \u001b[39mformat\u001b[39m(target_id, \u001b[39m\"\u001b[39m\u001b[39m.\u001b[39m\u001b[39m\"\u001b[39m, name, value))\n",
      "\u001b[1;31mPy4JJavaError\u001b[0m: An error occurred while calling o88.parquet.\n: org.apache.spark.SparkException: Job aborted.\r\n\tat org.apache.spark.sql.errors.QueryExecutionErrors$.jobAbortedError(QueryExecutionErrors.scala:651)\r\n\tat org.apache.spark.sql.execution.datasources.FileFormatWriter$.write(FileFormatWriter.scala:288)\r\n\tat org.apache.spark.sql.execution.datasources.InsertIntoHadoopFsRelationCommand.run(InsertIntoHadoopFsRelationCommand.scala:186)\r\n\tat org.apache.spark.sql.execution.command.DataWritingCommandExec.sideEffectResult$lzycompute(commands.scala:113)\r\n\tat org.apache.spark.sql.execution.command.DataWritingCommandExec.sideEffectResult(commands.scala:111)\r\n\tat org.apache.spark.sql.execution.command.DataWritingCommandExec.executeCollect(commands.scala:125)\r\n\tat org.apache.spark.sql.execution.QueryExecution$$anonfun$eagerlyExecuteCommands$1.$anonfun$applyOrElse$1(QueryExecution.scala:98)\r\n\tat org.apache.spark.sql.execution.SQLExecution$.$anonfun$withNewExecutionId$6(SQLExecution.scala:109)\r\n\tat org.apache.spark.sql.execution.SQLExecution$.withSQLConfPropagated(SQLExecution.scala:169)\r\n\tat org.apache.spark.sql.execution.SQLExecution$.$anonfun$withNewExecutionId$1(SQLExecution.scala:95)\r\n\tat org.apache.spark.sql.SparkSession.withActive(SparkSession.scala:779)\r\n\tat org.apache.spark.sql.execution.SQLExecution$.withNewExecutionId(SQLExecution.scala:64)\r\n\tat org.apache.spark.sql.execution.QueryExecution$$anonfun$eagerlyExecuteCommands$1.applyOrElse(QueryExecution.scala:98)\r\n\tat org.apache.spark.sql.execution.QueryExecution$$anonfun$eagerlyExecuteCommands$1.applyOrElse(QueryExecution.scala:94)\r\n\tat org.apache.spark.sql.catalyst.trees.TreeNode.$anonfun$transformDownWithPruning$1(TreeNode.scala:584)\r\n\tat org.apache.spark.sql.catalyst.trees.CurrentOrigin$.withOrigin(TreeNode.scala:176)\r\n\tat org.apache.spark.sql.catalyst.trees.TreeNode.transformDownWithPruning(TreeNode.scala:584)\r\n\tat org.apache.spark.sql.catalyst.plans.logical.LogicalPlan.org$apache$spark$sql$catalyst$plans$logical$AnalysisHelper$$super$transformDownWithPruning(LogicalPlan.scala:30)\r\n\tat org.apache.spark.sql.catalyst.plans.logical.AnalysisHelper.transformDownWithPruning(AnalysisHelper.scala:267)\r\n\tat org.apache.spark.sql.catalyst.plans.logical.AnalysisHelper.transformDownWithPruning$(AnalysisHelper.scala:263)\r\n\tat org.apache.spark.sql.catalyst.plans.logical.LogicalPlan.transformDownWithPruning(LogicalPlan.scala:30)\r\n\tat org.apache.spark.sql.catalyst.plans.logical.LogicalPlan.transformDownWithPruning(LogicalPlan.scala:30)\r\n\tat org.apache.spark.sql.catalyst.trees.TreeNode.transformDown(TreeNode.scala:560)\r\n\tat org.apache.spark.sql.execution.QueryExecution.eagerlyExecuteCommands(QueryExecution.scala:94)\r\n\tat org.apache.spark.sql.execution.QueryExecution.commandExecuted$lzycompute(QueryExecution.scala:81)\r\n\tat org.apache.spark.sql.execution.QueryExecution.commandExecuted(QueryExecution.scala:79)\r\n\tat org.apache.spark.sql.execution.QueryExecution.assertCommandExecuted(QueryExecution.scala:116)\r\n\tat org.apache.spark.sql.DataFrameWriter.runCommand(DataFrameWriter.scala:860)\r\n\tat org.apache.spark.sql.DataFrameWriter.saveToV1Source(DataFrameWriter.scala:390)\r\n\tat org.apache.spark.sql.DataFrameWriter.saveInternal(DataFrameWriter.scala:363)\r\n\tat org.apache.spark.sql.DataFrameWriter.save(DataFrameWriter.scala:239)\r\n\tat org.apache.spark.sql.DataFrameWriter.parquet(DataFrameWriter.scala:793)\r\n\tat sun.reflect.NativeMethodAccessorImpl.invoke0(Native Method)\r\n\tat sun.reflect.NativeMethodAccessorImpl.invoke(NativeMethodAccessorImpl.java:62)\r\n\tat sun.reflect.DelegatingMethodAccessorImpl.invoke(DelegatingMethodAccessorImpl.java:43)\r\n\tat java.lang.reflect.Method.invoke(Method.java:498)\r\n\tat py4j.reflection.MethodInvoker.invoke(MethodInvoker.java:244)\r\n\tat py4j.reflection.ReflectionEngine.invoke(ReflectionEngine.java:357)\r\n\tat py4j.Gateway.invoke(Gateway.java:282)\r\n\tat py4j.commands.AbstractCommand.invokeMethod(AbstractCommand.java:132)\r\n\tat py4j.commands.CallCommand.execute(CallCommand.java:79)\r\n\tat py4j.ClientServerConnection.waitForCommands(ClientServerConnection.java:182)\r\n\tat py4j.ClientServerConnection.run(ClientServerConnection.java:106)\r\n\tat java.lang.Thread.run(Thread.java:750)\r\nCaused by: java.lang.UnsatisfiedLinkError: org.apache.hadoop.io.nativeio.NativeIO$Windows.access0(Ljava/lang/String;I)Z\r\n\tat org.apache.hadoop.io.nativeio.NativeIO$Windows.access0(Native Method)\r\n\tat org.apache.hadoop.io.nativeio.NativeIO$Windows.access(NativeIO.java:793)\r\n\tat org.apache.hadoop.fs.FileUtil.canRead(FileUtil.java:1218)\r\n\tat org.apache.hadoop.fs.FileUtil.list(FileUtil.java:1423)\r\n\tat org.apache.hadoop.fs.RawLocalFileSystem.listStatus(RawLocalFileSystem.java:601)\r\n\tat org.apache.hadoop.fs.FileSystem.listStatus(FileSystem.java:1972)\r\n\tat org.apache.hadoop.fs.FileSystem.listStatus(FileSystem.java:2014)\r\n\tat org.apache.hadoop.fs.ChecksumFileSystem.listStatus(ChecksumFileSystem.java:761)\r\n\tat org.apache.hadoop.fs.FileSystem.listStatus(FileSystem.java:1972)\r\n\tat org.apache.hadoop.fs.FileSystem.listStatus(FileSystem.java:2014)\r\n\tat org.apache.hadoop.mapreduce.lib.output.FileOutputCommitter.getAllCommittedTaskPaths(FileOutputCommitter.java:334)\r\n\tat org.apache.hadoop.mapreduce.lib.output.FileOutputCommitter.commitJobInternal(FileOutputCommitter.java:404)\r\n\tat org.apache.hadoop.mapreduce.lib.output.FileOutputCommitter.commitJob(FileOutputCommitter.java:377)\r\n\tat org.apache.parquet.hadoop.ParquetOutputCommitter.commitJob(ParquetOutputCommitter.java:48)\r\n\tat org.apache.spark.internal.io.HadoopMapReduceCommitProtocol.commitJob(HadoopMapReduceCommitProtocol.scala:192)\r\n\tat org.apache.spark.sql.execution.datasources.FileFormatWriter$.$anonfun$write$26(FileFormatWriter.scala:277)\r\n\tat scala.runtime.java8.JFunction0$mcV$sp.apply(JFunction0$mcV$sp.java:23)\r\n\tat org.apache.spark.util.Utils$.timeTakenMs(Utils.scala:642)\r\n\tat org.apache.spark.sql.execution.datasources.FileFormatWriter$.write(FileFormatWriter.scala:277)\r\n\t... 42 more\r\n"
     ]
    }
   ],
   "source": [
    "reviews_2015_2022_output_dir = \"C:\\\\Users\\\\jdieg\\\\Desktop\\\\henry\\\\proyectos\\\\Google-Yelp\\\\.data\\\\yelp\\\\reviews_2015_2022.parquet\"\n",
    "reviews_2015_2022.write.parquet(reviews_2015_2022_output_dir)"
   ]
  },
  {
   "cell_type": "code",
   "execution_count": null,
   "metadata": {},
   "outputs": [],
   "source": []
  }
 ],
 "metadata": {
  "kernelspec": {
   "display_name": "Python 3",
   "language": "python",
   "name": "python3"
  },
  "language_info": {
   "codemirror_mode": {
    "name": "ipython",
    "version": 3
   },
   "file_extension": ".py",
   "mimetype": "text/x-python",
   "name": "python",
   "nbconvert_exporter": "python",
   "pygments_lexer": "ipython3",
   "version": "3.10.11"
  },
  "orig_nbformat": 4
 },
 "nbformat": 4,
 "nbformat_minor": 2
}
