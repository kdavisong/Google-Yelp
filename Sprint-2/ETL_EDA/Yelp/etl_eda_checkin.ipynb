{
 "cells": [
  {
   "cell_type": "markdown",
   "metadata": {},
   "source": [
    "# ETL and EDA of data checkin\n",
    "\n",
    "## Intro\n",
    "\n",
    "The purpose of this notebook is to just explore a chunk of data. \n",
    "\n",
    "Data: \n",
    "- checkin.json\n"
   ]
  },
  {
   "cell_type": "markdown",
   "metadata": {},
   "source": [
    "## Index \n",
    "1. [Data upload](#data-upload)\n",
    "2. [Data description](#data-description)\n",
    "3. [Data transformation](#data-transformation)\n",
    "4. [EDA](#eda)\n",
    "\n"
   ]
  },
  {
   "cell_type": "markdown",
   "metadata": {},
   "source": [
    "## Checkin"
   ]
  },
  {
   "cell_type": "code",
   "execution_count": 3,
   "metadata": {},
   "outputs": [],
   "source": [
    "import pandas as pd\n",
    "from tabulate import tabulate\n",
    "import matplotlib.pyplot as plt"
   ]
  },
  {
   "cell_type": "markdown",
   "metadata": {},
   "source": [
    "### 1. Data upload"
   ]
  },
  {
   "cell_type": "code",
   "execution_count": 4,
   "metadata": {},
   "outputs": [],
   "source": [
    "df_checkin = pd.read_json('../../../Datasets/Yelp/checkin.json', lines=True)"
   ]
  },
  {
   "cell_type": "markdown",
   "metadata": {},
   "source": [
    "### 2. Data description"
   ]
  },
  {
   "cell_type": "code",
   "execution_count": 4,
   "metadata": {},
   "outputs": [
    {
     "name": "stdout",
     "output_type": "stream",
     "text": [
      "Files:  131930\n"
     ]
    }
   ],
   "source": [
    "cantidad_de_registros = len(df_checkin)\n",
    "print(\"Files: \", cantidad_de_registros)"
   ]
  },
  {
   "cell_type": "code",
   "execution_count": 5,
   "metadata": {},
   "outputs": [
    {
     "name": "stdout",
     "output_type": "stream",
     "text": [
      "Columns:  Index(['business_id', 'date'], dtype='object')\n"
     ]
    }
   ],
   "source": [
    "columnas = df_checkin.columns\n",
    "print(\"Columns: \",columnas)"
   ]
  },
  {
   "cell_type": "code",
   "execution_count": 6,
   "metadata": {},
   "outputs": [
    {
     "name": "stdout",
     "output_type": "stream",
     "text": [
      "column info\n",
      "<class 'pandas.core.frame.DataFrame'>\n",
      "RangeIndex: 131930 entries, 0 to 131929\n",
      "Data columns (total 2 columns):\n",
      " #   Column       Non-Null Count   Dtype \n",
      "---  ------       --------------   ----- \n",
      " 0   business_id  131930 non-null  object\n",
      " 1   date         131930 non-null  object\n",
      "dtypes: object(2)\n",
      "memory usage: 2.0+ MB\n"
     ]
    }
   ],
   "source": [
    "print(\"column info\")\n",
    "df_checkin.info()"
   ]
  },
  {
   "cell_type": "code",
   "execution_count": 7,
   "metadata": {},
   "outputs": [
    {
     "name": "stdout",
     "output_type": "stream",
     "text": [
      "+------------------------+------------------------------------------------------------------------------------------------------------------------------------------------------------------------------------------------------------------------------------------------------------------------------------------------------------------------------------------------------------------------------------------------------------------------------------------------------------------------------------------------------------------------------------------------------------------------------------------------------------------------------------------------------------------------------------------------------------------------------------------------------------------------------------------------------------------------------------------------------------------------------------------------------------------------------------------------------------------------------------------------------------------------------------------------------------------------------------------------------------------------------------------------------------------------------------------------------------------------------------------------------------------------------------------------------------------------------------------------------------------------------------------------------------------------------------------------------------------------------------------------------------------------------------------------------------------------------------------------------------------------------------------------------------------------------------------------------------------------------------------------------------------------------------------+\n",
      "|      business_id       |                                                                                                                                                                                                                                                                                                                                                                                                                                                                                                                                                                                                                                                                                                                                                                                                                                                                                           date                                                                                                                                                                                                                                                                                                                                                                                                                                                                                                                                                                                                                                                                                                                                                                                                                                                                                           |\n",
      "+------------------------+------------------------------------------------------------------------------------------------------------------------------------------------------------------------------------------------------------------------------------------------------------------------------------------------------------------------------------------------------------------------------------------------------------------------------------------------------------------------------------------------------------------------------------------------------------------------------------------------------------------------------------------------------------------------------------------------------------------------------------------------------------------------------------------------------------------------------------------------------------------------------------------------------------------------------------------------------------------------------------------------------------------------------------------------------------------------------------------------------------------------------------------------------------------------------------------------------------------------------------------------------------------------------------------------------------------------------------------------------------------------------------------------------------------------------------------------------------------------------------------------------------------------------------------------------------------------------------------------------------------------------------------------------------------------------------------------------------------------------------------------------------------------------------------+\n",
      "| ---kPU91CF4Lq2-WlRu9Lw |                                                                                                                                                                                                                                                                                                                                                                                                                                                                                                                                                                                                                                                                                                                                                                          2020-03-13 21:10:56, 2020-06-02 22:18:06, 2020-07-24 22:42:27, 2020-10-24 21:36:13, 2020-12-09 21:23:33, 2021-01-20 17:34:57, 2021-04-30 21:02:03, 2021-05-25 21:16:54, 2021-08-06 21:08:08, 2021-10-02 15:15:42, 2021-11-11 16:23:50                                                                                                                                                                                                                                                                                                                                                                                                                                                                                                                                                                                                                                                                                                                                                                           |\n",
      "| --0iUa4sNDFiZFrAdIWhZQ |                                                                                                                                                                                                                                                                                                                                                                                                                                                                                                                                                                                                                                                                                                                                                                                     2010-09-13 21:43:09, 2011-05-04 23:08:15, 2011-07-18 22:30:31, 2012-09-07 20:28:50, 2013-03-27 15:57:36, 2013-08-13 00:31:34, 2013-08-13 00:31:48, 2013-09-23 17:39:38, 2013-11-18 06:34:08, 2014-04-12 23:04:47                                                                                                                                                                                                                                                                                                                                                                                                                                                                                                                                                                                                                                                                                                                                                                                     |\n",
      "| --30_8IhuyMHbSOcNWd6DQ |                                                                                                                                                                                                                                                                                                                                                                                                                                                                                                                                                                                                                                                                                                                                                                                                                                                                         2013-06-14 23:29:17, 2014-08-13 23:20:22                                                                                                                                                                                                                                                                                                                                                                                                                                                                                                                                                                                                                                                                                                                                                                                                                                                                         |\n",
      "| --7PUidqRWpRSpXebiyxTg |                                                                                                                                                                                                                                                                                                                                                                                                                                                                                                                                                                                                                                                                                                                                                                                     2011-02-15 17:12:00, 2011-07-28 02:46:10, 2012-03-11 10:30:02, 2012-04-24 07:07:59, 2012-04-24 07:43:31, 2013-05-25 16:41:10, 2014-05-02 15:49:55, 2014-09-18 02:28:23, 2014-11-10 15:16:43, 2015-09-27 13:18:32                                                                                                                                                                                                                                                                                                                                                                                                                                                                                                                                                                                                                                                                                                                                                                                     |\n",
      "| --7jw19RH9JKXgFohspgQw |                                                                                                                                                                                                                                                                                                                                                                                                                                                                                                                                                                                                             2014-04-21 20:42:11, 2014-04-28 21:04:46, 2014-09-30 14:41:47, 2014-10-23 18:22:28, 2015-04-27 19:55:00, 2015-09-21 12:52:09, 2015-10-01 12:46:16, 2015-10-22 13:35:04, 2016-01-14 12:27:43, 2016-02-01 15:15:07, 2016-02-11 12:22:47, 2016-03-31 23:15:46, 2016-04-11 13:11:34, 2016-05-25 12:44:11, 2016-06-27 15:46:11, 2016-06-30 15:14:28, 2016-07-28 14:15:59, 2016-09-22 20:05:06, 2016-11-16 19:00:11, 2016-12-27 14:36:14, 2017-01-24 20:18:16, 2017-02-21 16:01:49, 2017-03-21 14:08:44, 2017-05-21 16:07:21, 2017-08-07 14:17:39, 2021-06-21 19:59:50                                                                                                                                                                                                                                                                                                                                                                                                                                                                                                                                                                                                             |\n",
      "| --8IbOsAAxjKRoYsBFL-PA |                                                                                                                                                                                                                                                                                                                                                                                                                                                                                                                                              2015-06-06 01:03:19, 2015-07-29 16:50:58, 2015-08-04 00:47:59, 2015-08-07 02:07:52, 2015-08-07 17:25:40, 2015-10-12 21:08:43, 2015-11-13 03:06:00, 2015-11-14 02:35:36, 2015-11-21 00:22:42, 2015-12-01 02:03:11, 2015-12-23 01:19:16, 2015-12-23 20:14:44, 2016-01-09 21:20:39, 2016-01-17 04:11:32, 2016-05-19 01:41:28, 2016-05-30 19:09:07, 2016-09-16 22:58:53, 2016-09-22 17:32:16, 2016-09-23 23:35:31, 2016-09-23 23:41:23, 2016-10-04 17:55:19, 2016-10-28 18:38:36, 2017-06-04 02:11:09, 2017-06-23 19:36:51, 2017-09-26 22:46:41, 2017-10-15 00:44:45, 2017-11-14 20:51:58, 2017-12-02 19:22:33, 2017-12-04 19:28:58, 2018-02-15 20:48:11, 2018-04-30 18:30:36, 2018-07-12 21:34:36                                                                                                                                                                                                                                                                                                                                                                                                                                                                                                                                              |\n",
      "| --9osgUCSDUWUkoTLdvYhQ |                                                                                                                                                                                                                                                                                                                                                                                                                                                                                                                                                                                                                                  2015-06-13 02:00:57, 2015-07-04 00:44:09, 2015-07-19 23:38:22, 2015-07-26 03:16:22, 2015-08-03 17:32:59, 2015-08-03 17:33:18, 2015-12-13 02:49:34, 2016-02-14 04:15:58, 2016-02-14 14:45:08, 2016-04-30 01:54:26, 2016-07-03 00:05:12, 2017-10-23 02:17:44, 2018-04-28 00:42:09, 2018-05-07 01:31:36, 2018-05-16 00:42:15, 2018-05-16 01:02:48, 2018-05-16 01:03:37, 2018-05-16 01:36:57, 2018-05-16 01:42:02, 2018-05-16 01:53:10, 2018-05-16 01:55:01, 2018-05-16 03:53:55, 2018-12-25 00:50:41, 2019-01-01 01:49:40                                                                                                                                                                                                                                                                                                                                                                                                                                                                                                                                                                                                                                  |\n",
      "| --ARBQr1WMsTWiwOKOj-FQ |                                                                                                                                                                                                                                                                                                                                                                                                                                                                                                                         2014-12-12 00:44:23, 2015-01-09 00:19:52, 2015-02-13 21:51:29, 2015-02-28 22:11:18, 2015-03-06 03:10:50, 2015-03-28 20:42:09, 2015-04-03 23:55:06, 2015-04-23 00:21:59, 2015-05-13 22:41:22, 2015-06-27 22:10:25, 2015-07-08 23:53:24, 2015-07-21 21:51:16, 2015-08-12 03:16:41, 2015-08-13 01:42:13, 2015-09-05 23:51:03, 2015-09-10 22:28:40, 2015-10-07 23:16:37, 2015-11-07 21:22:36, 2016-01-17 00:13:47, 2016-01-22 21:07:36, 2016-03-17 23:46:23, 2016-06-30 01:22:21, 2016-07-21 23:22:49, 2016-11-10 00:51:25, 2016-12-21 23:18:43, 2016-12-21 23:20:40, 2017-06-17 23:58:10, 2017-12-02 23:25:19, 2018-03-08 22:26:30, 2018-04-08 00:04:16, 2018-04-20 22:16:48, 2018-05-27 02:49:33, 2018-06-23 01:18:47, 2018-07-22 01:42:39                                                                                                                                                                                                                                                                                                                                                                                                                                                                                                                         |\n",
      "| --FWWsIwxRwuw9vIMImcQg |                                                                                                                                                                                                                                                                                                                                                                                                                                                                                                                                                                                                                                                                                                                                                                                                                    2010-09-11 16:28:39, 2010-12-22 21:14:19, 2011-08-03 16:26:33, 2011-11-21 15:06:32, 2011-12-29 18:54:30, 2012-01-21 22:25:52, 2012-09-16 22:21:21                                                                                                                                                                                                                                                                                                                                                                                                                                                                                                                                                                                                                                                                                                                                                                                                                     |\n",
      "| --FcbSxK1AoEtEAxOgBaCw | 2017-08-18 19:43:50, 2017-10-07 22:38:38, 2017-10-22 21:22:59, 2017-12-10 18:36:24, 2017-12-15 20:00:14, 2017-12-24 15:17:56, 2018-01-17 19:41:48, 2018-01-23 12:13:34, 2018-02-01 12:16:38, 2018-02-03 13:18:44, 2018-03-03 14:36:50, 2018-03-05 16:01:22, 2018-03-10 13:32:17, 2018-03-25 18:15:08, 2018-04-29 20:35:11, 2018-06-16 20:59:00, 2018-08-03 14:36:39, 2018-09-15 19:20:08, 2018-10-12 12:16:08, 2018-10-21 19:34:49, 2018-10-25 21:06:56, 2019-01-01 18:40:50, 2019-01-12 15:03:41, 2019-01-18 22:49:14, 2019-01-19 18:55:58, 2019-02-06 14:21:26, 2019-02-06 21:24:06, 2019-02-22 14:16:34, 2019-03-09 15:14:10, 2019-03-17 17:23:58, 2019-03-20 19:22:57, 2019-03-30 14:28:58, 2019-05-12 14:11:54, 2019-05-18 20:14:11, 2019-05-23 16:33:16, 2019-05-23 18:55:03, 2019-06-02 18:50:02, 2019-06-15 21:07:19, 2019-06-16 13:48:33, 2019-07-03 13:13:37, 2019-07-23 00:35:46, 2019-07-30 23:41:58, 2019-08-05 15:06:20, 2019-10-15 21:34:41, 2019-10-26 13:32:46, 2019-10-26 14:17:20, 2019-11-23 18:30:26, 2019-12-08 21:44:54, 2019-12-28 15:55:48, 2020-01-11 15:27:28, 2020-01-26 18:20:55, 2020-02-07 16:04:09, 2020-03-07 20:24:45, 2020-03-22 13:42:48, 2020-05-02 14:00:21, 2020-05-09 16:37:03, 2020-05-21 16:45:17, 2020-07-06 18:57:58, 2020-08-01 13:35:33, 2020-08-03 15:15:15, 2020-08-12 14:27:15, 2020-09-19 16:18:50, 2020-10-17 12:43:26, 2020-10-29 14:48:14, 2020-11-08 17:05:57, 2020-12-13 18:43:03, 2021-02-21 14:23:21, 2021-02-28 14:46:06, 2021-03-14 17:11:22, 2021-04-18 19:39:30, 2021-05-09 13:00:18, 2021-05-25 15:22:08, 2021-07-04 15:25:38, 2021-08-01 18:09:31, 2021-08-29 16:56:41, 2021-09-19 14:26:55, 2021-11-12 18:11:18, 2021-12-06 14:43:02, 2021-12-15 12:25:17, 2021-12-19 15:36:55, 2021-12-31 20:00:13, 2022-01-09 18:33:57 |\n",
      "+------------------------+------------------------------------------------------------------------------------------------------------------------------------------------------------------------------------------------------------------------------------------------------------------------------------------------------------------------------------------------------------------------------------------------------------------------------------------------------------------------------------------------------------------------------------------------------------------------------------------------------------------------------------------------------------------------------------------------------------------------------------------------------------------------------------------------------------------------------------------------------------------------------------------------------------------------------------------------------------------------------------------------------------------------------------------------------------------------------------------------------------------------------------------------------------------------------------------------------------------------------------------------------------------------------------------------------------------------------------------------------------------------------------------------------------------------------------------------------------------------------------------------------------------------------------------------------------------------------------------------------------------------------------------------------------------------------------------------------------------------------------------------------------------------------------------+\n"
     ]
    }
   ],
   "source": [
    "tabla = tabulate(df_checkin.head(10), headers='keys', tablefmt='pretty', showindex=False)\n",
    "print(tabla)"
   ]
  },
  {
   "cell_type": "code",
   "execution_count": 8,
   "metadata": {},
   "outputs": [
    {
     "name": "stdout",
     "output_type": "stream",
     "text": [
      "<class 'pandas.core.frame.DataFrame'>\n",
      "RangeIndex: 131930 entries, 0 to 131929\n",
      "Data columns (total 2 columns):\n",
      " #   Column       Non-Null Count   Dtype \n",
      "---  ------       --------------   ----- \n",
      " 0   business_id  131930 non-null  object\n",
      " 1   date         131930 non-null  object\n",
      "dtypes: object(2)\n",
      "memory usage: 2.0+ MB\n",
      "None\n"
     ]
    }
   ],
   "source": [
    "print(df_checkin.info())"
   ]
  },
  {
   "cell_type": "markdown",
   "metadata": {},
   "source": [
    "The date log data that you are seeing in the \"date\" column of your data set may be check-in records, that is, records of the date and time that check-in events occurred at the various businesses."
   ]
  },
  {
   "cell_type": "code",
   "execution_count": 9,
   "metadata": {},
   "outputs": [
    {
     "data": {
      "text/plain": [
       "business_id    0\n",
       "date           0\n",
       "dtype: int64"
      ]
     },
     "execution_count": 9,
     "metadata": {},
     "output_type": "execute_result"
    }
   ],
   "source": [
    "# see how many nulls there are\n",
    "df_checkin.isnull().sum()"
   ]
  },
  {
   "cell_type": "markdown",
   "metadata": {},
   "source": [
    "### 3. Data transformation"
   ]
  },
  {
   "cell_type": "markdown",
   "metadata": {},
   "source": [
    "Data is broken down into business_id, dates and hour"
   ]
  },
  {
   "cell_type": "code",
   "execution_count": 5,
   "metadata": {},
   "outputs": [],
   "source": [
    "df_checkin['date'] = df_checkin['date'].str.split(', ')\n"
   ]
  },
  {
   "cell_type": "code",
   "execution_count": 7,
   "metadata": {},
   "outputs": [],
   "source": [
    "df_checkin = df_checkin.explode('date')\n"
   ]
  },
  {
   "cell_type": "code",
   "execution_count": 8,
   "metadata": {},
   "outputs": [],
   "source": [
    "df_checkin[['date', 'hora']] = df_checkin['date'].str.split(' ', expand=True)\n"
   ]
  },
  {
   "cell_type": "code",
   "execution_count": 9,
   "metadata": {},
   "outputs": [],
   "source": [
    "checkin = df_checkin[['business_id', 'date', 'hora']]\n"
   ]
  },
  {
   "cell_type": "markdown",
   "metadata": {},
   "source": [
    "Data year month and day"
   ]
  },
  {
   "cell_type": "code",
   "execution_count": 10,
   "metadata": {},
   "outputs": [],
   "source": [
    "checkin['date'] = pd.to_datetime(checkin['date'])\n"
   ]
  },
  {
   "cell_type": "code",
   "execution_count": 11,
   "metadata": {},
   "outputs": [],
   "source": [
    "checkin['year'] = checkin['date'].dt.year\n"
   ]
  },
  {
   "cell_type": "code",
   "execution_count": 12,
   "metadata": {},
   "outputs": [],
   "source": [
    "checkin['month'] = checkin['date'].dt.month\n"
   ]
  },
  {
   "cell_type": "code",
   "execution_count": 13,
   "metadata": {},
   "outputs": [],
   "source": [
    "# Diccionario de mapeo de números de mes a nombres en inglés\n",
    "meses_en_ingles = {\n",
    "    1: 'January',\n",
    "    2: 'February',\n",
    "    3: 'March',\n",
    "    4: 'April',\n",
    "    5: 'May',\n",
    "    6: 'June',\n",
    "    7: 'July',\n",
    "    8: 'August',\n",
    "    9: 'September',\n",
    "    10: 'October',\n",
    "    11: 'November',\n",
    "    12: 'December'\n",
    "}\n",
    "\n",
    "# Aplicar la conversión a la columna 'mes' en tu DataFrame\n",
    "checkin['month_letter'] = checkin['month'].map(meses_en_ingles)"
   ]
  },
  {
   "cell_type": "code",
   "execution_count": 14,
   "metadata": {},
   "outputs": [],
   "source": [
    "checkin['weekday'] = checkin['date'].dt.strftime('%A')\n"
   ]
  },
  {
   "cell_type": "code",
   "execution_count": 15,
   "metadata": {},
   "outputs": [
    {
     "data": {
      "text/html": [
       "<div>\n",
       "<style scoped>\n",
       "    .dataframe tbody tr th:only-of-type {\n",
       "        vertical-align: middle;\n",
       "    }\n",
       "\n",
       "    .dataframe tbody tr th {\n",
       "        vertical-align: top;\n",
       "    }\n",
       "\n",
       "    .dataframe thead th {\n",
       "        text-align: right;\n",
       "    }\n",
       "</style>\n",
       "<table border=\"1\" class=\"dataframe\">\n",
       "  <thead>\n",
       "    <tr style=\"text-align: right;\">\n",
       "      <th></th>\n",
       "      <th>business_id</th>\n",
       "      <th>date</th>\n",
       "      <th>hora</th>\n",
       "      <th>year</th>\n",
       "      <th>month</th>\n",
       "      <th>month_letter</th>\n",
       "      <th>weekday</th>\n",
       "    </tr>\n",
       "  </thead>\n",
       "  <tbody>\n",
       "    <tr>\n",
       "      <th>0</th>\n",
       "      <td>---kPU91CF4Lq2-WlRu9Lw</td>\n",
       "      <td>2020-03-13</td>\n",
       "      <td>21:10:56</td>\n",
       "      <td>2020</td>\n",
       "      <td>3</td>\n",
       "      <td>March</td>\n",
       "      <td>Friday</td>\n",
       "    </tr>\n",
       "    <tr>\n",
       "      <th>0</th>\n",
       "      <td>---kPU91CF4Lq2-WlRu9Lw</td>\n",
       "      <td>2020-06-02</td>\n",
       "      <td>22:18:06</td>\n",
       "      <td>2020</td>\n",
       "      <td>6</td>\n",
       "      <td>June</td>\n",
       "      <td>Tuesday</td>\n",
       "    </tr>\n",
       "    <tr>\n",
       "      <th>0</th>\n",
       "      <td>---kPU91CF4Lq2-WlRu9Lw</td>\n",
       "      <td>2020-07-24</td>\n",
       "      <td>22:42:27</td>\n",
       "      <td>2020</td>\n",
       "      <td>7</td>\n",
       "      <td>July</td>\n",
       "      <td>Friday</td>\n",
       "    </tr>\n",
       "    <tr>\n",
       "      <th>0</th>\n",
       "      <td>---kPU91CF4Lq2-WlRu9Lw</td>\n",
       "      <td>2020-10-24</td>\n",
       "      <td>21:36:13</td>\n",
       "      <td>2020</td>\n",
       "      <td>10</td>\n",
       "      <td>October</td>\n",
       "      <td>Saturday</td>\n",
       "    </tr>\n",
       "    <tr>\n",
       "      <th>0</th>\n",
       "      <td>---kPU91CF4Lq2-WlRu9Lw</td>\n",
       "      <td>2020-12-09</td>\n",
       "      <td>21:23:33</td>\n",
       "      <td>2020</td>\n",
       "      <td>12</td>\n",
       "      <td>December</td>\n",
       "      <td>Wednesday</td>\n",
       "    </tr>\n",
       "  </tbody>\n",
       "</table>\n",
       "</div>"
      ],
      "text/plain": [
       "              business_id       date      hora  year  month month_letter  \\\n",
       "0  ---kPU91CF4Lq2-WlRu9Lw 2020-03-13  21:10:56  2020      3        March   \n",
       "0  ---kPU91CF4Lq2-WlRu9Lw 2020-06-02  22:18:06  2020      6         June   \n",
       "0  ---kPU91CF4Lq2-WlRu9Lw 2020-07-24  22:42:27  2020      7         July   \n",
       "0  ---kPU91CF4Lq2-WlRu9Lw 2020-10-24  21:36:13  2020     10      October   \n",
       "0  ---kPU91CF4Lq2-WlRu9Lw 2020-12-09  21:23:33  2020     12     December   \n",
       "\n",
       "     weekday  \n",
       "0     Friday  \n",
       "0    Tuesday  \n",
       "0     Friday  \n",
       "0   Saturday  \n",
       "0  Wednesday  "
      ]
     },
     "execution_count": 15,
     "metadata": {},
     "output_type": "execute_result"
    }
   ],
   "source": [
    "checkin.head()"
   ]
  },
  {
   "cell_type": "markdown",
   "metadata": {},
   "source": [
    "## 4. EDA "
   ]
  },
  {
   "cell_type": "markdown",
   "metadata": {},
   "source": [
    "Descriptive statistics"
   ]
  },
  {
   "cell_type": "code",
   "execution_count": 18,
   "metadata": {},
   "outputs": [
    {
     "data": {
      "text/html": [
       "<div>\n",
       "<style scoped>\n",
       "    .dataframe tbody tr th:only-of-type {\n",
       "        vertical-align: middle;\n",
       "    }\n",
       "\n",
       "    .dataframe tbody tr th {\n",
       "        vertical-align: top;\n",
       "    }\n",
       "\n",
       "    .dataframe thead th {\n",
       "        text-align: right;\n",
       "    }\n",
       "</style>\n",
       "<table border=\"1\" class=\"dataframe\">\n",
       "  <thead>\n",
       "    <tr style=\"text-align: right;\">\n",
       "      <th></th>\n",
       "      <th>year</th>\n",
       "      <th>month</th>\n",
       "    </tr>\n",
       "  </thead>\n",
       "  <tbody>\n",
       "    <tr>\n",
       "      <th>count</th>\n",
       "      <td>1.335688e+07</td>\n",
       "      <td>1.335688e+07</td>\n",
       "    </tr>\n",
       "    <tr>\n",
       "      <th>mean</th>\n",
       "      <td>2.015299e+03</td>\n",
       "      <td>6.490566e+00</td>\n",
       "    </tr>\n",
       "    <tr>\n",
       "      <th>std</th>\n",
       "      <td>2.762010e+00</td>\n",
       "      <td>3.399286e+00</td>\n",
       "    </tr>\n",
       "    <tr>\n",
       "      <th>min</th>\n",
       "      <td>2.009000e+03</td>\n",
       "      <td>1.000000e+00</td>\n",
       "    </tr>\n",
       "    <tr>\n",
       "      <th>25%</th>\n",
       "      <td>2.013000e+03</td>\n",
       "      <td>4.000000e+00</td>\n",
       "    </tr>\n",
       "    <tr>\n",
       "      <th>50%</th>\n",
       "      <td>2.015000e+03</td>\n",
       "      <td>6.000000e+00</td>\n",
       "    </tr>\n",
       "    <tr>\n",
       "      <th>75%</th>\n",
       "      <td>2.017000e+03</td>\n",
       "      <td>9.000000e+00</td>\n",
       "    </tr>\n",
       "    <tr>\n",
       "      <th>max</th>\n",
       "      <td>2.022000e+03</td>\n",
       "      <td>1.200000e+01</td>\n",
       "    </tr>\n",
       "  </tbody>\n",
       "</table>\n",
       "</div>"
      ],
      "text/plain": [
       "               year         month\n",
       "count  1.335688e+07  1.335688e+07\n",
       "mean   2.015299e+03  6.490566e+00\n",
       "std    2.762010e+00  3.399286e+00\n",
       "min    2.009000e+03  1.000000e+00\n",
       "25%    2.013000e+03  4.000000e+00\n",
       "50%    2.015000e+03  6.000000e+00\n",
       "75%    2.017000e+03  9.000000e+00\n",
       "max    2.022000e+03  1.200000e+01"
      ]
     },
     "execution_count": 18,
     "metadata": {},
     "output_type": "execute_result"
    }
   ],
   "source": [
    "checkin.describe()"
   ]
  },
  {
   "cell_type": "markdown",
   "metadata": {},
   "source": [
    "Data visualization"
   ]
  },
  {
   "cell_type": "code",
   "execution_count": 21,
   "metadata": {},
   "outputs": [
    {
     "data": {
      "image/png": "[encoded data removed]",
      "text/plain": [
       "<Figure size 1000x600 with 1 Axes>"
      ]
     },
     "metadata": {},
     "output_type": "display_data"
    }
   ],
   "source": [
    "checkins_por_anio = checkin['year'].value_counts().sort_index()\n",
    "plt.figure(figsize=(10, 6))  # size\n",
    "plt.bar(checkins_por_anio.index, checkins_por_anio.values)\n",
    "plt.xlabel('Year')\n",
    "plt.ylabel('Number of Check-ins')\n",
    "plt.title('Number of Check-ins by year')\n",
    "\n",
    "plt.show()\n"
   ]
  },
  {
   "cell_type": "markdown",
   "metadata": {},
   "source": [
    "It can be seen that the year with the highest number of check-ins is 2015 and the year with the least check-ins is 2022."
   ]
  },
  {
   "cell_type": "code",
   "execution_count": 22,
   "metadata": {},
   "outputs": [
    {
     "name": "stdout",
     "output_type": "stream",
     "text": [
      "The month with the most check-ins is July with a total of 1186381 check-ins.\n"
     ]
    }
   ],
   "source": [
    "meses_con_checkins = checkin['month_letter'].value_counts().reset_index()\n",
    "meses_con_checkins.columns = ['month', 'size of check-ins']\n",
    "\n",
    "meses_con_checkins = meses_con_checkins.sort_values(by='size of check-ins', ascending=False)\n",
    "\n",
    "mes_con_mas_checkins = meses_con_checkins.iloc[0]['month']\n",
    "cantidad_checkins_max = meses_con_checkins.iloc[0]['size of check-ins']\n",
    "\n",
    "print(f\"The month with the most check-ins is {mes_con_mas_checkins} with a total of {cantidad_checkins_max} check-ins.\")\n"
   ]
  },
  {
   "cell_type": "code",
   "execution_count": 23,
   "metadata": {},
   "outputs": [
    {
     "name": "stdout",
     "output_type": "stream",
     "text": [
      "        month  size of check-ins\n",
      "0        July            1186381\n",
      "1       March            1177078\n",
      "2         May            1173983\n",
      "3      August            1171773\n",
      "4        June            1125308\n",
      "5       April            1112204\n",
      "6     October            1109561\n",
      "7   September            1085081\n",
      "8    December            1081859\n",
      "9     January            1055898\n",
      "10   November            1039774\n",
      "11   February            1037975\n"
     ]
    }
   ],
   "source": [
    "print(meses_con_checkins) "
   ]
  },
  {
   "cell_type": "code",
   "execution_count": 24,
   "metadata": {},
   "outputs": [
    {
     "name": "stdout",
     "output_type": "stream",
     "text": [
      "The day with the most check-ins is Saturday with a total of 2810469 check-ins.\n"
     ]
    }
   ],
   "source": [
    "dias_con_checkins = checkin['weekday'].value_counts().reset_index()\n",
    "dias_con_checkins.columns = ['day', 'size of check-ins']\n",
    "\n",
    "# Sort days by number of check-ins in descending order\n",
    "dias_con_checkins = dias_con_checkins.sort_values(by='size of check-ins', ascending=False)\n",
    "\n",
    "# Get the day of the week with the most check-ins\n",
    "dia_con_mas_checkins = dias_con_checkins.iloc[0]['day']\n",
    "cantidad_checkins_max = dias_con_checkins.iloc[0]['size of check-ins']\n",
    "\n",
    "print(f\"The day with the most check-ins is {dia_con_mas_checkins} with a total of {cantidad_checkins_max} check-ins.\")\n"
   ]
  },
  {
   "cell_type": "code",
   "execution_count": 25,
   "metadata": {},
   "outputs": [
    {
     "name": "stdout",
     "output_type": "stream",
     "text": [
      "         day  size of check-ins\n",
      "0   Saturday            2810469\n",
      "1     Sunday            2480701\n",
      "2     Friday            1959015\n",
      "3   Thursday            1612496\n",
      "4  Wednesday            1541769\n",
      "5     Monday            1491993\n",
      "6    Tuesday            1460432\n"
     ]
    }
   ],
   "source": [
    "print(dias_con_checkins)"
   ]
  },
  {
   "cell_type": "code",
   "execution_count": 29,
   "metadata": {},
   "outputs": [
    {
     "name": "stdout",
     "output_type": "stream",
     "text": [
      "The businness with the most check-ins is -QI8Qi8XWH3D8y8ethnajA with a total of 52144 check-ins.\n"
     ]
    }
   ],
   "source": [
    "\n",
    "checkins_por_business = checkin['business_id'].value_counts().reset_index()\n",
    "checkins_por_business.columns = ['business', 'size of check-ins']\n",
    "\n",
    "checkins_por_business = checkins_por_business.sort_values(by='size of check-ins', ascending=False)\n",
    "\n",
    "business_id_con_mas_checkins = checkins_por_business.iloc[0]['business']\n",
    "cantidad_checkins_max = checkins_por_business.iloc[0]['size of check-ins']\n",
    "\n",
    "print(f\"The businness with the most check-ins is {business_id_con_mas_checkins} with a total of {cantidad_checkins_max} check-ins.\")\n"
   ]
  },
  {
   "cell_type": "markdown",
   "metadata": {},
   "source": [
    "Ouliers"
   ]
  },
  {
   "cell_type": "code",
   "execution_count": 28,
   "metadata": {},
   "outputs": [
    {
     "data": {
      "image/png": "[encoded data removed]",
      "text/plain": [
       "<Figure size 640x480 with 1 Axes>"
      ]
     },
     "metadata": {},
     "output_type": "display_data"
    }
   ],
   "source": [
    "columnas = ['year'] \t\t\t\n",
    "\n",
    "checkin[columnas].boxplot()\n",
    "\n",
    "plt.xlabel('year')\n",
    "plt.ylabel('Values')\n",
    "plt.title('Boxplot of year')\n",
    "\n",
    "plt.show()"
   ]
  },
  {
   "cell_type": "markdown",
   "metadata": {},
   "source": [
    "Export the checkin data to checkin.csv"
   ]
  },
  {
   "cell_type": "code",
   "execution_count": 16,
   "metadata": {},
   "outputs": [],
   "source": [
    "checkin.to_csv('../../../Datasets/Yelp/checkin.csv', index=False)"
   ]
  },
  {
   "cell_type": "markdown",
   "metadata": {},
   "source": [
    "Export the checkin 2018-2023 data to checkin_2018_2022.csv"
   ]
  },
  {
   "cell_type": "code",
   "execution_count": null,
   "metadata": {},
   "outputs": [],
   "source": [
    "checkin_filtrado = checkin[(checkin['year'] >= 2018) & (checkin['year'] <= 2022)]\n"
   ]
  },
  {
   "cell_type": "code",
   "execution_count": null,
   "metadata": {},
   "outputs": [],
   "source": [
    "checkin_filtrado.to_csv('../../../Datasets/Yelp/checkin_2018_2022.csv', index=False)"
   ]
  }
 ],
 "metadata": {
  "kernelspec": {
   "display_name": "Python 3",
   "language": "python",
   "name": "python3"
  },
  "language_info": {
   "codemirror_mode": {
    "name": "ipython",
    "version": 3
   },
   "file_extension": ".py",
   "mimetype": "text/x-python",
   "name": "python",
   "nbconvert_exporter": "python",
   "pygments_lexer": "ipython3",
   "version": "3.11.0"
  },
  "orig_nbformat": 4
 },
 "nbformat": 4,
 "nbformat_minor": 2
}
